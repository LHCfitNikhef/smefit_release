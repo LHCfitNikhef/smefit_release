{
 "cells": [
  {
   "cell_type": "code",
   "execution_count": 7,
   "metadata": {},
   "outputs": [],
   "source": [
    "import yaml\n",
    "import copy"
   ]
  },
  {
   "cell_type": "markdown",
   "metadata": {},
   "source": [
    "Set the base datasets"
   ]
  },
  {
   "cell_type": "code",
   "execution_count": null,
   "metadata": {},
   "outputs": [
    {
     "name": "stdout",
     "output_type": "stream",
     "text": [
      "{'HLLHC': ['ATLAS_CMS_SSinc_RunI', 'ATLAS_CMS_tt_AC_8TeV', 'ATLAS_SSinc_RunII', 'ATLAS_SSinc_RunII_proj', 'ATLAS_STXS_runII_13TeV', 'ATLAS_STXS_runII_13TeV_uncor_proj', 'ATLAS_WH_Hbb_13TeV', 'ATLAS_WH_Hbb_13TeV_proj', 'ATLAS_WW_13TeV_2016_memu', 'ATLAS_WW_13TeV_2016_memu_proj', 'ATLAS_WZ_13TeV_2016_mTWZ', 'ATLAS_WZ_13TeV_2016_mTWZ_proj', 'ATLAS_WhelF_8TeV', 'ATLAS_Whel_13TeV', 'ATLAS_Whel_13TeV_uncor_proj', 'ATLAS_ZH_Hbb_13TeV', 'ATLAS_ZH_Hbb_13TeV_proj', 'ATLAS_ggF_13TeV_2015', 'ATLAS_ggF_13TeV_2015_proj', 'ATLAS_ggF_ZZ_13TeV', 'ATLAS_ggF_ZZ_13TeV_proj', 'ATLAS_tW_13TeV_inc', 'ATLAS_tW_13TeV_inc_proj', 'ATLAS_tW_8TeV_inc', 'ATLAS_tW_slep_8TeV_inc', 'ATLAS_tZ_13TeV_inc', 'ATLAS_tZ_13TeV_run2_inc', 'ATLAS_tZ_13TeV_run2_inc_proj', 'ATLAS_t_sch_13TeV_inc', 'ATLAS_t_sch_13TeV_inc_proj', 'ATLAS_t_sch_8TeV', 'ATLAS_t_tch_13TeV_inc', 'ATLAS_t_tch_13TeV_inc_proj', 'ATLAS_t_tch_8TeV_diff_Yt', 'ATLAS_ttW_13TeV', 'ATLAS_ttW_13TeV_2016', 'ATLAS_ttW_13TeV_2016_proj', 'ATLAS_ttW_8TeV', 'ATLAS_ttZ_13TeV', 'ATLAS_ttZ_13TeV_2016', 'ATLAS_ttZ_13TeV_pTZ', 'ATLAS_ttZ_13TeV_pTZ_uncor_proj', 'ATLAS_ttZ_8TeV', 'ATLAS_tt_13TeV_asy_2022', 'ATLAS_tt_13TeV_asy_2022_uncor_proj', 'ATLAS_tt_13TeV_ljets_2016_Mtt', 'ATLAS_tt_13TeV_ljets_2016_Mtt_proj', 'ATLAS_tt_8TeV_dilep_Mtt', 'ATLAS_tt_8TeV_ljets_Mtt', 'ATLAS_tta_8TeV', 'ATLAS_ttbb_13TeV_2016', 'ATLAS_ttbb_13TeV_2016_proj', 'ATLAS_tttt_13TeV_2023', 'ATLAS_tttt_13TeV_2023_proj', 'ATLAS_tttt_13TeV_run2', 'ATLAS_tttt_13TeV_run2_proj', 'ATLAS_tttt_13TeV_slep_inc', 'ATLAS_tttt_13TeV_slep_inc_proj', 'CMS_H_13TeV_2015_pTH', 'CMS_H_13TeV_2015_pTH_proj', 'CMS_SSinc_RunII', 'CMS_SSinc_RunII_proj', 'CMS_WZ_13TeV_2016_pTZ', 'CMS_WZ_13TeV_2016_pTZ_proj', 'CMS_WZ_13TeV_2022_pTZ', 'CMS_WZ_13TeV_2022_pTZ_proj', 'CMS_WhelF_8TeV', 'CMS_ggF_aa_13TeV', 'CMS_ggF_aa_13TeV_proj', 'CMS_tW_13TeV_inc', 'CMS_tW_13TeV_inc_proj', 'CMS_tW_13TeV_slep_inc', 'CMS_tW_13TeV_slep_inc_proj', 'CMS_tW_8TeV_inc', 'CMS_tZ_13TeV_2016_inc', 'CMS_tZ_13TeV_inc', 'CMS_tZ_13TeV_pTt', 'CMS_tZ_13TeV_pTt_uncor_proj', 'CMS_t_sch_8TeV', 'CMS_t_tch_13TeV_2016_diff_Yt', 'CMS_t_tch_13TeV_2019_diff_Yt', 'CMS_t_tch_13TeV_2019_diff_Yt_proj', 'CMS_t_tch_13TeV_inc', 'CMS_t_tch_8TeV_diff_Yt', 'CMS_t_tch_8TeV_inc', 'CMS_tt2D_8TeV_dilep_MttYtt', 'CMS_ttW_13TeV', 'CMS_ttW_13TeV_proj', 'CMS_ttW_8TeV', 'CMS_ttZ_13TeV', 'CMS_ttZ_13TeV_pTZ', 'CMS_ttZ_13TeV_pTZ_proj', 'CMS_ttZ_8TeV', 'CMS_tt_13TeV_Mtt', 'CMS_tt_13TeV_Mtt_proj', 'CMS_tt_13TeV_asy', 'CMS_tt_13TeV_asy_proj', 'CMS_tt_13TeV_dilep_2015_Mtt', 'CMS_tt_13TeV_dilep_2016_Mtt', 'CMS_tt_13TeV_dilep_2016_Mtt_proj', 'CMS_tt_13TeV_ljets_2015_Mtt', 'CMS_tt_13TeV_ljets_2016_Mtt', 'CMS_tt_13TeV_ljets_inc', 'CMS_tt_13TeV_ljets_inc_proj', 'CMS_tt_8TeV_ljets_Ytt', 'CMS_tta_8TeV', 'CMS_ttbb_13TeV', 'CMS_ttbb_13TeV_2016', 'CMS_ttbb_13TeV_2016_proj', 'CMS_ttbb_13TeV_dilepton_inc', 'CMS_ttbb_13TeV_dilepton_inc_proj', 'CMS_ttbb_13TeV_ljets_inc', 'CMS_ttbb_13TeV_ljets_inc_proj', 'CMS_tttt_13TeV', 'CMS_tttt_13TeV_2023', 'CMS_tttt_13TeV_2023_proj', 'CMS_tttt_13TeV_run2', 'CMS_tttt_13TeV_run2_proj', 'CMS_tttt_13TeV_slep_inc', 'CMS_tttt_13TeV_slep_inc_proj', 'LEP1_EWPOs_2006', 'LEP_Bhabha_2013', 'LEP_Brw_2013', 'LEP_alphaEW', 'LEP_eeWW_182GeV', 'LEP_eeWW_189GeV', 'LEP_eeWW_198GeV', 'LEP_eeWW_206GeV']}\n"
     ]
    }
   ],
   "source": [
    "basedata={}\n",
    "hllhcfile=open('../../smefit3/fits/smefit_projections/HLLHC_NLO_LIN_GLOB.yaml','r')\n",
    "hllhcyaml=yaml.safe_load(hllhcfile)\n",
    "basedata['HLLHC']=hllhcyaml['datasets']\n",
    "basedata['FCC91']=['FCCee_Wwidth','FCCee_Zdata','FCCee_alphaEW']\n",
    "basedata['FCC161']=['FCCee_ww_161GeV','FCCee_Brw_161GeV']\n",
    "basedata['FCC240']=['FCCee_Brw_240GeV','FCCee_bb_240GeV','FCCee_bb_Afb_240GeV','FCCee_cc_240GeV','FCCee_cc_Afb_240GeV','FCCee_ee_240GeV','FCCee_ee_Afb_240GeV','FCCee_mumu_240GeV','FCCee_mumu_Afb_240GeV','FCCee_tautau_240GeV','FCCee_tautau_Afb_240GeV','FCCee_vvh_bb_240GeV','FCCee_ww_240GeV','FCCee_zh_240GeV','FCCee_zh_WW_240GeV','FCCee_zh_ZZ_240GeV','FCCee_zh_aZ_240GeV','FCCee_zh_aa_240GeV','FCCee_zh_bb_240GeV','FCCee_zh_cc_240GeV','FCCee_zh_gg_240GeV','FCCee_zh_tautau_240GeV']\n",
    "basedata['FCC365']=['FCCee_Brw_365GeV','FCCee_bb_365GeV','FCCee_bb_Afb_365GeV','FCCee_cc_365GeV','FCCee_cc_Afb_365GeV','FCCee_ee_365GeV','FCCee_ee_Afb_365GeV','FCCee_mumu_365GeV','FCCee_mumu_Afb_365GeV','FCCee_tautau_365GeV','FCCee_tautau_Afb_365GeV','FCCee_vvh_WW_365GeV','FCCee_vvh_ZZ_365GeV','FCCee_vvh_aa_365GeV','FCCee_vvh_bb_365GeV','FCCee_vvh_cc_365GeV','FCCee_vvh_gg_365GeV','FCCee_vvh_tautau_365GeV','FCCee_ww_161GeV','FCCee_ww_365GeV','FCCee_zh_365GeV','FCCee_zh_WW_365GeV','FCCee_zh_ZZ_365GeV','FCCee_zh_aa_365GeV','FCCee_zh_bb_365GeV','FCCee_zh_cc_365GeV','FCCee_zh_gg_365GeV']"
   ]
  },
  {
   "cell_type": "code",
   "execution_count": null,
   "metadata": {},
   "outputs": [
    {
     "name": "stdout",
     "output_type": "stream",
     "text": [
      "['ATLAS_CMS_SSinc_RunI', 'ATLAS_CMS_SSinc_RunI', 'ATLAS_CMS_tt_AC_8TeV', 'ATLAS_CMS_tt_AC_8TeV', 'ATLAS_SSinc_RunII', 'ATLAS_SSinc_RunII', 'ATLAS_SSinc_RunII_proj', 'ATLAS_SSinc_RunII_proj', 'ATLAS_STXS_runII_13TeV', 'ATLAS_STXS_runII_13TeV', 'ATLAS_STXS_runII_13TeV_uncor', 'ATLAS_STXS_runII_13TeV_uncor', 'ATLAS_STXS_runII_13TeV_uncor_proj', 'ATLAS_STXS_runII_13TeV_uncor_proj', 'ATLAS_WH_Hbb_13TeV', 'ATLAS_WH_Hbb_13TeV', 'ATLAS_WH_Hbb_13TeV_proj', 'ATLAS_WH_Hbb_13TeV_proj', 'ATLAS_WW_13TeV_2016_memu', 'ATLAS_WW_13TeV_2016_memu', 'ATLAS_WW_13TeV_2016_memu_proj', 'ATLAS_WW_13TeV_2016_memu_proj', 'ATLAS_WZ_13TeV_2016_mTWZ', 'ATLAS_WZ_13TeV_2016_mTWZ', 'ATLAS_WZ_13TeV_2016_mTWZ_proj', 'ATLAS_WZ_13TeV_2016_mTWZ_proj', 'ATLAS_WhelF_8TeV', 'ATLAS_WhelF_8TeV', 'ATLAS_Whel_13TeV', 'ATLAS_Whel_13TeV', 'ATLAS_Whel_13TeV_uncor', 'ATLAS_Whel_13TeV_uncor', 'ATLAS_Whel_13TeV_uncor_proj', 'ATLAS_Whel_13TeV_uncor_proj', 'ATLAS_ZH_Hbb_13TeV', 'ATLAS_ZH_Hbb_13TeV', 'ATLAS_ZH_Hbb_13TeV_proj', 'ATLAS_ZH_Hbb_13TeV_proj', 'ATLAS_ggF_13TeV_2015', 'ATLAS_ggF_13TeV_2015', 'ATLAS_ggF_13TeV_2015_proj', 'ATLAS_ggF_13TeV_2015_proj', 'ATLAS_ggF_ZZ_13TeV', 'ATLAS_ggF_ZZ_13TeV', 'ATLAS_ggF_ZZ_13TeV_proj', 'ATLAS_ggF_ZZ_13TeV_proj', 'ATLAS_hh_runII_13TeV', 'ATLAS_hh_runII_13TeV', 'ATLAS_tW_13TeV_inc', 'ATLAS_tW_13TeV_inc', 'ATLAS_tW_13TeV_inc_proj', 'ATLAS_tW_13TeV_inc_proj', 'ATLAS_tW_8TeV_inc', 'ATLAS_tW_8TeV_inc', 'ATLAS_tW_slep_8TeV_inc', 'ATLAS_tW_slep_8TeV_inc', 'ATLAS_tZ_13TeV_inc', 'ATLAS_tZ_13TeV_inc', 'ATLAS_tZ_13TeV_run2_inc', 'ATLAS_tZ_13TeV_run2_inc', 'ATLAS_tZ_13TeV_run2_inc_proj', 'ATLAS_tZ_13TeV_run2_inc_proj', 'ATLAS_t_sch_13TeV_inc', 'ATLAS_t_sch_13TeV_inc', 'ATLAS_t_sch_13TeV_inc_proj', 'ATLAS_t_sch_13TeV_inc_proj', 'ATLAS_t_sch_8TeV', 'ATLAS_t_sch_8TeV', 'ATLAS_t_tch_13TeV_inc', 'ATLAS_t_tch_13TeV_inc', 'ATLAS_t_tch_13TeV_inc_proj', 'ATLAS_t_tch_13TeV_inc_proj', 'ATLAS_t_tch_8TeV_diff_Yt', 'ATLAS_t_tch_8TeV_diff_Yt', 'ATLAS_ttW_13TeV', 'ATLAS_ttW_13TeV', 'ATLAS_ttW_13TeV_2016', 'ATLAS_ttW_13TeV_2016', 'ATLAS_ttW_13TeV_2016_proj', 'ATLAS_ttW_13TeV_2016_proj', 'ATLAS_ttW_8TeV', 'ATLAS_ttW_8TeV', 'ATLAS_ttZ_13TeV', 'ATLAS_ttZ_13TeV', 'ATLAS_ttZ_13TeV_2016', 'ATLAS_ttZ_13TeV_2016', 'ATLAS_ttZ_13TeV_pTZ', 'ATLAS_ttZ_13TeV_pTZ', 'ATLAS_ttZ_13TeV_pTZ_uncor', 'ATLAS_ttZ_13TeV_pTZ_uncor', 'ATLAS_ttZ_13TeV_pTZ_uncor_proj', 'ATLAS_ttZ_13TeV_pTZ_uncor_proj', 'ATLAS_ttZ_8TeV', 'ATLAS_ttZ_8TeV', 'ATLAS_tt_13TeV_asy_2022', 'ATLAS_tt_13TeV_asy_2022', 'ATLAS_tt_13TeV_asy_2022_uncor', 'ATLAS_tt_13TeV_asy_2022_uncor', 'ATLAS_tt_13TeV_asy_2022_uncor_proj', 'ATLAS_tt_13TeV_asy_2022_uncor_proj', 'ATLAS_tt_13TeV_ljets_2016_Mtt', 'ATLAS_tt_13TeV_ljets_2016_Mtt', 'ATLAS_tt_13TeV_ljets_2016_Mtt_proj', 'ATLAS_tt_13TeV_ljets_2016_Mtt_proj', 'ATLAS_tt_8TeV_dilep_Mtt', 'ATLAS_tt_8TeV_dilep_Mtt', 'ATLAS_tt_8TeV_ljets_Mtt', 'ATLAS_tt_8TeV_ljets_Mtt', 'ATLAS_tt_AC_13TeV', 'ATLAS_tt_AC_13TeV', 'ATLAS_tta_8TeV', 'ATLAS_tta_8TeV', 'ATLAS_ttbb_13TeV_2016', 'ATLAS_ttbb_13TeV_2016', 'ATLAS_ttbb_13TeV_2016_proj', 'ATLAS_ttbb_13TeV_2016_proj', 'ATLAS_tttt_13TeV_2023', 'ATLAS_tttt_13TeV_2023', 'ATLAS_tttt_13TeV_2023_proj', 'ATLAS_tttt_13TeV_2023_proj', 'ATLAS_tttt_13TeV_run2', 'ATLAS_tttt_13TeV_run2', 'ATLAS_tttt_13TeV_run2_proj', 'ATLAS_tttt_13TeV_run2_proj', 'ATLAS_tttt_13TeV_slep_inc', 'ATLAS_tttt_13TeV_slep_inc', 'ATLAS_tttt_13TeV_slep_inc_proj', 'ATLAS_tttt_13TeV_slep_inc_proj', 'CEPC_161_ww_leptonic_optim_obs', 'CEPC_161_ww_leptonic_optim_obs', 'CEPC_161_ww_semilep_optim_obs', 'CEPC_161_ww_semilep_optim_obs', 'CEPC_240_ww_leptonic_optim_obs', 'CEPC_240_ww_leptonic_optim_obs', 'CEPC_240_ww_semilep_optim_obs', 'CEPC_240_ww_semilep_optim_obs', 'CEPC_365_tt_optim_obs', 'CEPC_365_tt_optim_obs', 'CEPC_365_ww_leptonic_optim_obs', 'CEPC_365_ww_leptonic_optim_obs', 'CEPC_365_ww_semilep_optim_obs', 'CEPC_365_ww_semilep_optim_obs', 'CEPC_Brw_161GeV', 'CEPC_Brw_161GeV', 'CEPC_Brw_240GeV', 'CEPC_Brw_240GeV', 'CEPC_Brw_365GeV', 'CEPC_Brw_365GeV', 'CEPC_Wwidth', 'CEPC_Wwidth', 'CEPC_Zdata', 'CEPC_Zdata', 'CEPC_alphaEW', 'CEPC_alphaEW', 'CEPC_bb_240GeV', 'CEPC_bb_240GeV', 'CEPC_bb_365GeV', 'CEPC_bb_365GeV', 'CEPC_bb_Afb_240GeV', 'CEPC_bb_Afb_240GeV', 'CEPC_bb_Afb_365GeV', 'CEPC_bb_Afb_365GeV', 'CEPC_cc_240GeV', 'CEPC_cc_240GeV', 'CEPC_cc_365GeV', 'CEPC_cc_365GeV', 'CEPC_cc_Afb_240GeV', 'CEPC_cc_Afb_240GeV', 'CEPC_cc_Afb_365GeV', 'CEPC_cc_Afb_365GeV', 'CEPC_ee_240GeV', 'CEPC_ee_240GeV', 'CEPC_ee_365GeV', 'CEPC_ee_365GeV', 'CEPC_ee_Afb_240GeV', 'CEPC_ee_Afb_240GeV', 'CEPC_ee_Afb_365GeV', 'CEPC_ee_Afb_365GeV', 'CEPC_mumu_240GeV', 'CEPC_mumu_240GeV', 'CEPC_mumu_365GeV', 'CEPC_mumu_365GeV', 'CEPC_mumu_Afb_240GeV', 'CEPC_mumu_Afb_240GeV', 'CEPC_mumu_Afb_365GeV', 'CEPC_mumu_Afb_365GeV', 'CEPC_tautau_240GeV', 'CEPC_tautau_240GeV', 'CEPC_tautau_365GeV', 'CEPC_tautau_365GeV', 'CEPC_tautau_Afb_240GeV', 'CEPC_tautau_Afb_240GeV', 'CEPC_tautau_Afb_365GeV', 'CEPC_tautau_Afb_365GeV', 'CEPC_vvh_WW_365GeV', 'CEPC_vvh_WW_365GeV', 'CEPC_vvh_ZZ_365GeV', 'CEPC_vvh_ZZ_365GeV', 'CEPC_vvh_aa_365GeV', 'CEPC_vvh_aa_365GeV']\n",
      "{'OptimalWW161': {'path': '/path/to/smefit_database/external_chi2/optimal_observables/interface_oos.py', 'scale': 161.0}, 'OptimalWW240': {'path': '/path/to/smefit_database/external_chi2/optimal_observables/interface_oos.py', 'scale': 240.0}, 'OptimalWW365': {'path': '/path/to/smefit_database/external_chi2/optimal_observables/interface_oos.py', 'scale': 365.0}, 'Optimaltt': {'path': '/path/to/smefit_database/external_chi2/optimal_observables/interface_oos.py', 'scale': 365.0}}\n",
      "{}\n"
     ]
    }
   ],
   "source": [
    "with open('./Granada/SMEFiT_runcard_MassScan_Granada_Mod_2_UVcoup_1_Tree.yaml','r') as orig_file:\n",
    "    orig_yaml=yaml.safe_load(orig_file)\n",
    "    print(orig_yaml['datasets'])\n",
    "    print(orig_yaml['external_chi2'])\n"
   ]
  },
  {
   "cell_type": "code",
   "execution_count": null,
   "metadata": {},
   "outputs": [],
   "source": [
    "    newyaml=copy.deepcopy(orig_yaml)\n",
    "    newyaml['datasets']=basedata['HLLHC']\n",
    "    newyaml['external_chi2']={}\n",
    "    for sets in ['FCC91','FCC161','FCC240','FCC365']:\n",
    "        newyaml['datasets']+=basedata[sets]\n",
    "        if sets=='FCC161':\n",
    "            newyaml['external_chi2']['OptimalWW161']=orig_yaml['external_chi2']['OptimalWW161']\n",
    "        if sets=='FCC240':\n",
    "            newyaml['external_chi2']['OptimalWW240']=orig_yaml['external_chi2']['OptimalWW240']\n",
    "        if sets=='FCC365':\n",
    "            newyaml['external_chi2']['OptimalWW365']=orig_yaml['external_chi2']['OptimalWW365']\n",
    "            newyaml['external_chi2']['Optimaltt']=orig_yaml['external_chi2']['Optimaltt']\n",
    "        with open('../../smefit3/fits/smefit_uv/'+sets+'_UV_MassScan_Granada_Mod_2_UVcoup_1_Tree.yaml','w') as out_file:\n",
    "            yaml.safe_dump(newyaml,out_file)\n",
    "        \n"
   ]
  }
 ],
 "metadata": {
  "kernelspec": {
   "display_name": "Python 3",
   "language": "python",
   "name": "python3"
  },
  "language_info": {
   "codemirror_mode": {
    "name": "ipython",
    "version": 3
   },
   "file_extension": ".py",
   "mimetype": "text/x-python",
   "name": "python",
   "nbconvert_exporter": "python",
   "pygments_lexer": "ipython3",
   "version": "3.12.7"
  }
 },
 "nbformat": 4,
 "nbformat_minor": 2
}
