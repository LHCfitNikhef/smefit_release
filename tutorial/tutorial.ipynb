{
 "cells": [
  {
   "cell_type": "markdown",
   "id": "430c1dca",
   "metadata": {},
   "source": [
    "# SMEFiT Tutorial"
   ]
  },
  {
   "cell_type": "markdown",
   "id": "1f8fed30",
   "metadata": {},
   "source": [
    "To run this notebook remotely in Google Colab, click the button below"
   ]
  },
  {
   "cell_type": "markdown",
   "id": "2fe8993a",
   "metadata": {},
   "source": [
    "[![Open In Colab](https://colab.research.google.com/assets/colab-badge.svg)](https://colab.research.google.com/github/LHCfitNikhef/smefit_release/blob/tutorial/tutorial/tutorial.ipynb)"
   ]
  },
  {
   "cell_type": "markdown",
   "id": "88ad5327",
   "metadata": {},
   "source": [
    "### What is SMEFiT? \n",
    "SMEFiT is a Python package for global analyses of particle physics data in the framework of the Standard Model Effective Field Theory (SMEFT). The SMEFT represents a powerful model-independent framework to constrain, identify, and parametrize potential deviations with respect to the predictions of the Standard Model (SM). A particularly attractive feature of the SMEFT is its capability to systematically correlate deviations from the SM between different processes. The full exploitation of the SMEFT potential for indirect New Physics searches from precision measurements requires combining the information provided by the broadest possible dataset, namely carrying out extensive global analysis which is the main purpose of SMEFiT.\n",
    "\n",
    "In case you would like a recap on the basic ideas underlying the SMEFT, see https://lhcfitnikhef.github.io/smefit_release/theory/SMEFT.html\n",
    "\n",
    "SMEFiT has been used in the following publications\n",
    "\n",
    "- *A Monte Carlo global analysis of the Standard Model Effective Field Theory: the top quark sector*, N. P. Hartland, F. Maltoni, E. R. Nocera, J. Rojo, E. Slade, E. Vryonidou, C. Zhang.\n",
    "- *Constraining the SMEFT with Bayesian reweighting*, S. van Beek, E. R. Nocera, J. Rojo, and E. Slade.\n",
    "- *SMEFT analysis of vector boson scattering and diboson data from the LHC Run II* , J. Ethier, R. Gomez-Ambrosio, G. Magni, J. Rojo.\n",
    "- *Combined SMEFT interpretation of Higgs, diboson, and top quark data from the LHC*, J. Ethier, G.Magni, F. Maltoni, L. Mantani, E. R. Nocera, J. Rojo, E. Slade, E. Vryonidou, C. Zhang .\n",
    "- *The automation of SMEFT-assisted constraints on UV-complete models*, J. ter Hoeve, G. Magni, J. Rojo, A. N. Rossia, E. Vryonidou .\n",
    "- *Mapping the SMEFT at High-Energy Colliders: from LEP and the (HL-)LHC to the FCC-ee*, E.Celada, T. Giani, J. ter Hoeve, L. Mantani, J. Rojo, A. N. Rossia, M. O. A. Thomas, E. Vryonidou."
   ]
  },
  {
   "cell_type": "markdown",
   "id": "d74a63c3",
   "metadata": {},
   "source": [
    "### Exercise  0 - Installing SMEFiT"
   ]
  },
  {
   "cell_type": "markdown",
   "id": "c59c72a9",
   "metadata": {},
   "source": [
    "First things first, let us install SMEFiT:"
   ]
  },
  {
   "cell_type": "code",
   "execution_count": 5,
   "id": "41dded22",
   "metadata": {},
   "outputs": [
    {
     "name": "stdout",
     "output_type": "stream",
     "text": [
      "Collecting smefit\n",
      "  Using cached smefit-3.0.1-py3-none-any.whl.metadata (4.3 kB)\n",
      "Collecting arviz<0.19.0,>=0.18.0 (from smefit)\n",
      "  Using cached arviz-0.18.0-py3-none-any.whl.metadata (8.7 kB)\n",
      "Collecting click<9.0.0,>=8.1.3 (from smefit)\n",
      "  Using cached click-8.1.7-py3-none-any.whl.metadata (3.0 kB)\n",
      "Collecting cma<4.0.0,>=3.2.2 (from smefit)\n",
      "  Using cached cma-3.3.0-py3-none-any.whl.metadata (8.0 kB)\n",
      "Collecting matplotlib<4.0.0,>=3.9.0 (from smefit)\n",
      "  Using cached matplotlib-3.9.0-cp312-cp312-macosx_10_12_x86_64.whl.metadata (11 kB)\n",
      "Collecting numpy<2.0.0,>=1.21.5 (from smefit)\n",
      "  Using cached numpy-1.26.4-cp312-cp312-macosx_10_9_x86_64.whl.metadata (61 kB)\n",
      "Collecting pandas<3.0.0,>=2.2.2 (from smefit)\n",
      "  Using cached pandas-2.2.2-cp312-cp312-macosx_10_9_x86_64.whl.metadata (19 kB)\n",
      "Requirement already satisfied: pyyaml<7.0.0,>=6.0.1 in /Users/jaco/opt/anaconda3/envs/smefit_tutorial/lib/python3.12/site-packages (from smefit) (6.0.1)\n",
      "Collecting rich<14.0.0,>=13.7.1 (from smefit)\n",
      "  Using cached rich-13.7.1-py3-none-any.whl.metadata (18 kB)\n",
      "Collecting scipy<2.0.0,>=1.8.0 (from smefit)\n",
      "  Using cached scipy-1.13.1-cp312-cp312-macosx_10_9_x86_64.whl.metadata (60 kB)\n",
      "Collecting seaborn<0.14.0,>=0.13.2 (from smefit)\n",
      "  Using cached seaborn-0.13.2-py3-none-any.whl.metadata (5.4 kB)\n",
      "Collecting ultranest==3.6.4 (from smefit)\n",
      "  Using cached ultranest-3.6.4-cp312-cp312-macosx_10_9_x86_64.whl\n",
      "Collecting cython (from ultranest==3.6.4->smefit)\n",
      "  Using cached Cython-3.0.10-cp312-cp312-macosx_10_9_x86_64.whl.metadata (3.2 kB)\n",
      "Collecting corner (from ultranest==3.6.4->smefit)\n",
      "  Using cached corner-2.2.2-py3-none-any.whl.metadata (2.2 kB)\n",
      "Requirement already satisfied: setuptools>=60.0.0 in /Users/jaco/opt/anaconda3/envs/smefit_tutorial/lib/python3.12/site-packages (from arviz<0.19.0,>=0.18.0->smefit) (69.5.1)\n",
      "Requirement already satisfied: packaging in /Users/jaco/opt/anaconda3/envs/smefit_tutorial/lib/python3.12/site-packages (from arviz<0.19.0,>=0.18.0->smefit) (24.1)\n",
      "Collecting dm-tree>=0.1.8 (from arviz<0.19.0,>=0.18.0->smefit)\n",
      "  Using cached dm_tree-0.1.8-cp312-cp312-macosx_10_9_x86_64.whl.metadata (1.9 kB)\n",
      "Collecting xarray>=2022.6.0 (from arviz<0.19.0,>=0.18.0->smefit)\n",
      "  Using cached xarray-2024.6.0-py3-none-any.whl.metadata (11 kB)\n",
      "Collecting h5netcdf>=1.0.2 (from arviz<0.19.0,>=0.18.0->smefit)\n",
      "  Using cached h5netcdf-1.3.0-py3-none-any.whl.metadata (13 kB)\n",
      "Collecting typing-extensions>=4.1.0 (from arviz<0.19.0,>=0.18.0->smefit)\n",
      "  Using cached typing_extensions-4.12.2-py3-none-any.whl.metadata (3.0 kB)\n",
      "Collecting xarray-einstats>=0.3 (from arviz<0.19.0,>=0.18.0->smefit)\n",
      "  Using cached xarray_einstats-0.7.0-py3-none-any.whl.metadata (5.8 kB)\n",
      "Collecting contourpy>=1.0.1 (from matplotlib<4.0.0,>=3.9.0->smefit)\n",
      "  Using cached contourpy-1.2.1-cp312-cp312-macosx_10_9_x86_64.whl.metadata (5.8 kB)\n",
      "Collecting cycler>=0.10 (from matplotlib<4.0.0,>=3.9.0->smefit)\n",
      "  Using cached cycler-0.12.1-py3-none-any.whl.metadata (3.8 kB)\n",
      "Collecting fonttools>=4.22.0 (from matplotlib<4.0.0,>=3.9.0->smefit)\n",
      "  Using cached fonttools-4.53.0-cp312-cp312-macosx_10_9_universal2.whl.metadata (162 kB)\n",
      "Collecting kiwisolver>=1.3.1 (from matplotlib<4.0.0,>=3.9.0->smefit)\n",
      "  Using cached kiwisolver-1.4.5-cp312-cp312-macosx_10_9_x86_64.whl.metadata (6.4 kB)\n",
      "Collecting pillow>=8 (from matplotlib<4.0.0,>=3.9.0->smefit)\n",
      "  Using cached pillow-10.3.0-cp312-cp312-macosx_10_10_x86_64.whl.metadata (9.2 kB)\n",
      "Collecting pyparsing>=2.3.1 (from matplotlib<4.0.0,>=3.9.0->smefit)\n",
      "  Using cached pyparsing-3.1.2-py3-none-any.whl.metadata (5.1 kB)\n",
      "Requirement already satisfied: python-dateutil>=2.7 in /Users/jaco/opt/anaconda3/envs/smefit_tutorial/lib/python3.12/site-packages (from matplotlib<4.0.0,>=3.9.0->smefit) (2.9.0.post0)\n",
      "Collecting pytz>=2020.1 (from pandas<3.0.0,>=2.2.2->smefit)\n",
      "  Using cached pytz-2024.1-py2.py3-none-any.whl.metadata (22 kB)\n",
      "Collecting tzdata>=2022.7 (from pandas<3.0.0,>=2.2.2->smefit)\n",
      "  Using cached tzdata-2024.1-py2.py3-none-any.whl.metadata (1.4 kB)\n",
      "Collecting markdown-it-py>=2.2.0 (from rich<14.0.0,>=13.7.1->smefit)\n",
      "  Using cached markdown_it_py-3.0.0-py3-none-any.whl.metadata (6.9 kB)\n",
      "Requirement already satisfied: pygments<3.0.0,>=2.13.0 in /Users/jaco/opt/anaconda3/envs/smefit_tutorial/lib/python3.12/site-packages (from rich<14.0.0,>=13.7.1->smefit) (2.18.0)\n",
      "Collecting h5py (from h5netcdf>=1.0.2->arviz<0.19.0,>=0.18.0->smefit)\n",
      "  Using cached h5py-3.11.0-cp312-cp312-macosx_10_9_x86_64.whl.metadata (2.5 kB)\n",
      "Collecting mdurl~=0.1 (from markdown-it-py>=2.2.0->rich<14.0.0,>=13.7.1->smefit)\n",
      "  Using cached mdurl-0.1.2-py3-none-any.whl.metadata (1.6 kB)\n",
      "Requirement already satisfied: six>=1.5 in /Users/jaco/opt/anaconda3/envs/smefit_tutorial/lib/python3.12/site-packages (from python-dateutil>=2.7->matplotlib<4.0.0,>=3.9.0->smefit) (1.16.0)\n",
      "Using cached smefit-3.0.1-py3-none-any.whl (127 kB)\n",
      "Using cached arviz-0.18.0-py3-none-any.whl (1.7 MB)\n",
      "Using cached click-8.1.7-py3-none-any.whl (97 kB)\n",
      "Using cached cma-3.3.0-py3-none-any.whl (260 kB)\n",
      "Using cached matplotlib-3.9.0-cp312-cp312-macosx_10_12_x86_64.whl (7.9 MB)\n",
      "Using cached numpy-1.26.4-cp312-cp312-macosx_10_9_x86_64.whl (20.3 MB)\n",
      "Using cached pandas-2.2.2-cp312-cp312-macosx_10_9_x86_64.whl (12.5 MB)\n",
      "Using cached rich-13.7.1-py3-none-any.whl (240 kB)\n",
      "Using cached scipy-1.13.1-cp312-cp312-macosx_10_9_x86_64.whl (39.4 MB)\n",
      "Using cached seaborn-0.13.2-py3-none-any.whl (294 kB)\n",
      "Using cached contourpy-1.2.1-cp312-cp312-macosx_10_9_x86_64.whl (263 kB)\n",
      "Using cached cycler-0.12.1-py3-none-any.whl (8.3 kB)\n",
      "Using cached dm_tree-0.1.8-cp312-cp312-macosx_10_9_x86_64.whl (116 kB)\n",
      "Using cached fonttools-4.53.0-cp312-cp312-macosx_10_9_universal2.whl (2.8 MB)\n",
      "Using cached h5netcdf-1.3.0-py3-none-any.whl (43 kB)\n",
      "Using cached kiwisolver-1.4.5-cp312-cp312-macosx_10_9_x86_64.whl (67 kB)\n",
      "Using cached markdown_it_py-3.0.0-py3-none-any.whl (87 kB)\n",
      "Using cached pillow-10.3.0-cp312-cp312-macosx_10_10_x86_64.whl (3.5 MB)\n",
      "Using cached pyparsing-3.1.2-py3-none-any.whl (103 kB)\n",
      "Using cached pytz-2024.1-py2.py3-none-any.whl (505 kB)\n",
      "Using cached typing_extensions-4.12.2-py3-none-any.whl (37 kB)\n",
      "Using cached tzdata-2024.1-py2.py3-none-any.whl (345 kB)\n",
      "Using cached xarray-2024.6.0-py3-none-any.whl (1.2 MB)\n",
      "Using cached xarray_einstats-0.7.0-py3-none-any.whl (31 kB)\n",
      "Using cached corner-2.2.2-py3-none-any.whl (15 kB)\n",
      "Using cached Cython-3.0.10-cp312-cp312-macosx_10_9_x86_64.whl (3.1 MB)\n",
      "Using cached mdurl-0.1.2-py3-none-any.whl (10.0 kB)\n",
      "Using cached h5py-3.11.0-cp312-cp312-macosx_10_9_x86_64.whl (3.5 MB)\n",
      "Installing collected packages: pytz, dm-tree, tzdata, typing-extensions, pyparsing, pillow, numpy, mdurl, kiwisolver, fonttools, cython, cycler, click, scipy, pandas, markdown-it-py, h5py, contourpy, cma, xarray, rich, matplotlib, h5netcdf, xarray-einstats, seaborn, corner, ultranest, arviz, smefit\n",
      "Successfully installed arviz-0.18.0 click-8.1.7 cma-3.3.0 contourpy-1.2.1 corner-2.2.2 cycler-0.12.1 cython-3.0.10 dm-tree-0.1.8 fonttools-4.53.0 h5netcdf-1.3.0 h5py-3.11.0 kiwisolver-1.4.5 markdown-it-py-3.0.0 matplotlib-3.9.0 mdurl-0.1.2 numpy-1.26.4 pandas-2.2.2 pillow-10.3.0 pyparsing-3.1.2 pytz-2024.1 rich-13.7.1 scipy-1.13.1 seaborn-0.13.2 smefit-3.0.1 typing-extensions-4.12.2 tzdata-2024.1 ultranest-3.6.4 xarray-2024.6.0 xarray-einstats-0.7.0\n"
     ]
    }
   ],
   "source": [
    "!pip install smefit"
   ]
  },
  {
   "cell_type": "markdown",
   "id": "c765c46f",
   "metadata": {},
   "source": [
    "Note to google colab users, you may ignore the error related to pandas in case it shows up. "
   ]
  },
  {
   "cell_type": "markdown",
   "id": "2b24c15e",
   "metadata": {},
   "source": [
    "For the purpose of this tutorial, we also need the following additional packages"
   ]
  },
  {
   "cell_type": "code",
   "execution_count": 3,
   "id": "8db4c38e",
   "metadata": {},
   "outputs": [
    {
     "name": "stdout",
     "output_type": "stream",
     "text": [
      "Collecting wget\n",
      "  Using cached wget-3.2.zip (10 kB)\n",
      "  Preparing metadata (setup.py) ... \u001b[?25ldone\n",
      "\u001b[?25hBuilding wheels for collected packages: wget\n",
      "  Building wheel for wget (setup.py) ... \u001b[?25ldone\n",
      "\u001b[?25h  Created wheel for wget: filename=wget-3.2-py3-none-any.whl size=9656 sha256=403f1ec12ff59e995ccda72ca0855ae999bff1dd907dfcf2717ee747f258bdaf\n",
      "  Stored in directory: /Users/jaco/Library/Caches/pip/wheels/01/46/3b/e29ffbe4ebe614ff224bad40fc6a5773a67a163251585a13a9\n",
      "Successfully built wget\n",
      "Installing collected packages: wget\n",
      "Successfully installed wget-3.2\n"
     ]
    }
   ],
   "source": [
    "!pip install wget\n",
    "import sys\n",
    "import os\n",
    "import wget\n",
    "import subprocess\n",
    "import pathlib\n",
    "import yaml\n",
    "from IPython.display import Image"
   ]
  },
  {
   "cell_type": "code",
   "execution_count": 7,
   "id": "8e086ae1",
   "metadata": {},
   "outputs": [],
   "source": [
    "import smefit\n",
    "import smefit.runner\n",
    "from smefit.analyze.report import Report\n",
    "\n",
    "smefit.log.setup_console(None)"
   ]
  },
  {
   "cell_type": "markdown",
   "id": "eea47bc4",
   "metadata": {},
   "source": [
    "Download the smefit datasets and runcards"
   ]
  },
  {
   "cell_type": "code",
   "execution_count": null,
   "id": "e0cc0131",
   "metadata": {},
   "outputs": [],
   "source": [
    "def file_downloader(url, download_dir='./downloads'):\n",
    "\n",
    "    if not os.path.exists(download_dir):\n",
    "        os.mkdir(download_dir)\n",
    "\n",
    "    file = wget.download(url, out=download_dir)\n",
    "    return file\n",
    "\n",
    "smefit_database = file_downloader('https://github.com/LHCfitNikhef/smefit_database/archive/refs/heads/main.zip')\n",
    "runcard_fit = file_downloader('https://raw.githubusercontent.com/LHCfitNikhef/smefit_release/tutorial/tutorial/runcard_fit.yaml')\n",
    "runcard_report = file_downloader('htps://raw.githubusercontent.com/LHCfitNikhef/smefit_release/tutorial/tutorial/runcard_report.yaml')\n",
    "\n",
    "subprocess.run([f\"unzip {smefit_database} -d ./downloads\"], capture_output=False, shell=True, text=False)"
   ]
  },
  {
   "cell_type": "markdown",
   "id": "3371a543",
   "metadata": {},
   "source": [
    "### Exercise 1 - Our first fit with SMEFiT"
   ]
  },
  {
   "cell_type": "markdown",
   "id": "1da0d876",
   "metadata": {},
   "source": [
    "In this first exercise, we will study the relative impact of various datasets on a two-dimensional SMEFT parameter space. Consider the four-fermion Wilson coefficients $c_{Qq}^{1, 8}$ and $c_{Qq}^{3,8}$, defined as"
   ]
  },
  {
   "cell_type": "markdown",
   "id": "77860d06",
   "metadata": {},
   "source": [
    "$$\n",
    "\\begin{align}\n",
    "c_{Qq}^{1,8} &= c_{qq}^{1(i33i)} + 3 c_{qq}^{3(i33i)} \\\\\n",
    "c_{Qq}^{3,8} &= c_{qq}^{1(i33i)} - c_{qq}^{3(i33i)} \\, ,\n",
    "\\end{align}\n",
    "$$"
   ]
  },
  {
   "cell_type": "markdown",
   "id": "d64d1985",
   "metadata": {},
   "source": [
    "with the corresponding operators on the RHS given by"
   ]
  },
  {
   "cell_type": "markdown",
   "id": "10fa9145",
   "metadata": {},
   "source": [
    "$$\n",
    "\\begin{align}\n",
    "\\mathcal{O}_{qq}^{1(i33i)} &= \\left(\\bar{q}_i\\gamma^\\mu Q \\right)\\left(\\bar{Q} \\gamma_\\mu q_i\\right) \\\\\n",
    "\\mathcal{O}_{qq}^{3(i33i)} &= \\left(\\bar{q}_i\\gamma^\\mu \\tau^I Q \\right)\\left(\\bar{Q} \\gamma_\\mu \\tau^I q_l\\right) \\, .\n",
    "\\end{align}\n",
    "$$"
   ]
  },
  {
   "cell_type": "markdown",
   "id": "86c32e48",
   "metadata": {},
   "source": [
    "Here the fields $q_i$ and $Q$ constitute respectively the light ($i=1,2$) and heavy quark $SU(2)$ doublets, while the $\\tau^I$ are the usual Pauli matrices.\n",
    "\n",
    "**Question 1A**\n",
    "- Do $\\mathcal{O}_{qq}^{1(ijkl)}$ and $\\mathcal{O}_{qq}^{3(ijkl)}$ define valid SMEFT operators at dimension-six? If so, why?\n",
    "\n",
    "These operators modify SM processes measured at the LHC, and hence provide a probe to study possible new physics beyond the SM. The goal of the rest of this exercise is to set bounds on the corresponding Wilson coefficients to check whether current data is compatible with the SM or not.\n",
    "\n",
    "**Question 1B**\n",
    "- Consider top-pair production in association with a Z or W boson. Convince yourself by drawing a representative Feynman diagram that the operators defined above modify $ttV$ ($V=W, Z)$ production.\n",
    "\n",
    "Let us now perform a fit to actual $ttV$ data. Fits can be run in SMEFiT via the following syntax\n",
    "\n",
    "``\n",
    "smefit A <path/to/smefit_runcard.yaml>\n",
    "``\n",
    "\n",
    "with an example runcard given below"
   ]
  },
  {
   "cell_type": "markdown",
   "id": "e69b1765",
   "metadata": {},
   "source": [
    "```yaml\n",
    "# smefit_runcard.yaml\n",
    "\n",
    "# name to give to fit\n",
    "result_ID: ttV\n",
    "\n",
    "# path where results are stored\n",
    "result_path: ./results\n",
    "\n",
    "# path to data\n",
    "data_path: ./downloads/smefit_database-main/commondata\n",
    "\n",
    "# path to theory tables\n",
    "theory_path: ./downloads/smefit_database-main/theory\n",
    "\n",
    "# perturbatve QCD order (LO or NLO)\n",
    "order: NLO\n",
    "\n",
    "# include theory uncertainties\n",
    "use_theory_covmat: True\n",
    "use_t0: True\n",
    "\n",
    "# SMEFT Expansion Order (NHO = Lambda^-2 , HO = Lambda^-4)\n",
    "use_quad: False\n",
    "\n",
    "# number of samples\n",
    "n_samples: 20000\n",
    "\n",
    "\n",
    "# Datasets to include\n",
    "datasets:\n",
    "\n",
    "  - CMS_ttZ_13TeV\n",
    "  - CMS_ttZ_13TeV_pTZ\n",
    "  - CMS_ttZ_8TeV\n",
    "  - ATLAS_ttZ_13TeV\n",
    "  - ATLAS_ttZ_13TeV_2016\n",
    "  - ATLAS_ttZ_13TeV_pTZ\n",
    "  - ATLAS_ttZ_8TeV\n",
    "  - CMS_ttW_13TeV\n",
    "  - CMS_ttW_8TeV\n",
    "  - ATLAS_ttW_13TeV\n",
    "  - ATLAS_ttW_13TeV_2016\n",
    "  - ATLAS_ttW_8TeV\n",
    "\n",
    "\n",
    "# Coefficients to fit\n",
    "coefficients:\n",
    "\n",
    "  O81qq: { 'min': -2, 'max': 2 }\n",
    "  O83qq: { 'min': -2, 'max': 2 }\n",
    "```"
   ]
  },
  {
   "cell_type": "markdown",
   "id": "83864501",
   "metadata": {},
   "source": [
    "The datasets entry shows which datasets enter the fit, and the coefficients to be fitted are the four-fermion operators we defined earlier. We are now ready to run our first fit.  "
   ]
  },
  {
   "cell_type": "code",
   "execution_count": 9,
   "id": "660671e9",
   "metadata": {},
   "outputs": [
    {
     "name": "stdout",
     "output_type": "stream",
     "text": [
      "               \u001b[35m┌────────────────────────────────────────────────┐\u001b[0m               \n",
      "               \u001b[35m│\u001b[0m\u001b[35m                                                \u001b[0m\u001b[35m│\u001b[0m               \n",
      "               \u001b[35m│\u001b[0m\u001b[35m \u001b[0m\u001b[35m     ____  __  __ _____ _____ _ _____\u001b[0m\u001b[35m         \u001b[0m\u001b[35m \u001b[0m\u001b[35m│\u001b[0m               \n",
      "               \u001b[35m│\u001b[0m\u001b[35m \u001b[0m\u001b[35m    / ___||  \\/  | ____|  ___(_)_   _|\u001b[0m\u001b[35m        \u001b[0m\u001b[35m \u001b[0m\u001b[35m│\u001b[0m               \n",
      "               \u001b[35m│\u001b[0m\u001b[35m \u001b[0m\u001b[35m    \\___ \\| |\\/| |  _| | |_  | | | |\u001b[0m\u001b[35m          \u001b[0m\u001b[35m \u001b[0m\u001b[35m│\u001b[0m               \n",
      "               \u001b[35m│\u001b[0m\u001b[35m \u001b[0m\u001b[35m     ___) | |  | | |___|  _| | | | |\u001b[0m\u001b[35m          \u001b[0m\u001b[35m \u001b[0m\u001b[35m│\u001b[0m               \n",
      "               \u001b[35m│\u001b[0m\u001b[35m \u001b[0m\u001b[35m    |____/|_|  |_|_____|_|   |_| |_|\u001b[0m\u001b[35m          \u001b[0m\u001b[35m \u001b[0m\u001b[35m│\u001b[0m               \n",
      "               \u001b[35m│\u001b[0m\u001b[35m \u001b[0m\u001b[35m                                              \u001b[0m\u001b[35m \u001b[0m\u001b[35m│\u001b[0m               \n",
      "               \u001b[35m│\u001b[0m\u001b[35m \u001b[0m\u001b[35mA Standard Model Effective Field Theory Fitter\u001b[0m\u001b[35m \u001b[0m\u001b[35m│\u001b[0m               \n",
      "               \u001b[35m│\u001b[0m\u001b[35m                                                \u001b[0m\u001b[35m│\u001b[0m               \n",
      "               \u001b[35m└────────────────────────────────────────────────┘\u001b[0m               \n",
      "\u001b[2;36m[10:37:14]\u001b[0m\u001b[2;36m \u001b[0m\u001b[31mWARNING \u001b[0m results/ttV already found, overwriting old      \u001b]8;id=665849;file:///Users/jaco/opt/anaconda3/envs/smefit_tutorial/lib/python3.12/site-packages/smefit/runner.py\u001b\\\u001b[2mrunner.py\u001b[0m\u001b]8;;\u001b\\\u001b[2m:\u001b[0m\u001b]8;id=78254;file:///Users/jaco/opt/anaconda3/envs/smefit_tutorial/lib/python3.12/site-packages/smefit/runner.py#70\u001b\\\u001b[2m70\u001b[0m\u001b]8;;\u001b\\\n",
      "\u001b[2;36m           \u001b[0m         results                                         \u001b[2m            \u001b[0m\n",
      "\u001b[2;36m[10:37:14]\u001b[0m\u001b[2;36m \u001b[0mRunning : analytic solution.                          \u001b]8;id=78084;file:///Users/jaco/opt/anaconda3/envs/smefit_tutorial/lib/python3.12/site-packages/smefit/cli/__init__.py\u001b\\\u001b[2m__init__.py\u001b[0m\u001b]8;;\u001b\\\u001b[2m:\u001b[0m\u001b]8;id=203491;file:///Users/jaco/opt/anaconda3/envs/smefit_tutorial/lib/python3.12/site-packages/smefit/cli/__init__.py#102\u001b\\\u001b[2m102\u001b[0m\u001b]8;;\u001b\\\n",
      "\u001b[2;36m          \u001b[0m\u001b[2;36m \u001b[0m\u001b[34mINFO    \u001b[0m Loading dataset : ATLAS_ttW_13TeV              \u001b]8;id=3109;file:///Users/jaco/opt/anaconda3/envs/smefit_tutorial/lib/python3.12/site-packages/smefit/loader.py\u001b\\\u001b[2mloader.py\u001b[0m\u001b]8;;\u001b\\\u001b[2m:\u001b[0m\u001b]8;id=794394;file:///Users/jaco/opt/anaconda3/envs/smefit_tutorial/lib/python3.12/site-packages/smefit/loader.py#135\u001b\\\u001b[2m135\u001b[0m\u001b]8;;\u001b\\\n",
      "\u001b[2;36m          \u001b[0m\u001b[2;36m \u001b[0m\u001b[34mINFO    \u001b[0m Loading dataset : ATLAS_ttW_13TeV_2016         \u001b]8;id=868149;file:///Users/jaco/opt/anaconda3/envs/smefit_tutorial/lib/python3.12/site-packages/smefit/loader.py\u001b\\\u001b[2mloader.py\u001b[0m\u001b]8;;\u001b\\\u001b[2m:\u001b[0m\u001b]8;id=324548;file:///Users/jaco/opt/anaconda3/envs/smefit_tutorial/lib/python3.12/site-packages/smefit/loader.py#135\u001b\\\u001b[2m135\u001b[0m\u001b]8;;\u001b\\\n",
      "\u001b[2;36m          \u001b[0m\u001b[2;36m \u001b[0m\u001b[34mINFO    \u001b[0m Loading dataset : ATLAS_ttW_8TeV               \u001b]8;id=698413;file:///Users/jaco/opt/anaconda3/envs/smefit_tutorial/lib/python3.12/site-packages/smefit/loader.py\u001b\\\u001b[2mloader.py\u001b[0m\u001b]8;;\u001b\\\u001b[2m:\u001b[0m\u001b]8;id=618313;file:///Users/jaco/opt/anaconda3/envs/smefit_tutorial/lib/python3.12/site-packages/smefit/loader.py#135\u001b\\\u001b[2m135\u001b[0m\u001b]8;;\u001b\\\n",
      "\u001b[2;36m          \u001b[0m\u001b[2;36m \u001b[0m\u001b[34mINFO    \u001b[0m Loading dataset : ATLAS_ttZ_13TeV              \u001b]8;id=173500;file:///Users/jaco/opt/anaconda3/envs/smefit_tutorial/lib/python3.12/site-packages/smefit/loader.py\u001b\\\u001b[2mloader.py\u001b[0m\u001b]8;;\u001b\\\u001b[2m:\u001b[0m\u001b]8;id=164421;file:///Users/jaco/opt/anaconda3/envs/smefit_tutorial/lib/python3.12/site-packages/smefit/loader.py#135\u001b\\\u001b[2m135\u001b[0m\u001b]8;;\u001b\\\n",
      "\u001b[2;36m          \u001b[0m\u001b[2;36m \u001b[0m\u001b[34mINFO    \u001b[0m Loading dataset : ATLAS_ttZ_13TeV_2016         \u001b]8;id=648725;file:///Users/jaco/opt/anaconda3/envs/smefit_tutorial/lib/python3.12/site-packages/smefit/loader.py\u001b\\\u001b[2mloader.py\u001b[0m\u001b]8;;\u001b\\\u001b[2m:\u001b[0m\u001b]8;id=809893;file:///Users/jaco/opt/anaconda3/envs/smefit_tutorial/lib/python3.12/site-packages/smefit/loader.py#135\u001b\\\u001b[2m135\u001b[0m\u001b]8;;\u001b\\\n",
      "\u001b[2;36m          \u001b[0m\u001b[2;36m \u001b[0m\u001b[34mINFO    \u001b[0m Loading dataset : ATLAS_ttZ_13TeV_pTZ          \u001b]8;id=891673;file:///Users/jaco/opt/anaconda3/envs/smefit_tutorial/lib/python3.12/site-packages/smefit/loader.py\u001b\\\u001b[2mloader.py\u001b[0m\u001b]8;;\u001b\\\u001b[2m:\u001b[0m\u001b]8;id=269670;file:///Users/jaco/opt/anaconda3/envs/smefit_tutorial/lib/python3.12/site-packages/smefit/loader.py#135\u001b\\\u001b[2m135\u001b[0m\u001b]8;;\u001b\\\n",
      "\u001b[2;36m          \u001b[0m\u001b[2;36m \u001b[0m\u001b[34mINFO    \u001b[0m Loading dataset : ATLAS_ttZ_8TeV               \u001b]8;id=138060;file:///Users/jaco/opt/anaconda3/envs/smefit_tutorial/lib/python3.12/site-packages/smefit/loader.py\u001b\\\u001b[2mloader.py\u001b[0m\u001b]8;;\u001b\\\u001b[2m:\u001b[0m\u001b]8;id=734488;file:///Users/jaco/opt/anaconda3/envs/smefit_tutorial/lib/python3.12/site-packages/smefit/loader.py#135\u001b\\\u001b[2m135\u001b[0m\u001b]8;;\u001b\\\n",
      "\u001b[2;36m          \u001b[0m\u001b[2;36m \u001b[0m\u001b[34mINFO    \u001b[0m Loading dataset : CMS_ttW_13TeV                \u001b]8;id=551605;file:///Users/jaco/opt/anaconda3/envs/smefit_tutorial/lib/python3.12/site-packages/smefit/loader.py\u001b\\\u001b[2mloader.py\u001b[0m\u001b]8;;\u001b\\\u001b[2m:\u001b[0m\u001b]8;id=654222;file:///Users/jaco/opt/anaconda3/envs/smefit_tutorial/lib/python3.12/site-packages/smefit/loader.py#135\u001b\\\u001b[2m135\u001b[0m\u001b]8;;\u001b\\\n",
      "\u001b[2;36m          \u001b[0m\u001b[2;36m \u001b[0m\u001b[34mINFO    \u001b[0m Loading dataset : CMS_ttW_8TeV                 \u001b]8;id=46635;file:///Users/jaco/opt/anaconda3/envs/smefit_tutorial/lib/python3.12/site-packages/smefit/loader.py\u001b\\\u001b[2mloader.py\u001b[0m\u001b]8;;\u001b\\\u001b[2m:\u001b[0m\u001b]8;id=901855;file:///Users/jaco/opt/anaconda3/envs/smefit_tutorial/lib/python3.12/site-packages/smefit/loader.py#135\u001b\\\u001b[2m135\u001b[0m\u001b]8;;\u001b\\\n",
      "\u001b[2;36m          \u001b[0m\u001b[2;36m \u001b[0m\u001b[34mINFO    \u001b[0m Loading dataset : CMS_ttZ_13TeV                \u001b]8;id=805757;file:///Users/jaco/opt/anaconda3/envs/smefit_tutorial/lib/python3.12/site-packages/smefit/loader.py\u001b\\\u001b[2mloader.py\u001b[0m\u001b]8;;\u001b\\\u001b[2m:\u001b[0m\u001b]8;id=800512;file:///Users/jaco/opt/anaconda3/envs/smefit_tutorial/lib/python3.12/site-packages/smefit/loader.py#135\u001b\\\u001b[2m135\u001b[0m\u001b]8;;\u001b\\\n",
      "\u001b[2;36m          \u001b[0m\u001b[2;36m \u001b[0m\u001b[34mINFO    \u001b[0m Loading dataset : CMS_ttZ_13TeV_pTZ            \u001b]8;id=31564;file:///Users/jaco/opt/anaconda3/envs/smefit_tutorial/lib/python3.12/site-packages/smefit/loader.py\u001b\\\u001b[2mloader.py\u001b[0m\u001b]8;;\u001b\\\u001b[2m:\u001b[0m\u001b]8;id=408013;file:///Users/jaco/opt/anaconda3/envs/smefit_tutorial/lib/python3.12/site-packages/smefit/loader.py#135\u001b\\\u001b[2m135\u001b[0m\u001b]8;;\u001b\\\n",
      "\u001b[2;36m          \u001b[0m\u001b[2;36m \u001b[0m\u001b[34mINFO    \u001b[0m Loading dataset : CMS_ttZ_8TeV                 \u001b]8;id=493360;file:///Users/jaco/opt/anaconda3/envs/smefit_tutorial/lib/python3.12/site-packages/smefit/loader.py\u001b\\\u001b[2mloader.py\u001b[0m\u001b]8;;\u001b\\\u001b[2m:\u001b[0m\u001b]8;id=19183;file:///Users/jaco/opt/anaconda3/envs/smefit_tutorial/lib/python3.12/site-packages/smefit/loader.py#135\u001b\\\u001b[2m135\u001b[0m\u001b]8;;\u001b\\\n",
      "/Users/jaco/opt/anaconda3/envs/smefit_tutorial/lib/python3.12/site-packages/smefit/coefficients.py:216: FutureWarning: Setting an item of incompatible dtype is deprecated and will raise an error in a future version of pandas. Value '[1.0 0]' has dtype incompatible with float64, please explicitly cast to a compatible dtype first.\n",
      "  self._table.iloc[self.is_free, 0] = value\n",
      "\u001b[2;36m          \u001b[0m\u001b[2;36m \u001b[0m\u001b[34mINFO    \u001b[0m Computing Analytic solution \u001b[33m...\u001b[0m              \u001b]8;id=761029;file:///Users/jaco/opt/anaconda3/envs/smefit_tutorial/lib/python3.12/site-packages/smefit/optimize/analytic.py\u001b\\\u001b[2manalytic.py\u001b[0m\u001b]8;;\u001b\\\u001b[2m:\u001b[0m\u001b]8;id=313124;file:///Users/jaco/opt/anaconda3/envs/smefit_tutorial/lib/python3.12/site-packages/smefit/optimize/analytic.py#127\u001b\\\u001b[2m127\u001b[0m\u001b]8;;\u001b\\\n",
      "\u001b[37m┏━━━━━━━━━━━┳━━━━━━━━━━━━┳━━━━━━━┓\u001b[0m\n",
      "\u001b[37m┃\u001b[0m\u001b[1m \u001b[0m\u001b[1mParameter\u001b[0m\u001b[1m \u001b[0m\u001b[37m┃\u001b[0m\u001b[1m \u001b[0m\u001b[1mBest value\u001b[0m\u001b[1m \u001b[0m\u001b[37m┃\u001b[0m\u001b[1m \u001b[0m\u001b[1mError\u001b[0m\u001b[1m \u001b[0m\u001b[37m┃\u001b[0m\n",
      "\u001b[37m┡━━━━━━━━━━━╇━━━━━━━━━━━━╇━━━━━━━┩\u001b[0m\n",
      "\u001b[37m│\u001b[0m\u001b[1;31m \u001b[0m\u001b[1;31mO81qq    \u001b[0m\u001b[1;31m \u001b[0m\u001b[37m│\u001b[0m 0.000      \u001b[37m│\u001b[0m 1.418 \u001b[37m│\u001b[0m\n",
      "\u001b[37m│\u001b[0m\u001b[1;31m \u001b[0m\u001b[1;31mO83qq    \u001b[0m\u001b[1;31m \u001b[0m\u001b[37m│\u001b[0m 0.000      \u001b[37m│\u001b[0m 4.286 \u001b[37m│\u001b[0m\n",
      "\u001b[37m└───────────┴────────────┴───────┘\u001b[0m\n",
      "\u001b[2;36m          \u001b[0m\u001b[2;36m \u001b[0m\u001b[34mINFO    \u001b[0m Sampling solutions \u001b[33m...\u001b[0m                       \u001b]8;id=99719;file:///Users/jaco/opt/anaconda3/envs/smefit_tutorial/lib/python3.12/site-packages/smefit/optimize/analytic.py\u001b\\\u001b[2manalytic.py\u001b[0m\u001b]8;;\u001b\\\u001b[2m:\u001b[0m\u001b]8;id=219498;file:///Users/jaco/opt/anaconda3/envs/smefit_tutorial/lib/python3.12/site-packages/smefit/optimize/analytic.py#156\u001b\\\u001b[2m156\u001b[0m\u001b]8;;\u001b\\\n"
     ]
    }
   ],
   "source": [
    "!smefit A ./downloads/runcard_ttV.yaml"
   ]
  },
  {
   "cell_type": "markdown",
   "id": "e1dd8488",
   "metadata": {},
   "source": [
    "The fit has finished, and the results can now be analysed by making a fit report"
   ]
  },
  {
   "cell_type": "code",
   "execution_count": 11,
   "id": "77eadcad",
   "metadata": {},
   "outputs": [
    {
     "name": "stdout",
     "output_type": "stream",
     "text": [
      "\u001b[2;36m[10:43:58]\u001b[0m\u001b[2;36m \u001b[0m\u001b[34mINFO    \u001b[0m Analyzing : \u001b[1m[\u001b[0m\u001b[32m'ttV'\u001b[0m\u001b[1m]\u001b[0m                           \u001b]8;id=335670;file:///Users/jaco/opt/anaconda3/envs/smefit_tutorial/lib/python3.12/site-packages/smefit/analyze/__init__.py\u001b\\\u001b[2m__init__.py\u001b[0m\u001b]8;;\u001b\\\u001b[2m:\u001b[0m\u001b]8;id=18716;file:///Users/jaco/opt/anaconda3/envs/smefit_tutorial/lib/python3.12/site-packages/smefit/analyze/__init__.py#34\u001b\\\u001b[2m34\u001b[0m\u001b]8;;\u001b\\\n",
      "\u001b[2;36m          \u001b[0m\u001b[2;36m \u001b[0m\u001b[34mINFO    \u001b[0m Loading dataset : ATLAS_ttW_13TeV              \u001b]8;id=543961;file:///Users/jaco/opt/anaconda3/envs/smefit_tutorial/lib/python3.12/site-packages/smefit/loader.py\u001b\\\u001b[2mloader.py\u001b[0m\u001b]8;;\u001b\\\u001b[2m:\u001b[0m\u001b]8;id=271038;file:///Users/jaco/opt/anaconda3/envs/smefit_tutorial/lib/python3.12/site-packages/smefit/loader.py#135\u001b\\\u001b[2m135\u001b[0m\u001b]8;;\u001b\\\n",
      "\u001b[2;36m          \u001b[0m\u001b[2;36m \u001b[0m\u001b[34mINFO    \u001b[0m Loading dataset : ATLAS_ttW_13TeV_2016         \u001b]8;id=315167;file:///Users/jaco/opt/anaconda3/envs/smefit_tutorial/lib/python3.12/site-packages/smefit/loader.py\u001b\\\u001b[2mloader.py\u001b[0m\u001b]8;;\u001b\\\u001b[2m:\u001b[0m\u001b]8;id=845029;file:///Users/jaco/opt/anaconda3/envs/smefit_tutorial/lib/python3.12/site-packages/smefit/loader.py#135\u001b\\\u001b[2m135\u001b[0m\u001b]8;;\u001b\\\n",
      "\u001b[2;36m          \u001b[0m\u001b[2;36m \u001b[0m\u001b[34mINFO    \u001b[0m Loading dataset : ATLAS_ttW_8TeV               \u001b]8;id=266588;file:///Users/jaco/opt/anaconda3/envs/smefit_tutorial/lib/python3.12/site-packages/smefit/loader.py\u001b\\\u001b[2mloader.py\u001b[0m\u001b]8;;\u001b\\\u001b[2m:\u001b[0m\u001b]8;id=314147;file:///Users/jaco/opt/anaconda3/envs/smefit_tutorial/lib/python3.12/site-packages/smefit/loader.py#135\u001b\\\u001b[2m135\u001b[0m\u001b]8;;\u001b\\\n",
      "\u001b[2;36m          \u001b[0m\u001b[2;36m \u001b[0m\u001b[34mINFO    \u001b[0m Loading dataset : ATLAS_ttZ_13TeV              \u001b]8;id=849223;file:///Users/jaco/opt/anaconda3/envs/smefit_tutorial/lib/python3.12/site-packages/smefit/loader.py\u001b\\\u001b[2mloader.py\u001b[0m\u001b]8;;\u001b\\\u001b[2m:\u001b[0m\u001b]8;id=185142;file:///Users/jaco/opt/anaconda3/envs/smefit_tutorial/lib/python3.12/site-packages/smefit/loader.py#135\u001b\\\u001b[2m135\u001b[0m\u001b]8;;\u001b\\\n",
      "\u001b[2;36m          \u001b[0m\u001b[2;36m \u001b[0m\u001b[34mINFO    \u001b[0m Loading dataset : ATLAS_ttZ_13TeV_2016         \u001b]8;id=301900;file:///Users/jaco/opt/anaconda3/envs/smefit_tutorial/lib/python3.12/site-packages/smefit/loader.py\u001b\\\u001b[2mloader.py\u001b[0m\u001b]8;;\u001b\\\u001b[2m:\u001b[0m\u001b]8;id=468945;file:///Users/jaco/opt/anaconda3/envs/smefit_tutorial/lib/python3.12/site-packages/smefit/loader.py#135\u001b\\\u001b[2m135\u001b[0m\u001b]8;;\u001b\\\n",
      "\u001b[2;36m          \u001b[0m\u001b[2;36m \u001b[0m\u001b[34mINFO    \u001b[0m Loading dataset : ATLAS_ttZ_13TeV_pTZ          \u001b]8;id=100175;file:///Users/jaco/opt/anaconda3/envs/smefit_tutorial/lib/python3.12/site-packages/smefit/loader.py\u001b\\\u001b[2mloader.py\u001b[0m\u001b]8;;\u001b\\\u001b[2m:\u001b[0m\u001b]8;id=30642;file:///Users/jaco/opt/anaconda3/envs/smefit_tutorial/lib/python3.12/site-packages/smefit/loader.py#135\u001b\\\u001b[2m135\u001b[0m\u001b]8;;\u001b\\\n",
      "\u001b[2;36m          \u001b[0m\u001b[2;36m \u001b[0m\u001b[34mINFO    \u001b[0m Loading dataset : ATLAS_ttZ_8TeV               \u001b]8;id=592460;file:///Users/jaco/opt/anaconda3/envs/smefit_tutorial/lib/python3.12/site-packages/smefit/loader.py\u001b\\\u001b[2mloader.py\u001b[0m\u001b]8;;\u001b\\\u001b[2m:\u001b[0m\u001b]8;id=35654;file:///Users/jaco/opt/anaconda3/envs/smefit_tutorial/lib/python3.12/site-packages/smefit/loader.py#135\u001b\\\u001b[2m135\u001b[0m\u001b]8;;\u001b\\\n",
      "\u001b[2;36m          \u001b[0m\u001b[2;36m \u001b[0m\u001b[34mINFO    \u001b[0m Loading dataset : CMS_ttW_13TeV                \u001b]8;id=349089;file:///Users/jaco/opt/anaconda3/envs/smefit_tutorial/lib/python3.12/site-packages/smefit/loader.py\u001b\\\u001b[2mloader.py\u001b[0m\u001b]8;;\u001b\\\u001b[2m:\u001b[0m\u001b]8;id=678147;file:///Users/jaco/opt/anaconda3/envs/smefit_tutorial/lib/python3.12/site-packages/smefit/loader.py#135\u001b\\\u001b[2m135\u001b[0m\u001b]8;;\u001b\\\n",
      "\u001b[2;36m          \u001b[0m\u001b[2;36m \u001b[0m\u001b[34mINFO    \u001b[0m Loading dataset : CMS_ttW_8TeV                 \u001b]8;id=601591;file:///Users/jaco/opt/anaconda3/envs/smefit_tutorial/lib/python3.12/site-packages/smefit/loader.py\u001b\\\u001b[2mloader.py\u001b[0m\u001b]8;;\u001b\\\u001b[2m:\u001b[0m\u001b]8;id=296537;file:///Users/jaco/opt/anaconda3/envs/smefit_tutorial/lib/python3.12/site-packages/smefit/loader.py#135\u001b\\\u001b[2m135\u001b[0m\u001b]8;;\u001b\\\n",
      "\u001b[2;36m          \u001b[0m\u001b[2;36m \u001b[0m\u001b[34mINFO    \u001b[0m Loading dataset : CMS_ttZ_13TeV                \u001b]8;id=952285;file:///Users/jaco/opt/anaconda3/envs/smefit_tutorial/lib/python3.12/site-packages/smefit/loader.py\u001b\\\u001b[2mloader.py\u001b[0m\u001b]8;;\u001b\\\u001b[2m:\u001b[0m\u001b]8;id=664627;file:///Users/jaco/opt/anaconda3/envs/smefit_tutorial/lib/python3.12/site-packages/smefit/loader.py#135\u001b\\\u001b[2m135\u001b[0m\u001b]8;;\u001b\\\n",
      "\u001b[2;36m          \u001b[0m\u001b[2;36m \u001b[0m\u001b[34mINFO    \u001b[0m Loading dataset : CMS_ttZ_13TeV_pTZ            \u001b]8;id=816548;file:///Users/jaco/opt/anaconda3/envs/smefit_tutorial/lib/python3.12/site-packages/smefit/loader.py\u001b\\\u001b[2mloader.py\u001b[0m\u001b]8;;\u001b\\\u001b[2m:\u001b[0m\u001b]8;id=668853;file:///Users/jaco/opt/anaconda3/envs/smefit_tutorial/lib/python3.12/site-packages/smefit/loader.py#135\u001b\\\u001b[2m135\u001b[0m\u001b]8;;\u001b\\\n",
      "\u001b[2;36m          \u001b[0m\u001b[2;36m \u001b[0m\u001b[34mINFO    \u001b[0m Loading dataset : CMS_ttZ_8TeV                 \u001b]8;id=451856;file:///Users/jaco/opt/anaconda3/envs/smefit_tutorial/lib/python3.12/site-packages/smefit/loader.py\u001b\\\u001b[2mloader.py\u001b[0m\u001b]8;;\u001b\\\u001b[2m:\u001b[0m\u001b]8;id=74453;file:///Users/jaco/opt/anaconda3/envs/smefit_tutorial/lib/python3.12/site-packages/smefit/loader.py#135\u001b\\\u001b[2m135\u001b[0m\u001b]8;;\u001b\\\n",
      "/bin/sh: pandoc: command not found\n",
      "/bin/sh: pandoc: command not found\n",
      "\u001b[2K\u001b[32mComputing SMEFT predictions for each replica of ttV...\u001b[0m \u001b[90m━━━━━━━━━━━━\u001b[0m \u001b[35m100%\u001b[0m \u001b[33m0:00:01\u001b[0m00:01\u001b[0m00:01\u001b[0m\n",
      "\u001b[?25h/bin/sh: pandoc: command not found\n",
      "\u001b[2;36m[10:44:03]\u001b[0m\u001b[2;36m \u001b[0m\u001b[34mINFO    \u001b[0m Plotting : chi^\u001b[1;36m2\u001b[0m for each dataset              \u001b]8;id=613824;file:///Users/jaco/opt/anaconda3/envs/smefit_tutorial/lib/python3.12/site-packages/smefit/analyze/report.py\u001b\\\u001b[2mreport.py\u001b[0m\u001b]8;;\u001b\\\u001b[2m:\u001b[0m\u001b]8;id=46446;file:///Users/jaco/opt/anaconda3/envs/smefit_tutorial/lib/python3.12/site-packages/smefit/analyze/report.py#170\u001b\\\u001b[2m170\u001b[0m\u001b]8;;\u001b\\\n",
      "\u001b[2;36m[10:44:09]\u001b[0m\u001b[2;36m \u001b[0m\u001b[34mINFO    \u001b[0m Plotting : chi^\u001b[1;36m2\u001b[0m distribution for each replica \u001b]8;id=540767;file:///Users/jaco/opt/anaconda3/envs/smefit_tutorial/lib/python3.12/site-packages/smefit/analyze/report.py\u001b\\\u001b[2mreport.py\u001b[0m\u001b]8;;\u001b\\\u001b[2m:\u001b[0m\u001b]8;id=177121;file:///Users/jaco/opt/anaconda3/envs/smefit_tutorial/lib/python3.12/site-packages/smefit/analyze/report.py#175\u001b\\\u001b[2m175\u001b[0m\u001b]8;;\u001b\\\n",
      "\u001b[2;36m[10:44:13]\u001b[0m\u001b[2;36m \u001b[0m\u001b[34mINFO    \u001b[0m Plotting : Posterior histograms                \u001b]8;id=481723;file:///Users/jaco/opt/anaconda3/envs/smefit_tutorial/lib/python3.12/site-packages/smefit/analyze/report.py\u001b\\\u001b[2mreport.py\u001b[0m\u001b]8;;\u001b\\\u001b[2m:\u001b[0m\u001b]8;id=410659;file:///Users/jaco/opt/anaconda3/envs/smefit_tutorial/lib/python3.12/site-packages/smefit/analyze/report.py#323\u001b\\\u001b[2m323\u001b[0m\u001b]8;;\u001b\\\n",
      "\u001b[2;36m[10:44:14]\u001b[0m\u001b[2;36m \u001b[0m\u001b[34mINFO    \u001b[0m Plotting : 2D confidence level projections     \u001b]8;id=785952;file:///Users/jaco/opt/anaconda3/envs/smefit_tutorial/lib/python3.12/site-packages/smefit/analyze/report.py\u001b\\\u001b[2mreport.py\u001b[0m\u001b]8;;\u001b\\\u001b[2m:\u001b[0m\u001b]8;id=482017;file:///Users/jaco/opt/anaconda3/envs/smefit_tutorial/lib/python3.12/site-packages/smefit/analyze/report.py#344\u001b\\\u001b[2m344\u001b[0m\u001b]8;;\u001b\\\n"
     ]
    }
   ],
   "source": [
    "!smefit R ./downloads/runcard_report_ttV.yaml"
   ]
  },
  {
   "cell_type": "code",
   "execution_count": null,
   "id": "bcd3c7d3",
   "metadata": {},
   "outputs": [],
   "source": [
    "def make_report(runcard_report):\n",
    "\n",
    "    with open(runcard_report, encoding=\"utf-8\") as f:\n",
    "        report_config = yaml.safe_load(f)\n",
    "    \n",
    "    report_name = report_config[\"name\"]\n",
    "    report_path = pathlib.Path(report_config[\"report_path\"]).absolute()\n",
    "    report_folder = report_path.joinpath(f\"{report_name}\")\n",
    "\n",
    "    report_folder.mkdir(exist_ok=True, parents=True)\n",
    "\n",
    "    report = Report(report_path, report_config[\"result_path\"], report_config)\n",
    "    \n",
    "    report.coefficients(**report_config[\"coefficients_plots\"])"
   ]
  },
  {
   "cell_type": "code",
   "execution_count": null,
   "id": "50962b98",
   "metadata": {},
   "outputs": [],
   "source": [
    "make_report(\"./downloads/runcard_report_asy.yaml\")\n",
    "\n",
    "# show the exclusion contour\n",
    "Image(filename='./reports/report_asy/contours_2d.png') "
   ]
  },
  {
   "cell_type": "markdown",
   "id": "eaeabbf0",
   "metadata": {},
   "source": [
    "**Questions**\n",
    "\n",
    "- What special behaviour do you observe between the two operators?\n",
    "- What options do we have to further constrain this 2-dim parameters space? Name at least three."
   ]
  },
  {
   "cell_type": "markdown",
   "id": "af2b0fb1",
   "metadata": {},
   "source": [
    "### Exercise 2 A - Adding more measurements"
   ]
  },
  {
   "cell_type": "markdown",
   "id": "976c1eff",
   "metadata": {},
   "source": [
    "The two operators from exercise 1 modify more than just the charge asymmetries $A_C$. Here we add more measurements, in particular top procecesses for which $A_C = 0$."
   ]
  },
  {
   "cell_type": "code",
   "execution_count": null,
   "id": "ad80dd66",
   "metadata": {},
   "outputs": [],
   "source": [
    "runner_exc_2a = smefit.runner.Runner.from_file(pathlib.Path(\"./downloads/runcard_sym.yaml\"))\n",
    "runner_exc_2a.global_analysis(\"A\")"
   ]
  },
  {
   "cell_type": "markdown",
   "id": "448d795e",
   "metadata": {},
   "source": [
    "The report can be produced again with"
   ]
  },
  {
   "cell_type": "code",
   "execution_count": null,
   "id": "fbda253c",
   "metadata": {},
   "outputs": [],
   "source": [
    "make_report(\"./downloads/runcard_report_sym.yaml\")\n",
    "\n",
    "# show the exclusion contour\n",
    "Image(filename='./reports/report_sym/contours_2d.png') "
   ]
  },
  {
   "cell_type": "markdown",
   "id": "a5c99bd5",
   "metadata": {},
   "source": [
    "**Questions**\n",
    "\n",
    "- Can we exclude the SM this time?\n",
    "- What special behaviour do you observe between the two operators and how does this compare to exercise 1?"
   ]
  },
  {
   "cell_type": "markdown",
   "id": "022d0c5f",
   "metadata": {},
   "source": [
    "### Exercise 2 B - combined fit"
   ]
  },
  {
   "cell_type": "markdown",
   "id": "db2b52f2",
   "metadata": {},
   "source": [
    "The same operators can modify multiple datasets, and we have no a priori reason to include one over the other. We must include them all! Here we carry out such a combined fit where we add the measurements from exercise 1 and 2a."
   ]
  },
  {
   "cell_type": "code",
   "execution_count": null,
   "id": "73d122b6",
   "metadata": {},
   "outputs": [],
   "source": [
    "runner_higgs = smefit.runner.Runner.from_file(pathlib.Path(\"./downloads/runcard_combined.yaml\"))\n",
    "runner_higgs.global_analysis(\"A\")"
   ]
  },
  {
   "cell_type": "code",
   "execution_count": null,
   "id": "7b4aa3d6",
   "metadata": {
    "scrolled": true
   },
   "outputs": [],
   "source": [
    "make_report(\"./downloads/runcard_report_combined.yaml\")"
   ]
  },
  {
   "cell_type": "code",
   "execution_count": null,
   "id": "e3feb303",
   "metadata": {},
   "outputs": [],
   "source": [
    "# show the exclusion contour\n",
    "Image(filename='./reports/report_combined/contours_2d.png') "
   ]
  },
  {
   "cell_type": "markdown",
   "id": "5f5e8af7",
   "metadata": {},
   "source": [
    "**Questions**\n",
    "\n",
    "- Comment on the interplay between the two classes of measurements\n",
    "- What lesson do you take from this?"
   ]
  },
  {
   "cell_type": "markdown",
   "id": "991ee6cf",
   "metadata": {},
   "source": [
    "### Exercise 3"
   ]
  },
  {
   "cell_type": "code",
   "execution_count": null,
   "id": "0e372c4a",
   "metadata": {},
   "outputs": [],
   "source": []
  }
 ],
 "metadata": {
  "@webio": {
   "lastCommId": null,
   "lastKernelId": null
  },
  "kernelspec": {
   "display_name": "smefit",
   "language": "python",
   "name": "smefit"
  },
  "language_info": {
   "codemirror_mode": {
    "name": "ipython",
    "version": 3
   },
   "file_extension": ".py",
   "mimetype": "text/x-python",
   "name": "python",
   "nbconvert_exporter": "python",
   "pygments_lexer": "ipython3",
   "version": "3.12.3"
  }
 },
 "nbformat": 4,
 "nbformat_minor": 5
}
