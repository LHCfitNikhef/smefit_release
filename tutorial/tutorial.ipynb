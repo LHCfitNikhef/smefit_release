{
 "cells": [
  {
   "cell_type": "markdown",
   "id": "430c1dca",
   "metadata": {},
   "source": [
    "# SMEFiT Tutorial\n",
    "Author: Jaco ter Hoeve"
   ]
  },
  {
   "cell_type": "markdown",
   "id": "1f8fed30",
   "metadata": {},
   "source": [
    "To run this notebook remotely in Google Colab, click the button below"
   ]
  },
  {
   "cell_type": "markdown",
   "id": "2fe8993a",
   "metadata": {},
   "source": [
    "[![Open In Colab](https://colab.research.google.com/assets/colab-badge.svg)](https://colab.research.google.com/github/LHCfitNikhef/smefit_release/blob/tutorial/tutorial/tutorial.ipynb)"
   ]
  },
  {
   "cell_type": "markdown",
   "id": "1aa3bc90-11e7-41bf-ac02-78387c5e4963",
   "metadata": {},
   "source": [
    "and make sure to click \"Copy to drive\" at the top to create a copy that you may edit."
   ]
  },
  {
   "cell_type": "markdown",
   "id": "88ad5327",
   "metadata": {},
   "source": [
    "### What is SMEFiT? \n",
    "SMEFiT is a Python package for global analyses of particle physics data in the framework of the Standard Model Effective Field Theory (SMEFT). The SMEFT represents a powerful model-independent framework to constrain, identify, and parametrize potential deviations with respect to the predictions of the Standard Model (SM). A particularly attractive feature of the SMEFT is its capability to systematically correlate deviations from the SM between different processes. The full exploitation of the SMEFT potential for indirect New Physics searches from precision measurements requires combining the information provided by the broadest possible dataset, namely carrying out extensive global analysis which is the main purpose of SMEFiT.\n",
    "\n",
    "In case you would like a recap on the basic ideas underlying the SMEFT, see https://lhcfitnikhef.github.io/smefit_release/theory/SMEFT.html\n",
    "\n",
    "SMEFiT has been used in the following publications\n",
    "\n",
    "- *A Monte Carlo global analysis of the Standard Model Effective Field Theory: the top quark sector*, N. P. Hartland, F. Maltoni, E. R. Nocera, J. Rojo, E. Slade, E. Vryonidou, C. Zhang.\n",
    "- *Constraining the SMEFT with Bayesian reweighting*, S. van Beek, E. R. Nocera, J. Rojo, and E. Slade.\n",
    "- *SMEFT analysis of vector boson scattering and diboson data from the LHC Run II* , J. Ethier, R. Gomez-Ambrosio, G. Magni, J. Rojo.\n",
    "- *Combined SMEFT interpretation of Higgs, diboson, and top quark data from the LHC*, J. Ethier, G.Magni, F. Maltoni, L. Mantani, E. R. Nocera, J. Rojo, E. Slade, E. Vryonidou, C. Zhang .\n",
    "- *The automation of SMEFT-assisted constraints on UV-complete models*, J. ter Hoeve, G. Magni, J. Rojo, A. N. Rossia, E. Vryonidou .\n",
    "- *Mapping the SMEFT at High-Energy Colliders: from LEP and the (HL-)LHC to the FCC-ee*, E.Celada, T. Giani, J. ter Hoeve, L. Mantani, J. Rojo, A. N. Rossia, M. O. A. Thomas, E. Vryonidou."
   ]
  },
  {
   "cell_type": "markdown",
   "id": "d74a63c3",
   "metadata": {},
   "source": [
    "### Exercise  0 - Installing SMEFiT"
   ]
  },
  {
   "cell_type": "markdown",
   "id": "c59c72a9",
   "metadata": {},
   "source": [
    "First things first, let us install SMEFiT:"
   ]
  },
  {
   "cell_type": "code",
   "execution_count": 25,
   "id": "41dded22",
   "metadata": {},
   "outputs": [
    {
     "name": "stdout",
     "output_type": "stream",
     "text": [
      "Collecting ipywidgets\n",
      "  Downloading ipywidgets-8.1.5-py3-none-any.whl.metadata (2.3 kB)\n",
      "Requirement already satisfied: comm>=0.1.3 in /Users/jaco/miniconda3/envs/smefit/lib/python3.12/site-packages (from ipywidgets) (0.2.1)\n",
      "Requirement already satisfied: ipython>=6.1.0 in /Users/jaco/miniconda3/envs/smefit/lib/python3.12/site-packages (from ipywidgets) (8.27.0)\n",
      "Requirement already satisfied: traitlets>=4.3.1 in /Users/jaco/miniconda3/envs/smefit/lib/python3.12/site-packages (from ipywidgets) (5.14.3)\n",
      "Collecting widgetsnbextension~=4.0.12 (from ipywidgets)\n",
      "  Downloading widgetsnbextension-4.0.13-py3-none-any.whl.metadata (1.6 kB)\n",
      "Collecting jupyterlab-widgets~=3.0.12 (from ipywidgets)\n",
      "  Downloading jupyterlab_widgets-3.0.13-py3-none-any.whl.metadata (4.1 kB)\n",
      "Requirement already satisfied: decorator in /Users/jaco/miniconda3/envs/smefit/lib/python3.12/site-packages (from ipython>=6.1.0->ipywidgets) (5.1.1)\n",
      "Requirement already satisfied: jedi>=0.16 in /Users/jaco/miniconda3/envs/smefit/lib/python3.12/site-packages (from ipython>=6.1.0->ipywidgets) (0.19.1)\n",
      "Requirement already satisfied: matplotlib-inline in /Users/jaco/miniconda3/envs/smefit/lib/python3.12/site-packages (from ipython>=6.1.0->ipywidgets) (0.1.6)\n",
      "Requirement already satisfied: prompt-toolkit<3.1.0,>=3.0.41 in /Users/jaco/miniconda3/envs/smefit/lib/python3.12/site-packages (from ipython>=6.1.0->ipywidgets) (3.0.43)\n",
      "Requirement already satisfied: pygments>=2.4.0 in /Users/jaco/miniconda3/envs/smefit/lib/python3.12/site-packages (from ipython>=6.1.0->ipywidgets) (2.15.1)\n",
      "Requirement already satisfied: stack-data in /Users/jaco/miniconda3/envs/smefit/lib/python3.12/site-packages (from ipython>=6.1.0->ipywidgets) (0.2.0)\n",
      "Requirement already satisfied: pexpect>4.3 in /Users/jaco/miniconda3/envs/smefit/lib/python3.12/site-packages (from ipython>=6.1.0->ipywidgets) (4.8.0)\n",
      "Requirement already satisfied: parso<0.9.0,>=0.8.3 in /Users/jaco/miniconda3/envs/smefit/lib/python3.12/site-packages (from jedi>=0.16->ipython>=6.1.0->ipywidgets) (0.8.3)\n",
      "Requirement already satisfied: ptyprocess>=0.5 in /Users/jaco/miniconda3/envs/smefit/lib/python3.12/site-packages (from pexpect>4.3->ipython>=6.1.0->ipywidgets) (0.7.0)\n",
      "Requirement already satisfied: wcwidth in /Users/jaco/miniconda3/envs/smefit/lib/python3.12/site-packages (from prompt-toolkit<3.1.0,>=3.0.41->ipython>=6.1.0->ipywidgets) (0.2.5)\n",
      "Requirement already satisfied: executing in /Users/jaco/miniconda3/envs/smefit/lib/python3.12/site-packages (from stack-data->ipython>=6.1.0->ipywidgets) (0.8.3)\n",
      "Requirement already satisfied: asttokens in /Users/jaco/miniconda3/envs/smefit/lib/python3.12/site-packages (from stack-data->ipython>=6.1.0->ipywidgets) (2.0.5)\n",
      "Requirement already satisfied: pure-eval in /Users/jaco/miniconda3/envs/smefit/lib/python3.12/site-packages (from stack-data->ipython>=6.1.0->ipywidgets) (0.2.2)\n",
      "Requirement already satisfied: six in /Users/jaco/miniconda3/envs/smefit/lib/python3.12/site-packages (from asttokens->stack-data->ipython>=6.1.0->ipywidgets) (1.16.0)\n",
      "Downloading ipywidgets-8.1.5-py3-none-any.whl (139 kB)\n",
      "Downloading jupyterlab_widgets-3.0.13-py3-none-any.whl (214 kB)\n",
      "Downloading widgetsnbextension-4.0.13-py3-none-any.whl (2.3 MB)\n",
      "\u001b[2K   \u001b[90m━━━━━━━━━━━━━━━━━━━━━━━━━━━━━━━━━━━━━━━━\u001b[0m \u001b[32m2.3/2.3 MB\u001b[0m \u001b[31m14.9 MB/s\u001b[0m eta \u001b[36m0:00:00\u001b[0m\n",
      "\u001b[?25hInstalling collected packages: widgetsnbextension, jupyterlab-widgets, ipywidgets\n",
      "Successfully installed ipywidgets-8.1.5 jupyterlab-widgets-3.0.13 widgetsnbextension-4.0.13\n"
     ]
    }
   ],
   "source": [
    "#!pip install smefit\n",
    "#!pip install wget\n",
    "!pip install ipywidgets"
   ]
  },
  {
   "cell_type": "markdown",
   "id": "c0dfe218",
   "metadata": {},
   "source": [
    "Note to google colab users, you may ignore the error related to pandas in case it shows up. "
   ]
  },
  {
   "cell_type": "markdown",
   "id": "731cfb74",
   "metadata": {},
   "source": [
    "For the purpose of this tutorial, we also need the following additional packages"
   ]
  },
  {
   "cell_type": "code",
   "execution_count": 29,
   "id": "8db4c38e",
   "metadata": {
    "jupyter": {
     "is_executing": true
    }
   },
   "outputs": [],
   "source": [
    "import sys\n",
    "import os\n",
    "import wget\n",
    "import subprocess\n",
    "import pathlib\n",
    "import yaml\n",
    "from IPython.display import Image\n",
    "import json\n",
    "\n",
    "import numpy as np\n",
    "import matplotlib.pyplot as plt\n",
    "from matplotlib import rc\n",
    "\n",
    "# mpl.rcParams.update(mpl.rcParamsDefault)\n",
    "%matplotlib inline"
   ]
  },
  {
   "cell_type": "code",
   "execution_count": 2,
   "id": "8e086ae1",
   "metadata": {},
   "outputs": [],
   "source": [
    "import smefit"
   ]
  },
  {
   "cell_type": "code",
   "execution_count": 14,
   "id": "640f22a2-9d7d-4598-96cb-1fca3f4813ab",
   "metadata": {},
   "outputs": [
    {
     "name": "stdout",
     "output_type": "stream",
     "text": [
      "Cloning into 'smefit_database'...\n",
      "remote: Enumerating objects: 10020, done.\u001b[K\n",
      "remote: Counting objects: 100% (2025/2025), done.\u001b[K\n",
      "remote: Compressing objects: 100% (924/924), done.\u001b[K\n",
      "remote: Total 10020 (delta 1264), reused 1811 (delta 1087), pack-reused 7995 (from 1)\u001b[K\n",
      "\u001b[KReceiving objects: 100% (10020/10020), 39.34 MiB | 1.62 MiB/s, done.\n",
      "\u001b[KResolving deltas: 100% (6624/6624), done.\n"
     ]
    }
   ],
   "source": [
    "!git clone https://github.com/LHCfitNikhef/smefit_database.git"
   ]
  },
  {
   "cell_type": "code",
   "execution_count": 15,
   "id": "c82cb1de-ef58-4883-88b2-6b519c7dd227",
   "metadata": {},
   "outputs": [
    {
     "name": "stdout",
     "output_type": "stream",
     "text": [
      "Cloning into 'smefit_release'...\n",
      "remote: Enumerating objects: 11256, done.\u001b[K\n",
      "remote: Counting objects: 100% (1608/1608), done.\u001b[K\n",
      "remote: Compressing objects: 100% (723/723), done.\u001b[K\n",
      "remote: Total 11256 (delta 1193), reused 1035 (delta 851), pack-reused 9648 (from 1)\u001b[K\n",
      "\u001b[KReceiving objects: 100% (11256/11256), 37.04 MiB | 2.88 MiB/s, done.\n",
      "\u001b[KResolving deltas: 100% (7503/7503), done.\n"
     ]
    }
   ],
   "source": [
    "!git clone https://github.com/LHCfitNikhef/smefit_release.git"
   ]
  },
  {
   "cell_type": "markdown",
   "id": "eea47bc4",
   "metadata": {},
   "source": [
    "Download the smefit datasets and runcards"
   ]
  },
  {
   "cell_type": "markdown",
   "id": "3371a543",
   "metadata": {},
   "source": [
    "### Exercise 1 - Our first fit with SMEFiT"
   ]
  },
  {
   "cell_type": "markdown",
   "id": "1da0d876",
   "metadata": {},
   "source": [
    "In this first exercise, we will study the relative impact of various datasets on a two-dimensional SMEFT parameter space. Consider the four-fermion Wilson coefficients $c_{Qq}^{1, 8}$ and $c_{Qq}^{3,8}$, defined as"
   ]
  },
  {
   "cell_type": "markdown",
   "id": "77860d06",
   "metadata": {},
   "source": [
    "$$\n",
    "\\begin{align}\n",
    "c_{Qq}^{1,8} &= c_{qq}^{1(i33i)} + 3 c_{qq}^{3(i33i)} \\\\\n",
    "c_{Qq}^{3,8} &= c_{qq}^{1(i33i)} - c_{qq}^{3(i33i)} \\, ,\n",
    "\\end{align}\n",
    "$$"
   ]
  },
  {
   "cell_type": "markdown",
   "id": "d64d1985",
   "metadata": {},
   "source": [
    "with the corresponding operators on the RHS given by"
   ]
  },
  {
   "cell_type": "markdown",
   "id": "10fa9145",
   "metadata": {},
   "source": [
    "$$\n",
    "\\begin{align}\n",
    "\\mathcal{O}_{qq}^{1(i33i)} &= \\left(\\bar{q}_i\\gamma^\\mu Q \\right)\\left(\\bar{Q} \\gamma_\\mu q_i\\right) \\\\\n",
    "\\mathcal{O}_{qq}^{3(i33i)} &= \\left(\\bar{q}_i\\gamma^\\mu \\tau^I Q \\right)\\left(\\bar{Q} \\gamma_\\mu \\tau^I q_l\\right) \\, .\n",
    "\\end{align}\n",
    "$$"
   ]
  },
  {
   "cell_type": "markdown",
   "id": "810248fa-3666-46e7-bf7f-a0f60a9d7da5",
   "metadata": {},
   "source": [
    "Here the fields $q_i$ and $Q$ constitute respectively the light ($i=1,2$) and heavy quark $SU(2)$ doublets, while the $\\tau^I$ are the usual Pauli matrices.\n",
    "\n",
    "**Question 1A**\n",
    "- Do $\\mathcal{O}_{qq}^{1(ijkl)}$ and $\\mathcal{O}_{qq}^{3(ijkl)}$ define valid SMEFT operators at dimension-six? If so, why?\n",
    "\n",
    "These operators modify SM processes measured at the LHC, and hence provide a probe to study possible new physics beyond the SM. The goal of the rest of this exercise is to set bounds on the corresponding Wilson coefficients to check whether current data is compatible with the SM or not."
   ]
  },
  {
   "cell_type": "markdown",
   "id": "6a9bdec0-bbdd-4511-b615-91898f76c5c7",
   "metadata": {},
   "source": [
    "## Plotting the data"
   ]
  },
  {
   "cell_type": "code",
   "execution_count": 74,
   "id": "f7608435-795e-4aaf-b5a2-ae5607f8876f",
   "metadata": {},
   "outputs": [
    {
     "data": {
      "image/png": "[encoded data removed]",
      "text/plain": [
       "<Figure size 1000x800 with 2 Axes>"
      ]
     },
     "metadata": {},
     "output_type": "display_data"
    }
   ],
   "source": [
    "rc('font', **{'family': 'sans-serif', 'sans-serif': ['Helvetica'], 'size': 16})\n",
    "rc('text', usetex=True)\n",
    "\n",
    "fig = plt.figure(figsize=(10, 8))\n",
    "grid = plt.GridSpec(8, 1, hspace=1)\n",
    "\n",
    "ax = fig.add_subplot(grid[0:6, 0], xticklabels=[])\n",
    "ax_sub = fig.add_subplot(grid[6:8, 0])\n",
    "\n",
    "ax.set(xlabel=None, ylabel=r'$d\\sigma/dm_{t\\bar{t}}$')\n",
    "ax_sub.set(xlabel=r'$m_{t\\bar{t}}\\;\\mathrm{[GeV]}$', ylabel=r'$\\mathrm{Ratio}$')\n",
    "\n",
    "# add theory\n",
    "theory_path = \"./smefit_database/theory/CMS_tt_13TeV_Mtt.json\"\n",
    "with open(theory_path, encoding=\"utf-8\") as f:\n",
    "    theory = json.load(f)\n",
    "\n",
    "# add data\n",
    "data_path = \"./smefit_database/commondata/CMS_tt_13TeV_Mtt.yaml\"\n",
    "with open(data_path, encoding=\"utf-8\") as f:\n",
    "    data = yaml.safe_load(f)\n",
    "\n",
    "theory_cov = np.array(theory[\"theory_cov\"])\n",
    "stat_unc = np.array(data[\"statistical_error\"])\n",
    "sys_unc = np.array(data[\"systematics\"])\n",
    "sys_cov = sys_unc.T @ sys_unc\n",
    "exp_covmat = np.diag(stat_unc ** 2) + sys_cov\n",
    "\n",
    "central_values = np.array(data[\"data_central\"])\n",
    "sm_best = np.array(theory[\"best_sm\"])\n",
    "\n",
    "binning = [250, 400, 480, 560, 640, 720, 800, 900, 1000, 1150, 1300, 1500, 1700, 2000, 2300, 3500]\n",
    "binning = np.array(binning)\n",
    "x_data = binning[0:-1] + 0.5 * (binning[1:] - binning[0:-1])\n",
    "\n",
    "total_exp_unc = np.sqrt(stat_unc ** 2 + np.diag(sys_cov))\n",
    "theory_cov_diag = np.diag(theory_cov)\n",
    "theory_sigma = np.sqrt(theory_cov_diag)\n",
    "\n",
    "ax.set_yscale('log')\n",
    "\n",
    "ax.scatter(x_data, central_values, color='r')\n",
    "ax.errorbar(x_data, central_values, total_exp_unc, lw=1, fmt='o', color='k', capsize=3, label=r'$\\mathrm{Data}$')\n",
    "\n",
    "# theory\n",
    "ax.bar(x=binning[:-1], height=2 * theory_sigma, bottom=sm_best - theory_sigma, width=np.diff(binning), align='edge', linewidth=0, color='red', alpha=0.25, zorder=-1, label=r'$\\mathrm{Theory}$')\n",
    "\n",
    "ax.legend()\n",
    "\n",
    "ax_sub.errorbar(x_data, np.ones(x_data.shape), total_exp_unc/central_values, fmt='o', lw=1, color='k', capsize=3)\n",
    "ax_sub.axhline(1, 0,1, color= 'k', linestyle='dashed')\n",
    "\n",
    "covmat_tot = theory_cov + exp_covmat\n",
    "invcov = np.linalg.inv(covmat_tot)\n",
    "chi2 = (central_values - sm_best) @ invcov @ (central_values - sm_best) / len(central_values)\n",
    "\n",
    "ax.text(0.95, 0.75, r\"$\\chi^2={:.2f}$\".format(chi2),\n",
    "     horizontalalignment='right',\n",
    "     verticalalignment='top',\n",
    "     transform = ax.transAxes)\n",
    "\n",
    "plt.show()"
   ]
  },
  {
   "cell_type": "markdown",
   "id": "b0419be7-acc9-4ddb-b5d8-4d1bac1fe274",
   "metadata": {},
   "source": [
    "**Question 1B**\n",
    "- Consider top-pair production in association with a Z or W boson. Convince yourself by drawing a representative Feynman diagram that the operators defined above modify $ttV$ ($V=W, Z)$ production.\n",
    "\n",
    "To run the fit, we need a runcard. An example is given below. In this first exercise we will provide all runcards, so no need to write them yourself. "
   ]
  },
  {
   "cell_type": "markdown",
   "id": "e69b1765",
   "metadata": {},
   "source": [
    "```yaml\n",
    "# smefit_runcard.yaml\n",
    "\n",
    "# name to give to fit\n",
    "result_ID: ttV\n",
    "\n",
    "# path where results are stored\n",
    "result_path: ./results\n",
    "\n",
    "# path to data\n",
    "data_path: ./downloads/smefit_database-main/commondata\n",
    "\n",
    "# path to theory tables\n",
    "theory_path: ./downloads/smefit_database-main/theory\n",
    "\n",
    "# perturbatve QCD order (LO or NLO)\n",
    "order: NLO\n",
    "\n",
    "# include theory uncertainties\n",
    "use_theory_covmat: True\n",
    "use_t0: True\n",
    "\n",
    "# SMEFT Expansion Order (NHO = Lambda^-2 , HO = Lambda^-4)\n",
    "use_quad: False\n",
    "\n",
    "# number of samples\n",
    "n_samples: 20000\n",
    "\n",
    "\n",
    "# Datasets to include\n",
    "datasets:\n",
    "\n",
    "  - CMS_ttZ_13TeV\n",
    "  - CMS_ttZ_13TeV_pTZ\n",
    "  - CMS_ttZ_8TeV\n",
    "  - ATLAS_ttZ_13TeV\n",
    "  - ATLAS_ttZ_13TeV_2016\n",
    "  - ATLAS_ttZ_13TeV_pTZ\n",
    "  - ATLAS_ttZ_8TeV\n",
    "  - CMS_ttW_13TeV\n",
    "  - CMS_ttW_8TeV\n",
    "  - ATLAS_ttW_13TeV\n",
    "  - ATLAS_ttW_13TeV_2016\n",
    "  - ATLAS_ttW_8TeV\n",
    "\n",
    "\n",
    "# Coefficients to fit\n",
    "coefficients:\n",
    "\n",
    "  O81qq: { 'min': -2, 'max': 2 }\n",
    "  O83qq: { 'min': -2, 'max': 2 }\n",
    "```"
   ]
  },
  {
   "cell_type": "markdown",
   "id": "8ba6531b",
   "metadata": {},
   "source": [
    "The datasets entry shows which datasets enter the fit, and the coefficients to be fitted are the four-fermion operators we defined earlier. We are now ready to run our first linear fit.  "
   ]
  },
  {
   "cell_type": "code",
   "execution_count": 3,
   "id": "91075427",
   "metadata": {},
   "outputs": [
    {
     "data": {
      "text/html": [
       "<pre style=\"white-space:pre;overflow-x:auto;line-height:normal;font-family:Menlo,'DejaVu Sans Mono',consolas,'Courier New',monospace\"><span style=\"color: #7fbfbf; text-decoration-color: #7fbfbf\">[15:14:41] </span><span style=\"color: #000080; text-decoration-color: #000080\">INFO    </span> Loading dataset : ATLAS_CMS_tt_AC_8TeV                                            <a href=\"file:///Users/jaco/Documents/smefit_release/src/smefit/loader.py\" target=\"_blank\"><span style=\"color: #7f7f7f; text-decoration-color: #7f7f7f\">loader.py</span></a><span style=\"color: #7f7f7f; text-decoration-color: #7f7f7f\">:</span><a href=\"file:///Users/jaco/Documents/smefit_release/src/smefit/loader.py#136\" target=\"_blank\"><span style=\"color: #7f7f7f; text-decoration-color: #7f7f7f\">136</span></a>\n",
       "</pre>\n"
      ],
      "text/plain": [
       "\u001b[2;36m[15:14:41]\u001b[0m\u001b[2;36m \u001b[0m\u001b[34mINFO    \u001b[0m Loading dataset : ATLAS_CMS_tt_AC_8TeV                                            \u001b]8;id=314655;file:///Users/jaco/Documents/smefit_release/src/smefit/loader.py\u001b\\\u001b[2mloader.py\u001b[0m\u001b]8;;\u001b\\\u001b[2m:\u001b[0m\u001b]8;id=964757;file:///Users/jaco/Documents/smefit_release/src/smefit/loader.py#136\u001b\\\u001b[2m136\u001b[0m\u001b]8;;\u001b\\\n"
      ]
     },
     "metadata": {},
     "output_type": "display_data"
    },
    {
     "data": {
      "text/html": [
       "<pre style=\"white-space:pre;overflow-x:auto;line-height:normal;font-family:Menlo,'DejaVu Sans Mono',consolas,'Courier New',monospace\"><span style=\"color: #7fbfbf; text-decoration-color: #7fbfbf\">           </span><span style=\"color: #000080; text-decoration-color: #000080\">INFO    </span> Loading dataset : ATLAS_tt_13TeV_asy_2022                                         <a href=\"file:///Users/jaco/Documents/smefit_release/src/smefit/loader.py\" target=\"_blank\"><span style=\"color: #7f7f7f; text-decoration-color: #7f7f7f\">loader.py</span></a><span style=\"color: #7f7f7f; text-decoration-color: #7f7f7f\">:</span><a href=\"file:///Users/jaco/Documents/smefit_release/src/smefit/loader.py#136\" target=\"_blank\"><span style=\"color: #7f7f7f; text-decoration-color: #7f7f7f\">136</span></a>\n",
       "</pre>\n"
      ],
      "text/plain": [
       "\u001b[2;36m          \u001b[0m\u001b[2;36m \u001b[0m\u001b[34mINFO    \u001b[0m Loading dataset : ATLAS_tt_13TeV_asy_2022                                         \u001b]8;id=920580;file:///Users/jaco/Documents/smefit_release/src/smefit/loader.py\u001b\\\u001b[2mloader.py\u001b[0m\u001b]8;;\u001b\\\u001b[2m:\u001b[0m\u001b]8;id=536029;file:///Users/jaco/Documents/smefit_release/src/smefit/loader.py#136\u001b\\\u001b[2m136\u001b[0m\u001b]8;;\u001b\\\n"
      ]
     },
     "metadata": {},
     "output_type": "display_data"
    },
    {
     "data": {
      "text/html": [
       "<pre style=\"white-space:pre;overflow-x:auto;line-height:normal;font-family:Menlo,'DejaVu Sans Mono',consolas,'Courier New',monospace\"><span style=\"color: #7fbfbf; text-decoration-color: #7fbfbf\">           </span><span style=\"color: #000080; text-decoration-color: #000080\">INFO    </span> Loading dataset : CMS_tt_13TeV_asy                                                <a href=\"file:///Users/jaco/Documents/smefit_release/src/smefit/loader.py\" target=\"_blank\"><span style=\"color: #7f7f7f; text-decoration-color: #7f7f7f\">loader.py</span></a><span style=\"color: #7f7f7f; text-decoration-color: #7f7f7f\">:</span><a href=\"file:///Users/jaco/Documents/smefit_release/src/smefit/loader.py#136\" target=\"_blank\"><span style=\"color: #7f7f7f; text-decoration-color: #7f7f7f\">136</span></a>\n",
       "</pre>\n"
      ],
      "text/plain": [
       "\u001b[2;36m          \u001b[0m\u001b[2;36m \u001b[0m\u001b[34mINFO    \u001b[0m Loading dataset : CMS_tt_13TeV_asy                                                \u001b]8;id=317145;file:///Users/jaco/Documents/smefit_release/src/smefit/loader.py\u001b\\\u001b[2mloader.py\u001b[0m\u001b]8;;\u001b\\\u001b[2m:\u001b[0m\u001b]8;id=997540;file:///Users/jaco/Documents/smefit_release/src/smefit/loader.py#136\u001b\\\u001b[2m136\u001b[0m\u001b]8;;\u001b\\\n"
      ]
     },
     "metadata": {},
     "output_type": "display_data"
    },
    {
     "name": "stderr",
     "output_type": "stream",
     "text": [
      "/Users/jaco/Documents/smefit_release/src/smefit/coefficients.py:215: FutureWarning: Setting an item of incompatible dtype is deprecated and will raise an error in a future version of pandas. Value '[1.0 0]' has dtype incompatible with float64, please explicitly cast to a compatible dtype first.\n",
      "  self._table.iloc[self.is_free, 0] = value\n"
     ]
    },
    {
     "data": {
      "text/html": [
       "<pre style=\"white-space:pre;overflow-x:auto;line-height:normal;font-family:Menlo,'DejaVu Sans Mono',consolas,'Courier New',monospace\"><span style=\"color: #7fbfbf; text-decoration-color: #7fbfbf\">           </span><span style=\"color: #000080; text-decoration-color: #000080\">INFO    </span> Computing Analytic solution <span style=\"color: #808000; text-decoration-color: #808000\">...</span>                                                 <a href=\"file:///Users/jaco/Documents/smefit_release/src/smefit/optimize/analytic.py\" target=\"_blank\"><span style=\"color: #7f7f7f; text-decoration-color: #7f7f7f\">analytic.py</span></a><span style=\"color: #7f7f7f; text-decoration-color: #7f7f7f\">:</span><a href=\"file:///Users/jaco/Documents/smefit_release/src/smefit/optimize/analytic.py#127\" target=\"_blank\"><span style=\"color: #7f7f7f; text-decoration-color: #7f7f7f\">127</span></a>\n",
       "</pre>\n"
      ],
      "text/plain": [
       "\u001b[2;36m          \u001b[0m\u001b[2;36m \u001b[0m\u001b[34mINFO    \u001b[0m Computing Analytic solution \u001b[33m...\u001b[0m                                                 \u001b]8;id=832421;file:///Users/jaco/Documents/smefit_release/src/smefit/optimize/analytic.py\u001b\\\u001b[2manalytic.py\u001b[0m\u001b]8;;\u001b\\\u001b[2m:\u001b[0m\u001b]8;id=583791;file:///Users/jaco/Documents/smefit_release/src/smefit/optimize/analytic.py#127\u001b\\\u001b[2m127\u001b[0m\u001b]8;;\u001b\\\n"
      ]
     },
     "metadata": {},
     "output_type": "display_data"
    },
    {
     "data": {
      "text/html": [
       "<pre style=\"white-space:pre;overflow-x:auto;line-height:normal;font-family:Menlo,'DejaVu Sans Mono',consolas,'Courier New',monospace\"><span style=\"color: #c0c0c0; text-decoration-color: #c0c0c0\">┏━━━━━━━━━━━┳━━━━━━━━━━━━┳━━━━━━━┓</span>\n",
       "<span style=\"color: #c0c0c0; text-decoration-color: #c0c0c0\">┃</span><span style=\"font-weight: bold\"> Parameter </span><span style=\"color: #c0c0c0; text-decoration-color: #c0c0c0\">┃</span><span style=\"font-weight: bold\"> Best value </span><span style=\"color: #c0c0c0; text-decoration-color: #c0c0c0\">┃</span><span style=\"font-weight: bold\"> Error </span><span style=\"color: #c0c0c0; text-decoration-color: #c0c0c0\">┃</span>\n",
       "<span style=\"color: #c0c0c0; text-decoration-color: #c0c0c0\">┡━━━━━━━━━━━╇━━━━━━━━━━━━╇━━━━━━━┩</span>\n",
       "<span style=\"color: #c0c0c0; text-decoration-color: #c0c0c0\">│</span><span style=\"color: #800000; text-decoration-color: #800000; font-weight: bold\"> O81qq     </span><span style=\"color: #c0c0c0; text-decoration-color: #c0c0c0\">│</span> -0.089     <span style=\"color: #c0c0c0; text-decoration-color: #c0c0c0\">│</span> 1.172 <span style=\"color: #c0c0c0; text-decoration-color: #c0c0c0\">│</span>\n",
       "<span style=\"color: #c0c0c0; text-decoration-color: #c0c0c0\">│</span><span style=\"color: #800000; text-decoration-color: #800000; font-weight: bold\"> O8qt      </span><span style=\"color: #c0c0c0; text-decoration-color: #c0c0c0\">│</span> -0.489     <span style=\"color: #c0c0c0; text-decoration-color: #c0c0c0\">│</span> 1.996 <span style=\"color: #c0c0c0; text-decoration-color: #c0c0c0\">│</span>\n",
       "<span style=\"color: #c0c0c0; text-decoration-color: #c0c0c0\">└───────────┴────────────┴───────┘</span>\n",
       "</pre>\n"
      ],
      "text/plain": [
       "\u001b[37m┏━━━━━━━━━━━┳━━━━━━━━━━━━┳━━━━━━━┓\u001b[0m\n",
       "\u001b[37m┃\u001b[0m\u001b[1m \u001b[0m\u001b[1mParameter\u001b[0m\u001b[1m \u001b[0m\u001b[37m┃\u001b[0m\u001b[1m \u001b[0m\u001b[1mBest value\u001b[0m\u001b[1m \u001b[0m\u001b[37m┃\u001b[0m\u001b[1m \u001b[0m\u001b[1mError\u001b[0m\u001b[1m \u001b[0m\u001b[37m┃\u001b[0m\n",
       "\u001b[37m┡━━━━━━━━━━━╇━━━━━━━━━━━━╇━━━━━━━┩\u001b[0m\n",
       "\u001b[37m│\u001b[0m\u001b[1;31m \u001b[0m\u001b[1;31mO81qq    \u001b[0m\u001b[1;31m \u001b[0m\u001b[37m│\u001b[0m -0.089     \u001b[37m│\u001b[0m 1.172 \u001b[37m│\u001b[0m\n",
       "\u001b[37m│\u001b[0m\u001b[1;31m \u001b[0m\u001b[1;31mO8qt     \u001b[0m\u001b[1;31m \u001b[0m\u001b[37m│\u001b[0m -0.489     \u001b[37m│\u001b[0m 1.996 \u001b[37m│\u001b[0m\n",
       "\u001b[37m└───────────┴────────────┴───────┘\u001b[0m\n"
      ]
     },
     "metadata": {},
     "output_type": "display_data"
    },
    {
     "data": {
      "text/html": [
       "<pre style=\"white-space:pre;overflow-x:auto;line-height:normal;font-family:Menlo,'DejaVu Sans Mono',consolas,'Courier New',monospace\"><span style=\"color: #7fbfbf; text-decoration-color: #7fbfbf\">           </span><span style=\"color: #000080; text-decoration-color: #000080\">INFO    </span> Sampling solutions <span style=\"color: #808000; text-decoration-color: #808000\">...</span>                                                          <a href=\"file:///Users/jaco/Documents/smefit_release/src/smefit/optimize/analytic.py\" target=\"_blank\"><span style=\"color: #7f7f7f; text-decoration-color: #7f7f7f\">analytic.py</span></a><span style=\"color: #7f7f7f; text-decoration-color: #7f7f7f\">:</span><a href=\"file:///Users/jaco/Documents/smefit_release/src/smefit/optimize/analytic.py#155\" target=\"_blank\"><span style=\"color: #7f7f7f; text-decoration-color: #7f7f7f\">155</span></a>\n",
       "</pre>\n"
      ],
      "text/plain": [
       "\u001b[2;36m          \u001b[0m\u001b[2;36m \u001b[0m\u001b[34mINFO    \u001b[0m Sampling solutions \u001b[33m...\u001b[0m                                                          \u001b]8;id=40762;file:///Users/jaco/Documents/smefit_release/src/smefit/optimize/analytic.py\u001b\\\u001b[2manalytic.py\u001b[0m\u001b]8;;\u001b\\\u001b[2m:\u001b[0m\u001b]8;id=845472;file:///Users/jaco/Documents/smefit_release/src/smefit/optimize/analytic.py#155\u001b\\\u001b[2m155\u001b[0m\u001b]8;;\u001b\\\n"
      ]
     },
     "metadata": {},
     "output_type": "display_data"
    }
   ],
   "source": [
    "runner_tt_ac = smefit.runner.Runner.from_file(pathlib.Path(\"./downloads/runcards/runcard_ac.yaml\"))\n",
    "runner_tt_ac.global_analysis(\"A\")"
   ]
  },
  {
   "cell_type": "markdown",
   "id": "a7b107b4",
   "metadata": {},
   "source": [
    "The fit should have finished, and the 95% exclusion contour can now be displayed by"
   ]
  },
  {
   "cell_type": "code",
   "execution_count": 7,
   "id": "bcd3c7d3",
   "metadata": {},
   "outputs": [],
   "source": [
    "def make_report(runcard_report):\n",
    "\n",
    "    mpl.rcParams.update(mpl.rcParamsDefault)\n",
    "\n",
    "    with open(runcard_report, encoding=\"utf-8\") as f:\n",
    "        report_config = yaml.safe_load(f)\n",
    "    \n",
    "    report_name = report_config[\"name\"]\n",
    "    report_path = pathlib.Path(report_config[\"report_path\"]).absolute()\n",
    "    report_folder = report_path.joinpath(f\"{report_name}\")\n",
    "\n",
    "    report_folder.mkdir(exist_ok=True, parents=True)\n",
    "\n",
    "    report = Report(report_path, report_config[\"result_path\"], report_config)\n",
    "    \n",
    "    report.coefficients(**report_config[\"coefficients_plots\"])"
   ]
  },
  {
   "cell_type": "code",
   "execution_count": null,
   "id": "13222923",
   "metadata": {},
   "outputs": [],
   "source": [
    "make_report(\"./downloads/runcards/runcard_report_ttV.yaml\")"
   ]
  },
  {
   "cell_type": "code",
   "execution_count": null,
   "id": "50962b98",
   "metadata": {},
   "outputs": [],
   "source": [
    "# show the exclusion contour\n",
    "Image(filename='./reports/report_ttV/contours_2d.png') "
   ]
  },
  {
   "cell_type": "markdown",
   "id": "eaeabbf0",
   "metadata": {},
   "source": [
    "**Question 1C**\n",
    "\n",
    "- What special behaviour do you observe between the two operators?\n",
    "- What options do we have to further constrain this 2-dim parameters space? Name at least three."
   ]
  },
  {
   "cell_type": "markdown",
   "id": "af2b0fb1",
   "metadata": {},
   "source": [
    "### Exercise 2  - Adding more measurements"
   ]
  },
  {
   "cell_type": "markdown",
   "id": "976c1eff",
   "metadata": {},
   "source": [
    "The two operators from exercise 1 modify more than just $ttZ$. In this exercise we want to assess the additional impact on the SMEFT parameter space coming from top-quark pair production differential measurements. We consider bins differential in the invariant mass of the top pair. \n",
    "\n",
    "Let's proceed as before in exercise 1."
   ]
  },
  {
   "cell_type": "code",
   "execution_count": 11,
   "id": "ad80dd66",
   "metadata": {},
   "outputs": [
    {
     "name": "stdout",
     "output_type": "stream",
     "text": [
      "               \u001b[35m┌────────────────────────────────────────────────┐\u001b[0m               \n",
      "               \u001b[35m│\u001b[0m\u001b[35m                                                \u001b[0m\u001b[35m│\u001b[0m               \n",
      "               \u001b[35m│\u001b[0m\u001b[35m \u001b[0m\u001b[35m     ____  __  __ _____ _____ _ _____\u001b[0m\u001b[35m         \u001b[0m\u001b[35m \u001b[0m\u001b[35m│\u001b[0m               \n",
      "               \u001b[35m│\u001b[0m\u001b[35m \u001b[0m\u001b[35m    / ___||  \\/  | ____|  ___(_)_   _|\u001b[0m\u001b[35m        \u001b[0m\u001b[35m \u001b[0m\u001b[35m│\u001b[0m               \n",
      "               \u001b[35m│\u001b[0m\u001b[35m \u001b[0m\u001b[35m    \\___ \\| |\\/| |  _| | |_  | | | |\u001b[0m\u001b[35m          \u001b[0m\u001b[35m \u001b[0m\u001b[35m│\u001b[0m               \n",
      "               \u001b[35m│\u001b[0m\u001b[35m \u001b[0m\u001b[35m     ___) | |  | | |___|  _| | | | |\u001b[0m\u001b[35m          \u001b[0m\u001b[35m \u001b[0m\u001b[35m│\u001b[0m               \n",
      "               \u001b[35m│\u001b[0m\u001b[35m \u001b[0m\u001b[35m    |____/|_|  |_|_____|_|   |_| |_|\u001b[0m\u001b[35m          \u001b[0m\u001b[35m \u001b[0m\u001b[35m│\u001b[0m               \n",
      "               \u001b[35m│\u001b[0m\u001b[35m \u001b[0m\u001b[35m                                              \u001b[0m\u001b[35m \u001b[0m\u001b[35m│\u001b[0m               \n",
      "               \u001b[35m│\u001b[0m\u001b[35m \u001b[0m\u001b[35mA Standard Model Effective Field Theory Fitter\u001b[0m\u001b[35m \u001b[0m\u001b[35m│\u001b[0m               \n",
      "               \u001b[35m│\u001b[0m\u001b[35m                                                \u001b[0m\u001b[35m│\u001b[0m               \n",
      "               \u001b[35m└────────────────────────────────────────────────┘\u001b[0m               \n",
      "\u001b[2;36m[15:19:07]\u001b[0m\u001b[2;36m \u001b[0m\u001b[33mWARNING \u001b[0m results/tt_mtt already found, overwriting old   \u001b]8;id=518007;file:///Users/jaco/Documents/smefit_release/src/smefit/runner.py\u001b\\\u001b[2mrunner.py\u001b[0m\u001b]8;;\u001b\\\u001b[2m:\u001b[0m\u001b]8;id=856584;file:///Users/jaco/Documents/smefit_release/src/smefit/runner.py#70\u001b\\\u001b[2m70\u001b[0m\u001b]8;;\u001b\\\n",
      "\u001b[2;36m           \u001b[0m         results                                         \u001b[2m            \u001b[0m\n",
      "\u001b[2;36m[15:19:07]\u001b[0m\u001b[2;36m \u001b[0mRunning : analytic solution.                          \u001b]8;id=867193;file:///Users/jaco/Documents/smefit_release/src/smefit/cli/__init__.py\u001b\\\u001b[2m__init__.py\u001b[0m\u001b]8;;\u001b\\\u001b[2m:\u001b[0m\u001b]8;id=681483;file:///Users/jaco/Documents/smefit_release/src/smefit/cli/__init__.py#102\u001b\\\u001b[2m102\u001b[0m\u001b]8;;\u001b\\\n",
      "\u001b[2;36m          \u001b[0m\u001b[2;36m \u001b[0m\u001b[34mINFO    \u001b[0m Loading dataset :                              \u001b]8;id=714288;file:///Users/jaco/Documents/smefit_release/src/smefit/loader.py\u001b\\\u001b[2mloader.py\u001b[0m\u001b]8;;\u001b\\\u001b[2m:\u001b[0m\u001b]8;id=772821;file:///Users/jaco/Documents/smefit_release/src/smefit/loader.py#136\u001b\\\u001b[2m136\u001b[0m\u001b]8;;\u001b\\\n",
      "\u001b[2;36m           \u001b[0m         ATLAS_tt_13TeV_ljets_2016_Mtt                  \u001b[2m             \u001b[0m\n",
      "\u001b[2;36m          \u001b[0m\u001b[2;36m \u001b[0m\u001b[34mINFO    \u001b[0m Loading dataset : ATLAS_tt_8TeV_dilep_Mtt      \u001b]8;id=790431;file:///Users/jaco/Documents/smefit_release/src/smefit/loader.py\u001b\\\u001b[2mloader.py\u001b[0m\u001b]8;;\u001b\\\u001b[2m:\u001b[0m\u001b]8;id=276706;file:///Users/jaco/Documents/smefit_release/src/smefit/loader.py#136\u001b\\\u001b[2m136\u001b[0m\u001b]8;;\u001b\\\n",
      "\u001b[2;36m          \u001b[0m\u001b[2;36m \u001b[0m\u001b[34mINFO    \u001b[0m Loading dataset : ATLAS_tt_8TeV_ljets_Mtt      \u001b]8;id=522641;file:///Users/jaco/Documents/smefit_release/src/smefit/loader.py\u001b\\\u001b[2mloader.py\u001b[0m\u001b]8;;\u001b\\\u001b[2m:\u001b[0m\u001b]8;id=504963;file:///Users/jaco/Documents/smefit_release/src/smefit/loader.py#136\u001b\\\u001b[2m136\u001b[0m\u001b]8;;\u001b\\\n",
      "\u001b[2;36m          \u001b[0m\u001b[2;36m \u001b[0m\u001b[34mINFO    \u001b[0m Loading dataset : CMS_tt_13TeV_Mtt             \u001b]8;id=280863;file:///Users/jaco/Documents/smefit_release/src/smefit/loader.py\u001b\\\u001b[2mloader.py\u001b[0m\u001b]8;;\u001b\\\u001b[2m:\u001b[0m\u001b]8;id=646250;file:///Users/jaco/Documents/smefit_release/src/smefit/loader.py#136\u001b\\\u001b[2m136\u001b[0m\u001b]8;;\u001b\\\n",
      "\u001b[2;36m          \u001b[0m\u001b[2;36m \u001b[0m\u001b[34mINFO    \u001b[0m Loading dataset : CMS_tt_13TeV_dilep_2015_Mtt  \u001b]8;id=558236;file:///Users/jaco/Documents/smefit_release/src/smefit/loader.py\u001b\\\u001b[2mloader.py\u001b[0m\u001b]8;;\u001b\\\u001b[2m:\u001b[0m\u001b]8;id=533628;file:///Users/jaco/Documents/smefit_release/src/smefit/loader.py#136\u001b\\\u001b[2m136\u001b[0m\u001b]8;;\u001b\\\n",
      "\u001b[2;36m          \u001b[0m\u001b[2;36m \u001b[0m\u001b[34mINFO    \u001b[0m Loading dataset : CMS_tt_13TeV_dilep_2016_Mtt  \u001b]8;id=18996;file:///Users/jaco/Documents/smefit_release/src/smefit/loader.py\u001b\\\u001b[2mloader.py\u001b[0m\u001b]8;;\u001b\\\u001b[2m:\u001b[0m\u001b]8;id=439267;file:///Users/jaco/Documents/smefit_release/src/smefit/loader.py#136\u001b\\\u001b[2m136\u001b[0m\u001b]8;;\u001b\\\n",
      "\u001b[2;36m          \u001b[0m\u001b[2;36m \u001b[0m\u001b[34mINFO    \u001b[0m Loading dataset : CMS_tt_13TeV_ljets_2015_Mtt  \u001b]8;id=418390;file:///Users/jaco/Documents/smefit_release/src/smefit/loader.py\u001b\\\u001b[2mloader.py\u001b[0m\u001b]8;;\u001b\\\u001b[2m:\u001b[0m\u001b]8;id=682274;file:///Users/jaco/Documents/smefit_release/src/smefit/loader.py#136\u001b\\\u001b[2m136\u001b[0m\u001b]8;;\u001b\\\n",
      "\u001b[2;36m          \u001b[0m\u001b[2;36m \u001b[0m\u001b[34mINFO    \u001b[0m Loading dataset : CMS_tt_13TeV_ljets_2016_Mtt  \u001b]8;id=971451;file:///Users/jaco/Documents/smefit_release/src/smefit/loader.py\u001b\\\u001b[2mloader.py\u001b[0m\u001b]8;;\u001b\\\u001b[2m:\u001b[0m\u001b]8;id=756457;file:///Users/jaco/Documents/smefit_release/src/smefit/loader.py#136\u001b\\\u001b[2m136\u001b[0m\u001b]8;;\u001b\\\n",
      "/Users/jaco/Documents/smefit_release/src/smefit/coefficients.py:215: FutureWarning: Setting an item of incompatible dtype is deprecated and will raise an error in a future version of pandas. Value '[1.0 0]' has dtype incompatible with float64, please explicitly cast to a compatible dtype first.\n",
      "  self._table.iloc[self.is_free, 0] = value\n",
      "\u001b[2;36m          \u001b[0m\u001b[2;36m \u001b[0m\u001b[34mINFO    \u001b[0m Computing Analytic solution \u001b[33m...\u001b[0m              \u001b]8;id=783415;file:///Users/jaco/Documents/smefit_release/src/smefit/optimize/analytic.py\u001b\\\u001b[2manalytic.py\u001b[0m\u001b]8;;\u001b\\\u001b[2m:\u001b[0m\u001b]8;id=695705;file:///Users/jaco/Documents/smefit_release/src/smefit/optimize/analytic.py#127\u001b\\\u001b[2m127\u001b[0m\u001b]8;;\u001b\\\n",
      "\u001b[37m┏━━━━━━━━━━━┳━━━━━━━━━━━━┳━━━━━━━┓\u001b[0m\n",
      "\u001b[37m┃\u001b[0m\u001b[1m \u001b[0m\u001b[1mParameter\u001b[0m\u001b[1m \u001b[0m\u001b[37m┃\u001b[0m\u001b[1m \u001b[0m\u001b[1mBest value\u001b[0m\u001b[1m \u001b[0m\u001b[37m┃\u001b[0m\u001b[1m \u001b[0m\u001b[1mError\u001b[0m\u001b[1m \u001b[0m\u001b[37m┃\u001b[0m\n",
      "\u001b[37m┡━━━━━━━━━━━╇━━━━━━━━━━━━╇━━━━━━━┩\u001b[0m\n",
      "\u001b[37m│\u001b[0m\u001b[1;31m \u001b[0m\u001b[1;31mO81qq    \u001b[0m\u001b[1;31m \u001b[0m\u001b[37m│\u001b[0m -0.689     \u001b[37m│\u001b[0m 0.403 \u001b[37m│\u001b[0m\n",
      "\u001b[37m│\u001b[0m\u001b[1;31m \u001b[0m\u001b[1;31mO8qt     \u001b[0m\u001b[1;31m \u001b[0m\u001b[37m│\u001b[0m 0.111      \u001b[37m│\u001b[0m 0.711 \u001b[37m│\u001b[0m\n",
      "\u001b[37m└───────────┴────────────┴───────┘\u001b[0m\n",
      "\u001b[2;36m          \u001b[0m\u001b[2;36m \u001b[0m\u001b[34mINFO    \u001b[0m Sampling solutions \u001b[33m...\u001b[0m                       \u001b]8;id=260036;file:///Users/jaco/Documents/smefit_release/src/smefit/optimize/analytic.py\u001b\\\u001b[2manalytic.py\u001b[0m\u001b]8;;\u001b\\\u001b[2m:\u001b[0m\u001b]8;id=991438;file:///Users/jaco/Documents/smefit_release/src/smefit/optimize/analytic.py#155\u001b\\\u001b[2m155\u001b[0m\u001b]8;;\u001b\\\n"
     ]
    }
   ],
   "source": [
    "# runner_tt_mtt = smefit.runner.Runner.from_file(pathlib.Path(\"./downloads/runcards/runcard_tt_mtt.yaml\"))\n",
    "# runner_tt_mtt.global_analysis(\"A\")\n",
    "!smefit A ./downloads/runcards/runcard_tt_mtt.yaml"
   ]
  },
  {
   "cell_type": "markdown",
   "id": "448d795e",
   "metadata": {},
   "source": [
    "The report can be produced again with"
   ]
  },
  {
   "cell_type": "code",
   "execution_count": null,
   "id": "c678d10b",
   "metadata": {},
   "outputs": [],
   "source": [
    "make_report(\"./downloads/runcards/runcard_report_tt_mtt.yaml\")"
   ]
  },
  {
   "cell_type": "code",
   "execution_count": null,
   "id": "fbda253c",
   "metadata": {},
   "outputs": [],
   "source": [
    "# show the exclusion contour\n",
    "Image(filename='./reports/report_tt_mtt/contours_2d.png') "
   ]
  },
  {
   "cell_type": "markdown",
   "id": "a5c99bd5",
   "metadata": {},
   "source": [
    "**Question 2A**\n",
    "\n",
    "- Can we exclude the SM?\n",
    "- What special behaviour do you observe between the two operators and how does this compare to exercise 1?"
   ]
  },
  {
   "cell_type": "markdown",
   "id": "db2b52f2",
   "metadata": {},
   "source": [
    "Ultimately we should perform a combined fit of $ttV$ and $t\\bar{t}\\:(m_{t\\bar{t}})$ data. Both are affected by the same four-fermion operators considered in this tutorial after all. "
   ]
  },
  {
   "cell_type": "markdown",
   "id": "756c52f3",
   "metadata": {},
   "source": [
    "**Question 2B**\n",
    "\n",
    "- Modify the runcards yourself this time to run the combined fit\n",
    "- Produce the exclusion contour\n",
    "\n",
    "Hint: you should find"
   ]
  },
  {
   "cell_type": "code",
   "execution_count": null,
   "id": "e3feb303",
   "metadata": {},
   "outputs": [],
   "source": [
    "# show the exclusion contour\n",
    "Image(filename='./reports/report_combined/contours_2d.png') "
   ]
  },
  {
   "cell_type": "code",
   "execution_count": null,
   "id": "8a978c85-813e-4982-bfc8-1b809367077e",
   "metadata": {},
   "outputs": [],
   "source": []
  },
  {
   "cell_type": "markdown",
   "id": "5f5e8af7",
   "metadata": {},
   "source": [
    "**Question 2C**\n",
    "\n",
    "- Comment on the interplay between the two classes of measurements\n",
    "- What lesson do you take from this?"
   ]
  },
  {
   "cell_type": "markdown",
   "id": "991ee6cf",
   "metadata": {},
   "source": [
    "### Exercise 3 - quadratic fits (optional)"
   ]
  },
  {
   "cell_type": "markdown",
   "id": "9127f840",
   "metadata": {},
   "source": [
    "So far all the fits have been linear in the EFT expansion. In this last exercise you will study how the previous results change under the effect of quadratic EFT corrections. For this, you should set `use_quad: True` in the fit runcard and run the fit with `\"A\"` replaced by `\"NS\"`:"
   ]
  },
  {
   "cell_type": "code",
   "execution_count": null,
   "id": "76187f93",
   "metadata": {},
   "outputs": [],
   "source": [
    "runner_tt_mtt_quad = smefit.runner.Runner.from_file(pathlib.Path(\"./downloads/runcards/runcard_tt_mtt_quad.yaml\"))\n",
    "runner_tt_mtt_quad.global_analysis(\"NS\")"
   ]
  },
  {
   "cell_type": "markdown",
   "id": "1265894d-35c9-48a5-ade2-5c528768bc43",
   "metadata": {},
   "source": [
    "### Global fits"
   ]
  },
  {
   "cell_type": "markdown",
   "id": "ca821b8d-37f0-4c4d-8898-8bbf966696ee",
   "metadata": {},
   "source": [
    "### Projections"
   ]
  },
  {
   "cell_type": "code",
   "execution_count": 12,
   "id": "7fc18187-1fb3-465e-9411-bde97cd7ee68",
   "metadata": {},
   "outputs": [
    {
     "data": {
      "text/html": [
       "<pre style=\"white-space:pre;overflow-x:auto;line-height:normal;font-family:Menlo,'DejaVu Sans Mono',consolas,'Courier New',monospace\"><span style=\"color: #7fbfbf; text-decoration-color: #7fbfbf\">[15:20:02] </span><span style=\"color: #000080; text-decoration-color: #000080\">INFO    </span> Loading dataset : ATLAS_CMS_tt_AC_8TeV                                            <a href=\"file:///Users/jaco/Documents/smefit_release/src/smefit/loader.py\" target=\"_blank\"><span style=\"color: #7f7f7f; text-decoration-color: #7f7f7f\">loader.py</span></a><span style=\"color: #7f7f7f; text-decoration-color: #7f7f7f\">:</span><a href=\"file:///Users/jaco/Documents/smefit_release/src/smefit/loader.py#136\" target=\"_blank\"><span style=\"color: #7f7f7f; text-decoration-color: #7f7f7f\">136</span></a>\n",
       "</pre>\n"
      ],
      "text/plain": [
       "\u001b[2;36m[15:20:02]\u001b[0m\u001b[2;36m \u001b[0m\u001b[34mINFO    \u001b[0m Loading dataset : ATLAS_CMS_tt_AC_8TeV                                            \u001b]8;id=555692;file:///Users/jaco/Documents/smefit_release/src/smefit/loader.py\u001b\\\u001b[2mloader.py\u001b[0m\u001b]8;;\u001b\\\u001b[2m:\u001b[0m\u001b]8;id=528977;file:///Users/jaco/Documents/smefit_release/src/smefit/loader.py#136\u001b\\\u001b[2m136\u001b[0m\u001b]8;;\u001b\\\n"
      ]
     },
     "metadata": {},
     "output_type": "display_data"
    },
    {
     "data": {
      "text/html": [
       "<pre style=\"white-space:pre;overflow-x:auto;line-height:normal;font-family:Menlo,'DejaVu Sans Mono',consolas,'Courier New',monospace\"><span style=\"color: #7fbfbf; text-decoration-color: #7fbfbf\">           </span><span style=\"color: #000080; text-decoration-color: #000080\">INFO    </span> Loading dataset : ATLAS_tt_13TeV_asy_2022                                         <a href=\"file:///Users/jaco/Documents/smefit_release/src/smefit/loader.py\" target=\"_blank\"><span style=\"color: #7f7f7f; text-decoration-color: #7f7f7f\">loader.py</span></a><span style=\"color: #7f7f7f; text-decoration-color: #7f7f7f\">:</span><a href=\"file:///Users/jaco/Documents/smefit_release/src/smefit/loader.py#136\" target=\"_blank\"><span style=\"color: #7f7f7f; text-decoration-color: #7f7f7f\">136</span></a>\n",
       "</pre>\n"
      ],
      "text/plain": [
       "\u001b[2;36m          \u001b[0m\u001b[2;36m \u001b[0m\u001b[34mINFO    \u001b[0m Loading dataset : ATLAS_tt_13TeV_asy_2022                                         \u001b]8;id=321273;file:///Users/jaco/Documents/smefit_release/src/smefit/loader.py\u001b\\\u001b[2mloader.py\u001b[0m\u001b]8;;\u001b\\\u001b[2m:\u001b[0m\u001b]8;id=652314;file:///Users/jaco/Documents/smefit_release/src/smefit/loader.py#136\u001b\\\u001b[2m136\u001b[0m\u001b]8;;\u001b\\\n"
      ]
     },
     "metadata": {},
     "output_type": "display_data"
    },
    {
     "data": {
      "text/html": [
       "<pre style=\"white-space:pre;overflow-x:auto;line-height:normal;font-family:Menlo,'DejaVu Sans Mono',consolas,'Courier New',monospace\"><span style=\"color: #7fbfbf; text-decoration-color: #7fbfbf\">           </span><span style=\"color: #000080; text-decoration-color: #000080\">INFO    </span> Loading dataset : CMS_tt_13TeV_asy                                                <a href=\"file:///Users/jaco/Documents/smefit_release/src/smefit/loader.py\" target=\"_blank\"><span style=\"color: #7f7f7f; text-decoration-color: #7f7f7f\">loader.py</span></a><span style=\"color: #7f7f7f; text-decoration-color: #7f7f7f\">:</span><a href=\"file:///Users/jaco/Documents/smefit_release/src/smefit/loader.py#136\" target=\"_blank\"><span style=\"color: #7f7f7f; text-decoration-color: #7f7f7f\">136</span></a>\n",
       "</pre>\n"
      ],
      "text/plain": [
       "\u001b[2;36m          \u001b[0m\u001b[2;36m \u001b[0m\u001b[34mINFO    \u001b[0m Loading dataset : CMS_tt_13TeV_asy                                                \u001b]8;id=273579;file:///Users/jaco/Documents/smefit_release/src/smefit/loader.py\u001b\\\u001b[2mloader.py\u001b[0m\u001b]8;;\u001b\\\u001b[2m:\u001b[0m\u001b]8;id=394454;file:///Users/jaco/Documents/smefit_release/src/smefit/loader.py#136\u001b\\\u001b[2m136\u001b[0m\u001b]8;;\u001b\\\n"
      ]
     },
     "metadata": {},
     "output_type": "display_data"
    },
    {
     "data": {
      "text/html": [
       "<pre style=\"white-space:pre;overflow-x:auto;line-height:normal;font-family:Menlo,'DejaVu Sans Mono',consolas,'Courier New',monospace\"><span style=\"color: #7fbfbf; text-decoration-color: #7fbfbf\">           </span><span style=\"color: #000080; text-decoration-color: #000080\">INFO    </span> Loading dataset : ATLAS_tt_13TeV_ljets_2016_Mtt                                   <a href=\"file:///Users/jaco/Documents/smefit_release/src/smefit/loader.py\" target=\"_blank\"><span style=\"color: #7f7f7f; text-decoration-color: #7f7f7f\">loader.py</span></a><span style=\"color: #7f7f7f; text-decoration-color: #7f7f7f\">:</span><a href=\"file:///Users/jaco/Documents/smefit_release/src/smefit/loader.py#136\" target=\"_blank\"><span style=\"color: #7f7f7f; text-decoration-color: #7f7f7f\">136</span></a>\n",
       "</pre>\n"
      ],
      "text/plain": [
       "\u001b[2;36m          \u001b[0m\u001b[2;36m \u001b[0m\u001b[34mINFO    \u001b[0m Loading dataset : ATLAS_tt_13TeV_ljets_2016_Mtt                                   \u001b]8;id=159030;file:///Users/jaco/Documents/smefit_release/src/smefit/loader.py\u001b\\\u001b[2mloader.py\u001b[0m\u001b]8;;\u001b\\\u001b[2m:\u001b[0m\u001b]8;id=234641;file:///Users/jaco/Documents/smefit_release/src/smefit/loader.py#136\u001b\\\u001b[2m136\u001b[0m\u001b]8;;\u001b\\\n"
      ]
     },
     "metadata": {},
     "output_type": "display_data"
    },
    {
     "data": {
      "text/html": [
       "<pre style=\"white-space:pre;overflow-x:auto;line-height:normal;font-family:Menlo,'DejaVu Sans Mono',consolas,'Courier New',monospace\"><span style=\"color: #7fbfbf; text-decoration-color: #7fbfbf\">           </span><span style=\"color: #000080; text-decoration-color: #000080\">INFO    </span> Loading dataset : ATLAS_tt_8TeV_dilep_Mtt                                         <a href=\"file:///Users/jaco/Documents/smefit_release/src/smefit/loader.py\" target=\"_blank\"><span style=\"color: #7f7f7f; text-decoration-color: #7f7f7f\">loader.py</span></a><span style=\"color: #7f7f7f; text-decoration-color: #7f7f7f\">:</span><a href=\"file:///Users/jaco/Documents/smefit_release/src/smefit/loader.py#136\" target=\"_blank\"><span style=\"color: #7f7f7f; text-decoration-color: #7f7f7f\">136</span></a>\n",
       "</pre>\n"
      ],
      "text/plain": [
       "\u001b[2;36m          \u001b[0m\u001b[2;36m \u001b[0m\u001b[34mINFO    \u001b[0m Loading dataset : ATLAS_tt_8TeV_dilep_Mtt                                         \u001b]8;id=788326;file:///Users/jaco/Documents/smefit_release/src/smefit/loader.py\u001b\\\u001b[2mloader.py\u001b[0m\u001b]8;;\u001b\\\u001b[2m:\u001b[0m\u001b]8;id=94733;file:///Users/jaco/Documents/smefit_release/src/smefit/loader.py#136\u001b\\\u001b[2m136\u001b[0m\u001b]8;;\u001b\\\n"
      ]
     },
     "metadata": {},
     "output_type": "display_data"
    },
    {
     "data": {
      "text/html": [
       "<pre style=\"white-space:pre;overflow-x:auto;line-height:normal;font-family:Menlo,'DejaVu Sans Mono',consolas,'Courier New',monospace\"><span style=\"color: #7fbfbf; text-decoration-color: #7fbfbf\">           </span><span style=\"color: #000080; text-decoration-color: #000080\">INFO    </span> Loading dataset : ATLAS_tt_8TeV_ljets_Mtt                                         <a href=\"file:///Users/jaco/Documents/smefit_release/src/smefit/loader.py\" target=\"_blank\"><span style=\"color: #7f7f7f; text-decoration-color: #7f7f7f\">loader.py</span></a><span style=\"color: #7f7f7f; text-decoration-color: #7f7f7f\">:</span><a href=\"file:///Users/jaco/Documents/smefit_release/src/smefit/loader.py#136\" target=\"_blank\"><span style=\"color: #7f7f7f; text-decoration-color: #7f7f7f\">136</span></a>\n",
       "</pre>\n"
      ],
      "text/plain": [
       "\u001b[2;36m          \u001b[0m\u001b[2;36m \u001b[0m\u001b[34mINFO    \u001b[0m Loading dataset : ATLAS_tt_8TeV_ljets_Mtt                                         \u001b]8;id=25332;file:///Users/jaco/Documents/smefit_release/src/smefit/loader.py\u001b\\\u001b[2mloader.py\u001b[0m\u001b]8;;\u001b\\\u001b[2m:\u001b[0m\u001b]8;id=541895;file:///Users/jaco/Documents/smefit_release/src/smefit/loader.py#136\u001b\\\u001b[2m136\u001b[0m\u001b]8;;\u001b\\\n"
      ]
     },
     "metadata": {},
     "output_type": "display_data"
    },
    {
     "data": {
      "text/html": [
       "<pre style=\"white-space:pre;overflow-x:auto;line-height:normal;font-family:Menlo,'DejaVu Sans Mono',consolas,'Courier New',monospace\"><span style=\"color: #7fbfbf; text-decoration-color: #7fbfbf\">           </span><span style=\"color: #000080; text-decoration-color: #000080\">INFO    </span> Loading dataset : CMS_tt_13TeV_Mtt                                                <a href=\"file:///Users/jaco/Documents/smefit_release/src/smefit/loader.py\" target=\"_blank\"><span style=\"color: #7f7f7f; text-decoration-color: #7f7f7f\">loader.py</span></a><span style=\"color: #7f7f7f; text-decoration-color: #7f7f7f\">:</span><a href=\"file:///Users/jaco/Documents/smefit_release/src/smefit/loader.py#136\" target=\"_blank\"><span style=\"color: #7f7f7f; text-decoration-color: #7f7f7f\">136</span></a>\n",
       "</pre>\n"
      ],
      "text/plain": [
       "\u001b[2;36m          \u001b[0m\u001b[2;36m \u001b[0m\u001b[34mINFO    \u001b[0m Loading dataset : CMS_tt_13TeV_Mtt                                                \u001b]8;id=110562;file:///Users/jaco/Documents/smefit_release/src/smefit/loader.py\u001b\\\u001b[2mloader.py\u001b[0m\u001b]8;;\u001b\\\u001b[2m:\u001b[0m\u001b]8;id=2147;file:///Users/jaco/Documents/smefit_release/src/smefit/loader.py#136\u001b\\\u001b[2m136\u001b[0m\u001b]8;;\u001b\\\n"
      ]
     },
     "metadata": {},
     "output_type": "display_data"
    },
    {
     "data": {
      "text/html": [
       "<pre style=\"white-space:pre;overflow-x:auto;line-height:normal;font-family:Menlo,'DejaVu Sans Mono',consolas,'Courier New',monospace\"><span style=\"color: #7fbfbf; text-decoration-color: #7fbfbf\">           </span><span style=\"color: #000080; text-decoration-color: #000080\">INFO    </span> Loading dataset : CMS_tt_13TeV_dilep_2015_Mtt                                     <a href=\"file:///Users/jaco/Documents/smefit_release/src/smefit/loader.py\" target=\"_blank\"><span style=\"color: #7f7f7f; text-decoration-color: #7f7f7f\">loader.py</span></a><span style=\"color: #7f7f7f; text-decoration-color: #7f7f7f\">:</span><a href=\"file:///Users/jaco/Documents/smefit_release/src/smefit/loader.py#136\" target=\"_blank\"><span style=\"color: #7f7f7f; text-decoration-color: #7f7f7f\">136</span></a>\n",
       "</pre>\n"
      ],
      "text/plain": [
       "\u001b[2;36m          \u001b[0m\u001b[2;36m \u001b[0m\u001b[34mINFO    \u001b[0m Loading dataset : CMS_tt_13TeV_dilep_2015_Mtt                                     \u001b]8;id=982073;file:///Users/jaco/Documents/smefit_release/src/smefit/loader.py\u001b\\\u001b[2mloader.py\u001b[0m\u001b]8;;\u001b\\\u001b[2m:\u001b[0m\u001b]8;id=423054;file:///Users/jaco/Documents/smefit_release/src/smefit/loader.py#136\u001b\\\u001b[2m136\u001b[0m\u001b]8;;\u001b\\\n"
      ]
     },
     "metadata": {},
     "output_type": "display_data"
    },
    {
     "data": {
      "text/html": [
       "<pre style=\"white-space:pre;overflow-x:auto;line-height:normal;font-family:Menlo,'DejaVu Sans Mono',consolas,'Courier New',monospace\"><span style=\"color: #7fbfbf; text-decoration-color: #7fbfbf\">           </span><span style=\"color: #000080; text-decoration-color: #000080\">INFO    </span> Loading dataset : CMS_tt_13TeV_dilep_2016_Mtt                                     <a href=\"file:///Users/jaco/Documents/smefit_release/src/smefit/loader.py\" target=\"_blank\"><span style=\"color: #7f7f7f; text-decoration-color: #7f7f7f\">loader.py</span></a><span style=\"color: #7f7f7f; text-decoration-color: #7f7f7f\">:</span><a href=\"file:///Users/jaco/Documents/smefit_release/src/smefit/loader.py#136\" target=\"_blank\"><span style=\"color: #7f7f7f; text-decoration-color: #7f7f7f\">136</span></a>\n",
       "</pre>\n"
      ],
      "text/plain": [
       "\u001b[2;36m          \u001b[0m\u001b[2;36m \u001b[0m\u001b[34mINFO    \u001b[0m Loading dataset : CMS_tt_13TeV_dilep_2016_Mtt                                     \u001b]8;id=537333;file:///Users/jaco/Documents/smefit_release/src/smefit/loader.py\u001b\\\u001b[2mloader.py\u001b[0m\u001b]8;;\u001b\\\u001b[2m:\u001b[0m\u001b]8;id=83693;file:///Users/jaco/Documents/smefit_release/src/smefit/loader.py#136\u001b\\\u001b[2m136\u001b[0m\u001b]8;;\u001b\\\n"
      ]
     },
     "metadata": {},
     "output_type": "display_data"
    },
    {
     "data": {
      "text/html": [
       "<pre style=\"white-space:pre;overflow-x:auto;line-height:normal;font-family:Menlo,'DejaVu Sans Mono',consolas,'Courier New',monospace\"><span style=\"color: #7fbfbf; text-decoration-color: #7fbfbf\">           </span><span style=\"color: #000080; text-decoration-color: #000080\">INFO    </span> Loading dataset : CMS_tt_13TeV_ljets_2015_Mtt                                     <a href=\"file:///Users/jaco/Documents/smefit_release/src/smefit/loader.py\" target=\"_blank\"><span style=\"color: #7f7f7f; text-decoration-color: #7f7f7f\">loader.py</span></a><span style=\"color: #7f7f7f; text-decoration-color: #7f7f7f\">:</span><a href=\"file:///Users/jaco/Documents/smefit_release/src/smefit/loader.py#136\" target=\"_blank\"><span style=\"color: #7f7f7f; text-decoration-color: #7f7f7f\">136</span></a>\n",
       "</pre>\n"
      ],
      "text/plain": [
       "\u001b[2;36m          \u001b[0m\u001b[2;36m \u001b[0m\u001b[34mINFO    \u001b[0m Loading dataset : CMS_tt_13TeV_ljets_2015_Mtt                                     \u001b]8;id=701182;file:///Users/jaco/Documents/smefit_release/src/smefit/loader.py\u001b\\\u001b[2mloader.py\u001b[0m\u001b]8;;\u001b\\\u001b[2m:\u001b[0m\u001b]8;id=712245;file:///Users/jaco/Documents/smefit_release/src/smefit/loader.py#136\u001b\\\u001b[2m136\u001b[0m\u001b]8;;\u001b\\\n"
      ]
     },
     "metadata": {},
     "output_type": "display_data"
    },
    {
     "data": {
      "text/html": [
       "<pre style=\"white-space:pre;overflow-x:auto;line-height:normal;font-family:Menlo,'DejaVu Sans Mono',consolas,'Courier New',monospace\"><span style=\"color: #7fbfbf; text-decoration-color: #7fbfbf\">           </span><span style=\"color: #000080; text-decoration-color: #000080\">INFO    </span> Loading dataset : CMS_tt_13TeV_ljets_2016_Mtt                                     <a href=\"file:///Users/jaco/Documents/smefit_release/src/smefit/loader.py\" target=\"_blank\"><span style=\"color: #7f7f7f; text-decoration-color: #7f7f7f\">loader.py</span></a><span style=\"color: #7f7f7f; text-decoration-color: #7f7f7f\">:</span><a href=\"file:///Users/jaco/Documents/smefit_release/src/smefit/loader.py#136\" target=\"_blank\"><span style=\"color: #7f7f7f; text-decoration-color: #7f7f7f\">136</span></a>\n",
       "</pre>\n"
      ],
      "text/plain": [
       "\u001b[2;36m          \u001b[0m\u001b[2;36m \u001b[0m\u001b[34mINFO    \u001b[0m Loading dataset : CMS_tt_13TeV_ljets_2016_Mtt                                     \u001b]8;id=661545;file:///Users/jaco/Documents/smefit_release/src/smefit/loader.py\u001b\\\u001b[2mloader.py\u001b[0m\u001b]8;;\u001b\\\u001b[2m:\u001b[0m\u001b]8;id=744060;file:///Users/jaco/Documents/smefit_release/src/smefit/loader.py#136\u001b\\\u001b[2m136\u001b[0m\u001b]8;;\u001b\\\n"
      ]
     },
     "metadata": {},
     "output_type": "display_data"
    },
    {
     "data": {
      "text/html": [
       "<pre style=\"white-space:pre;overflow-x:auto;line-height:normal;font-family:Menlo,'DejaVu Sans Mono',consolas,'Courier New',monospace\"><span style=\"color: #7fbfbf; text-decoration-color: #7fbfbf\">           </span><span style=\"color: #000080; text-decoration-color: #000080\">INFO    </span> Loading dataset : ATLAS_ttW_13TeV                                                 <a href=\"file:///Users/jaco/Documents/smefit_release/src/smefit/loader.py\" target=\"_blank\"><span style=\"color: #7f7f7f; text-decoration-color: #7f7f7f\">loader.py</span></a><span style=\"color: #7f7f7f; text-decoration-color: #7f7f7f\">:</span><a href=\"file:///Users/jaco/Documents/smefit_release/src/smefit/loader.py#136\" target=\"_blank\"><span style=\"color: #7f7f7f; text-decoration-color: #7f7f7f\">136</span></a>\n",
       "</pre>\n"
      ],
      "text/plain": [
       "\u001b[2;36m          \u001b[0m\u001b[2;36m \u001b[0m\u001b[34mINFO    \u001b[0m Loading dataset : ATLAS_ttW_13TeV                                                 \u001b]8;id=35850;file:///Users/jaco/Documents/smefit_release/src/smefit/loader.py\u001b\\\u001b[2mloader.py\u001b[0m\u001b]8;;\u001b\\\u001b[2m:\u001b[0m\u001b]8;id=925705;file:///Users/jaco/Documents/smefit_release/src/smefit/loader.py#136\u001b\\\u001b[2m136\u001b[0m\u001b]8;;\u001b\\\n"
      ]
     },
     "metadata": {},
     "output_type": "display_data"
    },
    {
     "data": {
      "text/html": [
       "<pre style=\"white-space:pre;overflow-x:auto;line-height:normal;font-family:Menlo,'DejaVu Sans Mono',consolas,'Courier New',monospace\"><span style=\"color: #7fbfbf; text-decoration-color: #7fbfbf\">           </span><span style=\"color: #000080; text-decoration-color: #000080\">INFO    </span> Loading dataset : ATLAS_ttW_13TeV_2016                                            <a href=\"file:///Users/jaco/Documents/smefit_release/src/smefit/loader.py\" target=\"_blank\"><span style=\"color: #7f7f7f; text-decoration-color: #7f7f7f\">loader.py</span></a><span style=\"color: #7f7f7f; text-decoration-color: #7f7f7f\">:</span><a href=\"file:///Users/jaco/Documents/smefit_release/src/smefit/loader.py#136\" target=\"_blank\"><span style=\"color: #7f7f7f; text-decoration-color: #7f7f7f\">136</span></a>\n",
       "</pre>\n"
      ],
      "text/plain": [
       "\u001b[2;36m          \u001b[0m\u001b[2;36m \u001b[0m\u001b[34mINFO    \u001b[0m Loading dataset : ATLAS_ttW_13TeV_2016                                            \u001b]8;id=427639;file:///Users/jaco/Documents/smefit_release/src/smefit/loader.py\u001b\\\u001b[2mloader.py\u001b[0m\u001b]8;;\u001b\\\u001b[2m:\u001b[0m\u001b]8;id=961248;file:///Users/jaco/Documents/smefit_release/src/smefit/loader.py#136\u001b\\\u001b[2m136\u001b[0m\u001b]8;;\u001b\\\n"
      ]
     },
     "metadata": {},
     "output_type": "display_data"
    },
    {
     "data": {
      "text/html": [
       "<pre style=\"white-space:pre;overflow-x:auto;line-height:normal;font-family:Menlo,'DejaVu Sans Mono',consolas,'Courier New',monospace\"><span style=\"color: #7fbfbf; text-decoration-color: #7fbfbf\">           </span><span style=\"color: #000080; text-decoration-color: #000080\">INFO    </span> Loading dataset : ATLAS_ttW_8TeV                                                  <a href=\"file:///Users/jaco/Documents/smefit_release/src/smefit/loader.py\" target=\"_blank\"><span style=\"color: #7f7f7f; text-decoration-color: #7f7f7f\">loader.py</span></a><span style=\"color: #7f7f7f; text-decoration-color: #7f7f7f\">:</span><a href=\"file:///Users/jaco/Documents/smefit_release/src/smefit/loader.py#136\" target=\"_blank\"><span style=\"color: #7f7f7f; text-decoration-color: #7f7f7f\">136</span></a>\n",
       "</pre>\n"
      ],
      "text/plain": [
       "\u001b[2;36m          \u001b[0m\u001b[2;36m \u001b[0m\u001b[34mINFO    \u001b[0m Loading dataset : ATLAS_ttW_8TeV                                                  \u001b]8;id=762534;file:///Users/jaco/Documents/smefit_release/src/smefit/loader.py\u001b\\\u001b[2mloader.py\u001b[0m\u001b]8;;\u001b\\\u001b[2m:\u001b[0m\u001b]8;id=209105;file:///Users/jaco/Documents/smefit_release/src/smefit/loader.py#136\u001b\\\u001b[2m136\u001b[0m\u001b]8;;\u001b\\\n"
      ]
     },
     "metadata": {},
     "output_type": "display_data"
    },
    {
     "data": {
      "text/html": [
       "<pre style=\"white-space:pre;overflow-x:auto;line-height:normal;font-family:Menlo,'DejaVu Sans Mono',consolas,'Courier New',monospace\"><span style=\"color: #7fbfbf; text-decoration-color: #7fbfbf\">           </span><span style=\"color: #000080; text-decoration-color: #000080\">INFO    </span> Loading dataset : ATLAS_ttZ_13TeV                                                 <a href=\"file:///Users/jaco/Documents/smefit_release/src/smefit/loader.py\" target=\"_blank\"><span style=\"color: #7f7f7f; text-decoration-color: #7f7f7f\">loader.py</span></a><span style=\"color: #7f7f7f; text-decoration-color: #7f7f7f\">:</span><a href=\"file:///Users/jaco/Documents/smefit_release/src/smefit/loader.py#136\" target=\"_blank\"><span style=\"color: #7f7f7f; text-decoration-color: #7f7f7f\">136</span></a>\n",
       "</pre>\n"
      ],
      "text/plain": [
       "\u001b[2;36m          \u001b[0m\u001b[2;36m \u001b[0m\u001b[34mINFO    \u001b[0m Loading dataset : ATLAS_ttZ_13TeV                                                 \u001b]8;id=58392;file:///Users/jaco/Documents/smefit_release/src/smefit/loader.py\u001b\\\u001b[2mloader.py\u001b[0m\u001b]8;;\u001b\\\u001b[2m:\u001b[0m\u001b]8;id=515336;file:///Users/jaco/Documents/smefit_release/src/smefit/loader.py#136\u001b\\\u001b[2m136\u001b[0m\u001b]8;;\u001b\\\n"
      ]
     },
     "metadata": {},
     "output_type": "display_data"
    },
    {
     "data": {
      "text/html": [
       "<pre style=\"white-space:pre;overflow-x:auto;line-height:normal;font-family:Menlo,'DejaVu Sans Mono',consolas,'Courier New',monospace\"><span style=\"color: #7fbfbf; text-decoration-color: #7fbfbf\">[15:20:03] </span><span style=\"color: #000080; text-decoration-color: #000080\">INFO    </span> Loading dataset : ATLAS_ttZ_13TeV_2016                                            <a href=\"file:///Users/jaco/Documents/smefit_release/src/smefit/loader.py\" target=\"_blank\"><span style=\"color: #7f7f7f; text-decoration-color: #7f7f7f\">loader.py</span></a><span style=\"color: #7f7f7f; text-decoration-color: #7f7f7f\">:</span><a href=\"file:///Users/jaco/Documents/smefit_release/src/smefit/loader.py#136\" target=\"_blank\"><span style=\"color: #7f7f7f; text-decoration-color: #7f7f7f\">136</span></a>\n",
       "</pre>\n"
      ],
      "text/plain": [
       "\u001b[2;36m[15:20:03]\u001b[0m\u001b[2;36m \u001b[0m\u001b[34mINFO    \u001b[0m Loading dataset : ATLAS_ttZ_13TeV_2016                                            \u001b]8;id=516500;file:///Users/jaco/Documents/smefit_release/src/smefit/loader.py\u001b\\\u001b[2mloader.py\u001b[0m\u001b]8;;\u001b\\\u001b[2m:\u001b[0m\u001b]8;id=366244;file:///Users/jaco/Documents/smefit_release/src/smefit/loader.py#136\u001b\\\u001b[2m136\u001b[0m\u001b]8;;\u001b\\\n"
      ]
     },
     "metadata": {},
     "output_type": "display_data"
    },
    {
     "data": {
      "text/html": [
       "<pre style=\"white-space:pre;overflow-x:auto;line-height:normal;font-family:Menlo,'DejaVu Sans Mono',consolas,'Courier New',monospace\"><span style=\"color: #7fbfbf; text-decoration-color: #7fbfbf\">           </span><span style=\"color: #000080; text-decoration-color: #000080\">INFO    </span> Loading dataset : ATLAS_ttZ_13TeV_pTZ                                             <a href=\"file:///Users/jaco/Documents/smefit_release/src/smefit/loader.py\" target=\"_blank\"><span style=\"color: #7f7f7f; text-decoration-color: #7f7f7f\">loader.py</span></a><span style=\"color: #7f7f7f; text-decoration-color: #7f7f7f\">:</span><a href=\"file:///Users/jaco/Documents/smefit_release/src/smefit/loader.py#136\" target=\"_blank\"><span style=\"color: #7f7f7f; text-decoration-color: #7f7f7f\">136</span></a>\n",
       "</pre>\n"
      ],
      "text/plain": [
       "\u001b[2;36m          \u001b[0m\u001b[2;36m \u001b[0m\u001b[34mINFO    \u001b[0m Loading dataset : ATLAS_ttZ_13TeV_pTZ                                             \u001b]8;id=419676;file:///Users/jaco/Documents/smefit_release/src/smefit/loader.py\u001b\\\u001b[2mloader.py\u001b[0m\u001b]8;;\u001b\\\u001b[2m:\u001b[0m\u001b]8;id=45467;file:///Users/jaco/Documents/smefit_release/src/smefit/loader.py#136\u001b\\\u001b[2m136\u001b[0m\u001b]8;;\u001b\\\n"
      ]
     },
     "metadata": {},
     "output_type": "display_data"
    },
    {
     "data": {
      "text/html": [
       "<pre style=\"white-space:pre;overflow-x:auto;line-height:normal;font-family:Menlo,'DejaVu Sans Mono',consolas,'Courier New',monospace\"><span style=\"color: #7fbfbf; text-decoration-color: #7fbfbf\">           </span><span style=\"color: #000080; text-decoration-color: #000080\">INFO    </span> Loading dataset : ATLAS_ttZ_8TeV                                                  <a href=\"file:///Users/jaco/Documents/smefit_release/src/smefit/loader.py\" target=\"_blank\"><span style=\"color: #7f7f7f; text-decoration-color: #7f7f7f\">loader.py</span></a><span style=\"color: #7f7f7f; text-decoration-color: #7f7f7f\">:</span><a href=\"file:///Users/jaco/Documents/smefit_release/src/smefit/loader.py#136\" target=\"_blank\"><span style=\"color: #7f7f7f; text-decoration-color: #7f7f7f\">136</span></a>\n",
       "</pre>\n"
      ],
      "text/plain": [
       "\u001b[2;36m          \u001b[0m\u001b[2;36m \u001b[0m\u001b[34mINFO    \u001b[0m Loading dataset : ATLAS_ttZ_8TeV                                                  \u001b]8;id=698084;file:///Users/jaco/Documents/smefit_release/src/smefit/loader.py\u001b\\\u001b[2mloader.py\u001b[0m\u001b]8;;\u001b\\\u001b[2m:\u001b[0m\u001b]8;id=628671;file:///Users/jaco/Documents/smefit_release/src/smefit/loader.py#136\u001b\\\u001b[2m136\u001b[0m\u001b]8;;\u001b\\\n"
      ]
     },
     "metadata": {},
     "output_type": "display_data"
    },
    {
     "data": {
      "text/html": [
       "<pre style=\"white-space:pre;overflow-x:auto;line-height:normal;font-family:Menlo,'DejaVu Sans Mono',consolas,'Courier New',monospace\"><span style=\"color: #7fbfbf; text-decoration-color: #7fbfbf\">           </span><span style=\"color: #000080; text-decoration-color: #000080\">INFO    </span> Loading dataset : ATLAS_tt_13TeV_ljets_2016_Mtt                                   <a href=\"file:///Users/jaco/Documents/smefit_release/src/smefit/loader.py\" target=\"_blank\"><span style=\"color: #7f7f7f; text-decoration-color: #7f7f7f\">loader.py</span></a><span style=\"color: #7f7f7f; text-decoration-color: #7f7f7f\">:</span><a href=\"file:///Users/jaco/Documents/smefit_release/src/smefit/loader.py#136\" target=\"_blank\"><span style=\"color: #7f7f7f; text-decoration-color: #7f7f7f\">136</span></a>\n",
       "</pre>\n"
      ],
      "text/plain": [
       "\u001b[2;36m          \u001b[0m\u001b[2;36m \u001b[0m\u001b[34mINFO    \u001b[0m Loading dataset : ATLAS_tt_13TeV_ljets_2016_Mtt                                   \u001b]8;id=166728;file:///Users/jaco/Documents/smefit_release/src/smefit/loader.py\u001b\\\u001b[2mloader.py\u001b[0m\u001b]8;;\u001b\\\u001b[2m:\u001b[0m\u001b]8;id=282443;file:///Users/jaco/Documents/smefit_release/src/smefit/loader.py#136\u001b\\\u001b[2m136\u001b[0m\u001b]8;;\u001b\\\n"
      ]
     },
     "metadata": {},
     "output_type": "display_data"
    },
    {
     "data": {
      "text/html": [
       "<pre style=\"white-space:pre;overflow-x:auto;line-height:normal;font-family:Menlo,'DejaVu Sans Mono',consolas,'Courier New',monospace\"><span style=\"color: #7fbfbf; text-decoration-color: #7fbfbf\">           </span><span style=\"color: #000080; text-decoration-color: #000080\">INFO    </span> Loading dataset : ATLAS_tt_8TeV_dilep_Mtt                                         <a href=\"file:///Users/jaco/Documents/smefit_release/src/smefit/loader.py\" target=\"_blank\"><span style=\"color: #7f7f7f; text-decoration-color: #7f7f7f\">loader.py</span></a><span style=\"color: #7f7f7f; text-decoration-color: #7f7f7f\">:</span><a href=\"file:///Users/jaco/Documents/smefit_release/src/smefit/loader.py#136\" target=\"_blank\"><span style=\"color: #7f7f7f; text-decoration-color: #7f7f7f\">136</span></a>\n",
       "</pre>\n"
      ],
      "text/plain": [
       "\u001b[2;36m          \u001b[0m\u001b[2;36m \u001b[0m\u001b[34mINFO    \u001b[0m Loading dataset : ATLAS_tt_8TeV_dilep_Mtt                                         \u001b]8;id=863405;file:///Users/jaco/Documents/smefit_release/src/smefit/loader.py\u001b\\\u001b[2mloader.py\u001b[0m\u001b]8;;\u001b\\\u001b[2m:\u001b[0m\u001b]8;id=247353;file:///Users/jaco/Documents/smefit_release/src/smefit/loader.py#136\u001b\\\u001b[2m136\u001b[0m\u001b]8;;\u001b\\\n"
      ]
     },
     "metadata": {},
     "output_type": "display_data"
    },
    {
     "data": {
      "text/html": [
       "<pre style=\"white-space:pre;overflow-x:auto;line-height:normal;font-family:Menlo,'DejaVu Sans Mono',consolas,'Courier New',monospace\"><span style=\"color: #7fbfbf; text-decoration-color: #7fbfbf\">           </span><span style=\"color: #000080; text-decoration-color: #000080\">INFO    </span> Loading dataset : ATLAS_tt_8TeV_ljets_Mtt                                         <a href=\"file:///Users/jaco/Documents/smefit_release/src/smefit/loader.py\" target=\"_blank\"><span style=\"color: #7f7f7f; text-decoration-color: #7f7f7f\">loader.py</span></a><span style=\"color: #7f7f7f; text-decoration-color: #7f7f7f\">:</span><a href=\"file:///Users/jaco/Documents/smefit_release/src/smefit/loader.py#136\" target=\"_blank\"><span style=\"color: #7f7f7f; text-decoration-color: #7f7f7f\">136</span></a>\n",
       "</pre>\n"
      ],
      "text/plain": [
       "\u001b[2;36m          \u001b[0m\u001b[2;36m \u001b[0m\u001b[34mINFO    \u001b[0m Loading dataset : ATLAS_tt_8TeV_ljets_Mtt                                         \u001b]8;id=944007;file:///Users/jaco/Documents/smefit_release/src/smefit/loader.py\u001b\\\u001b[2mloader.py\u001b[0m\u001b]8;;\u001b\\\u001b[2m:\u001b[0m\u001b]8;id=875979;file:///Users/jaco/Documents/smefit_release/src/smefit/loader.py#136\u001b\\\u001b[2m136\u001b[0m\u001b]8;;\u001b\\\n"
      ]
     },
     "metadata": {},
     "output_type": "display_data"
    },
    {
     "data": {
      "text/html": [
       "<pre style=\"white-space:pre;overflow-x:auto;line-height:normal;font-family:Menlo,'DejaVu Sans Mono',consolas,'Courier New',monospace\"><span style=\"color: #7fbfbf; text-decoration-color: #7fbfbf\">           </span><span style=\"color: #000080; text-decoration-color: #000080\">INFO    </span> Loading dataset : CMS_ttW_13TeV                                                   <a href=\"file:///Users/jaco/Documents/smefit_release/src/smefit/loader.py\" target=\"_blank\"><span style=\"color: #7f7f7f; text-decoration-color: #7f7f7f\">loader.py</span></a><span style=\"color: #7f7f7f; text-decoration-color: #7f7f7f\">:</span><a href=\"file:///Users/jaco/Documents/smefit_release/src/smefit/loader.py#136\" target=\"_blank\"><span style=\"color: #7f7f7f; text-decoration-color: #7f7f7f\">136</span></a>\n",
       "</pre>\n"
      ],
      "text/plain": [
       "\u001b[2;36m          \u001b[0m\u001b[2;36m \u001b[0m\u001b[34mINFO    \u001b[0m Loading dataset : CMS_ttW_13TeV                                                   \u001b]8;id=962426;file:///Users/jaco/Documents/smefit_release/src/smefit/loader.py\u001b\\\u001b[2mloader.py\u001b[0m\u001b]8;;\u001b\\\u001b[2m:\u001b[0m\u001b]8;id=265795;file:///Users/jaco/Documents/smefit_release/src/smefit/loader.py#136\u001b\\\u001b[2m136\u001b[0m\u001b]8;;\u001b\\\n"
      ]
     },
     "metadata": {},
     "output_type": "display_data"
    },
    {
     "data": {
      "text/html": [
       "<pre style=\"white-space:pre;overflow-x:auto;line-height:normal;font-family:Menlo,'DejaVu Sans Mono',consolas,'Courier New',monospace\"><span style=\"color: #7fbfbf; text-decoration-color: #7fbfbf\">           </span><span style=\"color: #000080; text-decoration-color: #000080\">INFO    </span> Loading dataset : CMS_ttW_8TeV                                                    <a href=\"file:///Users/jaco/Documents/smefit_release/src/smefit/loader.py\" target=\"_blank\"><span style=\"color: #7f7f7f; text-decoration-color: #7f7f7f\">loader.py</span></a><span style=\"color: #7f7f7f; text-decoration-color: #7f7f7f\">:</span><a href=\"file:///Users/jaco/Documents/smefit_release/src/smefit/loader.py#136\" target=\"_blank\"><span style=\"color: #7f7f7f; text-decoration-color: #7f7f7f\">136</span></a>\n",
       "</pre>\n"
      ],
      "text/plain": [
       "\u001b[2;36m          \u001b[0m\u001b[2;36m \u001b[0m\u001b[34mINFO    \u001b[0m Loading dataset : CMS_ttW_8TeV                                                    \u001b]8;id=673884;file:///Users/jaco/Documents/smefit_release/src/smefit/loader.py\u001b\\\u001b[2mloader.py\u001b[0m\u001b]8;;\u001b\\\u001b[2m:\u001b[0m\u001b]8;id=799984;file:///Users/jaco/Documents/smefit_release/src/smefit/loader.py#136\u001b\\\u001b[2m136\u001b[0m\u001b]8;;\u001b\\\n"
      ]
     },
     "metadata": {},
     "output_type": "display_data"
    },
    {
     "data": {
      "text/html": [
       "<pre style=\"white-space:pre;overflow-x:auto;line-height:normal;font-family:Menlo,'DejaVu Sans Mono',consolas,'Courier New',monospace\"><span style=\"color: #7fbfbf; text-decoration-color: #7fbfbf\">           </span><span style=\"color: #000080; text-decoration-color: #000080\">INFO    </span> Loading dataset : CMS_ttZ_13TeV                                                   <a href=\"file:///Users/jaco/Documents/smefit_release/src/smefit/loader.py\" target=\"_blank\"><span style=\"color: #7f7f7f; text-decoration-color: #7f7f7f\">loader.py</span></a><span style=\"color: #7f7f7f; text-decoration-color: #7f7f7f\">:</span><a href=\"file:///Users/jaco/Documents/smefit_release/src/smefit/loader.py#136\" target=\"_blank\"><span style=\"color: #7f7f7f; text-decoration-color: #7f7f7f\">136</span></a>\n",
       "</pre>\n"
      ],
      "text/plain": [
       "\u001b[2;36m          \u001b[0m\u001b[2;36m \u001b[0m\u001b[34mINFO    \u001b[0m Loading dataset : CMS_ttZ_13TeV                                                   \u001b]8;id=122268;file:///Users/jaco/Documents/smefit_release/src/smefit/loader.py\u001b\\\u001b[2mloader.py\u001b[0m\u001b]8;;\u001b\\\u001b[2m:\u001b[0m\u001b]8;id=218987;file:///Users/jaco/Documents/smefit_release/src/smefit/loader.py#136\u001b\\\u001b[2m136\u001b[0m\u001b]8;;\u001b\\\n"
      ]
     },
     "metadata": {},
     "output_type": "display_data"
    },
    {
     "data": {
      "text/html": [
       "<pre style=\"white-space:pre;overflow-x:auto;line-height:normal;font-family:Menlo,'DejaVu Sans Mono',consolas,'Courier New',monospace\"><span style=\"color: #7fbfbf; text-decoration-color: #7fbfbf\">           </span><span style=\"color: #000080; text-decoration-color: #000080\">INFO    </span> Loading dataset : CMS_ttZ_13TeV_pTZ                                               <a href=\"file:///Users/jaco/Documents/smefit_release/src/smefit/loader.py\" target=\"_blank\"><span style=\"color: #7f7f7f; text-decoration-color: #7f7f7f\">loader.py</span></a><span style=\"color: #7f7f7f; text-decoration-color: #7f7f7f\">:</span><a href=\"file:///Users/jaco/Documents/smefit_release/src/smefit/loader.py#136\" target=\"_blank\"><span style=\"color: #7f7f7f; text-decoration-color: #7f7f7f\">136</span></a>\n",
       "</pre>\n"
      ],
      "text/plain": [
       "\u001b[2;36m          \u001b[0m\u001b[2;36m \u001b[0m\u001b[34mINFO    \u001b[0m Loading dataset : CMS_ttZ_13TeV_pTZ                                               \u001b]8;id=691856;file:///Users/jaco/Documents/smefit_release/src/smefit/loader.py\u001b\\\u001b[2mloader.py\u001b[0m\u001b]8;;\u001b\\\u001b[2m:\u001b[0m\u001b]8;id=959185;file:///Users/jaco/Documents/smefit_release/src/smefit/loader.py#136\u001b\\\u001b[2m136\u001b[0m\u001b]8;;\u001b\\\n"
      ]
     },
     "metadata": {},
     "output_type": "display_data"
    },
    {
     "data": {
      "text/html": [
       "<pre style=\"white-space:pre;overflow-x:auto;line-height:normal;font-family:Menlo,'DejaVu Sans Mono',consolas,'Courier New',monospace\"><span style=\"color: #7fbfbf; text-decoration-color: #7fbfbf\">           </span><span style=\"color: #000080; text-decoration-color: #000080\">INFO    </span> Loading dataset : CMS_ttZ_8TeV                                                    <a href=\"file:///Users/jaco/Documents/smefit_release/src/smefit/loader.py\" target=\"_blank\"><span style=\"color: #7f7f7f; text-decoration-color: #7f7f7f\">loader.py</span></a><span style=\"color: #7f7f7f; text-decoration-color: #7f7f7f\">:</span><a href=\"file:///Users/jaco/Documents/smefit_release/src/smefit/loader.py#136\" target=\"_blank\"><span style=\"color: #7f7f7f; text-decoration-color: #7f7f7f\">136</span></a>\n",
       "</pre>\n"
      ],
      "text/plain": [
       "\u001b[2;36m          \u001b[0m\u001b[2;36m \u001b[0m\u001b[34mINFO    \u001b[0m Loading dataset : CMS_ttZ_8TeV                                                    \u001b]8;id=77422;file:///Users/jaco/Documents/smefit_release/src/smefit/loader.py\u001b\\\u001b[2mloader.py\u001b[0m\u001b]8;;\u001b\\\u001b[2m:\u001b[0m\u001b]8;id=980171;file:///Users/jaco/Documents/smefit_release/src/smefit/loader.py#136\u001b\\\u001b[2m136\u001b[0m\u001b]8;;\u001b\\\n"
      ]
     },
     "metadata": {},
     "output_type": "display_data"
    },
    {
     "data": {
      "text/html": [
       "<pre style=\"white-space:pre;overflow-x:auto;line-height:normal;font-family:Menlo,'DejaVu Sans Mono',consolas,'Courier New',monospace\"><span style=\"color: #7fbfbf; text-decoration-color: #7fbfbf\">           </span><span style=\"color: #000080; text-decoration-color: #000080\">INFO    </span> Loading dataset : CMS_tt_13TeV_Mtt                                                <a href=\"file:///Users/jaco/Documents/smefit_release/src/smefit/loader.py\" target=\"_blank\"><span style=\"color: #7f7f7f; text-decoration-color: #7f7f7f\">loader.py</span></a><span style=\"color: #7f7f7f; text-decoration-color: #7f7f7f\">:</span><a href=\"file:///Users/jaco/Documents/smefit_release/src/smefit/loader.py#136\" target=\"_blank\"><span style=\"color: #7f7f7f; text-decoration-color: #7f7f7f\">136</span></a>\n",
       "</pre>\n"
      ],
      "text/plain": [
       "\u001b[2;36m          \u001b[0m\u001b[2;36m \u001b[0m\u001b[34mINFO    \u001b[0m Loading dataset : CMS_tt_13TeV_Mtt                                                \u001b]8;id=490418;file:///Users/jaco/Documents/smefit_release/src/smefit/loader.py\u001b\\\u001b[2mloader.py\u001b[0m\u001b]8;;\u001b\\\u001b[2m:\u001b[0m\u001b]8;id=29810;file:///Users/jaco/Documents/smefit_release/src/smefit/loader.py#136\u001b\\\u001b[2m136\u001b[0m\u001b]8;;\u001b\\\n"
      ]
     },
     "metadata": {},
     "output_type": "display_data"
    },
    {
     "data": {
      "text/html": [
       "<pre style=\"white-space:pre;overflow-x:auto;line-height:normal;font-family:Menlo,'DejaVu Sans Mono',consolas,'Courier New',monospace\"><span style=\"color: #7fbfbf; text-decoration-color: #7fbfbf\">           </span><span style=\"color: #000080; text-decoration-color: #000080\">INFO    </span> Loading dataset : CMS_tt_13TeV_dilep_2015_Mtt                                     <a href=\"file:///Users/jaco/Documents/smefit_release/src/smefit/loader.py\" target=\"_blank\"><span style=\"color: #7f7f7f; text-decoration-color: #7f7f7f\">loader.py</span></a><span style=\"color: #7f7f7f; text-decoration-color: #7f7f7f\">:</span><a href=\"file:///Users/jaco/Documents/smefit_release/src/smefit/loader.py#136\" target=\"_blank\"><span style=\"color: #7f7f7f; text-decoration-color: #7f7f7f\">136</span></a>\n",
       "</pre>\n"
      ],
      "text/plain": [
       "\u001b[2;36m          \u001b[0m\u001b[2;36m \u001b[0m\u001b[34mINFO    \u001b[0m Loading dataset : CMS_tt_13TeV_dilep_2015_Mtt                                     \u001b]8;id=577353;file:///Users/jaco/Documents/smefit_release/src/smefit/loader.py\u001b\\\u001b[2mloader.py\u001b[0m\u001b]8;;\u001b\\\u001b[2m:\u001b[0m\u001b]8;id=875007;file:///Users/jaco/Documents/smefit_release/src/smefit/loader.py#136\u001b\\\u001b[2m136\u001b[0m\u001b]8;;\u001b\\\n"
      ]
     },
     "metadata": {},
     "output_type": "display_data"
    },
    {
     "data": {
      "text/html": [
       "<pre style=\"white-space:pre;overflow-x:auto;line-height:normal;font-family:Menlo,'DejaVu Sans Mono',consolas,'Courier New',monospace\"><span style=\"color: #7fbfbf; text-decoration-color: #7fbfbf\">           </span><span style=\"color: #000080; text-decoration-color: #000080\">INFO    </span> Loading dataset : CMS_tt_13TeV_dilep_2016_Mtt                                     <a href=\"file:///Users/jaco/Documents/smefit_release/src/smefit/loader.py\" target=\"_blank\"><span style=\"color: #7f7f7f; text-decoration-color: #7f7f7f\">loader.py</span></a><span style=\"color: #7f7f7f; text-decoration-color: #7f7f7f\">:</span><a href=\"file:///Users/jaco/Documents/smefit_release/src/smefit/loader.py#136\" target=\"_blank\"><span style=\"color: #7f7f7f; text-decoration-color: #7f7f7f\">136</span></a>\n",
       "</pre>\n"
      ],
      "text/plain": [
       "\u001b[2;36m          \u001b[0m\u001b[2;36m \u001b[0m\u001b[34mINFO    \u001b[0m Loading dataset : CMS_tt_13TeV_dilep_2016_Mtt                                     \u001b]8;id=419533;file:///Users/jaco/Documents/smefit_release/src/smefit/loader.py\u001b\\\u001b[2mloader.py\u001b[0m\u001b]8;;\u001b\\\u001b[2m:\u001b[0m\u001b]8;id=620374;file:///Users/jaco/Documents/smefit_release/src/smefit/loader.py#136\u001b\\\u001b[2m136\u001b[0m\u001b]8;;\u001b\\\n"
      ]
     },
     "metadata": {},
     "output_type": "display_data"
    },
    {
     "data": {
      "text/html": [
       "<pre style=\"white-space:pre;overflow-x:auto;line-height:normal;font-family:Menlo,'DejaVu Sans Mono',consolas,'Courier New',monospace\"><span style=\"color: #7fbfbf; text-decoration-color: #7fbfbf\">           </span><span style=\"color: #000080; text-decoration-color: #000080\">INFO    </span> Loading dataset : CMS_tt_13TeV_ljets_2015_Mtt                                     <a href=\"file:///Users/jaco/Documents/smefit_release/src/smefit/loader.py\" target=\"_blank\"><span style=\"color: #7f7f7f; text-decoration-color: #7f7f7f\">loader.py</span></a><span style=\"color: #7f7f7f; text-decoration-color: #7f7f7f\">:</span><a href=\"file:///Users/jaco/Documents/smefit_release/src/smefit/loader.py#136\" target=\"_blank\"><span style=\"color: #7f7f7f; text-decoration-color: #7f7f7f\">136</span></a>\n",
       "</pre>\n"
      ],
      "text/plain": [
       "\u001b[2;36m          \u001b[0m\u001b[2;36m \u001b[0m\u001b[34mINFO    \u001b[0m Loading dataset : CMS_tt_13TeV_ljets_2015_Mtt                                     \u001b]8;id=623560;file:///Users/jaco/Documents/smefit_release/src/smefit/loader.py\u001b\\\u001b[2mloader.py\u001b[0m\u001b]8;;\u001b\\\u001b[2m:\u001b[0m\u001b]8;id=243548;file:///Users/jaco/Documents/smefit_release/src/smefit/loader.py#136\u001b\\\u001b[2m136\u001b[0m\u001b]8;;\u001b\\\n"
      ]
     },
     "metadata": {},
     "output_type": "display_data"
    },
    {
     "data": {
      "text/html": [
       "<pre style=\"white-space:pre;overflow-x:auto;line-height:normal;font-family:Menlo,'DejaVu Sans Mono',consolas,'Courier New',monospace\"><span style=\"color: #7fbfbf; text-decoration-color: #7fbfbf\">           </span><span style=\"color: #000080; text-decoration-color: #000080\">INFO    </span> Loading dataset : CMS_tt_13TeV_ljets_2016_Mtt                                     <a href=\"file:///Users/jaco/Documents/smefit_release/src/smefit/loader.py\" target=\"_blank\"><span style=\"color: #7f7f7f; text-decoration-color: #7f7f7f\">loader.py</span></a><span style=\"color: #7f7f7f; text-decoration-color: #7f7f7f\">:</span><a href=\"file:///Users/jaco/Documents/smefit_release/src/smefit/loader.py#136\" target=\"_blank\"><span style=\"color: #7f7f7f; text-decoration-color: #7f7f7f\">136</span></a>\n",
       "</pre>\n"
      ],
      "text/plain": [
       "\u001b[2;36m          \u001b[0m\u001b[2;36m \u001b[0m\u001b[34mINFO    \u001b[0m Loading dataset : CMS_tt_13TeV_ljets_2016_Mtt                                     \u001b]8;id=170312;file:///Users/jaco/Documents/smefit_release/src/smefit/loader.py\u001b\\\u001b[2mloader.py\u001b[0m\u001b]8;;\u001b\\\u001b[2m:\u001b[0m\u001b]8;id=924419;file:///Users/jaco/Documents/smefit_release/src/smefit/loader.py#136\u001b\\\u001b[2m136\u001b[0m\u001b]8;;\u001b\\\n"
      ]
     },
     "metadata": {},
     "output_type": "display_data"
    },
    {
     "data": {
      "text/html": [
       "<pre style=\"white-space:pre;overflow-x:auto;line-height:normal;font-family:Menlo,'DejaVu Sans Mono',consolas,'Courier New',monospace\"><span style=\"color: #7fbfbf; text-decoration-color: #7fbfbf\">           </span><span style=\"color: #000080; text-decoration-color: #000080\">INFO    </span> Plotting : Posterior histograms                                                   <a href=\"file:///Users/jaco/Documents/smefit_release/src/smefit/analyze/report.py\" target=\"_blank\"><span style=\"color: #7f7f7f; text-decoration-color: #7f7f7f\">report.py</span></a><span style=\"color: #7f7f7f; text-decoration-color: #7f7f7f\">:</span><a href=\"file:///Users/jaco/Documents/smefit_release/src/smefit/analyze/report.py#324\" target=\"_blank\"><span style=\"color: #7f7f7f; text-decoration-color: #7f7f7f\">324</span></a>\n",
       "</pre>\n"
      ],
      "text/plain": [
       "\u001b[2;36m          \u001b[0m\u001b[2;36m \u001b[0m\u001b[34mINFO    \u001b[0m Plotting : Posterior histograms                                                   \u001b]8;id=258674;file:///Users/jaco/Documents/smefit_release/src/smefit/analyze/report.py\u001b\\\u001b[2mreport.py\u001b[0m\u001b]8;;\u001b\\\u001b[2m:\u001b[0m\u001b]8;id=864580;file:///Users/jaco/Documents/smefit_release/src/smefit/analyze/report.py#324\u001b\\\u001b[2m324\u001b[0m\u001b]8;;\u001b\\\n"
      ]
     },
     "metadata": {},
     "output_type": "display_data"
    },
    {
     "data": {
      "text/html": [
       "<pre style=\"white-space:pre;overflow-x:auto;line-height:normal;font-family:Menlo,'DejaVu Sans Mono',consolas,'Courier New',monospace\"><span style=\"color: #7fbfbf; text-decoration-color: #7fbfbf\">           </span><span style=\"color: #000080; text-decoration-color: #000080\">INFO    </span> Plotting : 2D confidence level projections                                        <a href=\"file:///Users/jaco/Documents/smefit_release/src/smefit/analyze/report.py\" target=\"_blank\"><span style=\"color: #7f7f7f; text-decoration-color: #7f7f7f\">report.py</span></a><span style=\"color: #7f7f7f; text-decoration-color: #7f7f7f\">:</span><a href=\"file:///Users/jaco/Documents/smefit_release/src/smefit/analyze/report.py#347\" target=\"_blank\"><span style=\"color: #7f7f7f; text-decoration-color: #7f7f7f\">347</span></a>\n",
       "</pre>\n"
      ],
      "text/plain": [
       "\u001b[2;36m          \u001b[0m\u001b[2;36m \u001b[0m\u001b[34mINFO    \u001b[0m Plotting : 2D confidence level projections                                        \u001b]8;id=937181;file:///Users/jaco/Documents/smefit_release/src/smefit/analyze/report.py\u001b\\\u001b[2mreport.py\u001b[0m\u001b]8;;\u001b\\\u001b[2m:\u001b[0m\u001b]8;id=770131;file:///Users/jaco/Documents/smefit_release/src/smefit/analyze/report.py#347\u001b\\\u001b[2m347\u001b[0m\u001b]8;;\u001b\\\n"
      ]
     },
     "metadata": {},
     "output_type": "display_data"
    },
    {
     "ename": "KeyError",
     "evalue": "'O83qq'",
     "output_type": "error",
     "traceback": [
      "\u001b[0;31m---------------------------------------------------------------------------\u001b[0m",
      "\u001b[0;31mKeyError\u001b[0m                                  Traceback (most recent call last)",
      "File \u001b[0;32m~/miniconda3/envs/smefit/lib/python3.12/site-packages/pandas/core/indexes/base.py:3805\u001b[0m, in \u001b[0;36mIndex.get_loc\u001b[0;34m(self, key)\u001b[0m\n\u001b[1;32m   3804\u001b[0m \u001b[38;5;28;01mtry\u001b[39;00m:\n\u001b[0;32m-> 3805\u001b[0m     \u001b[38;5;28;01mreturn\u001b[39;00m \u001b[38;5;28mself\u001b[39m\u001b[38;5;241m.\u001b[39m_engine\u001b[38;5;241m.\u001b[39mget_loc(casted_key)\n\u001b[1;32m   3806\u001b[0m \u001b[38;5;28;01mexcept\u001b[39;00m \u001b[38;5;167;01mKeyError\u001b[39;00m \u001b[38;5;28;01mas\u001b[39;00m err:\n",
      "File \u001b[0;32mindex.pyx:167\u001b[0m, in \u001b[0;36mpandas._libs.index.IndexEngine.get_loc\u001b[0;34m()\u001b[0m\n",
      "File \u001b[0;32mindex.pyx:196\u001b[0m, in \u001b[0;36mpandas._libs.index.IndexEngine.get_loc\u001b[0;34m()\u001b[0m\n",
      "File \u001b[0;32mpandas/_libs/hashtable_class_helper.pxi:7081\u001b[0m, in \u001b[0;36mpandas._libs.hashtable.PyObjectHashTable.get_item\u001b[0;34m()\u001b[0m\n",
      "File \u001b[0;32mpandas/_libs/hashtable_class_helper.pxi:7089\u001b[0m, in \u001b[0;36mpandas._libs.hashtable.PyObjectHashTable.get_item\u001b[0;34m()\u001b[0m\n",
      "\u001b[0;31mKeyError\u001b[0m: 'O83qq'",
      "\nThe above exception was the direct cause of the following exception:\n",
      "\u001b[0;31mKeyError\u001b[0m                                  Traceback (most recent call last)",
      "Cell \u001b[0;32mIn[12], line 1\u001b[0m\n\u001b[0;32m----> 1\u001b[0m make_report(\u001b[38;5;124m\"\u001b[39m\u001b[38;5;124m./downloads/runcards/runcard_report_combined.yaml\u001b[39m\u001b[38;5;124m\"\u001b[39m)\n",
      "Cell \u001b[0;32mIn[7], line 16\u001b[0m, in \u001b[0;36mmake_report\u001b[0;34m(runcard_report)\u001b[0m\n\u001b[1;32m     12\u001b[0m report_folder\u001b[38;5;241m.\u001b[39mmkdir(exist_ok\u001b[38;5;241m=\u001b[39m\u001b[38;5;28;01mTrue\u001b[39;00m, parents\u001b[38;5;241m=\u001b[39m\u001b[38;5;28;01mTrue\u001b[39;00m)\n\u001b[1;32m     14\u001b[0m report \u001b[38;5;241m=\u001b[39m Report(report_path, report_config[\u001b[38;5;124m\"\u001b[39m\u001b[38;5;124mresult_path\u001b[39m\u001b[38;5;124m\"\u001b[39m], report_config)\n\u001b[0;32m---> 16\u001b[0m report\u001b[38;5;241m.\u001b[39mcoefficients(\u001b[38;5;241m*\u001b[39m\u001b[38;5;241m*\u001b[39mreport_config[\u001b[38;5;124m\"\u001b[39m\u001b[38;5;124mcoefficients_plots\u001b[39m\u001b[38;5;124m\"\u001b[39m])\n",
      "File \u001b[0;32m~/Documents/smefit_release/src/smefit/analyze/report.py:348\u001b[0m, in \u001b[0;36mReport.coefficients\u001b[0;34m(self, scatter_plot, confidence_level_bar, pull_bar, spider_plot, posterior_histograms, contours_2d, hide_dofs, show_only, logo, table, double_solution)\u001b[0m\n\u001b[1;32m    346\u001b[0m \u001b[38;5;28;01mif\u001b[39;00m contours_2d:\n\u001b[1;32m    347\u001b[0m     _logger\u001b[38;5;241m.\u001b[39minfo(\u001b[38;5;124m\"\u001b[39m\u001b[38;5;124mPlotting : 2D confidence level projections\u001b[39m\u001b[38;5;124m\"\u001b[39m)\n\u001b[0;32m--> 348\u001b[0m     coeff_plt\u001b[38;5;241m.\u001b[39mplot_contours_2d(\n\u001b[1;32m    349\u001b[0m         [\n\u001b[1;32m    350\u001b[0m             (\n\u001b[1;32m    351\u001b[0m                 fit\u001b[38;5;241m.\u001b[39mresults[fit\u001b[38;5;241m.\u001b[39mcoefficients\u001b[38;5;241m.\u001b[39mfree_parameters\u001b[38;5;241m.\u001b[39mindex],\n\u001b[1;32m    352\u001b[0m                 fit\u001b[38;5;241m.\u001b[39mconfig[\u001b[38;5;124m\"\u001b[39m\u001b[38;5;124muse_quad\u001b[39m\u001b[38;5;124m\"\u001b[39m],\n\u001b[1;32m    353\u001b[0m             )\n\u001b[1;32m    354\u001b[0m             \u001b[38;5;28;01mfor\u001b[39;00m fit \u001b[38;5;129;01min\u001b[39;00m \u001b[38;5;28mself\u001b[39m\u001b[38;5;241m.\u001b[39mfits\n\u001b[1;32m    355\u001b[0m         ],\n\u001b[1;32m    356\u001b[0m         labels\u001b[38;5;241m=\u001b[39m[fit\u001b[38;5;241m.\u001b[39mlabel \u001b[38;5;28;01mfor\u001b[39;00m fit \u001b[38;5;129;01min\u001b[39;00m \u001b[38;5;28mself\u001b[39m\u001b[38;5;241m.\u001b[39mfits],\n\u001b[1;32m    357\u001b[0m         confidence_level\u001b[38;5;241m=\u001b[39mcontours_2d[\u001b[38;5;124m\"\u001b[39m\u001b[38;5;124mconfidence_level\u001b[39m\u001b[38;5;124m\"\u001b[39m],\n\u001b[1;32m    358\u001b[0m         dofs_show\u001b[38;5;241m=\u001b[39mcontours_2d[\u001b[38;5;124m\"\u001b[39m\u001b[38;5;124mdofs_show\u001b[39m\u001b[38;5;124m\"\u001b[39m],\n\u001b[1;32m    359\u001b[0m         double_solution\u001b[38;5;241m=\u001b[39mdouble_solution,\n\u001b[1;32m    360\u001b[0m     )\n\u001b[1;32m    361\u001b[0m     figs_list\u001b[38;5;241m.\u001b[39mappend(\u001b[38;5;124m\"\u001b[39m\u001b[38;5;124mcontours_2d\u001b[39m\u001b[38;5;124m\"\u001b[39m)\n\u001b[1;32m    363\u001b[0m \u001b[38;5;28mself\u001b[39m\u001b[38;5;241m.\u001b[39m_append_section(\u001b[38;5;124m\"\u001b[39m\u001b[38;5;124mCoefficients\u001b[39m\u001b[38;5;124m\"\u001b[39m, links\u001b[38;5;241m=\u001b[39mlinks_list, figs\u001b[38;5;241m=\u001b[39mfigs_list)\n",
      "File \u001b[0;32m~/Documents/smefit_release/src/smefit/analyze/coefficients_utils.py:821\u001b[0m, in \u001b[0;36mCoefficientsPlotter.plot_contours_2d\u001b[0;34m(self, posteriors, labels, confidence_level, dofs_show, double_solution)\u001b[0m\n\u001b[1;32m    818\u001b[0m \u001b[38;5;28;01melse\u001b[39;00m:\n\u001b[1;32m    819\u001b[0m     cl \u001b[38;5;241m=\u001b[39m confidence_level\n\u001b[0;32m--> 821\u001b[0m hndls_contours \u001b[38;5;241m=\u001b[39m plot_contours(\n\u001b[1;32m    822\u001b[0m     ax,\n\u001b[1;32m    823\u001b[0m     posterior,\n\u001b[1;32m    824\u001b[0m     coeff1\u001b[38;5;241m=\u001b[39mc1,\n\u001b[1;32m    825\u001b[0m     coeff2\u001b[38;5;241m=\u001b[39mc2,\n\u001b[1;32m    826\u001b[0m     ax_labels\u001b[38;5;241m=\u001b[39m[\n\u001b[1;32m    827\u001b[0m         \u001b[38;5;28mself\u001b[39m\u001b[38;5;241m.\u001b[39mcoeff_info[:, c1]\u001b[38;5;241m.\u001b[39mvalues[\u001b[38;5;241m0\u001b[39m],\n\u001b[1;32m    828\u001b[0m         \u001b[38;5;28mself\u001b[39m\u001b[38;5;241m.\u001b[39mcoeff_info[:, c2]\u001b[38;5;241m.\u001b[39mvalues[\u001b[38;5;241m0\u001b[39m],\n\u001b[1;32m    829\u001b[0m     ],\n\u001b[1;32m    830\u001b[0m     kde\u001b[38;5;241m=\u001b[39mkde,\n\u001b[1;32m    831\u001b[0m     clr_idx\u001b[38;5;241m=\u001b[39mclr_idx,\n\u001b[1;32m    832\u001b[0m     confidence_level\u001b[38;5;241m=\u001b[39mcl,\n\u001b[1;32m    833\u001b[0m     double_solution\u001b[38;5;241m=\u001b[39m(\n\u001b[1;32m    834\u001b[0m         \u001b[38;5;28mlist\u001b[39m(double_solution\u001b[38;5;241m.\u001b[39mvalues())[clr_idx] \u001b[38;5;28;01mif\u001b[39;00m kde \u001b[38;5;28;01melse\u001b[39;00m \u001b[38;5;28;01mNone\u001b[39;00m\n\u001b[1;32m    835\u001b[0m     ),\n\u001b[1;32m    836\u001b[0m )\n\u001b[1;32m    837\u001b[0m hndls_all\u001b[38;5;241m.\u001b[39mappend(hndls_contours)\n\u001b[1;32m    839\u001b[0m \u001b[38;5;28;01mif\u001b[39;00m row_idx \u001b[38;5;241m!=\u001b[39m \u001b[38;5;241m-\u001b[39m\u001b[38;5;241m1\u001b[39m:\n",
      "File \u001b[0;32m~/Documents/smefit_release/src/smefit/analyze/contours_2d.py:141\u001b[0m, in \u001b[0;36mplot_contours\u001b[0;34m(ax, posterior, ax_labels, coeff1, coeff2, kde, clr_idx, confidence_level, double_solution)\u001b[0m\n\u001b[1;32m    110\u001b[0m \u001b[38;5;250m\u001b[39m\u001b[38;5;124;03m\"\"\"\u001b[39;00m\n\u001b[1;32m    111\u001b[0m \n\u001b[1;32m    112\u001b[0m \u001b[38;5;124;03mParameters\u001b[39;00m\n\u001b[0;32m   (...)\u001b[0m\n\u001b[1;32m    136\u001b[0m \u001b[38;5;124;03m    List of Patch objects\u001b[39;00m\n\u001b[1;32m    137\u001b[0m \u001b[38;5;124;03m\"\"\"\u001b[39;00m\n\u001b[1;32m    139\u001b[0m colors \u001b[38;5;241m=\u001b[39m plt\u001b[38;5;241m.\u001b[39mrcParams[\u001b[38;5;124m\"\u001b[39m\u001b[38;5;124maxes.prop_cycle\u001b[39m\u001b[38;5;124m\"\u001b[39m]\u001b[38;5;241m.\u001b[39mby_key()[\u001b[38;5;124m\"\u001b[39m\u001b[38;5;124mcolor\u001b[39m\u001b[38;5;124m\"\u001b[39m]\n\u001b[0;32m--> 141\u001b[0m x_values \u001b[38;5;241m=\u001b[39m posterior[coeff2]\u001b[38;5;241m.\u001b[39mvalues\n\u001b[1;32m    142\u001b[0m y_values \u001b[38;5;241m=\u001b[39m posterior[coeff1]\u001b[38;5;241m.\u001b[39mvalues\n\u001b[1;32m    144\u001b[0m \u001b[38;5;66;03m# perform kde for quadratic EFT fit\u001b[39;00m\n",
      "File \u001b[0;32m~/miniconda3/envs/smefit/lib/python3.12/site-packages/pandas/core/frame.py:4102\u001b[0m, in \u001b[0;36mDataFrame.__getitem__\u001b[0;34m(self, key)\u001b[0m\n\u001b[1;32m   4100\u001b[0m \u001b[38;5;28;01mif\u001b[39;00m \u001b[38;5;28mself\u001b[39m\u001b[38;5;241m.\u001b[39mcolumns\u001b[38;5;241m.\u001b[39mnlevels \u001b[38;5;241m>\u001b[39m \u001b[38;5;241m1\u001b[39m:\n\u001b[1;32m   4101\u001b[0m     \u001b[38;5;28;01mreturn\u001b[39;00m \u001b[38;5;28mself\u001b[39m\u001b[38;5;241m.\u001b[39m_getitem_multilevel(key)\n\u001b[0;32m-> 4102\u001b[0m indexer \u001b[38;5;241m=\u001b[39m \u001b[38;5;28mself\u001b[39m\u001b[38;5;241m.\u001b[39mcolumns\u001b[38;5;241m.\u001b[39mget_loc(key)\n\u001b[1;32m   4103\u001b[0m \u001b[38;5;28;01mif\u001b[39;00m is_integer(indexer):\n\u001b[1;32m   4104\u001b[0m     indexer \u001b[38;5;241m=\u001b[39m [indexer]\n",
      "File \u001b[0;32m~/miniconda3/envs/smefit/lib/python3.12/site-packages/pandas/core/indexes/base.py:3812\u001b[0m, in \u001b[0;36mIndex.get_loc\u001b[0;34m(self, key)\u001b[0m\n\u001b[1;32m   3807\u001b[0m     \u001b[38;5;28;01mif\u001b[39;00m \u001b[38;5;28misinstance\u001b[39m(casted_key, \u001b[38;5;28mslice\u001b[39m) \u001b[38;5;129;01mor\u001b[39;00m (\n\u001b[1;32m   3808\u001b[0m         \u001b[38;5;28misinstance\u001b[39m(casted_key, abc\u001b[38;5;241m.\u001b[39mIterable)\n\u001b[1;32m   3809\u001b[0m         \u001b[38;5;129;01mand\u001b[39;00m \u001b[38;5;28many\u001b[39m(\u001b[38;5;28misinstance\u001b[39m(x, \u001b[38;5;28mslice\u001b[39m) \u001b[38;5;28;01mfor\u001b[39;00m x \u001b[38;5;129;01min\u001b[39;00m casted_key)\n\u001b[1;32m   3810\u001b[0m     ):\n\u001b[1;32m   3811\u001b[0m         \u001b[38;5;28;01mraise\u001b[39;00m InvalidIndexError(key)\n\u001b[0;32m-> 3812\u001b[0m     \u001b[38;5;28;01mraise\u001b[39;00m \u001b[38;5;167;01mKeyError\u001b[39;00m(key) \u001b[38;5;28;01mfrom\u001b[39;00m \u001b[38;5;21;01merr\u001b[39;00m\n\u001b[1;32m   3813\u001b[0m \u001b[38;5;28;01mexcept\u001b[39;00m \u001b[38;5;167;01mTypeError\u001b[39;00m:\n\u001b[1;32m   3814\u001b[0m     \u001b[38;5;66;03m# If we have a listlike key, _check_indexing_error will raise\u001b[39;00m\n\u001b[1;32m   3815\u001b[0m     \u001b[38;5;66;03m#  InvalidIndexError. Otherwise we fall through and re-raise\u001b[39;00m\n\u001b[1;32m   3816\u001b[0m     \u001b[38;5;66;03m#  the TypeError.\u001b[39;00m\n\u001b[1;32m   3817\u001b[0m     \u001b[38;5;28mself\u001b[39m\u001b[38;5;241m.\u001b[39m_check_indexing_error(key)\n",
      "\u001b[0;31mKeyError\u001b[0m: 'O83qq'"
     ]
    }
   ],
   "source": [
    "make_report(\"./downloads/runcards/runcard_report_combined.yaml\")"
   ]
  },
  {
   "cell_type": "code",
   "execution_count": 13,
   "id": "f8e41919-2942-4645-8b27-5bfa3b8988ed",
   "metadata": {},
   "outputs": [
    {
     "name": "stdout",
     "output_type": "stream",
     "text": [
      "\u001b[2;36m[15:20:48]\u001b[0m\u001b[2;36m \u001b[0m\u001b[34mINFO    \u001b[0m Analyzing : \u001b[1m[\u001b[0m\u001b[32m'tt_ac'\u001b[0m, \u001b[32m'tt_mtt'\u001b[0m, \u001b[32m'combined'\u001b[0m\u001b[1m]\u001b[0m   \u001b]8;id=770590;file:///Users/jaco/Documents/smefit_release/src/smefit/analyze/__init__.py\u001b\\\u001b[2m__init__.py\u001b[0m\u001b]8;;\u001b\\\u001b[2m:\u001b[0m\u001b]8;id=702950;file:///Users/jaco/Documents/smefit_release/src/smefit/analyze/__init__.py#34\u001b\\\u001b[2m34\u001b[0m\u001b]8;;\u001b\\\n",
      "\u001b[2;36m          \u001b[0m\u001b[2;36m \u001b[0m\u001b[34mINFO    \u001b[0m Loading dataset : ATLAS_CMS_tt_AC_8TeV         \u001b]8;id=646766;file:///Users/jaco/Documents/smefit_release/src/smefit/loader.py\u001b\\\u001b[2mloader.py\u001b[0m\u001b]8;;\u001b\\\u001b[2m:\u001b[0m\u001b]8;id=962990;file:///Users/jaco/Documents/smefit_release/src/smefit/loader.py#136\u001b\\\u001b[2m136\u001b[0m\u001b]8;;\u001b\\\n",
      "\u001b[2;36m          \u001b[0m\u001b[2;36m \u001b[0m\u001b[34mINFO    \u001b[0m Loading dataset : ATLAS_tt_13TeV_asy_2022      \u001b]8;id=104063;file:///Users/jaco/Documents/smefit_release/src/smefit/loader.py\u001b\\\u001b[2mloader.py\u001b[0m\u001b]8;;\u001b\\\u001b[2m:\u001b[0m\u001b]8;id=330935;file:///Users/jaco/Documents/smefit_release/src/smefit/loader.py#136\u001b\\\u001b[2m136\u001b[0m\u001b]8;;\u001b\\\n",
      "\u001b[2;36m          \u001b[0m\u001b[2;36m \u001b[0m\u001b[34mINFO    \u001b[0m Loading dataset : CMS_tt_13TeV_asy             \u001b]8;id=583180;file:///Users/jaco/Documents/smefit_release/src/smefit/loader.py\u001b\\\u001b[2mloader.py\u001b[0m\u001b]8;;\u001b\\\u001b[2m:\u001b[0m\u001b]8;id=864600;file:///Users/jaco/Documents/smefit_release/src/smefit/loader.py#136\u001b\\\u001b[2m136\u001b[0m\u001b]8;;\u001b\\\n",
      "\u001b[2;36m          \u001b[0m\u001b[2;36m \u001b[0m\u001b[34mINFO    \u001b[0m Loading dataset :                              \u001b]8;id=726979;file:///Users/jaco/Documents/smefit_release/src/smefit/loader.py\u001b\\\u001b[2mloader.py\u001b[0m\u001b]8;;\u001b\\\u001b[2m:\u001b[0m\u001b]8;id=266011;file:///Users/jaco/Documents/smefit_release/src/smefit/loader.py#136\u001b\\\u001b[2m136\u001b[0m\u001b]8;;\u001b\\\n",
      "\u001b[2;36m           \u001b[0m         ATLAS_tt_13TeV_ljets_2016_Mtt                  \u001b[2m             \u001b[0m\n",
      "\u001b[2;36m          \u001b[0m\u001b[2;36m \u001b[0m\u001b[34mINFO    \u001b[0m Loading dataset : ATLAS_tt_8TeV_dilep_Mtt      \u001b]8;id=599928;file:///Users/jaco/Documents/smefit_release/src/smefit/loader.py\u001b\\\u001b[2mloader.py\u001b[0m\u001b]8;;\u001b\\\u001b[2m:\u001b[0m\u001b]8;id=572081;file:///Users/jaco/Documents/smefit_release/src/smefit/loader.py#136\u001b\\\u001b[2m136\u001b[0m\u001b]8;;\u001b\\\n",
      "\u001b[2;36m          \u001b[0m\u001b[2;36m \u001b[0m\u001b[34mINFO    \u001b[0m Loading dataset : ATLAS_tt_8TeV_ljets_Mtt      \u001b]8;id=441592;file:///Users/jaco/Documents/smefit_release/src/smefit/loader.py\u001b\\\u001b[2mloader.py\u001b[0m\u001b]8;;\u001b\\\u001b[2m:\u001b[0m\u001b]8;id=127279;file:///Users/jaco/Documents/smefit_release/src/smefit/loader.py#136\u001b\\\u001b[2m136\u001b[0m\u001b]8;;\u001b\\\n",
      "\u001b[2;36m          \u001b[0m\u001b[2;36m \u001b[0m\u001b[34mINFO    \u001b[0m Loading dataset : CMS_tt_13TeV_Mtt             \u001b]8;id=458260;file:///Users/jaco/Documents/smefit_release/src/smefit/loader.py\u001b\\\u001b[2mloader.py\u001b[0m\u001b]8;;\u001b\\\u001b[2m:\u001b[0m\u001b]8;id=490965;file:///Users/jaco/Documents/smefit_release/src/smefit/loader.py#136\u001b\\\u001b[2m136\u001b[0m\u001b]8;;\u001b\\\n",
      "\u001b[2;36m          \u001b[0m\u001b[2;36m \u001b[0m\u001b[34mINFO    \u001b[0m Loading dataset : CMS_tt_13TeV_dilep_2015_Mtt  \u001b]8;id=582811;file:///Users/jaco/Documents/smefit_release/src/smefit/loader.py\u001b\\\u001b[2mloader.py\u001b[0m\u001b]8;;\u001b\\\u001b[2m:\u001b[0m\u001b]8;id=540789;file:///Users/jaco/Documents/smefit_release/src/smefit/loader.py#136\u001b\\\u001b[2m136\u001b[0m\u001b]8;;\u001b\\\n",
      "\u001b[2;36m          \u001b[0m\u001b[2;36m \u001b[0m\u001b[34mINFO    \u001b[0m Loading dataset : CMS_tt_13TeV_dilep_2016_Mtt  \u001b]8;id=318202;file:///Users/jaco/Documents/smefit_release/src/smefit/loader.py\u001b\\\u001b[2mloader.py\u001b[0m\u001b]8;;\u001b\\\u001b[2m:\u001b[0m\u001b]8;id=634608;file:///Users/jaco/Documents/smefit_release/src/smefit/loader.py#136\u001b\\\u001b[2m136\u001b[0m\u001b]8;;\u001b\\\n",
      "\u001b[2;36m          \u001b[0m\u001b[2;36m \u001b[0m\u001b[34mINFO    \u001b[0m Loading dataset : CMS_tt_13TeV_ljets_2015_Mtt  \u001b]8;id=341293;file:///Users/jaco/Documents/smefit_release/src/smefit/loader.py\u001b\\\u001b[2mloader.py\u001b[0m\u001b]8;;\u001b\\\u001b[2m:\u001b[0m\u001b]8;id=836515;file:///Users/jaco/Documents/smefit_release/src/smefit/loader.py#136\u001b\\\u001b[2m136\u001b[0m\u001b]8;;\u001b\\\n",
      "\u001b[2;36m          \u001b[0m\u001b[2;36m \u001b[0m\u001b[34mINFO    \u001b[0m Loading dataset : CMS_tt_13TeV_ljets_2016_Mtt  \u001b]8;id=798743;file:///Users/jaco/Documents/smefit_release/src/smefit/loader.py\u001b\\\u001b[2mloader.py\u001b[0m\u001b]8;;\u001b\\\u001b[2m:\u001b[0m\u001b]8;id=909165;file:///Users/jaco/Documents/smefit_release/src/smefit/loader.py#136\u001b\\\u001b[2m136\u001b[0m\u001b]8;;\u001b\\\n",
      "\u001b[2;36m          \u001b[0m\u001b[2;36m \u001b[0m\u001b[34mINFO    \u001b[0m Loading dataset : ATLAS_ttW_13TeV              \u001b]8;id=827375;file:///Users/jaco/Documents/smefit_release/src/smefit/loader.py\u001b\\\u001b[2mloader.py\u001b[0m\u001b]8;;\u001b\\\u001b[2m:\u001b[0m\u001b]8;id=527830;file:///Users/jaco/Documents/smefit_release/src/smefit/loader.py#136\u001b\\\u001b[2m136\u001b[0m\u001b]8;;\u001b\\\n",
      "\u001b[2;36m          \u001b[0m\u001b[2;36m \u001b[0m\u001b[34mINFO    \u001b[0m Loading dataset : ATLAS_ttW_13TeV_2016         \u001b]8;id=244678;file:///Users/jaco/Documents/smefit_release/src/smefit/loader.py\u001b\\\u001b[2mloader.py\u001b[0m\u001b]8;;\u001b\\\u001b[2m:\u001b[0m\u001b]8;id=189634;file:///Users/jaco/Documents/smefit_release/src/smefit/loader.py#136\u001b\\\u001b[2m136\u001b[0m\u001b]8;;\u001b\\\n",
      "\u001b[2;36m          \u001b[0m\u001b[2;36m \u001b[0m\u001b[34mINFO    \u001b[0m Loading dataset : ATLAS_ttW_8TeV               \u001b]8;id=492849;file:///Users/jaco/Documents/smefit_release/src/smefit/loader.py\u001b\\\u001b[2mloader.py\u001b[0m\u001b]8;;\u001b\\\u001b[2m:\u001b[0m\u001b]8;id=105900;file:///Users/jaco/Documents/smefit_release/src/smefit/loader.py#136\u001b\\\u001b[2m136\u001b[0m\u001b]8;;\u001b\\\n",
      "\u001b[2;36m          \u001b[0m\u001b[2;36m \u001b[0m\u001b[34mINFO    \u001b[0m Loading dataset : ATLAS_ttZ_13TeV              \u001b]8;id=324147;file:///Users/jaco/Documents/smefit_release/src/smefit/loader.py\u001b\\\u001b[2mloader.py\u001b[0m\u001b]8;;\u001b\\\u001b[2m:\u001b[0m\u001b]8;id=474423;file:///Users/jaco/Documents/smefit_release/src/smefit/loader.py#136\u001b\\\u001b[2m136\u001b[0m\u001b]8;;\u001b\\\n",
      "\u001b[2;36m          \u001b[0m\u001b[2;36m \u001b[0m\u001b[34mINFO    \u001b[0m Loading dataset : ATLAS_ttZ_13TeV_2016         \u001b]8;id=3528;file:///Users/jaco/Documents/smefit_release/src/smefit/loader.py\u001b\\\u001b[2mloader.py\u001b[0m\u001b]8;;\u001b\\\u001b[2m:\u001b[0m\u001b]8;id=999171;file:///Users/jaco/Documents/smefit_release/src/smefit/loader.py#136\u001b\\\u001b[2m136\u001b[0m\u001b]8;;\u001b\\\n",
      "\u001b[2;36m          \u001b[0m\u001b[2;36m \u001b[0m\u001b[34mINFO    \u001b[0m Loading dataset : ATLAS_ttZ_13TeV_pTZ          \u001b]8;id=351028;file:///Users/jaco/Documents/smefit_release/src/smefit/loader.py\u001b\\\u001b[2mloader.py\u001b[0m\u001b]8;;\u001b\\\u001b[2m:\u001b[0m\u001b]8;id=272495;file:///Users/jaco/Documents/smefit_release/src/smefit/loader.py#136\u001b\\\u001b[2m136\u001b[0m\u001b]8;;\u001b\\\n",
      "\u001b[2;36m          \u001b[0m\u001b[2;36m \u001b[0m\u001b[34mINFO    \u001b[0m Loading dataset : ATLAS_ttZ_8TeV               \u001b]8;id=775735;file:///Users/jaco/Documents/smefit_release/src/smefit/loader.py\u001b\\\u001b[2mloader.py\u001b[0m\u001b]8;;\u001b\\\u001b[2m:\u001b[0m\u001b]8;id=222880;file:///Users/jaco/Documents/smefit_release/src/smefit/loader.py#136\u001b\\\u001b[2m136\u001b[0m\u001b]8;;\u001b\\\n",
      "\u001b[2;36m          \u001b[0m\u001b[2;36m \u001b[0m\u001b[34mINFO    \u001b[0m Loading dataset :                              \u001b]8;id=642950;file:///Users/jaco/Documents/smefit_release/src/smefit/loader.py\u001b\\\u001b[2mloader.py\u001b[0m\u001b]8;;\u001b\\\u001b[2m:\u001b[0m\u001b]8;id=723352;file:///Users/jaco/Documents/smefit_release/src/smefit/loader.py#136\u001b\\\u001b[2m136\u001b[0m\u001b]8;;\u001b\\\n",
      "\u001b[2;36m           \u001b[0m         ATLAS_tt_13TeV_ljets_2016_Mtt                  \u001b[2m             \u001b[0m\n",
      "\u001b[2;36m          \u001b[0m\u001b[2;36m \u001b[0m\u001b[34mINFO    \u001b[0m Loading dataset : ATLAS_tt_8TeV_dilep_Mtt      \u001b]8;id=101289;file:///Users/jaco/Documents/smefit_release/src/smefit/loader.py\u001b\\\u001b[2mloader.py\u001b[0m\u001b]8;;\u001b\\\u001b[2m:\u001b[0m\u001b]8;id=917688;file:///Users/jaco/Documents/smefit_release/src/smefit/loader.py#136\u001b\\\u001b[2m136\u001b[0m\u001b]8;;\u001b\\\n",
      "\u001b[2;36m          \u001b[0m\u001b[2;36m \u001b[0m\u001b[34mINFO    \u001b[0m Loading dataset : ATLAS_tt_8TeV_ljets_Mtt      \u001b]8;id=220050;file:///Users/jaco/Documents/smefit_release/src/smefit/loader.py\u001b\\\u001b[2mloader.py\u001b[0m\u001b]8;;\u001b\\\u001b[2m:\u001b[0m\u001b]8;id=510999;file:///Users/jaco/Documents/smefit_release/src/smefit/loader.py#136\u001b\\\u001b[2m136\u001b[0m\u001b]8;;\u001b\\\n",
      "\u001b[2;36m          \u001b[0m\u001b[2;36m \u001b[0m\u001b[34mINFO    \u001b[0m Loading dataset : CMS_ttW_13TeV                \u001b]8;id=667793;file:///Users/jaco/Documents/smefit_release/src/smefit/loader.py\u001b\\\u001b[2mloader.py\u001b[0m\u001b]8;;\u001b\\\u001b[2m:\u001b[0m\u001b]8;id=76529;file:///Users/jaco/Documents/smefit_release/src/smefit/loader.py#136\u001b\\\u001b[2m136\u001b[0m\u001b]8;;\u001b\\\n",
      "\u001b[2;36m          \u001b[0m\u001b[2;36m \u001b[0m\u001b[34mINFO    \u001b[0m Loading dataset : CMS_ttW_8TeV                 \u001b]8;id=52941;file:///Users/jaco/Documents/smefit_release/src/smefit/loader.py\u001b\\\u001b[2mloader.py\u001b[0m\u001b]8;;\u001b\\\u001b[2m:\u001b[0m\u001b]8;id=863408;file:///Users/jaco/Documents/smefit_release/src/smefit/loader.py#136\u001b\\\u001b[2m136\u001b[0m\u001b]8;;\u001b\\\n",
      "\u001b[2;36m          \u001b[0m\u001b[2;36m \u001b[0m\u001b[34mINFO    \u001b[0m Loading dataset : CMS_ttZ_13TeV                \u001b]8;id=501192;file:///Users/jaco/Documents/smefit_release/src/smefit/loader.py\u001b\\\u001b[2mloader.py\u001b[0m\u001b]8;;\u001b\\\u001b[2m:\u001b[0m\u001b]8;id=133535;file:///Users/jaco/Documents/smefit_release/src/smefit/loader.py#136\u001b\\\u001b[2m136\u001b[0m\u001b]8;;\u001b\\\n",
      "\u001b[2;36m          \u001b[0m\u001b[2;36m \u001b[0m\u001b[34mINFO    \u001b[0m Loading dataset : CMS_ttZ_13TeV_pTZ            \u001b]8;id=165570;file:///Users/jaco/Documents/smefit_release/src/smefit/loader.py\u001b\\\u001b[2mloader.py\u001b[0m\u001b]8;;\u001b\\\u001b[2m:\u001b[0m\u001b]8;id=941918;file:///Users/jaco/Documents/smefit_release/src/smefit/loader.py#136\u001b\\\u001b[2m136\u001b[0m\u001b]8;;\u001b\\\n",
      "\u001b[2;36m          \u001b[0m\u001b[2;36m \u001b[0m\u001b[34mINFO    \u001b[0m Loading dataset : CMS_ttZ_8TeV                 \u001b]8;id=489683;file:///Users/jaco/Documents/smefit_release/src/smefit/loader.py\u001b\\\u001b[2mloader.py\u001b[0m\u001b]8;;\u001b\\\u001b[2m:\u001b[0m\u001b]8;id=201779;file:///Users/jaco/Documents/smefit_release/src/smefit/loader.py#136\u001b\\\u001b[2m136\u001b[0m\u001b]8;;\u001b\\\n",
      "\u001b[2;36m          \u001b[0m\u001b[2;36m \u001b[0m\u001b[34mINFO    \u001b[0m Loading dataset : CMS_tt_13TeV_Mtt             \u001b]8;id=526044;file:///Users/jaco/Documents/smefit_release/src/smefit/loader.py\u001b\\\u001b[2mloader.py\u001b[0m\u001b]8;;\u001b\\\u001b[2m:\u001b[0m\u001b]8;id=644041;file:///Users/jaco/Documents/smefit_release/src/smefit/loader.py#136\u001b\\\u001b[2m136\u001b[0m\u001b]8;;\u001b\\\n",
      "\u001b[2;36m          \u001b[0m\u001b[2;36m \u001b[0m\u001b[34mINFO    \u001b[0m Loading dataset : CMS_tt_13TeV_dilep_2015_Mtt  \u001b]8;id=676144;file:///Users/jaco/Documents/smefit_release/src/smefit/loader.py\u001b\\\u001b[2mloader.py\u001b[0m\u001b]8;;\u001b\\\u001b[2m:\u001b[0m\u001b]8;id=45708;file:///Users/jaco/Documents/smefit_release/src/smefit/loader.py#136\u001b\\\u001b[2m136\u001b[0m\u001b]8;;\u001b\\\n",
      "\u001b[2;36m          \u001b[0m\u001b[2;36m \u001b[0m\u001b[34mINFO    \u001b[0m Loading dataset : CMS_tt_13TeV_dilep_2016_Mtt  \u001b]8;id=661720;file:///Users/jaco/Documents/smefit_release/src/smefit/loader.py\u001b\\\u001b[2mloader.py\u001b[0m\u001b]8;;\u001b\\\u001b[2m:\u001b[0m\u001b]8;id=417714;file:///Users/jaco/Documents/smefit_release/src/smefit/loader.py#136\u001b\\\u001b[2m136\u001b[0m\u001b]8;;\u001b\\\n",
      "\u001b[2;36m          \u001b[0m\u001b[2;36m \u001b[0m\u001b[34mINFO    \u001b[0m Loading dataset : CMS_tt_13TeV_ljets_2015_Mtt  \u001b]8;id=392178;file:///Users/jaco/Documents/smefit_release/src/smefit/loader.py\u001b\\\u001b[2mloader.py\u001b[0m\u001b]8;;\u001b\\\u001b[2m:\u001b[0m\u001b]8;id=102493;file:///Users/jaco/Documents/smefit_release/src/smefit/loader.py#136\u001b\\\u001b[2m136\u001b[0m\u001b]8;;\u001b\\\n",
      "\u001b[2;36m          \u001b[0m\u001b[2;36m \u001b[0m\u001b[34mINFO    \u001b[0m Loading dataset : CMS_tt_13TeV_ljets_2016_Mtt  \u001b]8;id=378039;file:///Users/jaco/Documents/smefit_release/src/smefit/loader.py\u001b\\\u001b[2mloader.py\u001b[0m\u001b]8;;\u001b\\\u001b[2m:\u001b[0m\u001b]8;id=247872;file:///Users/jaco/Documents/smefit_release/src/smefit/loader.py#136\u001b\\\u001b[2m136\u001b[0m\u001b]8;;\u001b\\\n",
      "/bin/sh: pandoc: command not found\n",
      "/bin/sh: pandoc: command not found\n",
      "\u001b[2K\u001b[2;36m[15:20:49]\u001b[0m\u001b[2;36m \u001b[0m\u001b[34mINFO    \u001b[0m Unable to initialize backend \u001b[32m'rocm'\u001b[0m:       \u001b]8;id=31355;file:///Users/jaco/miniconda3/envs/smefit/lib/python3.12/site-packages/jax/_src/xla_bridge.py\u001b\\\u001b[2mxla_bridge.py\u001b[0m\u001b]8;;\u001b\\\u001b[2m:\u001b[0m\u001b]8;id=25905;file:///Users/jaco/miniconda3/envs/smefit/lib/python3.12/site-packages/jax/_src/xla_bridge.py#906\u001b\\\u001b[2m906\u001b[0m\u001b]8;;\u001b\\\n",
      "\u001b[2;36m           \u001b[0m         module \u001b[32m'jaxlib.xla_extension'\u001b[0m has no       \u001b[2m                 \u001b[0m\n",
      "\u001b[2;36m           \u001b[0m         attribute \u001b[32m'GpuAllocatorConfig'\u001b[0m             \u001b[2m                 \u001b[0m\n",
      "\u001b[2K\u001b[2;36m          \u001b[0m\u001b[2;36m \u001b[0m\u001b[34mINFO    \u001b[0m Unable to initialize backend \u001b[32m'tpu'\u001b[0m:        \u001b]8;id=761617;file:///Users/jaco/miniconda3/envs/smefit/lib/python3.12/site-packages/jax/_src/xla_bridge.py\u001b\\\u001b[2mxla_bridge.py\u001b[0m\u001b]8;;\u001b\\\u001b[2m:\u001b[0m\u001b]8;id=553006;file:///Users/jaco/miniconda3/envs/smefit/lib/python3.12/site-packages/jax/_src/xla_bridge.py#906\u001b\\\u001b[2m906\u001b[0m\u001b]8;;\u001b\\\n",
      "\u001b[2;36m           \u001b[0m         INTERNAL: Failed to open libtpu.so:        \u001b[2m                 \u001b[0m\n",
      "\u001b[2;36m           \u001b[0m         \u001b[1;35mdlopen\u001b[0m\u001b[1m(\u001b[0mlibtpu.so, \u001b[1;36m0x0001\u001b[0m\u001b[1m)\u001b[0m: tried:          \u001b[2m                 \u001b[0m\n",
      "\u001b[2;36m           \u001b[0m         \u001b[32m'libtpu.so'\u001b[0m \u001b[1m(\u001b[0mno such file\u001b[1m)\u001b[0m,                \u001b[2m                 \u001b[0m\n",
      "\u001b[2;36m           \u001b[0m         \u001b[32m'/System/Volumes/Preboot/Cryptexes/OSlibtp\u001b[0m \u001b[2m                 \u001b[0m\n",
      "\u001b[2;36m           \u001b[0m         \u001b[32mu.so'\u001b[0m \u001b[1m(\u001b[0mno such file\u001b[1m)\u001b[0m,                      \u001b[2m                 \u001b[0m\n",
      "\u001b[2;36m           \u001b[0m         \u001b[32m'/Users/jaco/miniconda3/envs/smefit/bin/..\u001b[0m \u001b[2m                 \u001b[0m\n",
      "\u001b[2;36m           \u001b[0m         \u001b[32m/lib/libtpu.so'\u001b[0m \u001b[1m(\u001b[0mno such file\u001b[1m)\u001b[0m,            \u001b[2m                 \u001b[0m\n",
      "\u001b[2;36m           \u001b[0m         \u001b[32m'/usr/lib/libtpu.so'\u001b[0m \u001b[1m(\u001b[0mno such file, not in \u001b[2m                 \u001b[0m\n",
      "\u001b[2;36m           \u001b[0m         dyld cache\u001b[1m)\u001b[0m, \u001b[32m'libtpu.so'\u001b[0m \u001b[1m(\u001b[0mno such file\u001b[1m)\u001b[0m,   \u001b[2m                 \u001b[0m\n",
      "\u001b[2;36m           \u001b[0m         \u001b[32m'/usr/local/lib/libtpu.so'\u001b[0m \u001b[1m(\u001b[0mno such file\u001b[1m)\u001b[0m, \u001b[2m                 \u001b[0m\n",
      "\u001b[2;36m           \u001b[0m         \u001b[32m'/usr/lib/libtpu.so'\u001b[0m \u001b[1m(\u001b[0mno such file, not in \u001b[2m                 \u001b[0m\n",
      "\u001b[2;36m           \u001b[0m         dyld cache\u001b[1m)\u001b[0m                                \u001b[2m                 \u001b[0m\n",
      "\u001b[2K\u001b[32mComputing SMEFT predictions for each replica of tt_ac...\u001b[0m \u001b[90m━━━━━━━━━━\u001b[0m \u001b[35m100%\u001b[0m \u001b[33m0:00:02\u001b[0m00:01\u001b[0m00:01\u001b[0m\n",
      "\u001b[2K\u001b[32mComputing SMEFT predictions for each replica of tt_mtt...\u001b[0m \u001b[90m━━━━━━━━━\u001b[0m \u001b[35m100%\u001b[0m \u001b[33m0:00:02\u001b[0m00:01\u001b[0m00:01\u001b[0m\n",
      "\u001b[2K\u001b[32mComputing SMEFT predictions for each replica of combined...\u001b[0m \u001b[90m━━━━━━━\u001b[0m \u001b[35m100%\u001b[0m \u001b[33m0:00:02\u001b[0m00:01\u001b[0m00:01\u001b[0m\n",
      "\u001b[?25h/bin/sh: pandoc: command not found\n",
      "\u001b[2;36m[15:20:57]\u001b[0m\u001b[2;36m \u001b[0m\u001b[34mINFO    \u001b[0m Plotting : chi^\u001b[1;36m2\u001b[0m for each dataset              \u001b]8;id=14762;file:///Users/jaco/Documents/smefit_release/src/smefit/analyze/report.py\u001b\\\u001b[2mreport.py\u001b[0m\u001b]8;;\u001b\\\u001b[2m:\u001b[0m\u001b]8;id=802324;file:///Users/jaco/Documents/smefit_release/src/smefit/analyze/report.py#170\u001b\\\u001b[2m170\u001b[0m\u001b]8;;\u001b\\\n",
      "\u001b[2;36m[15:21:00]\u001b[0m\u001b[2;36m \u001b[0m\u001b[34mINFO    \u001b[0m Plotting : chi^\u001b[1;36m2\u001b[0m distribution for each replica \u001b]8;id=787809;file:///Users/jaco/Documents/smefit_release/src/smefit/analyze/report.py\u001b\\\u001b[2mreport.py\u001b[0m\u001b]8;;\u001b\\\u001b[2m:\u001b[0m\u001b]8;id=18645;file:///Users/jaco/Documents/smefit_release/src/smefit/analyze/report.py#175\u001b\\\u001b[2m175\u001b[0m\u001b]8;;\u001b\\\n",
      "\u001b[2;36m[15:21:02]\u001b[0m\u001b[2;36m \u001b[0m\u001b[34mINFO    \u001b[0m Plotting : Posterior histograms                \u001b]8;id=690345;file:///Users/jaco/Documents/smefit_release/src/smefit/analyze/report.py\u001b\\\u001b[2mreport.py\u001b[0m\u001b]8;;\u001b\\\u001b[2m:\u001b[0m\u001b]8;id=151729;file:///Users/jaco/Documents/smefit_release/src/smefit/analyze/report.py#324\u001b\\\u001b[2m324\u001b[0m\u001b]8;;\u001b\\\n",
      "\u001b[2;36m[15:21:04]\u001b[0m\u001b[2;36m \u001b[0m\u001b[34mINFO    \u001b[0m Plotting : 2D confidence level projections     \u001b]8;id=276263;file:///Users/jaco/Documents/smefit_release/src/smefit/analyze/report.py\u001b\\\u001b[2mreport.py\u001b[0m\u001b]8;;\u001b\\\u001b[2m:\u001b[0m\u001b]8;id=348237;file:///Users/jaco/Documents/smefit_release/src/smefit/analyze/report.py#347\u001b\\\u001b[2m347\u001b[0m\u001b]8;;\u001b\\\n",
      "Traceback (most recent call last):\n",
      "  File \"/Users/jaco/miniconda3/envs/smefit/lib/python3.12/site-packages/pandas/core/indexes/base.py\", line 3805, in get_loc\n",
      "    return self._engine.get_loc(casted_key)\n",
      "           ^^^^^^^^^^^^^^^^^^^^^^^^^^^^^^^^\n",
      "  File \"index.pyx\", line 167, in pandas._libs.index.IndexEngine.get_loc\n",
      "  File \"index.pyx\", line 196, in pandas._libs.index.IndexEngine.get_loc\n",
      "  File \"pandas/_libs/hashtable_class_helper.pxi\", line 7081, in pandas._libs.hashtable.PyObjectHashTable.get_item\n",
      "  File \"pandas/_libs/hashtable_class_helper.pxi\", line 7089, in pandas._libs.hashtable.PyObjectHashTable.get_item\n",
      "KeyError: 'O83qq'\n",
      "\n",
      "The above exception was the direct cause of the following exception:\n",
      "\n",
      "Traceback (most recent call last):\n",
      "  File \"/Users/jaco/miniconda3/envs/smefit/bin/smefit\", line 8, in <module>\n",
      "    sys.exit(base_command())\n",
      "             ^^^^^^^^^^^^^^\n",
      "  File \"/Users/jaco/miniconda3/envs/smefit/lib/python3.12/site-packages/click/core.py\", line 1157, in __call__\n",
      "    return self.main(*args, **kwargs)\n",
      "           ^^^^^^^^^^^^^^^^^^^^^^^^^^\n",
      "  File \"/Users/jaco/miniconda3/envs/smefit/lib/python3.12/site-packages/click/core.py\", line 1078, in main\n",
      "    rv = self.invoke(ctx)\n",
      "         ^^^^^^^^^^^^^^^^\n",
      "  File \"/Users/jaco/miniconda3/envs/smefit/lib/python3.12/site-packages/click/core.py\", line 1688, in invoke\n",
      "    return _process_result(sub_ctx.command.invoke(sub_ctx))\n",
      "                           ^^^^^^^^^^^^^^^^^^^^^^^^^^^^^^^\n",
      "  File \"/Users/jaco/miniconda3/envs/smefit/lib/python3.12/site-packages/click/core.py\", line 1434, in invoke\n",
      "    return ctx.invoke(self.callback, **ctx.params)\n",
      "           ^^^^^^^^^^^^^^^^^^^^^^^^^^^^^^^^^^^^^^^\n",
      "  File \"/Users/jaco/miniconda3/envs/smefit/lib/python3.12/site-packages/click/core.py\", line 783, in invoke\n",
      "    return __callback(*args, **kwargs)\n",
      "           ^^^^^^^^^^^^^^^^^^^^^^^^^^^\n",
      "  File \"/Users/jaco/Documents/smefit_release/src/smefit/cli/__init__.py\", line 207, in report\n",
      "    run_report(report_card.absolute())\n",
      "  File \"/Users/jaco/Documents/smefit_release/src/smefit/analyze/__init__.py\", line 58, in run_report\n",
      "    report.coefficients(**report_config[\"coefficients_plots\"])\n",
      "  File \"/Users/jaco/Documents/smefit_release/src/smefit/analyze/report.py\", line 348, in coefficients\n",
      "    coeff_plt.plot_contours_2d(\n",
      "  File \"/Users/jaco/Documents/smefit_release/src/smefit/analyze/coefficients_utils.py\", line 821, in plot_contours_2d\n",
      "    hndls_contours = plot_contours(\n",
      "                     ^^^^^^^^^^^^^^\n",
      "  File \"/Users/jaco/Documents/smefit_release/src/smefit/analyze/contours_2d.py\", line 141, in plot_contours\n",
      "    x_values = posterior[coeff2].values\n",
      "               ~~~~~~~~~^^^^^^^^\n",
      "  File \"/Users/jaco/miniconda3/envs/smefit/lib/python3.12/site-packages/pandas/core/frame.py\", line 4102, in __getitem__\n",
      "    indexer = self.columns.get_loc(key)\n",
      "              ^^^^^^^^^^^^^^^^^^^^^^^^^\n",
      "  File \"/Users/jaco/miniconda3/envs/smefit/lib/python3.12/site-packages/pandas/core/indexes/base.py\", line 3812, in get_loc\n",
      "    raise KeyError(key) from err\n",
      "KeyError: 'O83qq'\n"
     ]
    }
   ],
   "source": [
    "!smefit R ./downloads/runcards/runcard_report_combined.yaml"
   ]
  },
  {
   "cell_type": "code",
   "execution_count": null,
   "id": "496cbb73-4633-4d4e-950f-5f2f184c500f",
   "metadata": {},
   "outputs": [],
   "source": []
  }
 ],
 "metadata": {
  "@webio": {
   "lastCommId": null,
   "lastKernelId": null
  },
  "kernelspec": {
   "display_name": "Python 3 (ipykernel)",
   "language": "python",
   "name": "python3"
  },
  "language_info": {
   "codemirror_mode": {
    "name": "ipython",
    "version": 3
   },
   "file_extension": ".py",
   "mimetype": "text/x-python",
   "name": "python",
   "nbconvert_exporter": "python",
   "pygments_lexer": "ipython3",
   "version": "3.12.7"
  }
 },
 "nbformat": 4,
 "nbformat_minor": 5
}
