{
 "cells": [
  {
   "cell_type": "code",
   "execution_count": 8,
   "id": "301c4f7f",
   "metadata": {},
   "outputs": [],
   "source": [
    "import pathlib\n",
    "import yaml\n",
    "import json\n",
    "import smefit.runner\n",
    "import smefit.postfit\n",
    "import pandas as pd\n",
    "import matplotlib\n",
    "import matplotlib.pyplot as plt\n",
    "matplotlib.use('TkAgg')"
   ]
  },
  {
   "cell_type": "code",
   "execution_count": 2,
   "id": "6c1a2872",
   "metadata": {},
   "outputs": [],
   "source": [
    "# read runcard and display it (optional)\n",
    "# runcard = {}\n",
    "# with open(\"./tutorial.yaml\", encoding=\"utf-8\") as f:\n",
    "#     runcard = yaml.safe_load(f)\n",
    "# runcard\n",
    "\n",
    "# # build runner from dictionary (optional, maybe useful if one doesn t want to touch the original runcard)\n",
    "# test_runner = smefit.runner.Runner.from_dict(runcard)"
   ]
  },
  {
   "cell_type": "code",
   "execution_count": 3,
   "id": "166ade9e",
   "metadata": {},
   "outputs": [
    {
     "data": {
      "text/html": [
       "<pre style=\"white-space:pre;overflow-x:auto;line-height:normal;font-family:Menlo,'DejaVu Sans Mono',consolas,'Courier New',monospace\"><span style=\"color: #7fbfbf; text-decoration-color: #7fbfbf\">[10:47:54] </span><span style=\"color: #000080; text-decoration-color: #000080\">INFO    </span> Loading dataset : STXS_2020_public_final                    <a href=\"file:///Users/tommy/physics/smefit_release/src/smefit/loader.py\"><span style=\"color: #7f7f7f; text-decoration-color: #7f7f7f\">loader.py</span></a><span style=\"color: #7f7f7f; text-decoration-color: #7f7f7f\">:</span><a href=\"file:///Users/tommy/physics/smefit_release/src/smefit/loader.py#133\"><span style=\"color: #7f7f7f; text-decoration-color: #7f7f7f\">133</span></a>\n",
       "</pre>\n"
      ],
      "text/plain": [
       "\u001b[2;36m[10:47:54]\u001b[0m\u001b[2;36m \u001b[0m\u001b[34mINFO    \u001b[0m Loading dataset : STXS_2020_public_final                    \u001b]8;id=441414;file:///Users/tommy/physics/smefit_release/src/smefit/loader.py\u001b\\\u001b[2mloader.py\u001b[0m\u001b]8;;\u001b\\\u001b[2m:\u001b[0m\u001b]8;id=65230;file:///Users/tommy/physics/smefit_release/src/smefit/loader.py#133\u001b\\\u001b[2m133\u001b[0m\u001b]8;;\u001b\\\n"
      ]
     },
     "metadata": {},
     "output_type": "display_data"
    },
    {
     "data": {
      "text/html": [
       "<pre style=\"white-space:pre;overflow-x:auto;line-height:normal;font-family:Menlo,'DejaVu Sans Mono',consolas,'Courier New',monospace\"><span style=\"color: #7fbfbf; text-decoration-color: #7fbfbf\">           </span><span style=\"color: #800000; text-decoration-color: #800000\">WARNING </span> Using default minimizer <span style=\"color: #008000; text-decoration-color: #008000\">'trust-constr'</span>                          <a href=\"file:///Users/tommy/physics/smefit_release/src/smefit/optimize/mc.py\"><span style=\"color: #7f7f7f; text-decoration-color: #7f7f7f\">mc.py</span></a><span style=\"color: #7f7f7f; text-decoration-color: #7f7f7f\">:</span><a href=\"file:///Users/tommy/physics/smefit_release/src/smefit/optimize/mc.py#153\"><span style=\"color: #7f7f7f; text-decoration-color: #7f7f7f\">153</span></a>\n",
       "</pre>\n"
      ],
      "text/plain": [
       "\u001b[2;36m          \u001b[0m\u001b[2;36m \u001b[0m\u001b[31mWARNING \u001b[0m Using default minimizer \u001b[32m'trust-constr'\u001b[0m                          \u001b]8;id=245999;file:///Users/tommy/physics/smefit_release/src/smefit/optimize/mc.py\u001b\\\u001b[2mmc.py\u001b[0m\u001b]8;;\u001b\\\u001b[2m:\u001b[0m\u001b]8;id=642773;file:///Users/tommy/physics/smefit_release/src/smefit/optimize/mc.py#153\u001b\\\u001b[2m153\u001b[0m\u001b]8;;\u001b\\\n"
      ]
     },
     "metadata": {},
     "output_type": "display_data"
    },
    {
     "data": {
      "text/html": [
       "<pre style=\"white-space:pre;overflow-x:auto;line-height:normal;font-family:Menlo,'DejaVu Sans Mono',consolas,'Courier New',monospace\"><span style=\"color: #7fbfbf; text-decoration-color: #7fbfbf\">           </span><span style=\"color: #800000; text-decoration-color: #800000\">WARNING </span> Setting maximum number of iterations <span style=\"font-weight: bold\">(</span>maxiter<span style=\"font-weight: bold\">)</span> to <span style=\"color: #008080; text-decoration-color: #008080; font-weight: bold\">1e4</span>           <a href=\"file:///Users/tommy/physics/smefit_release/src/smefit/optimize/mc.py\"><span style=\"color: #7f7f7f; text-decoration-color: #7f7f7f\">mc.py</span></a><span style=\"color: #7f7f7f; text-decoration-color: #7f7f7f\">:</span><a href=\"file:///Users/tommy/physics/smefit_release/src/smefit/optimize/mc.py#157\"><span style=\"color: #7f7f7f; text-decoration-color: #7f7f7f\">157</span></a>\n",
       "</pre>\n"
      ],
      "text/plain": [
       "\u001b[2;36m          \u001b[0m\u001b[2;36m \u001b[0m\u001b[31mWARNING \u001b[0m Setting maximum number of iterations \u001b[1m(\u001b[0mmaxiter\u001b[1m)\u001b[0m to \u001b[1;36m1e4\u001b[0m           \u001b]8;id=461257;file:///Users/tommy/physics/smefit_release/src/smefit/optimize/mc.py\u001b\\\u001b[2mmc.py\u001b[0m\u001b]8;;\u001b\\\u001b[2m:\u001b[0m\u001b]8;id=804437;file:///Users/tommy/physics/smefit_release/src/smefit/optimize/mc.py#157\u001b\\\u001b[2m157\u001b[0m\u001b]8;;\u001b\\\n"
      ]
     },
     "metadata": {},
     "output_type": "display_data"
    },
    {
     "name": "stderr",
     "output_type": "stream",
     "text": [
      "/Users/tommy/miniconda3-intel/envs/smefit_installation/lib/python3.10/site-packages/scipy/optimize/_hessian_update_strategy.py:182: UserWarning: delta_grad == 0.0. Check if the approximated function is linear. If the function is linear better results can be obtained by defining the Hessian as zero instead of using quasi-Newton approximations.\n",
      "  warn('delta_grad == 0.0. Check if the approximated '\n"
     ]
    },
    {
     "data": {
      "text/html": [
       "<pre style=\"white-space:pre;overflow-x:auto;line-height:normal;font-family:Menlo,'DejaVu Sans Mono',consolas,'Courier New',monospace\"><span style=\"color: #7fbfbf; text-decoration-color: #7fbfbf\">[10:47:55] </span><span style=\"color: #000080; text-decoration-color: #000080\">INFO    </span>            message: `xtol` termination condition is satisfied.  <a href=\"file:///Users/tommy/physics/smefit_release/src/smefit/optimize/mc.py\"><span style=\"color: #7f7f7f; text-decoration-color: #7f7f7f\">mc.py</span></a><span style=\"color: #7f7f7f; text-decoration-color: #7f7f7f\">:</span><a href=\"file:///Users/tommy/physics/smefit_release/src/smefit/optimize/mc.py#270\"><span style=\"color: #7f7f7f; text-decoration-color: #7f7f7f\">270</span></a>\n",
       "<span style=\"color: #7fbfbf; text-decoration-color: #7fbfbf\">           </span>                    success: <span style=\"color: #00ff00; text-decoration-color: #00ff00; font-style: italic\">True</span>                                        <span style=\"color: #7f7f7f; text-decoration-color: #7f7f7f\">         </span>\n",
       "<span style=\"color: #7fbfbf; text-decoration-color: #7fbfbf\">           </span>                     status: <span style=\"color: #008080; text-decoration-color: #008080; font-weight: bold\">2</span>                                           <span style=\"color: #7f7f7f; text-decoration-color: #7f7f7f\">         </span>\n",
       "<span style=\"color: #7fbfbf; text-decoration-color: #7fbfbf\">           </span>                        fun: <span style=\"color: #008080; text-decoration-color: #008080; font-weight: bold\">195.21125490556085</span>                          <span style=\"color: #7f7f7f; text-decoration-color: #7f7f7f\">         </span>\n",
       "<span style=\"color: #7fbfbf; text-decoration-color: #7fbfbf\">           </span>                          x: <span style=\"font-weight: bold\">[</span> <span style=\"color: #008080; text-decoration-color: #008080; font-weight: bold\">3.256e-02</span><span style=\"font-weight: bold\">]</span>                                <span style=\"color: #7f7f7f; text-decoration-color: #7f7f7f\">         </span>\n",
       "<span style=\"color: #7fbfbf; text-decoration-color: #7fbfbf\">           </span>                        nit: <span style=\"color: #008080; text-decoration-color: #008080; font-weight: bold\">55</span>                                          <span style=\"color: #7f7f7f; text-decoration-color: #7f7f7f\">         </span>\n",
       "<span style=\"color: #7fbfbf; text-decoration-color: #7fbfbf\">           </span>                       nfev: <span style=\"color: #008080; text-decoration-color: #008080; font-weight: bold\">84</span>                                          <span style=\"color: #7f7f7f; text-decoration-color: #7f7f7f\">         </span>\n",
       "<span style=\"color: #7fbfbf; text-decoration-color: #7fbfbf\">           </span>                       njev: <span style=\"color: #008080; text-decoration-color: #008080; font-weight: bold\">42</span>                                          <span style=\"color: #7f7f7f; text-decoration-color: #7f7f7f\">         </span>\n",
       "<span style=\"color: #7fbfbf; text-decoration-color: #7fbfbf\">           </span>                       nhev: <span style=\"color: #008080; text-decoration-color: #008080; font-weight: bold\">0</span>                                           <span style=\"color: #7f7f7f; text-decoration-color: #7f7f7f\">         </span>\n",
       "<span style=\"color: #7fbfbf; text-decoration-color: #7fbfbf\">           </span>                   cg_niter: <span style=\"color: #008080; text-decoration-color: #008080; font-weight: bold\">43</span>                                          <span style=\"color: #7f7f7f; text-decoration-color: #7f7f7f\">         </span>\n",
       "<span style=\"color: #7fbfbf; text-decoration-color: #7fbfbf\">           </span>               cg_stop_cond: <span style=\"color: #008080; text-decoration-color: #008080; font-weight: bold\">1</span>                                           <span style=\"color: #7f7f7f; text-decoration-color: #7f7f7f\">         </span>\n",
       "<span style=\"color: #7fbfbf; text-decoration-color: #7fbfbf\">           </span>                       grad: <span style=\"font-weight: bold\">[</span> <span style=\"color: #008080; text-decoration-color: #008080; font-weight: bold\">2.098e-05</span><span style=\"font-weight: bold\">]</span>                                <span style=\"color: #7f7f7f; text-decoration-color: #7f7f7f\">         </span>\n",
       "<span style=\"color: #7fbfbf; text-decoration-color: #7fbfbf\">           </span>            lagrangian_grad: <span style=\"font-weight: bold\">[</span> <span style=\"color: #008080; text-decoration-color: #008080; font-weight: bold\">2.057e-05</span><span style=\"font-weight: bold\">]</span>                                <span style=\"color: #7f7f7f; text-decoration-color: #7f7f7f\">         </span>\n",
       "<span style=\"color: #7fbfbf; text-decoration-color: #7fbfbf\">           </span>                     constr: <span style=\"font-weight: bold\">[</span><span style=\"color: #800080; text-decoration-color: #800080; font-weight: bold\">array</span><span style=\"font-weight: bold\">([</span> <span style=\"color: #008080; text-decoration-color: #008080; font-weight: bold\">3.256e-02</span><span style=\"font-weight: bold\">])]</span>                       <span style=\"color: #7f7f7f; text-decoration-color: #7f7f7f\">         </span>\n",
       "<span style=\"color: #7fbfbf; text-decoration-color: #7fbfbf\">           </span>                        jac: <span style=\"font-weight: bold\">[&lt;</span><span style=\"color: #ff00ff; text-decoration-color: #ff00ff; font-weight: bold\">1x1</span><span style=\"color: #000000; text-decoration-color: #000000\"> sparse matrix of type </span><span style=\"color: #008000; text-decoration-color: #008000\">'&lt;class </span>        <span style=\"color: #7f7f7f; text-decoration-color: #7f7f7f\">         </span>\n",
       "<span style=\"color: #7fbfbf; text-decoration-color: #7fbfbf\">           </span>         <span style=\"color: #008000; text-decoration-color: #008000\">'</span><span style=\"color: #000000; text-decoration-color: #000000\">numpy.float64'</span><span style=\"font-weight: bold\">&gt;</span>'                                               <span style=\"color: #7f7f7f; text-decoration-color: #7f7f7f\">         </span>\n",
       "<span style=\"color: #7fbfbf; text-decoration-color: #7fbfbf\">           </span>                                 with <span style=\"color: #008080; text-decoration-color: #008080; font-weight: bold\">1</span> stored elements in Compressed    <span style=\"color: #7f7f7f; text-decoration-color: #7f7f7f\">         </span>\n",
       "<span style=\"color: #7fbfbf; text-decoration-color: #7fbfbf\">           </span>         Sparse Row format&gt;<span style=\"font-weight: bold\">]</span>                                             <span style=\"color: #7f7f7f; text-decoration-color: #7f7f7f\">         </span>\n",
       "<span style=\"color: #7fbfbf; text-decoration-color: #7fbfbf\">           </span>                constr_nfev: <span style=\"font-weight: bold\">[</span><span style=\"color: #008080; text-decoration-color: #008080; font-weight: bold\">0</span><span style=\"font-weight: bold\">]</span>                                         <span style=\"color: #7f7f7f; text-decoration-color: #7f7f7f\">         </span>\n",
       "<span style=\"color: #7fbfbf; text-decoration-color: #7fbfbf\">           </span>                constr_njev: <span style=\"font-weight: bold\">[</span><span style=\"color: #008080; text-decoration-color: #008080; font-weight: bold\">0</span><span style=\"font-weight: bold\">]</span>                                         <span style=\"color: #7f7f7f; text-decoration-color: #7f7f7f\">         </span>\n",
       "<span style=\"color: #7fbfbf; text-decoration-color: #7fbfbf\">           </span>                constr_nhev: <span style=\"font-weight: bold\">[</span><span style=\"color: #008080; text-decoration-color: #008080; font-weight: bold\">0</span><span style=\"font-weight: bold\">]</span>                                         <span style=\"color: #7f7f7f; text-decoration-color: #7f7f7f\">         </span>\n",
       "<span style=\"color: #7fbfbf; text-decoration-color: #7fbfbf\">           </span>                          v: <span style=\"font-weight: bold\">[</span><span style=\"color: #800080; text-decoration-color: #800080; font-weight: bold\">array</span><span style=\"font-weight: bold\">([</span><span style=\"color: #008080; text-decoration-color: #008080; font-weight: bold\">-4.114e-07</span><span style=\"font-weight: bold\">])]</span>                       <span style=\"color: #7f7f7f; text-decoration-color: #7f7f7f\">         </span>\n",
       "<span style=\"color: #7fbfbf; text-decoration-color: #7fbfbf\">           </span>                     method: tr_interior_point                           <span style=\"color: #7f7f7f; text-decoration-color: #7f7f7f\">         </span>\n",
       "<span style=\"color: #7fbfbf; text-decoration-color: #7fbfbf\">           </span>                 optimality: <span style=\"color: #008080; text-decoration-color: #008080; font-weight: bold\">2.0569434523463332e-05</span>                      <span style=\"color: #7f7f7f; text-decoration-color: #7f7f7f\">         </span>\n",
       "<span style=\"color: #7fbfbf; text-decoration-color: #7fbfbf\">           </span>           constr_violation: <span style=\"color: #008080; text-decoration-color: #008080; font-weight: bold\">0.0</span>                                         <span style=\"color: #7f7f7f; text-decoration-color: #7f7f7f\">         </span>\n",
       "<span style=\"color: #7fbfbf; text-decoration-color: #7fbfbf\">           </span>             execution_time: <span style=\"color: #008080; text-decoration-color: #008080; font-weight: bold\">0.06054186820983887</span>                         <span style=\"color: #7f7f7f; text-decoration-color: #7f7f7f\">         </span>\n",
       "<span style=\"color: #7fbfbf; text-decoration-color: #7fbfbf\">           </span>                  tr_radius: <span style=\"color: #008080; text-decoration-color: #008080; font-weight: bold\">1.0000000000000004e-06</span>                      <span style=\"color: #7f7f7f; text-decoration-color: #7f7f7f\">         </span>\n",
       "<span style=\"color: #7fbfbf; text-decoration-color: #7fbfbf\">           </span>             constr_penalty: <span style=\"color: #008080; text-decoration-color: #008080; font-weight: bold\">1.0</span>                                         <span style=\"color: #7f7f7f; text-decoration-color: #7f7f7f\">         </span>\n",
       "<span style=\"color: #7fbfbf; text-decoration-color: #7fbfbf\">           </span>          barrier_parameter: <span style=\"color: #008080; text-decoration-color: #008080; font-weight: bold\">2.048000000000001e-09</span>                       <span style=\"color: #7f7f7f; text-decoration-color: #7f7f7f\">         </span>\n",
       "<span style=\"color: #7fbfbf; text-decoration-color: #7fbfbf\">           </span>          barrier_tolerance: <span style=\"color: #008080; text-decoration-color: #008080; font-weight: bold\">2.048000000000001e-09</span>                       <span style=\"color: #7f7f7f; text-decoration-color: #7f7f7f\">         </span>\n",
       "<span style=\"color: #7fbfbf; text-decoration-color: #7fbfbf\">           </span>                      niter: <span style=\"color: #008080; text-decoration-color: #008080; font-weight: bold\">55</span>                                          <span style=\"color: #7f7f7f; text-decoration-color: #7f7f7f\">         </span>\n",
       "</pre>\n"
      ],
      "text/plain": [
       "\u001b[2;36m[10:47:55]\u001b[0m\u001b[2;36m \u001b[0m\u001b[34mINFO    \u001b[0m            message: `xtol` termination condition is satisfied.  \u001b]8;id=258595;file:///Users/tommy/physics/smefit_release/src/smefit/optimize/mc.py\u001b\\\u001b[2mmc.py\u001b[0m\u001b]8;;\u001b\\\u001b[2m:\u001b[0m\u001b]8;id=996340;file:///Users/tommy/physics/smefit_release/src/smefit/optimize/mc.py#270\u001b\\\u001b[2m270\u001b[0m\u001b]8;;\u001b\\\n",
       "\u001b[2;36m           \u001b[0m                    success: \u001b[3;92mTrue\u001b[0m                                        \u001b[2m         \u001b[0m\n",
       "\u001b[2;36m           \u001b[0m                     status: \u001b[1;36m2\u001b[0m                                           \u001b[2m         \u001b[0m\n",
       "\u001b[2;36m           \u001b[0m                        fun: \u001b[1;36m195.21125490556085\u001b[0m                          \u001b[2m         \u001b[0m\n",
       "\u001b[2;36m           \u001b[0m                          x: \u001b[1m[\u001b[0m \u001b[1;36m3.256e-02\u001b[0m\u001b[1m]\u001b[0m                                \u001b[2m         \u001b[0m\n",
       "\u001b[2;36m           \u001b[0m                        nit: \u001b[1;36m55\u001b[0m                                          \u001b[2m         \u001b[0m\n",
       "\u001b[2;36m           \u001b[0m                       nfev: \u001b[1;36m84\u001b[0m                                          \u001b[2m         \u001b[0m\n",
       "\u001b[2;36m           \u001b[0m                       njev: \u001b[1;36m42\u001b[0m                                          \u001b[2m         \u001b[0m\n",
       "\u001b[2;36m           \u001b[0m                       nhev: \u001b[1;36m0\u001b[0m                                           \u001b[2m         \u001b[0m\n",
       "\u001b[2;36m           \u001b[0m                   cg_niter: \u001b[1;36m43\u001b[0m                                          \u001b[2m         \u001b[0m\n",
       "\u001b[2;36m           \u001b[0m               cg_stop_cond: \u001b[1;36m1\u001b[0m                                           \u001b[2m         \u001b[0m\n",
       "\u001b[2;36m           \u001b[0m                       grad: \u001b[1m[\u001b[0m \u001b[1;36m2.098e-05\u001b[0m\u001b[1m]\u001b[0m                                \u001b[2m         \u001b[0m\n",
       "\u001b[2;36m           \u001b[0m            lagrangian_grad: \u001b[1m[\u001b[0m \u001b[1;36m2.057e-05\u001b[0m\u001b[1m]\u001b[0m                                \u001b[2m         \u001b[0m\n",
       "\u001b[2;36m           \u001b[0m                     constr: \u001b[1m[\u001b[0m\u001b[1;35marray\u001b[0m\u001b[1m(\u001b[0m\u001b[1m[\u001b[0m \u001b[1;36m3.256e-02\u001b[0m\u001b[1m]\u001b[0m\u001b[1m)\u001b[0m\u001b[1m]\u001b[0m                       \u001b[2m         \u001b[0m\n",
       "\u001b[2;36m           \u001b[0m                        jac: \u001b[1m[\u001b[0m\u001b[1m<\u001b[0m\u001b[1;95m1x1\u001b[0m\u001b[39m sparse matrix of type \u001b[0m\u001b[32m'<class \u001b[0m        \u001b[2m         \u001b[0m\n",
       "\u001b[2;36m           \u001b[0m         \u001b[32m'\u001b[0m\u001b[39mnumpy.float64'\u001b[0m\u001b[1m>\u001b[0m'                                               \u001b[2m         \u001b[0m\n",
       "\u001b[2;36m           \u001b[0m                                 with \u001b[1;36m1\u001b[0m stored elements in Compressed    \u001b[2m         \u001b[0m\n",
       "\u001b[2;36m           \u001b[0m         Sparse Row format>\u001b[1m]\u001b[0m                                             \u001b[2m         \u001b[0m\n",
       "\u001b[2;36m           \u001b[0m                constr_nfev: \u001b[1m[\u001b[0m\u001b[1;36m0\u001b[0m\u001b[1m]\u001b[0m                                         \u001b[2m         \u001b[0m\n",
       "\u001b[2;36m           \u001b[0m                constr_njev: \u001b[1m[\u001b[0m\u001b[1;36m0\u001b[0m\u001b[1m]\u001b[0m                                         \u001b[2m         \u001b[0m\n",
       "\u001b[2;36m           \u001b[0m                constr_nhev: \u001b[1m[\u001b[0m\u001b[1;36m0\u001b[0m\u001b[1m]\u001b[0m                                         \u001b[2m         \u001b[0m\n",
       "\u001b[2;36m           \u001b[0m                          v: \u001b[1m[\u001b[0m\u001b[1;35marray\u001b[0m\u001b[1m(\u001b[0m\u001b[1m[\u001b[0m\u001b[1;36m-4.114e-07\u001b[0m\u001b[1m]\u001b[0m\u001b[1m)\u001b[0m\u001b[1m]\u001b[0m                       \u001b[2m         \u001b[0m\n",
       "\u001b[2;36m           \u001b[0m                     method: tr_interior_point                           \u001b[2m         \u001b[0m\n",
       "\u001b[2;36m           \u001b[0m                 optimality: \u001b[1;36m2.0569434523463332e-05\u001b[0m                      \u001b[2m         \u001b[0m\n",
       "\u001b[2;36m           \u001b[0m           constr_violation: \u001b[1;36m0.0\u001b[0m                                         \u001b[2m         \u001b[0m\n",
       "\u001b[2;36m           \u001b[0m             execution_time: \u001b[1;36m0.06054186820983887\u001b[0m                         \u001b[2m         \u001b[0m\n",
       "\u001b[2;36m           \u001b[0m                  tr_radius: \u001b[1;36m1.0000000000000004e-06\u001b[0m                      \u001b[2m         \u001b[0m\n",
       "\u001b[2;36m           \u001b[0m             constr_penalty: \u001b[1;36m1.0\u001b[0m                                         \u001b[2m         \u001b[0m\n",
       "\u001b[2;36m           \u001b[0m          barrier_parameter: \u001b[1;36m2.048000000000001e-09\u001b[0m                       \u001b[2m         \u001b[0m\n",
       "\u001b[2;36m           \u001b[0m          barrier_tolerance: \u001b[1;36m2.048000000000001e-09\u001b[0m                       \u001b[2m         \u001b[0m\n",
       "\u001b[2;36m           \u001b[0m                      niter: \u001b[1;36m55\u001b[0m                                          \u001b[2m         \u001b[0m\n"
      ]
     },
     "metadata": {},
     "output_type": "display_data"
    }
   ],
   "source": [
    "# build runner from runcard file and run fir tfor replica 1\n",
    "test_runner = smefit.runner.Runner.from_file(pathlib.Path(\"./tutorial.yaml\"), replica=1)\n",
    "test_runner.global_analysis(\"MC\")"
   ]
  },
  {
   "cell_type": "code",
   "execution_count": null,
   "id": "55c740dd",
   "metadata": {},
   "outputs": [],
   "source": [
    "# repeat this for a number of replicas\n",
    "for i in range (2,10):\n",
    "    test_runner = smefit.runner.Runner.from_file(pathlib.Path(\"./tutorial.yaml\"), replica=i)\n",
    "    test_runner.global_analysis(\"MC\")"
   ]
  },
  {
   "cell_type": "code",
   "execution_count": null,
   "id": "4000ee8e",
   "metadata": {},
   "outputs": [],
   "source": [
    "# run postfit\n",
    "postfit = smefit.postfit.Postfit.from_file(pathlib.Path(\"./tutorial_results/tutorial\"))\n",
    "postfit.save(5)"
   ]
  },
  {
   "cell_type": "code",
   "execution_count": null,
   "id": "55c192e6",
   "metadata": {},
   "outputs": [],
   "source": [
    "# clean results\n",
    "postfit.clean()"
   ]
  },
  {
   "cell_type": "code",
   "execution_count": 4,
   "id": "35af655b",
   "metadata": {},
   "outputs": [],
   "source": [
    "# produce histograms for some coefficients\n",
    "with open(\"./tutorial_results/tutorial/posterior.json\", \"r\", encoding=\"utf-8\") as f:\n",
    "        res = json.load(f)\n"
   ]
  },
  {
   "cell_type": "code",
   "execution_count": 5,
   "id": "172d6151",
   "metadata": {},
   "outputs": [
    {
     "data": {
      "text/html": [
       "<div>\n",
       "<style scoped>\n",
       "    .dataframe tbody tr th:only-of-type {\n",
       "        vertical-align: middle;\n",
       "    }\n",
       "\n",
       "    .dataframe tbody tr th {\n",
       "        vertical-align: top;\n",
       "    }\n",
       "\n",
       "    .dataframe thead th {\n",
       "        text-align: right;\n",
       "    }\n",
       "</style>\n",
       "<table border=\"1\" class=\"dataframe\">\n",
       "  <thead>\n",
       "    <tr style=\"text-align: right;\">\n",
       "      <th></th>\n",
       "      <th>c2q2l_01</th>\n",
       "      <th>c2q2l_02</th>\n",
       "      <th>c2q2l_03</th>\n",
       "      <th>c2q2l_04</th>\n",
       "      <th>c4q_01</th>\n",
       "      <th>c4q_02</th>\n",
       "      <th>cHG</th>\n",
       "      <th>cW</th>\n",
       "      <th>c_LEP_EW_01</th>\n",
       "      <th>c_LEP_EW_02</th>\n",
       "      <th>...</th>\n",
       "      <th>c_LEP_EW_11</th>\n",
       "      <th>c_LEP_EW_12</th>\n",
       "      <th>c_LEP_EW_13</th>\n",
       "      <th>c_LEP_EW_14</th>\n",
       "      <th>cbHRe</th>\n",
       "      <th>ceHRe</th>\n",
       "      <th>ctGRe</th>\n",
       "      <th>ctHRe</th>\n",
       "      <th>ctop_01</th>\n",
       "      <th>cuHRe_cdHRe_cHbox_01</th>\n",
       "    </tr>\n",
       "  </thead>\n",
       "  <tbody>\n",
       "    <tr>\n",
       "      <th>0</th>\n",
       "      <td>0.033662</td>\n",
       "      <td>0.0</td>\n",
       "      <td>0.0</td>\n",
       "      <td>0.0</td>\n",
       "      <td>0.0</td>\n",
       "      <td>0.0</td>\n",
       "      <td>0.0</td>\n",
       "      <td>0.0</td>\n",
       "      <td>0.0</td>\n",
       "      <td>0.0</td>\n",
       "      <td>...</td>\n",
       "      <td>0.0</td>\n",
       "      <td>0.0</td>\n",
       "      <td>0.0</td>\n",
       "      <td>0.0</td>\n",
       "      <td>0.0</td>\n",
       "      <td>0.0</td>\n",
       "      <td>0.0</td>\n",
       "      <td>0.0</td>\n",
       "      <td>0.0</td>\n",
       "      <td>0.0</td>\n",
       "    </tr>\n",
       "    <tr>\n",
       "      <th>1</th>\n",
       "      <td>-0.003851</td>\n",
       "      <td>0.0</td>\n",
       "      <td>0.0</td>\n",
       "      <td>0.0</td>\n",
       "      <td>0.0</td>\n",
       "      <td>0.0</td>\n",
       "      <td>0.0</td>\n",
       "      <td>0.0</td>\n",
       "      <td>0.0</td>\n",
       "      <td>0.0</td>\n",
       "      <td>...</td>\n",
       "      <td>0.0</td>\n",
       "      <td>0.0</td>\n",
       "      <td>0.0</td>\n",
       "      <td>0.0</td>\n",
       "      <td>0.0</td>\n",
       "      <td>0.0</td>\n",
       "      <td>0.0</td>\n",
       "      <td>0.0</td>\n",
       "      <td>0.0</td>\n",
       "      <td>0.0</td>\n",
       "    </tr>\n",
       "    <tr>\n",
       "      <th>2</th>\n",
       "      <td>0.069024</td>\n",
       "      <td>0.0</td>\n",
       "      <td>0.0</td>\n",
       "      <td>0.0</td>\n",
       "      <td>0.0</td>\n",
       "      <td>0.0</td>\n",
       "      <td>0.0</td>\n",
       "      <td>0.0</td>\n",
       "      <td>0.0</td>\n",
       "      <td>0.0</td>\n",
       "      <td>...</td>\n",
       "      <td>0.0</td>\n",
       "      <td>0.0</td>\n",
       "      <td>0.0</td>\n",
       "      <td>0.0</td>\n",
       "      <td>0.0</td>\n",
       "      <td>0.0</td>\n",
       "      <td>0.0</td>\n",
       "      <td>0.0</td>\n",
       "      <td>0.0</td>\n",
       "      <td>0.0</td>\n",
       "    </tr>\n",
       "    <tr>\n",
       "      <th>3</th>\n",
       "      <td>0.020097</td>\n",
       "      <td>0.0</td>\n",
       "      <td>0.0</td>\n",
       "      <td>0.0</td>\n",
       "      <td>0.0</td>\n",
       "      <td>0.0</td>\n",
       "      <td>0.0</td>\n",
       "      <td>0.0</td>\n",
       "      <td>0.0</td>\n",
       "      <td>0.0</td>\n",
       "      <td>...</td>\n",
       "      <td>0.0</td>\n",
       "      <td>0.0</td>\n",
       "      <td>0.0</td>\n",
       "      <td>0.0</td>\n",
       "      <td>0.0</td>\n",
       "      <td>0.0</td>\n",
       "      <td>0.0</td>\n",
       "      <td>0.0</td>\n",
       "      <td>0.0</td>\n",
       "      <td>0.0</td>\n",
       "    </tr>\n",
       "    <tr>\n",
       "      <th>4</th>\n",
       "      <td>-0.030041</td>\n",
       "      <td>0.0</td>\n",
       "      <td>0.0</td>\n",
       "      <td>0.0</td>\n",
       "      <td>0.0</td>\n",
       "      <td>0.0</td>\n",
       "      <td>0.0</td>\n",
       "      <td>0.0</td>\n",
       "      <td>0.0</td>\n",
       "      <td>0.0</td>\n",
       "      <td>...</td>\n",
       "      <td>0.0</td>\n",
       "      <td>0.0</td>\n",
       "      <td>0.0</td>\n",
       "      <td>0.0</td>\n",
       "      <td>0.0</td>\n",
       "      <td>0.0</td>\n",
       "      <td>0.0</td>\n",
       "      <td>0.0</td>\n",
       "      <td>0.0</td>\n",
       "      <td>0.0</td>\n",
       "    </tr>\n",
       "  </tbody>\n",
       "</table>\n",
       "<p>5 rows × 28 columns</p>\n",
       "</div>"
      ],
      "text/plain": [
       "   c2q2l_01  c2q2l_02  c2q2l_03  c2q2l_04  c4q_01  c4q_02  cHG   cW  \\\n",
       "0  0.033662       0.0       0.0       0.0     0.0     0.0  0.0  0.0   \n",
       "1 -0.003851       0.0       0.0       0.0     0.0     0.0  0.0  0.0   \n",
       "2  0.069024       0.0       0.0       0.0     0.0     0.0  0.0  0.0   \n",
       "3  0.020097       0.0       0.0       0.0     0.0     0.0  0.0  0.0   \n",
       "4 -0.030041       0.0       0.0       0.0     0.0     0.0  0.0  0.0   \n",
       "\n",
       "   c_LEP_EW_01  c_LEP_EW_02  ...  c_LEP_EW_11  c_LEP_EW_12  c_LEP_EW_13  \\\n",
       "0          0.0          0.0  ...          0.0          0.0          0.0   \n",
       "1          0.0          0.0  ...          0.0          0.0          0.0   \n",
       "2          0.0          0.0  ...          0.0          0.0          0.0   \n",
       "3          0.0          0.0  ...          0.0          0.0          0.0   \n",
       "4          0.0          0.0  ...          0.0          0.0          0.0   \n",
       "\n",
       "   c_LEP_EW_14  cbHRe  ceHRe  ctGRe  ctHRe  ctop_01  cuHRe_cdHRe_cHbox_01  \n",
       "0          0.0    0.0    0.0    0.0    0.0      0.0                   0.0  \n",
       "1          0.0    0.0    0.0    0.0    0.0      0.0                   0.0  \n",
       "2          0.0    0.0    0.0    0.0    0.0      0.0                   0.0  \n",
       "3          0.0    0.0    0.0    0.0    0.0      0.0                   0.0  \n",
       "4          0.0    0.0    0.0    0.0    0.0      0.0                   0.0  \n",
       "\n",
       "[5 rows x 28 columns]"
      ]
     },
     "execution_count": 5,
     "metadata": {},
     "output_type": "execute_result"
    }
   ],
   "source": [
    "# load final results and look at them\n",
    "df = pd.DataFrame.from_dict(res)\n",
    "df"
   ]
  },
  {
   "cell_type": "code",
   "execution_count": 9,
   "id": "4093568a",
   "metadata": {},
   "outputs": [
    {
     "data": {
      "text/plain": [
       "[<matplotlib.lines.Line2D at 0x15396c070>]"
      ]
     },
     "execution_count": 9,
     "metadata": {},
     "output_type": "execute_result"
    }
   ],
   "source": [
    "plt.plot(res[\"c2q2l_01\"])"
   ]
  },
  {
   "cell_type": "code",
   "execution_count": 7,
   "id": "8aa9a009",
   "metadata": {},
   "outputs": [
    {
     "name": "stderr",
     "output_type": "stream",
     "text": [
      "/var/folders/gy/y58f67rs4x94dgyc4jg06lsr0000gn/T/ipykernel_14430/2122436968.py:1: UserWarning: Matplotlib is currently using pdf, which is a non-GUI backend, so cannot show the figure.\n",
      "  plt.show()\n"
     ]
    }
   ],
   "source": [
    "plt.show()"
   ]
  },
  {
   "cell_type": "code",
   "execution_count": null,
   "id": "770d56b0",
   "metadata": {},
   "outputs": [],
   "source": []
  }
 ],
 "metadata": {
  "kernelspec": {
   "display_name": "Python 3 (ipykernel)",
   "language": "python",
   "name": "python3"
  },
  "language_info": {
   "codemirror_mode": {
    "name": "ipython",
    "version": 3
   },
   "file_extension": ".py",
   "mimetype": "text/x-python",
   "name": "python",
   "nbconvert_exporter": "python",
   "pygments_lexer": "ipython3",
   "version": "3.10.8"
  }
 },
 "nbformat": 4,
 "nbformat_minor": 5
}
