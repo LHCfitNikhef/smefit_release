{
 "cells": [
  {
   "cell_type": "markdown",
   "id": "0365b3f8",
   "metadata": {},
   "source": [
    "# SMEFiT Tutorial"
   ]
  },
  {
   "cell_type": "markdown",
   "id": "b22c9406",
   "metadata": {},
   "source": [
    "[![Open In Colab](https://colab.research.google.com/assets/colab-badge.svg)](https://colab.research.google.com/github/LHCfitNikhef/smefit_release/blob/tutorial/tutorial/tutorial.ipynb)"
   ]
  },
  {
   "cell_type": "code",
   "execution_count": 1,
   "id": "8db4c38e",
   "metadata": {},
   "outputs": [
    {
     "name": "stdout",
     "output_type": "stream",
     "text": [
      "Python version: 3.11.8 (main, Feb 26 2024, 15:43:17) [Clang 14.0.6 ]\n"
     ]
    }
   ],
   "source": [
    "import sys\n",
    "import os\n",
    "import wget\n",
    "import subprocess\n",
    "import pathlib\n",
    "print(\"Python version:\", sys.version)"
   ]
  },
  {
   "cell_type": "code",
   "execution_count": 19,
   "id": "8e086ae1",
   "metadata": {},
   "outputs": [],
   "source": [
    "import smefit\n",
    "import smefit.runner\n",
    "import smefit.log as log\n",
    "\n",
    "# setup log file\n",
    "# smefit.log.setup_console(pathlib.Path(\"./run.log\"))\n",
    "log.setup_console(\"./output.txt\")"
   ]
  },
  {
   "cell_type": "code",
   "execution_count": 23,
   "id": "77d81be8",
   "metadata": {},
   "outputs": [
    {
     "data": {
      "text/plain": [
       "<FileHandler /Users/jaco/Documents/smefit_release/tutorial/my_log_file.log (NOTSET)>"
      ]
     },
     "execution_count": 23,
     "metadata": {},
     "output_type": "execute_result"
    }
   ],
   "source": [
    "# import logging \n",
    "# logging.FileHandler('my_log_file.log')"
   ]
  },
  {
   "cell_type": "code",
   "execution_count": 24,
   "id": "026e4f51",
   "metadata": {},
   "outputs": [
    {
     "data": {
      "text/html": [
       "<pre style=\"white-space:pre;overflow-x:auto;line-height:normal;font-family:Menlo,'DejaVu Sans Mono',consolas,'Courier New',monospace\"><span style=\"color: #7fbfbf; text-decoration-color: #7fbfbf\">[15:34:53] </span>Running : analytic solution.                                                             <a href=\"file:///var/folders/nj/zqktg5zx7nj88cnf_ljdhpbh0000gn/T/ipykernel_18092/3138680030.py\" target=\"_blank\"><span style=\"color: #7f7f7f; text-decoration-color: #7f7f7f\">3138680030.py</span></a><span style=\"color: #7f7f7f; text-decoration-color: #7f7f7f\">:</span><a href=\"file:///var/folders/nj/zqktg5zx7nj88cnf_ljdhpbh0000gn/T/ipykernel_18092/3138680030.py#1\" target=\"_blank\"><span style=\"color: #7f7f7f; text-decoration-color: #7f7f7f\">1</span></a>\n",
       "</pre>\n"
      ],
      "text/plain": [
       "\u001b[2;36m[15:34:53]\u001b[0m\u001b[2;36m \u001b[0mRunning : analytic solution.                                                             \u001b]8;id=2752;file:///var/folders/nj/zqktg5zx7nj88cnf_ljdhpbh0000gn/T/ipykernel_18092/3138680030.py\u001b\\\u001b[2m3138680030.py\u001b[0m\u001b]8;;\u001b\\\u001b[2m:\u001b[0m\u001b]8;id=754567;file:///var/folders/nj/zqktg5zx7nj88cnf_ljdhpbh0000gn/T/ipykernel_18092/3138680030.py#1\u001b\\\u001b[2m1\u001b[0m\u001b]8;;\u001b\\\n"
      ]
     },
     "metadata": {},
     "output_type": "display_data"
    }
   ],
   "source": [
    "# log.console.log(\"Running : analytic solution.\")"
   ]
  },
  {
   "cell_type": "code",
   "execution_count": 3,
   "id": "ea95d808",
   "metadata": {},
   "outputs": [],
   "source": [
    "def file_downloader(url, download_dir='./downloads'):\n",
    "\n",
    "    if not os.path.exists(download_dir):\n",
    "        os.mkdir(download_dir)\n",
    "\n",
    "    file = wget.download(url, out=download_dir)\n",
    "    return file"
   ]
  },
  {
   "cell_type": "code",
   "execution_count": 4,
   "id": "83d4c60b",
   "metadata": {},
   "outputs": [
    {
     "name": "stdout",
     "output_type": "stream",
     "text": [
      "-1 / unknown"
     ]
    }
   ],
   "source": [
    "smefit_database_url = 'https://github.com/LHCfitNikhef/smefit_database/archive/refs/heads/main.zip'\n",
    "smefit_database = file_downloader(smefit_database_url);"
   ]
  },
  {
   "cell_type": "code",
   "execution_count": 5,
   "id": "97c732a5",
   "metadata": {},
   "outputs": [],
   "source": [
    "result = subprocess.run([f\"unzip {smefit_database} -d ./downloads\"], capture_output=True, shell=True, text=True)"
   ]
  },
  {
   "cell_type": "code",
   "execution_count": 12,
   "id": "ef9b3656",
   "metadata": {},
   "outputs": [
    {
     "data": {
      "text/html": [
       "<pre style=\"white-space:pre;overflow-x:auto;line-height:normal;font-family:Menlo,'DejaVu Sans Mono',consolas,'Courier New',monospace\"><span style=\"color: #7fbfbf; text-decoration-color: #7fbfbf\">[15:20:05] </span><span style=\"color: #800000; text-decoration-color: #800000\">WARNING </span> results/LHC_NLO_LIN_GLOB already found, overwriting old results                    <a href=\"file:///Users/jaco/opt/anaconda3/envs/smefit_tutorial/lib/python3.11/site-packages/smefit/runner.py\" target=\"_blank\"><span style=\"color: #7f7f7f; text-decoration-color: #7f7f7f\">runner.py</span></a><span style=\"color: #7f7f7f; text-decoration-color: #7f7f7f\">:</span><a href=\"file:///Users/jaco/opt/anaconda3/envs/smefit_tutorial/lib/python3.11/site-packages/smefit/runner.py#70\" target=\"_blank\"><span style=\"color: #7f7f7f; text-decoration-color: #7f7f7f\">70</span></a>\n",
       "</pre>\n"
      ],
      "text/plain": [
       "\u001b[2;36m[15:20:05]\u001b[0m\u001b[2;36m \u001b[0m\u001b[31mWARNING \u001b[0m results/LHC_NLO_LIN_GLOB already found, overwriting old results                    \u001b]8;id=768174;file:///Users/jaco/opt/anaconda3/envs/smefit_tutorial/lib/python3.11/site-packages/smefit/runner.py\u001b\\\u001b[2mrunner.py\u001b[0m\u001b]8;;\u001b\\\u001b[2m:\u001b[0m\u001b]8;id=71209;file:///Users/jaco/opt/anaconda3/envs/smefit_tutorial/lib/python3.11/site-packages/smefit/runner.py#70\u001b\\\u001b[2m70\u001b[0m\u001b]8;;\u001b\\\n"
      ]
     },
     "metadata": {},
     "output_type": "display_data"
    },
    {
     "data": {
      "text/html": [
       "<pre style=\"white-space:pre;overflow-x:auto;line-height:normal;font-family:Menlo,'DejaVu Sans Mono',consolas,'Courier New',monospace\"><span style=\"color: #7fbfbf; text-decoration-color: #7fbfbf\">           </span><span style=\"color: #000080; text-decoration-color: #000080\">INFO    </span> Loading dataset : ATLAS_CMS_SSinc_RunI                                            <a href=\"file:///Users/jaco/opt/anaconda3/envs/smefit_tutorial/lib/python3.11/site-packages/smefit/loader.py\" target=\"_blank\"><span style=\"color: #7f7f7f; text-decoration-color: #7f7f7f\">loader.py</span></a><span style=\"color: #7f7f7f; text-decoration-color: #7f7f7f\">:</span><a href=\"file:///Users/jaco/opt/anaconda3/envs/smefit_tutorial/lib/python3.11/site-packages/smefit/loader.py#135\" target=\"_blank\"><span style=\"color: #7f7f7f; text-decoration-color: #7f7f7f\">135</span></a>\n",
       "</pre>\n"
      ],
      "text/plain": [
       "\u001b[2;36m          \u001b[0m\u001b[2;36m \u001b[0m\u001b[34mINFO    \u001b[0m Loading dataset : ATLAS_CMS_SSinc_RunI                                            \u001b]8;id=105;file:///Users/jaco/opt/anaconda3/envs/smefit_tutorial/lib/python3.11/site-packages/smefit/loader.py\u001b\\\u001b[2mloader.py\u001b[0m\u001b]8;;\u001b\\\u001b[2m:\u001b[0m\u001b]8;id=229197;file:///Users/jaco/opt/anaconda3/envs/smefit_tutorial/lib/python3.11/site-packages/smefit/loader.py#135\u001b\\\u001b[2m135\u001b[0m\u001b]8;;\u001b\\\n"
      ]
     },
     "metadata": {},
     "output_type": "display_data"
    },
    {
     "data": {
      "text/html": [
       "<pre style=\"white-space:pre;overflow-x:auto;line-height:normal;font-family:Menlo,'DejaVu Sans Mono',consolas,'Courier New',monospace\"><span style=\"color: #7fbfbf; text-decoration-color: #7fbfbf\">           </span><span style=\"color: #000080; text-decoration-color: #000080\">INFO    </span> Loading dataset : ATLAS_CMS_tt_AC_8TeV                                            <a href=\"file:///Users/jaco/opt/anaconda3/envs/smefit_tutorial/lib/python3.11/site-packages/smefit/loader.py\" target=\"_blank\"><span style=\"color: #7f7f7f; text-decoration-color: #7f7f7f\">loader.py</span></a><span style=\"color: #7f7f7f; text-decoration-color: #7f7f7f\">:</span><a href=\"file:///Users/jaco/opt/anaconda3/envs/smefit_tutorial/lib/python3.11/site-packages/smefit/loader.py#135\" target=\"_blank\"><span style=\"color: #7f7f7f; text-decoration-color: #7f7f7f\">135</span></a>\n",
       "</pre>\n"
      ],
      "text/plain": [
       "\u001b[2;36m          \u001b[0m\u001b[2;36m \u001b[0m\u001b[34mINFO    \u001b[0m Loading dataset : ATLAS_CMS_tt_AC_8TeV                                            \u001b]8;id=444711;file:///Users/jaco/opt/anaconda3/envs/smefit_tutorial/lib/python3.11/site-packages/smefit/loader.py\u001b\\\u001b[2mloader.py\u001b[0m\u001b]8;;\u001b\\\u001b[2m:\u001b[0m\u001b]8;id=396157;file:///Users/jaco/opt/anaconda3/envs/smefit_tutorial/lib/python3.11/site-packages/smefit/loader.py#135\u001b\\\u001b[2m135\u001b[0m\u001b]8;;\u001b\\\n"
      ]
     },
     "metadata": {},
     "output_type": "display_data"
    },
    {
     "data": {
      "text/html": [
       "<pre style=\"white-space:pre;overflow-x:auto;line-height:normal;font-family:Menlo,'DejaVu Sans Mono',consolas,'Courier New',monospace\"><span style=\"color: #7fbfbf; text-decoration-color: #7fbfbf\">           </span><span style=\"color: #000080; text-decoration-color: #000080\">INFO    </span> Loading dataset : ATLAS_SSinc_RunII                                               <a href=\"file:///Users/jaco/opt/anaconda3/envs/smefit_tutorial/lib/python3.11/site-packages/smefit/loader.py\" target=\"_blank\"><span style=\"color: #7f7f7f; text-decoration-color: #7f7f7f\">loader.py</span></a><span style=\"color: #7f7f7f; text-decoration-color: #7f7f7f\">:</span><a href=\"file:///Users/jaco/opt/anaconda3/envs/smefit_tutorial/lib/python3.11/site-packages/smefit/loader.py#135\" target=\"_blank\"><span style=\"color: #7f7f7f; text-decoration-color: #7f7f7f\">135</span></a>\n",
       "</pre>\n"
      ],
      "text/plain": [
       "\u001b[2;36m          \u001b[0m\u001b[2;36m \u001b[0m\u001b[34mINFO    \u001b[0m Loading dataset : ATLAS_SSinc_RunII                                               \u001b]8;id=610534;file:///Users/jaco/opt/anaconda3/envs/smefit_tutorial/lib/python3.11/site-packages/smefit/loader.py\u001b\\\u001b[2mloader.py\u001b[0m\u001b]8;;\u001b\\\u001b[2m:\u001b[0m\u001b]8;id=984336;file:///Users/jaco/opt/anaconda3/envs/smefit_tutorial/lib/python3.11/site-packages/smefit/loader.py#135\u001b\\\u001b[2m135\u001b[0m\u001b]8;;\u001b\\\n"
      ]
     },
     "metadata": {},
     "output_type": "display_data"
    },
    {
     "data": {
      "text/html": [
       "<pre style=\"white-space:pre;overflow-x:auto;line-height:normal;font-family:Menlo,'DejaVu Sans Mono',consolas,'Courier New',monospace\"><span style=\"color: #7fbfbf; text-decoration-color: #7fbfbf\">           </span><span style=\"color: #000080; text-decoration-color: #000080\">INFO    </span> Loading dataset : ATLAS_STXS_runII_13TeV                                          <a href=\"file:///Users/jaco/opt/anaconda3/envs/smefit_tutorial/lib/python3.11/site-packages/smefit/loader.py\" target=\"_blank\"><span style=\"color: #7f7f7f; text-decoration-color: #7f7f7f\">loader.py</span></a><span style=\"color: #7f7f7f; text-decoration-color: #7f7f7f\">:</span><a href=\"file:///Users/jaco/opt/anaconda3/envs/smefit_tutorial/lib/python3.11/site-packages/smefit/loader.py#135\" target=\"_blank\"><span style=\"color: #7f7f7f; text-decoration-color: #7f7f7f\">135</span></a>\n",
       "</pre>\n"
      ],
      "text/plain": [
       "\u001b[2;36m          \u001b[0m\u001b[2;36m \u001b[0m\u001b[34mINFO    \u001b[0m Loading dataset : ATLAS_STXS_runII_13TeV                                          \u001b]8;id=402376;file:///Users/jaco/opt/anaconda3/envs/smefit_tutorial/lib/python3.11/site-packages/smefit/loader.py\u001b\\\u001b[2mloader.py\u001b[0m\u001b]8;;\u001b\\\u001b[2m:\u001b[0m\u001b]8;id=98868;file:///Users/jaco/opt/anaconda3/envs/smefit_tutorial/lib/python3.11/site-packages/smefit/loader.py#135\u001b\\\u001b[2m135\u001b[0m\u001b]8;;\u001b\\\n"
      ]
     },
     "metadata": {},
     "output_type": "display_data"
    },
    {
     "data": {
      "text/html": [
       "<pre style=\"white-space:pre;overflow-x:auto;line-height:normal;font-family:Menlo,'DejaVu Sans Mono',consolas,'Courier New',monospace\"><span style=\"color: #7fbfbf; text-decoration-color: #7fbfbf\">           </span><span style=\"color: #000080; text-decoration-color: #000080\">INFO    </span> Loading dataset : ATLAS_WH_Hbb_13TeV                                              <a href=\"file:///Users/jaco/opt/anaconda3/envs/smefit_tutorial/lib/python3.11/site-packages/smefit/loader.py\" target=\"_blank\"><span style=\"color: #7f7f7f; text-decoration-color: #7f7f7f\">loader.py</span></a><span style=\"color: #7f7f7f; text-decoration-color: #7f7f7f\">:</span><a href=\"file:///Users/jaco/opt/anaconda3/envs/smefit_tutorial/lib/python3.11/site-packages/smefit/loader.py#135\" target=\"_blank\"><span style=\"color: #7f7f7f; text-decoration-color: #7f7f7f\">135</span></a>\n",
       "</pre>\n"
      ],
      "text/plain": [
       "\u001b[2;36m          \u001b[0m\u001b[2;36m \u001b[0m\u001b[34mINFO    \u001b[0m Loading dataset : ATLAS_WH_Hbb_13TeV                                              \u001b]8;id=941852;file:///Users/jaco/opt/anaconda3/envs/smefit_tutorial/lib/python3.11/site-packages/smefit/loader.py\u001b\\\u001b[2mloader.py\u001b[0m\u001b]8;;\u001b\\\u001b[2m:\u001b[0m\u001b]8;id=72514;file:///Users/jaco/opt/anaconda3/envs/smefit_tutorial/lib/python3.11/site-packages/smefit/loader.py#135\u001b\\\u001b[2m135\u001b[0m\u001b]8;;\u001b\\\n"
      ]
     },
     "metadata": {},
     "output_type": "display_data"
    },
    {
     "data": {
      "text/html": [
       "<pre style=\"white-space:pre;overflow-x:auto;line-height:normal;font-family:Menlo,'DejaVu Sans Mono',consolas,'Courier New',monospace\"><span style=\"color: #7fbfbf; text-decoration-color: #7fbfbf\">           </span><span style=\"color: #000080; text-decoration-color: #000080\">INFO    </span> Loading dataset : ATLAS_WW_13TeV_2016_memu                                        <a href=\"file:///Users/jaco/opt/anaconda3/envs/smefit_tutorial/lib/python3.11/site-packages/smefit/loader.py\" target=\"_blank\"><span style=\"color: #7f7f7f; text-decoration-color: #7f7f7f\">loader.py</span></a><span style=\"color: #7f7f7f; text-decoration-color: #7f7f7f\">:</span><a href=\"file:///Users/jaco/opt/anaconda3/envs/smefit_tutorial/lib/python3.11/site-packages/smefit/loader.py#135\" target=\"_blank\"><span style=\"color: #7f7f7f; text-decoration-color: #7f7f7f\">135</span></a>\n",
       "</pre>\n"
      ],
      "text/plain": [
       "\u001b[2;36m          \u001b[0m\u001b[2;36m \u001b[0m\u001b[34mINFO    \u001b[0m Loading dataset : ATLAS_WW_13TeV_2016_memu                                        \u001b]8;id=792692;file:///Users/jaco/opt/anaconda3/envs/smefit_tutorial/lib/python3.11/site-packages/smefit/loader.py\u001b\\\u001b[2mloader.py\u001b[0m\u001b]8;;\u001b\\\u001b[2m:\u001b[0m\u001b]8;id=746227;file:///Users/jaco/opt/anaconda3/envs/smefit_tutorial/lib/python3.11/site-packages/smefit/loader.py#135\u001b\\\u001b[2m135\u001b[0m\u001b]8;;\u001b\\\n"
      ]
     },
     "metadata": {},
     "output_type": "display_data"
    },
    {
     "data": {
      "text/html": [
       "<pre style=\"white-space:pre;overflow-x:auto;line-height:normal;font-family:Menlo,'DejaVu Sans Mono',consolas,'Courier New',monospace\"><span style=\"color: #7fbfbf; text-decoration-color: #7fbfbf\">           </span><span style=\"color: #000080; text-decoration-color: #000080\">INFO    </span> Loading dataset : ATLAS_WZ_13TeV_2016_mTWZ                                        <a href=\"file:///Users/jaco/opt/anaconda3/envs/smefit_tutorial/lib/python3.11/site-packages/smefit/loader.py\" target=\"_blank\"><span style=\"color: #7f7f7f; text-decoration-color: #7f7f7f\">loader.py</span></a><span style=\"color: #7f7f7f; text-decoration-color: #7f7f7f\">:</span><a href=\"file:///Users/jaco/opt/anaconda3/envs/smefit_tutorial/lib/python3.11/site-packages/smefit/loader.py#135\" target=\"_blank\"><span style=\"color: #7f7f7f; text-decoration-color: #7f7f7f\">135</span></a>\n",
       "</pre>\n"
      ],
      "text/plain": [
       "\u001b[2;36m          \u001b[0m\u001b[2;36m \u001b[0m\u001b[34mINFO    \u001b[0m Loading dataset : ATLAS_WZ_13TeV_2016_mTWZ                                        \u001b]8;id=468288;file:///Users/jaco/opt/anaconda3/envs/smefit_tutorial/lib/python3.11/site-packages/smefit/loader.py\u001b\\\u001b[2mloader.py\u001b[0m\u001b]8;;\u001b\\\u001b[2m:\u001b[0m\u001b]8;id=158066;file:///Users/jaco/opt/anaconda3/envs/smefit_tutorial/lib/python3.11/site-packages/smefit/loader.py#135\u001b\\\u001b[2m135\u001b[0m\u001b]8;;\u001b\\\n"
      ]
     },
     "metadata": {},
     "output_type": "display_data"
    },
    {
     "data": {
      "text/html": [
       "<pre style=\"white-space:pre;overflow-x:auto;line-height:normal;font-family:Menlo,'DejaVu Sans Mono',consolas,'Courier New',monospace\"><span style=\"color: #7fbfbf; text-decoration-color: #7fbfbf\">           </span><span style=\"color: #000080; text-decoration-color: #000080\">INFO    </span> Loading dataset : ATLAS_WhelF_8TeV                                                <a href=\"file:///Users/jaco/opt/anaconda3/envs/smefit_tutorial/lib/python3.11/site-packages/smefit/loader.py\" target=\"_blank\"><span style=\"color: #7f7f7f; text-decoration-color: #7f7f7f\">loader.py</span></a><span style=\"color: #7f7f7f; text-decoration-color: #7f7f7f\">:</span><a href=\"file:///Users/jaco/opt/anaconda3/envs/smefit_tutorial/lib/python3.11/site-packages/smefit/loader.py#135\" target=\"_blank\"><span style=\"color: #7f7f7f; text-decoration-color: #7f7f7f\">135</span></a>\n",
       "</pre>\n"
      ],
      "text/plain": [
       "\u001b[2;36m          \u001b[0m\u001b[2;36m \u001b[0m\u001b[34mINFO    \u001b[0m Loading dataset : ATLAS_WhelF_8TeV                                                \u001b]8;id=32060;file:///Users/jaco/opt/anaconda3/envs/smefit_tutorial/lib/python3.11/site-packages/smefit/loader.py\u001b\\\u001b[2mloader.py\u001b[0m\u001b]8;;\u001b\\\u001b[2m:\u001b[0m\u001b]8;id=722971;file:///Users/jaco/opt/anaconda3/envs/smefit_tutorial/lib/python3.11/site-packages/smefit/loader.py#135\u001b\\\u001b[2m135\u001b[0m\u001b]8;;\u001b\\\n"
      ]
     },
     "metadata": {},
     "output_type": "display_data"
    },
    {
     "data": {
      "text/html": [
       "<pre style=\"white-space:pre;overflow-x:auto;line-height:normal;font-family:Menlo,'DejaVu Sans Mono',consolas,'Courier New',monospace\"><span style=\"color: #7fbfbf; text-decoration-color: #7fbfbf\">           </span><span style=\"color: #000080; text-decoration-color: #000080\">INFO    </span> Loading dataset : ATLAS_Whel_13TeV                                                <a href=\"file:///Users/jaco/opt/anaconda3/envs/smefit_tutorial/lib/python3.11/site-packages/smefit/loader.py\" target=\"_blank\"><span style=\"color: #7f7f7f; text-decoration-color: #7f7f7f\">loader.py</span></a><span style=\"color: #7f7f7f; text-decoration-color: #7f7f7f\">:</span><a href=\"file:///Users/jaco/opt/anaconda3/envs/smefit_tutorial/lib/python3.11/site-packages/smefit/loader.py#135\" target=\"_blank\"><span style=\"color: #7f7f7f; text-decoration-color: #7f7f7f\">135</span></a>\n",
       "</pre>\n"
      ],
      "text/plain": [
       "\u001b[2;36m          \u001b[0m\u001b[2;36m \u001b[0m\u001b[34mINFO    \u001b[0m Loading dataset : ATLAS_Whel_13TeV                                                \u001b]8;id=842616;file:///Users/jaco/opt/anaconda3/envs/smefit_tutorial/lib/python3.11/site-packages/smefit/loader.py\u001b\\\u001b[2mloader.py\u001b[0m\u001b]8;;\u001b\\\u001b[2m:\u001b[0m\u001b]8;id=993010;file:///Users/jaco/opt/anaconda3/envs/smefit_tutorial/lib/python3.11/site-packages/smefit/loader.py#135\u001b\\\u001b[2m135\u001b[0m\u001b]8;;\u001b\\\n"
      ]
     },
     "metadata": {},
     "output_type": "display_data"
    },
    {
     "data": {
      "text/html": [
       "<pre style=\"white-space:pre;overflow-x:auto;line-height:normal;font-family:Menlo,'DejaVu Sans Mono',consolas,'Courier New',monospace\"><span style=\"color: #7fbfbf; text-decoration-color: #7fbfbf\">           </span><span style=\"color: #000080; text-decoration-color: #000080\">INFO    </span> Loading dataset : ATLAS_ZH_Hbb_13TeV                                              <a href=\"file:///Users/jaco/opt/anaconda3/envs/smefit_tutorial/lib/python3.11/site-packages/smefit/loader.py\" target=\"_blank\"><span style=\"color: #7f7f7f; text-decoration-color: #7f7f7f\">loader.py</span></a><span style=\"color: #7f7f7f; text-decoration-color: #7f7f7f\">:</span><a href=\"file:///Users/jaco/opt/anaconda3/envs/smefit_tutorial/lib/python3.11/site-packages/smefit/loader.py#135\" target=\"_blank\"><span style=\"color: #7f7f7f; text-decoration-color: #7f7f7f\">135</span></a>\n",
       "</pre>\n"
      ],
      "text/plain": [
       "\u001b[2;36m          \u001b[0m\u001b[2;36m \u001b[0m\u001b[34mINFO    \u001b[0m Loading dataset : ATLAS_ZH_Hbb_13TeV                                              \u001b]8;id=207931;file:///Users/jaco/opt/anaconda3/envs/smefit_tutorial/lib/python3.11/site-packages/smefit/loader.py\u001b\\\u001b[2mloader.py\u001b[0m\u001b]8;;\u001b\\\u001b[2m:\u001b[0m\u001b]8;id=381461;file:///Users/jaco/opt/anaconda3/envs/smefit_tutorial/lib/python3.11/site-packages/smefit/loader.py#135\u001b\\\u001b[2m135\u001b[0m\u001b]8;;\u001b\\\n"
      ]
     },
     "metadata": {},
     "output_type": "display_data"
    },
    {
     "data": {
      "text/html": [
       "<pre style=\"white-space:pre;overflow-x:auto;line-height:normal;font-family:Menlo,'DejaVu Sans Mono',consolas,'Courier New',monospace\"><span style=\"color: #7fbfbf; text-decoration-color: #7fbfbf\">           </span><span style=\"color: #000080; text-decoration-color: #000080\">INFO    </span> Loading dataset : ATLAS_ggF_13TeV_2015                                            <a href=\"file:///Users/jaco/opt/anaconda3/envs/smefit_tutorial/lib/python3.11/site-packages/smefit/loader.py\" target=\"_blank\"><span style=\"color: #7f7f7f; text-decoration-color: #7f7f7f\">loader.py</span></a><span style=\"color: #7f7f7f; text-decoration-color: #7f7f7f\">:</span><a href=\"file:///Users/jaco/opt/anaconda3/envs/smefit_tutorial/lib/python3.11/site-packages/smefit/loader.py#135\" target=\"_blank\"><span style=\"color: #7f7f7f; text-decoration-color: #7f7f7f\">135</span></a>\n",
       "</pre>\n"
      ],
      "text/plain": [
       "\u001b[2;36m          \u001b[0m\u001b[2;36m \u001b[0m\u001b[34mINFO    \u001b[0m Loading dataset : ATLAS_ggF_13TeV_2015                                            \u001b]8;id=466897;file:///Users/jaco/opt/anaconda3/envs/smefit_tutorial/lib/python3.11/site-packages/smefit/loader.py\u001b\\\u001b[2mloader.py\u001b[0m\u001b]8;;\u001b\\\u001b[2m:\u001b[0m\u001b]8;id=141605;file:///Users/jaco/opt/anaconda3/envs/smefit_tutorial/lib/python3.11/site-packages/smefit/loader.py#135\u001b\\\u001b[2m135\u001b[0m\u001b]8;;\u001b\\\n"
      ]
     },
     "metadata": {},
     "output_type": "display_data"
    },
    {
     "data": {
      "text/html": [
       "<pre style=\"white-space:pre;overflow-x:auto;line-height:normal;font-family:Menlo,'DejaVu Sans Mono',consolas,'Courier New',monospace\"><span style=\"color: #7fbfbf; text-decoration-color: #7fbfbf\">           </span><span style=\"color: #000080; text-decoration-color: #000080\">INFO    </span> Loading dataset : ATLAS_ggF_ZZ_13TeV                                              <a href=\"file:///Users/jaco/opt/anaconda3/envs/smefit_tutorial/lib/python3.11/site-packages/smefit/loader.py\" target=\"_blank\"><span style=\"color: #7f7f7f; text-decoration-color: #7f7f7f\">loader.py</span></a><span style=\"color: #7f7f7f; text-decoration-color: #7f7f7f\">:</span><a href=\"file:///Users/jaco/opt/anaconda3/envs/smefit_tutorial/lib/python3.11/site-packages/smefit/loader.py#135\" target=\"_blank\"><span style=\"color: #7f7f7f; text-decoration-color: #7f7f7f\">135</span></a>\n",
       "</pre>\n"
      ],
      "text/plain": [
       "\u001b[2;36m          \u001b[0m\u001b[2;36m \u001b[0m\u001b[34mINFO    \u001b[0m Loading dataset : ATLAS_ggF_ZZ_13TeV                                              \u001b]8;id=213767;file:///Users/jaco/opt/anaconda3/envs/smefit_tutorial/lib/python3.11/site-packages/smefit/loader.py\u001b\\\u001b[2mloader.py\u001b[0m\u001b]8;;\u001b\\\u001b[2m:\u001b[0m\u001b]8;id=53205;file:///Users/jaco/opt/anaconda3/envs/smefit_tutorial/lib/python3.11/site-packages/smefit/loader.py#135\u001b\\\u001b[2m135\u001b[0m\u001b]8;;\u001b\\\n"
      ]
     },
     "metadata": {},
     "output_type": "display_data"
    },
    {
     "data": {
      "text/html": [
       "<pre style=\"white-space:pre;overflow-x:auto;line-height:normal;font-family:Menlo,'DejaVu Sans Mono',consolas,'Courier New',monospace\"><span style=\"color: #7fbfbf; text-decoration-color: #7fbfbf\">           </span><span style=\"color: #000080; text-decoration-color: #000080\">INFO    </span> Loading dataset : ATLAS_tW_13TeV_inc                                              <a href=\"file:///Users/jaco/opt/anaconda3/envs/smefit_tutorial/lib/python3.11/site-packages/smefit/loader.py\" target=\"_blank\"><span style=\"color: #7f7f7f; text-decoration-color: #7f7f7f\">loader.py</span></a><span style=\"color: #7f7f7f; text-decoration-color: #7f7f7f\">:</span><a href=\"file:///Users/jaco/opt/anaconda3/envs/smefit_tutorial/lib/python3.11/site-packages/smefit/loader.py#135\" target=\"_blank\"><span style=\"color: #7f7f7f; text-decoration-color: #7f7f7f\">135</span></a>\n",
       "</pre>\n"
      ],
      "text/plain": [
       "\u001b[2;36m          \u001b[0m\u001b[2;36m \u001b[0m\u001b[34mINFO    \u001b[0m Loading dataset : ATLAS_tW_13TeV_inc                                              \u001b]8;id=553423;file:///Users/jaco/opt/anaconda3/envs/smefit_tutorial/lib/python3.11/site-packages/smefit/loader.py\u001b\\\u001b[2mloader.py\u001b[0m\u001b]8;;\u001b\\\u001b[2m:\u001b[0m\u001b]8;id=778134;file:///Users/jaco/opt/anaconda3/envs/smefit_tutorial/lib/python3.11/site-packages/smefit/loader.py#135\u001b\\\u001b[2m135\u001b[0m\u001b]8;;\u001b\\\n"
      ]
     },
     "metadata": {},
     "output_type": "display_data"
    },
    {
     "data": {
      "text/html": [
       "<pre style=\"white-space:pre;overflow-x:auto;line-height:normal;font-family:Menlo,'DejaVu Sans Mono',consolas,'Courier New',monospace\"><span style=\"color: #7fbfbf; text-decoration-color: #7fbfbf\">           </span><span style=\"color: #000080; text-decoration-color: #000080\">INFO    </span> Loading dataset : ATLAS_tW_8TeV_inc                                               <a href=\"file:///Users/jaco/opt/anaconda3/envs/smefit_tutorial/lib/python3.11/site-packages/smefit/loader.py\" target=\"_blank\"><span style=\"color: #7f7f7f; text-decoration-color: #7f7f7f\">loader.py</span></a><span style=\"color: #7f7f7f; text-decoration-color: #7f7f7f\">:</span><a href=\"file:///Users/jaco/opt/anaconda3/envs/smefit_tutorial/lib/python3.11/site-packages/smefit/loader.py#135\" target=\"_blank\"><span style=\"color: #7f7f7f; text-decoration-color: #7f7f7f\">135</span></a>\n",
       "</pre>\n"
      ],
      "text/plain": [
       "\u001b[2;36m          \u001b[0m\u001b[2;36m \u001b[0m\u001b[34mINFO    \u001b[0m Loading dataset : ATLAS_tW_8TeV_inc                                               \u001b]8;id=975201;file:///Users/jaco/opt/anaconda3/envs/smefit_tutorial/lib/python3.11/site-packages/smefit/loader.py\u001b\\\u001b[2mloader.py\u001b[0m\u001b]8;;\u001b\\\u001b[2m:\u001b[0m\u001b]8;id=397489;file:///Users/jaco/opt/anaconda3/envs/smefit_tutorial/lib/python3.11/site-packages/smefit/loader.py#135\u001b\\\u001b[2m135\u001b[0m\u001b]8;;\u001b\\\n"
      ]
     },
     "metadata": {},
     "output_type": "display_data"
    },
    {
     "data": {
      "text/html": [
       "<pre style=\"white-space:pre;overflow-x:auto;line-height:normal;font-family:Menlo,'DejaVu Sans Mono',consolas,'Courier New',monospace\"><span style=\"color: #7fbfbf; text-decoration-color: #7fbfbf\">           </span><span style=\"color: #000080; text-decoration-color: #000080\">INFO    </span> Loading dataset : ATLAS_tW_slep_8TeV_inc                                          <a href=\"file:///Users/jaco/opt/anaconda3/envs/smefit_tutorial/lib/python3.11/site-packages/smefit/loader.py\" target=\"_blank\"><span style=\"color: #7f7f7f; text-decoration-color: #7f7f7f\">loader.py</span></a><span style=\"color: #7f7f7f; text-decoration-color: #7f7f7f\">:</span><a href=\"file:///Users/jaco/opt/anaconda3/envs/smefit_tutorial/lib/python3.11/site-packages/smefit/loader.py#135\" target=\"_blank\"><span style=\"color: #7f7f7f; text-decoration-color: #7f7f7f\">135</span></a>\n",
       "</pre>\n"
      ],
      "text/plain": [
       "\u001b[2;36m          \u001b[0m\u001b[2;36m \u001b[0m\u001b[34mINFO    \u001b[0m Loading dataset : ATLAS_tW_slep_8TeV_inc                                          \u001b]8;id=442015;file:///Users/jaco/opt/anaconda3/envs/smefit_tutorial/lib/python3.11/site-packages/smefit/loader.py\u001b\\\u001b[2mloader.py\u001b[0m\u001b]8;;\u001b\\\u001b[2m:\u001b[0m\u001b]8;id=85030;file:///Users/jaco/opt/anaconda3/envs/smefit_tutorial/lib/python3.11/site-packages/smefit/loader.py#135\u001b\\\u001b[2m135\u001b[0m\u001b]8;;\u001b\\\n"
      ]
     },
     "metadata": {},
     "output_type": "display_data"
    },
    {
     "data": {
      "text/html": [
       "<pre style=\"white-space:pre;overflow-x:auto;line-height:normal;font-family:Menlo,'DejaVu Sans Mono',consolas,'Courier New',monospace\"><span style=\"color: #7fbfbf; text-decoration-color: #7fbfbf\">           </span><span style=\"color: #000080; text-decoration-color: #000080\">INFO    </span> Loading dataset : ATLAS_tZ_13TeV_inc                                              <a href=\"file:///Users/jaco/opt/anaconda3/envs/smefit_tutorial/lib/python3.11/site-packages/smefit/loader.py\" target=\"_blank\"><span style=\"color: #7f7f7f; text-decoration-color: #7f7f7f\">loader.py</span></a><span style=\"color: #7f7f7f; text-decoration-color: #7f7f7f\">:</span><a href=\"file:///Users/jaco/opt/anaconda3/envs/smefit_tutorial/lib/python3.11/site-packages/smefit/loader.py#135\" target=\"_blank\"><span style=\"color: #7f7f7f; text-decoration-color: #7f7f7f\">135</span></a>\n",
       "</pre>\n"
      ],
      "text/plain": [
       "\u001b[2;36m          \u001b[0m\u001b[2;36m \u001b[0m\u001b[34mINFO    \u001b[0m Loading dataset : ATLAS_tZ_13TeV_inc                                              \u001b]8;id=93466;file:///Users/jaco/opt/anaconda3/envs/smefit_tutorial/lib/python3.11/site-packages/smefit/loader.py\u001b\\\u001b[2mloader.py\u001b[0m\u001b]8;;\u001b\\\u001b[2m:\u001b[0m\u001b]8;id=149435;file:///Users/jaco/opt/anaconda3/envs/smefit_tutorial/lib/python3.11/site-packages/smefit/loader.py#135\u001b\\\u001b[2m135\u001b[0m\u001b]8;;\u001b\\\n"
      ]
     },
     "metadata": {},
     "output_type": "display_data"
    },
    {
     "data": {
      "text/html": [
       "<pre style=\"white-space:pre;overflow-x:auto;line-height:normal;font-family:Menlo,'DejaVu Sans Mono',consolas,'Courier New',monospace\"><span style=\"color: #7fbfbf; text-decoration-color: #7fbfbf\">           </span><span style=\"color: #000080; text-decoration-color: #000080\">INFO    </span> Loading dataset : ATLAS_tZ_13TeV_run2_inc                                         <a href=\"file:///Users/jaco/opt/anaconda3/envs/smefit_tutorial/lib/python3.11/site-packages/smefit/loader.py\" target=\"_blank\"><span style=\"color: #7f7f7f; text-decoration-color: #7f7f7f\">loader.py</span></a><span style=\"color: #7f7f7f; text-decoration-color: #7f7f7f\">:</span><a href=\"file:///Users/jaco/opt/anaconda3/envs/smefit_tutorial/lib/python3.11/site-packages/smefit/loader.py#135\" target=\"_blank\"><span style=\"color: #7f7f7f; text-decoration-color: #7f7f7f\">135</span></a>\n",
       "</pre>\n"
      ],
      "text/plain": [
       "\u001b[2;36m          \u001b[0m\u001b[2;36m \u001b[0m\u001b[34mINFO    \u001b[0m Loading dataset : ATLAS_tZ_13TeV_run2_inc                                         \u001b]8;id=970293;file:///Users/jaco/opt/anaconda3/envs/smefit_tutorial/lib/python3.11/site-packages/smefit/loader.py\u001b\\\u001b[2mloader.py\u001b[0m\u001b]8;;\u001b\\\u001b[2m:\u001b[0m\u001b]8;id=182203;file:///Users/jaco/opt/anaconda3/envs/smefit_tutorial/lib/python3.11/site-packages/smefit/loader.py#135\u001b\\\u001b[2m135\u001b[0m\u001b]8;;\u001b\\\n"
      ]
     },
     "metadata": {},
     "output_type": "display_data"
    },
    {
     "data": {
      "text/html": [
       "<pre style=\"white-space:pre;overflow-x:auto;line-height:normal;font-family:Menlo,'DejaVu Sans Mono',consolas,'Courier New',monospace\"><span style=\"color: #7fbfbf; text-decoration-color: #7fbfbf\">           </span><span style=\"color: #000080; text-decoration-color: #000080\">INFO    </span> Loading dataset : ATLAS_t_sch_13TeV_inc                                           <a href=\"file:///Users/jaco/opt/anaconda3/envs/smefit_tutorial/lib/python3.11/site-packages/smefit/loader.py\" target=\"_blank\"><span style=\"color: #7f7f7f; text-decoration-color: #7f7f7f\">loader.py</span></a><span style=\"color: #7f7f7f; text-decoration-color: #7f7f7f\">:</span><a href=\"file:///Users/jaco/opt/anaconda3/envs/smefit_tutorial/lib/python3.11/site-packages/smefit/loader.py#135\" target=\"_blank\"><span style=\"color: #7f7f7f; text-decoration-color: #7f7f7f\">135</span></a>\n",
       "</pre>\n"
      ],
      "text/plain": [
       "\u001b[2;36m          \u001b[0m\u001b[2;36m \u001b[0m\u001b[34mINFO    \u001b[0m Loading dataset : ATLAS_t_sch_13TeV_inc                                           \u001b]8;id=872529;file:///Users/jaco/opt/anaconda3/envs/smefit_tutorial/lib/python3.11/site-packages/smefit/loader.py\u001b\\\u001b[2mloader.py\u001b[0m\u001b]8;;\u001b\\\u001b[2m:\u001b[0m\u001b]8;id=871103;file:///Users/jaco/opt/anaconda3/envs/smefit_tutorial/lib/python3.11/site-packages/smefit/loader.py#135\u001b\\\u001b[2m135\u001b[0m\u001b]8;;\u001b\\\n"
      ]
     },
     "metadata": {},
     "output_type": "display_data"
    },
    {
     "data": {
      "text/html": [
       "<pre style=\"white-space:pre;overflow-x:auto;line-height:normal;font-family:Menlo,'DejaVu Sans Mono',consolas,'Courier New',monospace\"><span style=\"color: #7fbfbf; text-decoration-color: #7fbfbf\">           </span><span style=\"color: #000080; text-decoration-color: #000080\">INFO    </span> Loading dataset : ATLAS_t_sch_8TeV                                                <a href=\"file:///Users/jaco/opt/anaconda3/envs/smefit_tutorial/lib/python3.11/site-packages/smefit/loader.py\" target=\"_blank\"><span style=\"color: #7f7f7f; text-decoration-color: #7f7f7f\">loader.py</span></a><span style=\"color: #7f7f7f; text-decoration-color: #7f7f7f\">:</span><a href=\"file:///Users/jaco/opt/anaconda3/envs/smefit_tutorial/lib/python3.11/site-packages/smefit/loader.py#135\" target=\"_blank\"><span style=\"color: #7f7f7f; text-decoration-color: #7f7f7f\">135</span></a>\n",
       "</pre>\n"
      ],
      "text/plain": [
       "\u001b[2;36m          \u001b[0m\u001b[2;36m \u001b[0m\u001b[34mINFO    \u001b[0m Loading dataset : ATLAS_t_sch_8TeV                                                \u001b]8;id=168221;file:///Users/jaco/opt/anaconda3/envs/smefit_tutorial/lib/python3.11/site-packages/smefit/loader.py\u001b\\\u001b[2mloader.py\u001b[0m\u001b]8;;\u001b\\\u001b[2m:\u001b[0m\u001b]8;id=360937;file:///Users/jaco/opt/anaconda3/envs/smefit_tutorial/lib/python3.11/site-packages/smefit/loader.py#135\u001b\\\u001b[2m135\u001b[0m\u001b]8;;\u001b\\\n"
      ]
     },
     "metadata": {},
     "output_type": "display_data"
    },
    {
     "data": {
      "text/html": [
       "<pre style=\"white-space:pre;overflow-x:auto;line-height:normal;font-family:Menlo,'DejaVu Sans Mono',consolas,'Courier New',monospace\"><span style=\"color: #7fbfbf; text-decoration-color: #7fbfbf\">           </span><span style=\"color: #000080; text-decoration-color: #000080\">INFO    </span> Loading dataset : ATLAS_t_tch_13TeV_inc                                           <a href=\"file:///Users/jaco/opt/anaconda3/envs/smefit_tutorial/lib/python3.11/site-packages/smefit/loader.py\" target=\"_blank\"><span style=\"color: #7f7f7f; text-decoration-color: #7f7f7f\">loader.py</span></a><span style=\"color: #7f7f7f; text-decoration-color: #7f7f7f\">:</span><a href=\"file:///Users/jaco/opt/anaconda3/envs/smefit_tutorial/lib/python3.11/site-packages/smefit/loader.py#135\" target=\"_blank\"><span style=\"color: #7f7f7f; text-decoration-color: #7f7f7f\">135</span></a>\n",
       "</pre>\n"
      ],
      "text/plain": [
       "\u001b[2;36m          \u001b[0m\u001b[2;36m \u001b[0m\u001b[34mINFO    \u001b[0m Loading dataset : ATLAS_t_tch_13TeV_inc                                           \u001b]8;id=116529;file:///Users/jaco/opt/anaconda3/envs/smefit_tutorial/lib/python3.11/site-packages/smefit/loader.py\u001b\\\u001b[2mloader.py\u001b[0m\u001b]8;;\u001b\\\u001b[2m:\u001b[0m\u001b]8;id=571384;file:///Users/jaco/opt/anaconda3/envs/smefit_tutorial/lib/python3.11/site-packages/smefit/loader.py#135\u001b\\\u001b[2m135\u001b[0m\u001b]8;;\u001b\\\n"
      ]
     },
     "metadata": {},
     "output_type": "display_data"
    },
    {
     "data": {
      "text/html": [
       "<pre style=\"white-space:pre;overflow-x:auto;line-height:normal;font-family:Menlo,'DejaVu Sans Mono',consolas,'Courier New',monospace\"><span style=\"color: #7fbfbf; text-decoration-color: #7fbfbf\">           </span><span style=\"color: #000080; text-decoration-color: #000080\">INFO    </span> Loading dataset : ATLAS_t_tch_8TeV_diff_Yt                                        <a href=\"file:///Users/jaco/opt/anaconda3/envs/smefit_tutorial/lib/python3.11/site-packages/smefit/loader.py\" target=\"_blank\"><span style=\"color: #7f7f7f; text-decoration-color: #7f7f7f\">loader.py</span></a><span style=\"color: #7f7f7f; text-decoration-color: #7f7f7f\">:</span><a href=\"file:///Users/jaco/opt/anaconda3/envs/smefit_tutorial/lib/python3.11/site-packages/smefit/loader.py#135\" target=\"_blank\"><span style=\"color: #7f7f7f; text-decoration-color: #7f7f7f\">135</span></a>\n",
       "</pre>\n"
      ],
      "text/plain": [
       "\u001b[2;36m          \u001b[0m\u001b[2;36m \u001b[0m\u001b[34mINFO    \u001b[0m Loading dataset : ATLAS_t_tch_8TeV_diff_Yt                                        \u001b]8;id=473351;file:///Users/jaco/opt/anaconda3/envs/smefit_tutorial/lib/python3.11/site-packages/smefit/loader.py\u001b\\\u001b[2mloader.py\u001b[0m\u001b]8;;\u001b\\\u001b[2m:\u001b[0m\u001b]8;id=341621;file:///Users/jaco/opt/anaconda3/envs/smefit_tutorial/lib/python3.11/site-packages/smefit/loader.py#135\u001b\\\u001b[2m135\u001b[0m\u001b]8;;\u001b\\\n"
      ]
     },
     "metadata": {},
     "output_type": "display_data"
    },
    {
     "data": {
      "text/html": [
       "<pre style=\"white-space:pre;overflow-x:auto;line-height:normal;font-family:Menlo,'DejaVu Sans Mono',consolas,'Courier New',monospace\"><span style=\"color: #7fbfbf; text-decoration-color: #7fbfbf\">           </span><span style=\"color: #000080; text-decoration-color: #000080\">INFO    </span> Loading dataset : ATLAS_ttW_13TeV                                                 <a href=\"file:///Users/jaco/opt/anaconda3/envs/smefit_tutorial/lib/python3.11/site-packages/smefit/loader.py\" target=\"_blank\"><span style=\"color: #7f7f7f; text-decoration-color: #7f7f7f\">loader.py</span></a><span style=\"color: #7f7f7f; text-decoration-color: #7f7f7f\">:</span><a href=\"file:///Users/jaco/opt/anaconda3/envs/smefit_tutorial/lib/python3.11/site-packages/smefit/loader.py#135\" target=\"_blank\"><span style=\"color: #7f7f7f; text-decoration-color: #7f7f7f\">135</span></a>\n",
       "</pre>\n"
      ],
      "text/plain": [
       "\u001b[2;36m          \u001b[0m\u001b[2;36m \u001b[0m\u001b[34mINFO    \u001b[0m Loading dataset : ATLAS_ttW_13TeV                                                 \u001b]8;id=972810;file:///Users/jaco/opt/anaconda3/envs/smefit_tutorial/lib/python3.11/site-packages/smefit/loader.py\u001b\\\u001b[2mloader.py\u001b[0m\u001b]8;;\u001b\\\u001b[2m:\u001b[0m\u001b]8;id=792;file:///Users/jaco/opt/anaconda3/envs/smefit_tutorial/lib/python3.11/site-packages/smefit/loader.py#135\u001b\\\u001b[2m135\u001b[0m\u001b]8;;\u001b\\\n"
      ]
     },
     "metadata": {},
     "output_type": "display_data"
    },
    {
     "data": {
      "text/html": [
       "<pre style=\"white-space:pre;overflow-x:auto;line-height:normal;font-family:Menlo,'DejaVu Sans Mono',consolas,'Courier New',monospace\"><span style=\"color: #7fbfbf; text-decoration-color: #7fbfbf\">           </span><span style=\"color: #000080; text-decoration-color: #000080\">INFO    </span> Loading dataset : ATLAS_ttW_13TeV_2016                                            <a href=\"file:///Users/jaco/opt/anaconda3/envs/smefit_tutorial/lib/python3.11/site-packages/smefit/loader.py\" target=\"_blank\"><span style=\"color: #7f7f7f; text-decoration-color: #7f7f7f\">loader.py</span></a><span style=\"color: #7f7f7f; text-decoration-color: #7f7f7f\">:</span><a href=\"file:///Users/jaco/opt/anaconda3/envs/smefit_tutorial/lib/python3.11/site-packages/smefit/loader.py#135\" target=\"_blank\"><span style=\"color: #7f7f7f; text-decoration-color: #7f7f7f\">135</span></a>\n",
       "</pre>\n"
      ],
      "text/plain": [
       "\u001b[2;36m          \u001b[0m\u001b[2;36m \u001b[0m\u001b[34mINFO    \u001b[0m Loading dataset : ATLAS_ttW_13TeV_2016                                            \u001b]8;id=113547;file:///Users/jaco/opt/anaconda3/envs/smefit_tutorial/lib/python3.11/site-packages/smefit/loader.py\u001b\\\u001b[2mloader.py\u001b[0m\u001b]8;;\u001b\\\u001b[2m:\u001b[0m\u001b]8;id=498195;file:///Users/jaco/opt/anaconda3/envs/smefit_tutorial/lib/python3.11/site-packages/smefit/loader.py#135\u001b\\\u001b[2m135\u001b[0m\u001b]8;;\u001b\\\n"
      ]
     },
     "metadata": {},
     "output_type": "display_data"
    },
    {
     "data": {
      "text/html": [
       "<pre style=\"white-space:pre;overflow-x:auto;line-height:normal;font-family:Menlo,'DejaVu Sans Mono',consolas,'Courier New',monospace\"><span style=\"color: #7fbfbf; text-decoration-color: #7fbfbf\">           </span><span style=\"color: #000080; text-decoration-color: #000080\">INFO    </span> Loading dataset : ATLAS_ttW_8TeV                                                  <a href=\"file:///Users/jaco/opt/anaconda3/envs/smefit_tutorial/lib/python3.11/site-packages/smefit/loader.py\" target=\"_blank\"><span style=\"color: #7f7f7f; text-decoration-color: #7f7f7f\">loader.py</span></a><span style=\"color: #7f7f7f; text-decoration-color: #7f7f7f\">:</span><a href=\"file:///Users/jaco/opt/anaconda3/envs/smefit_tutorial/lib/python3.11/site-packages/smefit/loader.py#135\" target=\"_blank\"><span style=\"color: #7f7f7f; text-decoration-color: #7f7f7f\">135</span></a>\n",
       "</pre>\n"
      ],
      "text/plain": [
       "\u001b[2;36m          \u001b[0m\u001b[2;36m \u001b[0m\u001b[34mINFO    \u001b[0m Loading dataset : ATLAS_ttW_8TeV                                                  \u001b]8;id=738659;file:///Users/jaco/opt/anaconda3/envs/smefit_tutorial/lib/python3.11/site-packages/smefit/loader.py\u001b\\\u001b[2mloader.py\u001b[0m\u001b]8;;\u001b\\\u001b[2m:\u001b[0m\u001b]8;id=970835;file:///Users/jaco/opt/anaconda3/envs/smefit_tutorial/lib/python3.11/site-packages/smefit/loader.py#135\u001b\\\u001b[2m135\u001b[0m\u001b]8;;\u001b\\\n"
      ]
     },
     "metadata": {},
     "output_type": "display_data"
    },
    {
     "data": {
      "text/html": [
       "<pre style=\"white-space:pre;overflow-x:auto;line-height:normal;font-family:Menlo,'DejaVu Sans Mono',consolas,'Courier New',monospace\"><span style=\"color: #7fbfbf; text-decoration-color: #7fbfbf\">           </span><span style=\"color: #000080; text-decoration-color: #000080\">INFO    </span> Loading dataset : ATLAS_ttZ_13TeV                                                 <a href=\"file:///Users/jaco/opt/anaconda3/envs/smefit_tutorial/lib/python3.11/site-packages/smefit/loader.py\" target=\"_blank\"><span style=\"color: #7f7f7f; text-decoration-color: #7f7f7f\">loader.py</span></a><span style=\"color: #7f7f7f; text-decoration-color: #7f7f7f\">:</span><a href=\"file:///Users/jaco/opt/anaconda3/envs/smefit_tutorial/lib/python3.11/site-packages/smefit/loader.py#135\" target=\"_blank\"><span style=\"color: #7f7f7f; text-decoration-color: #7f7f7f\">135</span></a>\n",
       "</pre>\n"
      ],
      "text/plain": [
       "\u001b[2;36m          \u001b[0m\u001b[2;36m \u001b[0m\u001b[34mINFO    \u001b[0m Loading dataset : ATLAS_ttZ_13TeV                                                 \u001b]8;id=553184;file:///Users/jaco/opt/anaconda3/envs/smefit_tutorial/lib/python3.11/site-packages/smefit/loader.py\u001b\\\u001b[2mloader.py\u001b[0m\u001b]8;;\u001b\\\u001b[2m:\u001b[0m\u001b]8;id=325813;file:///Users/jaco/opt/anaconda3/envs/smefit_tutorial/lib/python3.11/site-packages/smefit/loader.py#135\u001b\\\u001b[2m135\u001b[0m\u001b]8;;\u001b\\\n"
      ]
     },
     "metadata": {},
     "output_type": "display_data"
    },
    {
     "data": {
      "text/html": [
       "<pre style=\"white-space:pre;overflow-x:auto;line-height:normal;font-family:Menlo,'DejaVu Sans Mono',consolas,'Courier New',monospace\"><span style=\"color: #7fbfbf; text-decoration-color: #7fbfbf\">           </span><span style=\"color: #000080; text-decoration-color: #000080\">INFO    </span> Loading dataset : ATLAS_ttZ_13TeV_2016                                            <a href=\"file:///Users/jaco/opt/anaconda3/envs/smefit_tutorial/lib/python3.11/site-packages/smefit/loader.py\" target=\"_blank\"><span style=\"color: #7f7f7f; text-decoration-color: #7f7f7f\">loader.py</span></a><span style=\"color: #7f7f7f; text-decoration-color: #7f7f7f\">:</span><a href=\"file:///Users/jaco/opt/anaconda3/envs/smefit_tutorial/lib/python3.11/site-packages/smefit/loader.py#135\" target=\"_blank\"><span style=\"color: #7f7f7f; text-decoration-color: #7f7f7f\">135</span></a>\n",
       "</pre>\n"
      ],
      "text/plain": [
       "\u001b[2;36m          \u001b[0m\u001b[2;36m \u001b[0m\u001b[34mINFO    \u001b[0m Loading dataset : ATLAS_ttZ_13TeV_2016                                            \u001b]8;id=151306;file:///Users/jaco/opt/anaconda3/envs/smefit_tutorial/lib/python3.11/site-packages/smefit/loader.py\u001b\\\u001b[2mloader.py\u001b[0m\u001b]8;;\u001b\\\u001b[2m:\u001b[0m\u001b]8;id=517336;file:///Users/jaco/opt/anaconda3/envs/smefit_tutorial/lib/python3.11/site-packages/smefit/loader.py#135\u001b\\\u001b[2m135\u001b[0m\u001b]8;;\u001b\\\n"
      ]
     },
     "metadata": {},
     "output_type": "display_data"
    },
    {
     "data": {
      "text/html": [
       "<pre style=\"white-space:pre;overflow-x:auto;line-height:normal;font-family:Menlo,'DejaVu Sans Mono',consolas,'Courier New',monospace\"><span style=\"color: #7fbfbf; text-decoration-color: #7fbfbf\">           </span><span style=\"color: #000080; text-decoration-color: #000080\">INFO    </span> Loading dataset : ATLAS_ttZ_13TeV_pTZ                                             <a href=\"file:///Users/jaco/opt/anaconda3/envs/smefit_tutorial/lib/python3.11/site-packages/smefit/loader.py\" target=\"_blank\"><span style=\"color: #7f7f7f; text-decoration-color: #7f7f7f\">loader.py</span></a><span style=\"color: #7f7f7f; text-decoration-color: #7f7f7f\">:</span><a href=\"file:///Users/jaco/opt/anaconda3/envs/smefit_tutorial/lib/python3.11/site-packages/smefit/loader.py#135\" target=\"_blank\"><span style=\"color: #7f7f7f; text-decoration-color: #7f7f7f\">135</span></a>\n",
       "</pre>\n"
      ],
      "text/plain": [
       "\u001b[2;36m          \u001b[0m\u001b[2;36m \u001b[0m\u001b[34mINFO    \u001b[0m Loading dataset : ATLAS_ttZ_13TeV_pTZ                                             \u001b]8;id=779063;file:///Users/jaco/opt/anaconda3/envs/smefit_tutorial/lib/python3.11/site-packages/smefit/loader.py\u001b\\\u001b[2mloader.py\u001b[0m\u001b]8;;\u001b\\\u001b[2m:\u001b[0m\u001b]8;id=926513;file:///Users/jaco/opt/anaconda3/envs/smefit_tutorial/lib/python3.11/site-packages/smefit/loader.py#135\u001b\\\u001b[2m135\u001b[0m\u001b]8;;\u001b\\\n"
      ]
     },
     "metadata": {},
     "output_type": "display_data"
    },
    {
     "data": {
      "text/html": [
       "<pre style=\"white-space:pre;overflow-x:auto;line-height:normal;font-family:Menlo,'DejaVu Sans Mono',consolas,'Courier New',monospace\"><span style=\"color: #7fbfbf; text-decoration-color: #7fbfbf\">           </span><span style=\"color: #000080; text-decoration-color: #000080\">INFO    </span> Loading dataset : ATLAS_ttZ_8TeV                                                  <a href=\"file:///Users/jaco/opt/anaconda3/envs/smefit_tutorial/lib/python3.11/site-packages/smefit/loader.py\" target=\"_blank\"><span style=\"color: #7f7f7f; text-decoration-color: #7f7f7f\">loader.py</span></a><span style=\"color: #7f7f7f; text-decoration-color: #7f7f7f\">:</span><a href=\"file:///Users/jaco/opt/anaconda3/envs/smefit_tutorial/lib/python3.11/site-packages/smefit/loader.py#135\" target=\"_blank\"><span style=\"color: #7f7f7f; text-decoration-color: #7f7f7f\">135</span></a>\n",
       "</pre>\n"
      ],
      "text/plain": [
       "\u001b[2;36m          \u001b[0m\u001b[2;36m \u001b[0m\u001b[34mINFO    \u001b[0m Loading dataset : ATLAS_ttZ_8TeV                                                  \u001b]8;id=751096;file:///Users/jaco/opt/anaconda3/envs/smefit_tutorial/lib/python3.11/site-packages/smefit/loader.py\u001b\\\u001b[2mloader.py\u001b[0m\u001b]8;;\u001b\\\u001b[2m:\u001b[0m\u001b]8;id=800207;file:///Users/jaco/opt/anaconda3/envs/smefit_tutorial/lib/python3.11/site-packages/smefit/loader.py#135\u001b\\\u001b[2m135\u001b[0m\u001b]8;;\u001b\\\n"
      ]
     },
     "metadata": {},
     "output_type": "display_data"
    },
    {
     "data": {
      "text/html": [
       "<pre style=\"white-space:pre;overflow-x:auto;line-height:normal;font-family:Menlo,'DejaVu Sans Mono',consolas,'Courier New',monospace\"><span style=\"color: #7fbfbf; text-decoration-color: #7fbfbf\">           </span><span style=\"color: #000080; text-decoration-color: #000080\">INFO    </span> Loading dataset : ATLAS_tt_13TeV_asy_2022                                         <a href=\"file:///Users/jaco/opt/anaconda3/envs/smefit_tutorial/lib/python3.11/site-packages/smefit/loader.py\" target=\"_blank\"><span style=\"color: #7f7f7f; text-decoration-color: #7f7f7f\">loader.py</span></a><span style=\"color: #7f7f7f; text-decoration-color: #7f7f7f\">:</span><a href=\"file:///Users/jaco/opt/anaconda3/envs/smefit_tutorial/lib/python3.11/site-packages/smefit/loader.py#135\" target=\"_blank\"><span style=\"color: #7f7f7f; text-decoration-color: #7f7f7f\">135</span></a>\n",
       "</pre>\n"
      ],
      "text/plain": [
       "\u001b[2;36m          \u001b[0m\u001b[2;36m \u001b[0m\u001b[34mINFO    \u001b[0m Loading dataset : ATLAS_tt_13TeV_asy_2022                                         \u001b]8;id=107120;file:///Users/jaco/opt/anaconda3/envs/smefit_tutorial/lib/python3.11/site-packages/smefit/loader.py\u001b\\\u001b[2mloader.py\u001b[0m\u001b]8;;\u001b\\\u001b[2m:\u001b[0m\u001b]8;id=100406;file:///Users/jaco/opt/anaconda3/envs/smefit_tutorial/lib/python3.11/site-packages/smefit/loader.py#135\u001b\\\u001b[2m135\u001b[0m\u001b]8;;\u001b\\\n"
      ]
     },
     "metadata": {},
     "output_type": "display_data"
    },
    {
     "data": {
      "text/html": [
       "<pre style=\"white-space:pre;overflow-x:auto;line-height:normal;font-family:Menlo,'DejaVu Sans Mono',consolas,'Courier New',monospace\"><span style=\"color: #7fbfbf; text-decoration-color: #7fbfbf\">           </span><span style=\"color: #000080; text-decoration-color: #000080\">INFO    </span> Loading dataset : ATLAS_tt_13TeV_ljets_2016_Mtt                                   <a href=\"file:///Users/jaco/opt/anaconda3/envs/smefit_tutorial/lib/python3.11/site-packages/smefit/loader.py\" target=\"_blank\"><span style=\"color: #7f7f7f; text-decoration-color: #7f7f7f\">loader.py</span></a><span style=\"color: #7f7f7f; text-decoration-color: #7f7f7f\">:</span><a href=\"file:///Users/jaco/opt/anaconda3/envs/smefit_tutorial/lib/python3.11/site-packages/smefit/loader.py#135\" target=\"_blank\"><span style=\"color: #7f7f7f; text-decoration-color: #7f7f7f\">135</span></a>\n",
       "</pre>\n"
      ],
      "text/plain": [
       "\u001b[2;36m          \u001b[0m\u001b[2;36m \u001b[0m\u001b[34mINFO    \u001b[0m Loading dataset : ATLAS_tt_13TeV_ljets_2016_Mtt                                   \u001b]8;id=621969;file:///Users/jaco/opt/anaconda3/envs/smefit_tutorial/lib/python3.11/site-packages/smefit/loader.py\u001b\\\u001b[2mloader.py\u001b[0m\u001b]8;;\u001b\\\u001b[2m:\u001b[0m\u001b]8;id=867928;file:///Users/jaco/opt/anaconda3/envs/smefit_tutorial/lib/python3.11/site-packages/smefit/loader.py#135\u001b\\\u001b[2m135\u001b[0m\u001b]8;;\u001b\\\n"
      ]
     },
     "metadata": {},
     "output_type": "display_data"
    },
    {
     "data": {
      "text/html": [
       "<pre style=\"white-space:pre;overflow-x:auto;line-height:normal;font-family:Menlo,'DejaVu Sans Mono',consolas,'Courier New',monospace\"><span style=\"color: #7fbfbf; text-decoration-color: #7fbfbf\">           </span><span style=\"color: #000080; text-decoration-color: #000080\">INFO    </span> Loading dataset : ATLAS_tt_8TeV_dilep_Mtt                                         <a href=\"file:///Users/jaco/opt/anaconda3/envs/smefit_tutorial/lib/python3.11/site-packages/smefit/loader.py\" target=\"_blank\"><span style=\"color: #7f7f7f; text-decoration-color: #7f7f7f\">loader.py</span></a><span style=\"color: #7f7f7f; text-decoration-color: #7f7f7f\">:</span><a href=\"file:///Users/jaco/opt/anaconda3/envs/smefit_tutorial/lib/python3.11/site-packages/smefit/loader.py#135\" target=\"_blank\"><span style=\"color: #7f7f7f; text-decoration-color: #7f7f7f\">135</span></a>\n",
       "</pre>\n"
      ],
      "text/plain": [
       "\u001b[2;36m          \u001b[0m\u001b[2;36m \u001b[0m\u001b[34mINFO    \u001b[0m Loading dataset : ATLAS_tt_8TeV_dilep_Mtt                                         \u001b]8;id=618854;file:///Users/jaco/opt/anaconda3/envs/smefit_tutorial/lib/python3.11/site-packages/smefit/loader.py\u001b\\\u001b[2mloader.py\u001b[0m\u001b]8;;\u001b\\\u001b[2m:\u001b[0m\u001b]8;id=107382;file:///Users/jaco/opt/anaconda3/envs/smefit_tutorial/lib/python3.11/site-packages/smefit/loader.py#135\u001b\\\u001b[2m135\u001b[0m\u001b]8;;\u001b\\\n"
      ]
     },
     "metadata": {},
     "output_type": "display_data"
    },
    {
     "data": {
      "text/html": [
       "<pre style=\"white-space:pre;overflow-x:auto;line-height:normal;font-family:Menlo,'DejaVu Sans Mono',consolas,'Courier New',monospace\"><span style=\"color: #7fbfbf; text-decoration-color: #7fbfbf\">           </span><span style=\"color: #000080; text-decoration-color: #000080\">INFO    </span> Loading dataset : ATLAS_tt_8TeV_ljets_Mtt                                         <a href=\"file:///Users/jaco/opt/anaconda3/envs/smefit_tutorial/lib/python3.11/site-packages/smefit/loader.py\" target=\"_blank\"><span style=\"color: #7f7f7f; text-decoration-color: #7f7f7f\">loader.py</span></a><span style=\"color: #7f7f7f; text-decoration-color: #7f7f7f\">:</span><a href=\"file:///Users/jaco/opt/anaconda3/envs/smefit_tutorial/lib/python3.11/site-packages/smefit/loader.py#135\" target=\"_blank\"><span style=\"color: #7f7f7f; text-decoration-color: #7f7f7f\">135</span></a>\n",
       "</pre>\n"
      ],
      "text/plain": [
       "\u001b[2;36m          \u001b[0m\u001b[2;36m \u001b[0m\u001b[34mINFO    \u001b[0m Loading dataset : ATLAS_tt_8TeV_ljets_Mtt                                         \u001b]8;id=853268;file:///Users/jaco/opt/anaconda3/envs/smefit_tutorial/lib/python3.11/site-packages/smefit/loader.py\u001b\\\u001b[2mloader.py\u001b[0m\u001b]8;;\u001b\\\u001b[2m:\u001b[0m\u001b]8;id=519581;file:///Users/jaco/opt/anaconda3/envs/smefit_tutorial/lib/python3.11/site-packages/smefit/loader.py#135\u001b\\\u001b[2m135\u001b[0m\u001b]8;;\u001b\\\n"
      ]
     },
     "metadata": {},
     "output_type": "display_data"
    },
    {
     "data": {
      "text/html": [
       "<pre style=\"white-space:pre;overflow-x:auto;line-height:normal;font-family:Menlo,'DejaVu Sans Mono',consolas,'Courier New',monospace\"><span style=\"color: #7fbfbf; text-decoration-color: #7fbfbf\">           </span><span style=\"color: #000080; text-decoration-color: #000080\">INFO    </span> Loading dataset : ATLAS_tta_8TeV                                                  <a href=\"file:///Users/jaco/opt/anaconda3/envs/smefit_tutorial/lib/python3.11/site-packages/smefit/loader.py\" target=\"_blank\"><span style=\"color: #7f7f7f; text-decoration-color: #7f7f7f\">loader.py</span></a><span style=\"color: #7f7f7f; text-decoration-color: #7f7f7f\">:</span><a href=\"file:///Users/jaco/opt/anaconda3/envs/smefit_tutorial/lib/python3.11/site-packages/smefit/loader.py#135\" target=\"_blank\"><span style=\"color: #7f7f7f; text-decoration-color: #7f7f7f\">135</span></a>\n",
       "</pre>\n"
      ],
      "text/plain": [
       "\u001b[2;36m          \u001b[0m\u001b[2;36m \u001b[0m\u001b[34mINFO    \u001b[0m Loading dataset : ATLAS_tta_8TeV                                                  \u001b]8;id=19109;file:///Users/jaco/opt/anaconda3/envs/smefit_tutorial/lib/python3.11/site-packages/smefit/loader.py\u001b\\\u001b[2mloader.py\u001b[0m\u001b]8;;\u001b\\\u001b[2m:\u001b[0m\u001b]8;id=726554;file:///Users/jaco/opt/anaconda3/envs/smefit_tutorial/lib/python3.11/site-packages/smefit/loader.py#135\u001b\\\u001b[2m135\u001b[0m\u001b]8;;\u001b\\\n"
      ]
     },
     "metadata": {},
     "output_type": "display_data"
    },
    {
     "data": {
      "text/html": [
       "<pre style=\"white-space:pre;overflow-x:auto;line-height:normal;font-family:Menlo,'DejaVu Sans Mono',consolas,'Courier New',monospace\"><span style=\"color: #7fbfbf; text-decoration-color: #7fbfbf\">           </span><span style=\"color: #000080; text-decoration-color: #000080\">INFO    </span> Loading dataset : ATLAS_ttbb_13TeV_2016                                           <a href=\"file:///Users/jaco/opt/anaconda3/envs/smefit_tutorial/lib/python3.11/site-packages/smefit/loader.py\" target=\"_blank\"><span style=\"color: #7f7f7f; text-decoration-color: #7f7f7f\">loader.py</span></a><span style=\"color: #7f7f7f; text-decoration-color: #7f7f7f\">:</span><a href=\"file:///Users/jaco/opt/anaconda3/envs/smefit_tutorial/lib/python3.11/site-packages/smefit/loader.py#135\" target=\"_blank\"><span style=\"color: #7f7f7f; text-decoration-color: #7f7f7f\">135</span></a>\n",
       "</pre>\n"
      ],
      "text/plain": [
       "\u001b[2;36m          \u001b[0m\u001b[2;36m \u001b[0m\u001b[34mINFO    \u001b[0m Loading dataset : ATLAS_ttbb_13TeV_2016                                           \u001b]8;id=480529;file:///Users/jaco/opt/anaconda3/envs/smefit_tutorial/lib/python3.11/site-packages/smefit/loader.py\u001b\\\u001b[2mloader.py\u001b[0m\u001b]8;;\u001b\\\u001b[2m:\u001b[0m\u001b]8;id=755068;file:///Users/jaco/opt/anaconda3/envs/smefit_tutorial/lib/python3.11/site-packages/smefit/loader.py#135\u001b\\\u001b[2m135\u001b[0m\u001b]8;;\u001b\\\n"
      ]
     },
     "metadata": {},
     "output_type": "display_data"
    },
    {
     "data": {
      "text/html": [
       "<pre style=\"white-space:pre;overflow-x:auto;line-height:normal;font-family:Menlo,'DejaVu Sans Mono',consolas,'Courier New',monospace\"><span style=\"color: #7fbfbf; text-decoration-color: #7fbfbf\">           </span><span style=\"color: #000080; text-decoration-color: #000080\">INFO    </span> Loading dataset : ATLAS_tttt_13TeV_2023                                           <a href=\"file:///Users/jaco/opt/anaconda3/envs/smefit_tutorial/lib/python3.11/site-packages/smefit/loader.py\" target=\"_blank\"><span style=\"color: #7f7f7f; text-decoration-color: #7f7f7f\">loader.py</span></a><span style=\"color: #7f7f7f; text-decoration-color: #7f7f7f\">:</span><a href=\"file:///Users/jaco/opt/anaconda3/envs/smefit_tutorial/lib/python3.11/site-packages/smefit/loader.py#135\" target=\"_blank\"><span style=\"color: #7f7f7f; text-decoration-color: #7f7f7f\">135</span></a>\n",
       "</pre>\n"
      ],
      "text/plain": [
       "\u001b[2;36m          \u001b[0m\u001b[2;36m \u001b[0m\u001b[34mINFO    \u001b[0m Loading dataset : ATLAS_tttt_13TeV_2023                                           \u001b]8;id=167226;file:///Users/jaco/opt/anaconda3/envs/smefit_tutorial/lib/python3.11/site-packages/smefit/loader.py\u001b\\\u001b[2mloader.py\u001b[0m\u001b]8;;\u001b\\\u001b[2m:\u001b[0m\u001b]8;id=866671;file:///Users/jaco/opt/anaconda3/envs/smefit_tutorial/lib/python3.11/site-packages/smefit/loader.py#135\u001b\\\u001b[2m135\u001b[0m\u001b]8;;\u001b\\\n"
      ]
     },
     "metadata": {},
     "output_type": "display_data"
    },
    {
     "data": {
      "text/html": [
       "<pre style=\"white-space:pre;overflow-x:auto;line-height:normal;font-family:Menlo,'DejaVu Sans Mono',consolas,'Courier New',monospace\"><span style=\"color: #7fbfbf; text-decoration-color: #7fbfbf\">           </span><span style=\"color: #000080; text-decoration-color: #000080\">INFO    </span> Loading dataset : ATLAS_tttt_13TeV_run2                                           <a href=\"file:///Users/jaco/opt/anaconda3/envs/smefit_tutorial/lib/python3.11/site-packages/smefit/loader.py\" target=\"_blank\"><span style=\"color: #7f7f7f; text-decoration-color: #7f7f7f\">loader.py</span></a><span style=\"color: #7f7f7f; text-decoration-color: #7f7f7f\">:</span><a href=\"file:///Users/jaco/opt/anaconda3/envs/smefit_tutorial/lib/python3.11/site-packages/smefit/loader.py#135\" target=\"_blank\"><span style=\"color: #7f7f7f; text-decoration-color: #7f7f7f\">135</span></a>\n",
       "</pre>\n"
      ],
      "text/plain": [
       "\u001b[2;36m          \u001b[0m\u001b[2;36m \u001b[0m\u001b[34mINFO    \u001b[0m Loading dataset : ATLAS_tttt_13TeV_run2                                           \u001b]8;id=348797;file:///Users/jaco/opt/anaconda3/envs/smefit_tutorial/lib/python3.11/site-packages/smefit/loader.py\u001b\\\u001b[2mloader.py\u001b[0m\u001b]8;;\u001b\\\u001b[2m:\u001b[0m\u001b]8;id=325428;file:///Users/jaco/opt/anaconda3/envs/smefit_tutorial/lib/python3.11/site-packages/smefit/loader.py#135\u001b\\\u001b[2m135\u001b[0m\u001b]8;;\u001b\\\n"
      ]
     },
     "metadata": {},
     "output_type": "display_data"
    },
    {
     "data": {
      "text/html": [
       "<pre style=\"white-space:pre;overflow-x:auto;line-height:normal;font-family:Menlo,'DejaVu Sans Mono',consolas,'Courier New',monospace\"><span style=\"color: #7fbfbf; text-decoration-color: #7fbfbf\">           </span><span style=\"color: #000080; text-decoration-color: #000080\">INFO    </span> Loading dataset : ATLAS_tttt_13TeV_slep_inc                                       <a href=\"file:///Users/jaco/opt/anaconda3/envs/smefit_tutorial/lib/python3.11/site-packages/smefit/loader.py\" target=\"_blank\"><span style=\"color: #7f7f7f; text-decoration-color: #7f7f7f\">loader.py</span></a><span style=\"color: #7f7f7f; text-decoration-color: #7f7f7f\">:</span><a href=\"file:///Users/jaco/opt/anaconda3/envs/smefit_tutorial/lib/python3.11/site-packages/smefit/loader.py#135\" target=\"_blank\"><span style=\"color: #7f7f7f; text-decoration-color: #7f7f7f\">135</span></a>\n",
       "</pre>\n"
      ],
      "text/plain": [
       "\u001b[2;36m          \u001b[0m\u001b[2;36m \u001b[0m\u001b[34mINFO    \u001b[0m Loading dataset : ATLAS_tttt_13TeV_slep_inc                                       \u001b]8;id=757792;file:///Users/jaco/opt/anaconda3/envs/smefit_tutorial/lib/python3.11/site-packages/smefit/loader.py\u001b\\\u001b[2mloader.py\u001b[0m\u001b]8;;\u001b\\\u001b[2m:\u001b[0m\u001b]8;id=825616;file:///Users/jaco/opt/anaconda3/envs/smefit_tutorial/lib/python3.11/site-packages/smefit/loader.py#135\u001b\\\u001b[2m135\u001b[0m\u001b]8;;\u001b\\\n"
      ]
     },
     "metadata": {},
     "output_type": "display_data"
    },
    {
     "data": {
      "text/html": [
       "<pre style=\"white-space:pre;overflow-x:auto;line-height:normal;font-family:Menlo,'DejaVu Sans Mono',consolas,'Courier New',monospace\"><span style=\"color: #7fbfbf; text-decoration-color: #7fbfbf\">           </span><span style=\"color: #000080; text-decoration-color: #000080\">INFO    </span> Loading dataset : CMS_H_13TeV_2015_pTH                                            <a href=\"file:///Users/jaco/opt/anaconda3/envs/smefit_tutorial/lib/python3.11/site-packages/smefit/loader.py\" target=\"_blank\"><span style=\"color: #7f7f7f; text-decoration-color: #7f7f7f\">loader.py</span></a><span style=\"color: #7f7f7f; text-decoration-color: #7f7f7f\">:</span><a href=\"file:///Users/jaco/opt/anaconda3/envs/smefit_tutorial/lib/python3.11/site-packages/smefit/loader.py#135\" target=\"_blank\"><span style=\"color: #7f7f7f; text-decoration-color: #7f7f7f\">135</span></a>\n",
       "</pre>\n"
      ],
      "text/plain": [
       "\u001b[2;36m          \u001b[0m\u001b[2;36m \u001b[0m\u001b[34mINFO    \u001b[0m Loading dataset : CMS_H_13TeV_2015_pTH                                            \u001b]8;id=827232;file:///Users/jaco/opt/anaconda3/envs/smefit_tutorial/lib/python3.11/site-packages/smefit/loader.py\u001b\\\u001b[2mloader.py\u001b[0m\u001b]8;;\u001b\\\u001b[2m:\u001b[0m\u001b]8;id=572182;file:///Users/jaco/opt/anaconda3/envs/smefit_tutorial/lib/python3.11/site-packages/smefit/loader.py#135\u001b\\\u001b[2m135\u001b[0m\u001b]8;;\u001b\\\n"
      ]
     },
     "metadata": {},
     "output_type": "display_data"
    },
    {
     "data": {
      "text/html": [
       "<pre style=\"white-space:pre;overflow-x:auto;line-height:normal;font-family:Menlo,'DejaVu Sans Mono',consolas,'Courier New',monospace\"><span style=\"color: #7fbfbf; text-decoration-color: #7fbfbf\">           </span><span style=\"color: #000080; text-decoration-color: #000080\">INFO    </span> Loading dataset : CMS_SSinc_RunII                                                 <a href=\"file:///Users/jaco/opt/anaconda3/envs/smefit_tutorial/lib/python3.11/site-packages/smefit/loader.py\" target=\"_blank\"><span style=\"color: #7f7f7f; text-decoration-color: #7f7f7f\">loader.py</span></a><span style=\"color: #7f7f7f; text-decoration-color: #7f7f7f\">:</span><a href=\"file:///Users/jaco/opt/anaconda3/envs/smefit_tutorial/lib/python3.11/site-packages/smefit/loader.py#135\" target=\"_blank\"><span style=\"color: #7f7f7f; text-decoration-color: #7f7f7f\">135</span></a>\n",
       "</pre>\n"
      ],
      "text/plain": [
       "\u001b[2;36m          \u001b[0m\u001b[2;36m \u001b[0m\u001b[34mINFO    \u001b[0m Loading dataset : CMS_SSinc_RunII                                                 \u001b]8;id=850889;file:///Users/jaco/opt/anaconda3/envs/smefit_tutorial/lib/python3.11/site-packages/smefit/loader.py\u001b\\\u001b[2mloader.py\u001b[0m\u001b]8;;\u001b\\\u001b[2m:\u001b[0m\u001b]8;id=183643;file:///Users/jaco/opt/anaconda3/envs/smefit_tutorial/lib/python3.11/site-packages/smefit/loader.py#135\u001b\\\u001b[2m135\u001b[0m\u001b]8;;\u001b\\\n"
      ]
     },
     "metadata": {},
     "output_type": "display_data"
    },
    {
     "data": {
      "text/html": [
       "<pre style=\"white-space:pre;overflow-x:auto;line-height:normal;font-family:Menlo,'DejaVu Sans Mono',consolas,'Courier New',monospace\"><span style=\"color: #7fbfbf; text-decoration-color: #7fbfbf\">           </span><span style=\"color: #000080; text-decoration-color: #000080\">INFO    </span> Loading dataset : CMS_WZ_13TeV_2016_pTZ                                           <a href=\"file:///Users/jaco/opt/anaconda3/envs/smefit_tutorial/lib/python3.11/site-packages/smefit/loader.py\" target=\"_blank\"><span style=\"color: #7f7f7f; text-decoration-color: #7f7f7f\">loader.py</span></a><span style=\"color: #7f7f7f; text-decoration-color: #7f7f7f\">:</span><a href=\"file:///Users/jaco/opt/anaconda3/envs/smefit_tutorial/lib/python3.11/site-packages/smefit/loader.py#135\" target=\"_blank\"><span style=\"color: #7f7f7f; text-decoration-color: #7f7f7f\">135</span></a>\n",
       "</pre>\n"
      ],
      "text/plain": [
       "\u001b[2;36m          \u001b[0m\u001b[2;36m \u001b[0m\u001b[34mINFO    \u001b[0m Loading dataset : CMS_WZ_13TeV_2016_pTZ                                           \u001b]8;id=386365;file:///Users/jaco/opt/anaconda3/envs/smefit_tutorial/lib/python3.11/site-packages/smefit/loader.py\u001b\\\u001b[2mloader.py\u001b[0m\u001b]8;;\u001b\\\u001b[2m:\u001b[0m\u001b]8;id=607528;file:///Users/jaco/opt/anaconda3/envs/smefit_tutorial/lib/python3.11/site-packages/smefit/loader.py#135\u001b\\\u001b[2m135\u001b[0m\u001b]8;;\u001b\\\n"
      ]
     },
     "metadata": {},
     "output_type": "display_data"
    },
    {
     "data": {
      "text/html": [
       "<pre style=\"white-space:pre;overflow-x:auto;line-height:normal;font-family:Menlo,'DejaVu Sans Mono',consolas,'Courier New',monospace\"><span style=\"color: #7fbfbf; text-decoration-color: #7fbfbf\">           </span><span style=\"color: #000080; text-decoration-color: #000080\">INFO    </span> Loading dataset : CMS_WZ_13TeV_2022_pTZ                                           <a href=\"file:///Users/jaco/opt/anaconda3/envs/smefit_tutorial/lib/python3.11/site-packages/smefit/loader.py\" target=\"_blank\"><span style=\"color: #7f7f7f; text-decoration-color: #7f7f7f\">loader.py</span></a><span style=\"color: #7f7f7f; text-decoration-color: #7f7f7f\">:</span><a href=\"file:///Users/jaco/opt/anaconda3/envs/smefit_tutorial/lib/python3.11/site-packages/smefit/loader.py#135\" target=\"_blank\"><span style=\"color: #7f7f7f; text-decoration-color: #7f7f7f\">135</span></a>\n",
       "</pre>\n"
      ],
      "text/plain": [
       "\u001b[2;36m          \u001b[0m\u001b[2;36m \u001b[0m\u001b[34mINFO    \u001b[0m Loading dataset : CMS_WZ_13TeV_2022_pTZ                                           \u001b]8;id=789227;file:///Users/jaco/opt/anaconda3/envs/smefit_tutorial/lib/python3.11/site-packages/smefit/loader.py\u001b\\\u001b[2mloader.py\u001b[0m\u001b]8;;\u001b\\\u001b[2m:\u001b[0m\u001b]8;id=775781;file:///Users/jaco/opt/anaconda3/envs/smefit_tutorial/lib/python3.11/site-packages/smefit/loader.py#135\u001b\\\u001b[2m135\u001b[0m\u001b]8;;\u001b\\\n"
      ]
     },
     "metadata": {},
     "output_type": "display_data"
    },
    {
     "data": {
      "text/html": [
       "<pre style=\"white-space:pre;overflow-x:auto;line-height:normal;font-family:Menlo,'DejaVu Sans Mono',consolas,'Courier New',monospace\"><span style=\"color: #7fbfbf; text-decoration-color: #7fbfbf\">           </span><span style=\"color: #000080; text-decoration-color: #000080\">INFO    </span> Loading dataset : CMS_WhelF_8TeV                                                  <a href=\"file:///Users/jaco/opt/anaconda3/envs/smefit_tutorial/lib/python3.11/site-packages/smefit/loader.py\" target=\"_blank\"><span style=\"color: #7f7f7f; text-decoration-color: #7f7f7f\">loader.py</span></a><span style=\"color: #7f7f7f; text-decoration-color: #7f7f7f\">:</span><a href=\"file:///Users/jaco/opt/anaconda3/envs/smefit_tutorial/lib/python3.11/site-packages/smefit/loader.py#135\" target=\"_blank\"><span style=\"color: #7f7f7f; text-decoration-color: #7f7f7f\">135</span></a>\n",
       "</pre>\n"
      ],
      "text/plain": [
       "\u001b[2;36m          \u001b[0m\u001b[2;36m \u001b[0m\u001b[34mINFO    \u001b[0m Loading dataset : CMS_WhelF_8TeV                                                  \u001b]8;id=760661;file:///Users/jaco/opt/anaconda3/envs/smefit_tutorial/lib/python3.11/site-packages/smefit/loader.py\u001b\\\u001b[2mloader.py\u001b[0m\u001b]8;;\u001b\\\u001b[2m:\u001b[0m\u001b]8;id=821597;file:///Users/jaco/opt/anaconda3/envs/smefit_tutorial/lib/python3.11/site-packages/smefit/loader.py#135\u001b\\\u001b[2m135\u001b[0m\u001b]8;;\u001b\\\n"
      ]
     },
     "metadata": {},
     "output_type": "display_data"
    },
    {
     "data": {
      "text/html": [
       "<pre style=\"white-space:pre;overflow-x:auto;line-height:normal;font-family:Menlo,'DejaVu Sans Mono',consolas,'Courier New',monospace\"><span style=\"color: #7fbfbf; text-decoration-color: #7fbfbf\">           </span><span style=\"color: #000080; text-decoration-color: #000080\">INFO    </span> Loading dataset : CMS_ggF_aa_13TeV                                                <a href=\"file:///Users/jaco/opt/anaconda3/envs/smefit_tutorial/lib/python3.11/site-packages/smefit/loader.py\" target=\"_blank\"><span style=\"color: #7f7f7f; text-decoration-color: #7f7f7f\">loader.py</span></a><span style=\"color: #7f7f7f; text-decoration-color: #7f7f7f\">:</span><a href=\"file:///Users/jaco/opt/anaconda3/envs/smefit_tutorial/lib/python3.11/site-packages/smefit/loader.py#135\" target=\"_blank\"><span style=\"color: #7f7f7f; text-decoration-color: #7f7f7f\">135</span></a>\n",
       "</pre>\n"
      ],
      "text/plain": [
       "\u001b[2;36m          \u001b[0m\u001b[2;36m \u001b[0m\u001b[34mINFO    \u001b[0m Loading dataset : CMS_ggF_aa_13TeV                                                \u001b]8;id=847718;file:///Users/jaco/opt/anaconda3/envs/smefit_tutorial/lib/python3.11/site-packages/smefit/loader.py\u001b\\\u001b[2mloader.py\u001b[0m\u001b]8;;\u001b\\\u001b[2m:\u001b[0m\u001b]8;id=736308;file:///Users/jaco/opt/anaconda3/envs/smefit_tutorial/lib/python3.11/site-packages/smefit/loader.py#135\u001b\\\u001b[2m135\u001b[0m\u001b]8;;\u001b\\\n"
      ]
     },
     "metadata": {},
     "output_type": "display_data"
    },
    {
     "data": {
      "text/html": [
       "<pre style=\"white-space:pre;overflow-x:auto;line-height:normal;font-family:Menlo,'DejaVu Sans Mono',consolas,'Courier New',monospace\"><span style=\"color: #7fbfbf; text-decoration-color: #7fbfbf\">           </span><span style=\"color: #000080; text-decoration-color: #000080\">INFO    </span> Loading dataset : CMS_tW_13TeV_inc                                                <a href=\"file:///Users/jaco/opt/anaconda3/envs/smefit_tutorial/lib/python3.11/site-packages/smefit/loader.py\" target=\"_blank\"><span style=\"color: #7f7f7f; text-decoration-color: #7f7f7f\">loader.py</span></a><span style=\"color: #7f7f7f; text-decoration-color: #7f7f7f\">:</span><a href=\"file:///Users/jaco/opt/anaconda3/envs/smefit_tutorial/lib/python3.11/site-packages/smefit/loader.py#135\" target=\"_blank\"><span style=\"color: #7f7f7f; text-decoration-color: #7f7f7f\">135</span></a>\n",
       "</pre>\n"
      ],
      "text/plain": [
       "\u001b[2;36m          \u001b[0m\u001b[2;36m \u001b[0m\u001b[34mINFO    \u001b[0m Loading dataset : CMS_tW_13TeV_inc                                                \u001b]8;id=488424;file:///Users/jaco/opt/anaconda3/envs/smefit_tutorial/lib/python3.11/site-packages/smefit/loader.py\u001b\\\u001b[2mloader.py\u001b[0m\u001b]8;;\u001b\\\u001b[2m:\u001b[0m\u001b]8;id=327788;file:///Users/jaco/opt/anaconda3/envs/smefit_tutorial/lib/python3.11/site-packages/smefit/loader.py#135\u001b\\\u001b[2m135\u001b[0m\u001b]8;;\u001b\\\n"
      ]
     },
     "metadata": {},
     "output_type": "display_data"
    },
    {
     "data": {
      "text/html": [
       "<pre style=\"white-space:pre;overflow-x:auto;line-height:normal;font-family:Menlo,'DejaVu Sans Mono',consolas,'Courier New',monospace\"><span style=\"color: #7fbfbf; text-decoration-color: #7fbfbf\">           </span><span style=\"color: #000080; text-decoration-color: #000080\">INFO    </span> Loading dataset : CMS_tW_13TeV_slep_inc                                           <a href=\"file:///Users/jaco/opt/anaconda3/envs/smefit_tutorial/lib/python3.11/site-packages/smefit/loader.py\" target=\"_blank\"><span style=\"color: #7f7f7f; text-decoration-color: #7f7f7f\">loader.py</span></a><span style=\"color: #7f7f7f; text-decoration-color: #7f7f7f\">:</span><a href=\"file:///Users/jaco/opt/anaconda3/envs/smefit_tutorial/lib/python3.11/site-packages/smefit/loader.py#135\" target=\"_blank\"><span style=\"color: #7f7f7f; text-decoration-color: #7f7f7f\">135</span></a>\n",
       "</pre>\n"
      ],
      "text/plain": [
       "\u001b[2;36m          \u001b[0m\u001b[2;36m \u001b[0m\u001b[34mINFO    \u001b[0m Loading dataset : CMS_tW_13TeV_slep_inc                                           \u001b]8;id=283925;file:///Users/jaco/opt/anaconda3/envs/smefit_tutorial/lib/python3.11/site-packages/smefit/loader.py\u001b\\\u001b[2mloader.py\u001b[0m\u001b]8;;\u001b\\\u001b[2m:\u001b[0m\u001b]8;id=774082;file:///Users/jaco/opt/anaconda3/envs/smefit_tutorial/lib/python3.11/site-packages/smefit/loader.py#135\u001b\\\u001b[2m135\u001b[0m\u001b]8;;\u001b\\\n"
      ]
     },
     "metadata": {},
     "output_type": "display_data"
    },
    {
     "data": {
      "text/html": [
       "<pre style=\"white-space:pre;overflow-x:auto;line-height:normal;font-family:Menlo,'DejaVu Sans Mono',consolas,'Courier New',monospace\"><span style=\"color: #7fbfbf; text-decoration-color: #7fbfbf\">           </span><span style=\"color: #000080; text-decoration-color: #000080\">INFO    </span> Loading dataset : CMS_tW_8TeV_inc                                                 <a href=\"file:///Users/jaco/opt/anaconda3/envs/smefit_tutorial/lib/python3.11/site-packages/smefit/loader.py\" target=\"_blank\"><span style=\"color: #7f7f7f; text-decoration-color: #7f7f7f\">loader.py</span></a><span style=\"color: #7f7f7f; text-decoration-color: #7f7f7f\">:</span><a href=\"file:///Users/jaco/opt/anaconda3/envs/smefit_tutorial/lib/python3.11/site-packages/smefit/loader.py#135\" target=\"_blank\"><span style=\"color: #7f7f7f; text-decoration-color: #7f7f7f\">135</span></a>\n",
       "</pre>\n"
      ],
      "text/plain": [
       "\u001b[2;36m          \u001b[0m\u001b[2;36m \u001b[0m\u001b[34mINFO    \u001b[0m Loading dataset : CMS_tW_8TeV_inc                                                 \u001b]8;id=478684;file:///Users/jaco/opt/anaconda3/envs/smefit_tutorial/lib/python3.11/site-packages/smefit/loader.py\u001b\\\u001b[2mloader.py\u001b[0m\u001b]8;;\u001b\\\u001b[2m:\u001b[0m\u001b]8;id=239882;file:///Users/jaco/opt/anaconda3/envs/smefit_tutorial/lib/python3.11/site-packages/smefit/loader.py#135\u001b\\\u001b[2m135\u001b[0m\u001b]8;;\u001b\\\n"
      ]
     },
     "metadata": {},
     "output_type": "display_data"
    },
    {
     "data": {
      "text/html": [
       "<pre style=\"white-space:pre;overflow-x:auto;line-height:normal;font-family:Menlo,'DejaVu Sans Mono',consolas,'Courier New',monospace\"><span style=\"color: #7fbfbf; text-decoration-color: #7fbfbf\">           </span><span style=\"color: #000080; text-decoration-color: #000080\">INFO    </span> Loading dataset : CMS_tZ_13TeV_2016_inc                                           <a href=\"file:///Users/jaco/opt/anaconda3/envs/smefit_tutorial/lib/python3.11/site-packages/smefit/loader.py\" target=\"_blank\"><span style=\"color: #7f7f7f; text-decoration-color: #7f7f7f\">loader.py</span></a><span style=\"color: #7f7f7f; text-decoration-color: #7f7f7f\">:</span><a href=\"file:///Users/jaco/opt/anaconda3/envs/smefit_tutorial/lib/python3.11/site-packages/smefit/loader.py#135\" target=\"_blank\"><span style=\"color: #7f7f7f; text-decoration-color: #7f7f7f\">135</span></a>\n",
       "</pre>\n"
      ],
      "text/plain": [
       "\u001b[2;36m          \u001b[0m\u001b[2;36m \u001b[0m\u001b[34mINFO    \u001b[0m Loading dataset : CMS_tZ_13TeV_2016_inc                                           \u001b]8;id=793425;file:///Users/jaco/opt/anaconda3/envs/smefit_tutorial/lib/python3.11/site-packages/smefit/loader.py\u001b\\\u001b[2mloader.py\u001b[0m\u001b]8;;\u001b\\\u001b[2m:\u001b[0m\u001b]8;id=53582;file:///Users/jaco/opt/anaconda3/envs/smefit_tutorial/lib/python3.11/site-packages/smefit/loader.py#135\u001b\\\u001b[2m135\u001b[0m\u001b]8;;\u001b\\\n"
      ]
     },
     "metadata": {},
     "output_type": "display_data"
    },
    {
     "data": {
      "text/html": [
       "<pre style=\"white-space:pre;overflow-x:auto;line-height:normal;font-family:Menlo,'DejaVu Sans Mono',consolas,'Courier New',monospace\"><span style=\"color: #7fbfbf; text-decoration-color: #7fbfbf\">           </span><span style=\"color: #000080; text-decoration-color: #000080\">INFO    </span> Loading dataset : CMS_tZ_13TeV_inc                                                <a href=\"file:///Users/jaco/opt/anaconda3/envs/smefit_tutorial/lib/python3.11/site-packages/smefit/loader.py\" target=\"_blank\"><span style=\"color: #7f7f7f; text-decoration-color: #7f7f7f\">loader.py</span></a><span style=\"color: #7f7f7f; text-decoration-color: #7f7f7f\">:</span><a href=\"file:///Users/jaco/opt/anaconda3/envs/smefit_tutorial/lib/python3.11/site-packages/smefit/loader.py#135\" target=\"_blank\"><span style=\"color: #7f7f7f; text-decoration-color: #7f7f7f\">135</span></a>\n",
       "</pre>\n"
      ],
      "text/plain": [
       "\u001b[2;36m          \u001b[0m\u001b[2;36m \u001b[0m\u001b[34mINFO    \u001b[0m Loading dataset : CMS_tZ_13TeV_inc                                                \u001b]8;id=261440;file:///Users/jaco/opt/anaconda3/envs/smefit_tutorial/lib/python3.11/site-packages/smefit/loader.py\u001b\\\u001b[2mloader.py\u001b[0m\u001b]8;;\u001b\\\u001b[2m:\u001b[0m\u001b]8;id=949092;file:///Users/jaco/opt/anaconda3/envs/smefit_tutorial/lib/python3.11/site-packages/smefit/loader.py#135\u001b\\\u001b[2m135\u001b[0m\u001b]8;;\u001b\\\n"
      ]
     },
     "metadata": {},
     "output_type": "display_data"
    },
    {
     "data": {
      "text/html": [
       "<pre style=\"white-space:pre;overflow-x:auto;line-height:normal;font-family:Menlo,'DejaVu Sans Mono',consolas,'Courier New',monospace\"><span style=\"color: #7fbfbf; text-decoration-color: #7fbfbf\">           </span><span style=\"color: #000080; text-decoration-color: #000080\">INFO    </span> Loading dataset : CMS_tZ_13TeV_pTt                                                <a href=\"file:///Users/jaco/opt/anaconda3/envs/smefit_tutorial/lib/python3.11/site-packages/smefit/loader.py\" target=\"_blank\"><span style=\"color: #7f7f7f; text-decoration-color: #7f7f7f\">loader.py</span></a><span style=\"color: #7f7f7f; text-decoration-color: #7f7f7f\">:</span><a href=\"file:///Users/jaco/opt/anaconda3/envs/smefit_tutorial/lib/python3.11/site-packages/smefit/loader.py#135\" target=\"_blank\"><span style=\"color: #7f7f7f; text-decoration-color: #7f7f7f\">135</span></a>\n",
       "</pre>\n"
      ],
      "text/plain": [
       "\u001b[2;36m          \u001b[0m\u001b[2;36m \u001b[0m\u001b[34mINFO    \u001b[0m Loading dataset : CMS_tZ_13TeV_pTt                                                \u001b]8;id=455938;file:///Users/jaco/opt/anaconda3/envs/smefit_tutorial/lib/python3.11/site-packages/smefit/loader.py\u001b\\\u001b[2mloader.py\u001b[0m\u001b]8;;\u001b\\\u001b[2m:\u001b[0m\u001b]8;id=436671;file:///Users/jaco/opt/anaconda3/envs/smefit_tutorial/lib/python3.11/site-packages/smefit/loader.py#135\u001b\\\u001b[2m135\u001b[0m\u001b]8;;\u001b\\\n"
      ]
     },
     "metadata": {},
     "output_type": "display_data"
    },
    {
     "data": {
      "text/html": [
       "<pre style=\"white-space:pre;overflow-x:auto;line-height:normal;font-family:Menlo,'DejaVu Sans Mono',consolas,'Courier New',monospace\"><span style=\"color: #7fbfbf; text-decoration-color: #7fbfbf\">           </span><span style=\"color: #000080; text-decoration-color: #000080\">INFO    </span> Loading dataset : CMS_t_sch_8TeV                                                  <a href=\"file:///Users/jaco/opt/anaconda3/envs/smefit_tutorial/lib/python3.11/site-packages/smefit/loader.py\" target=\"_blank\"><span style=\"color: #7f7f7f; text-decoration-color: #7f7f7f\">loader.py</span></a><span style=\"color: #7f7f7f; text-decoration-color: #7f7f7f\">:</span><a href=\"file:///Users/jaco/opt/anaconda3/envs/smefit_tutorial/lib/python3.11/site-packages/smefit/loader.py#135\" target=\"_blank\"><span style=\"color: #7f7f7f; text-decoration-color: #7f7f7f\">135</span></a>\n",
       "</pre>\n"
      ],
      "text/plain": [
       "\u001b[2;36m          \u001b[0m\u001b[2;36m \u001b[0m\u001b[34mINFO    \u001b[0m Loading dataset : CMS_t_sch_8TeV                                                  \u001b]8;id=953196;file:///Users/jaco/opt/anaconda3/envs/smefit_tutorial/lib/python3.11/site-packages/smefit/loader.py\u001b\\\u001b[2mloader.py\u001b[0m\u001b]8;;\u001b\\\u001b[2m:\u001b[0m\u001b]8;id=951564;file:///Users/jaco/opt/anaconda3/envs/smefit_tutorial/lib/python3.11/site-packages/smefit/loader.py#135\u001b\\\u001b[2m135\u001b[0m\u001b]8;;\u001b\\\n"
      ]
     },
     "metadata": {},
     "output_type": "display_data"
    },
    {
     "data": {
      "text/html": [
       "<pre style=\"white-space:pre;overflow-x:auto;line-height:normal;font-family:Menlo,'DejaVu Sans Mono',consolas,'Courier New',monospace\"><span style=\"color: #7fbfbf; text-decoration-color: #7fbfbf\">           </span><span style=\"color: #000080; text-decoration-color: #000080\">INFO    </span> Loading dataset : CMS_t_tch_13TeV_2016_diff_Yt                                    <a href=\"file:///Users/jaco/opt/anaconda3/envs/smefit_tutorial/lib/python3.11/site-packages/smefit/loader.py\" target=\"_blank\"><span style=\"color: #7f7f7f; text-decoration-color: #7f7f7f\">loader.py</span></a><span style=\"color: #7f7f7f; text-decoration-color: #7f7f7f\">:</span><a href=\"file:///Users/jaco/opt/anaconda3/envs/smefit_tutorial/lib/python3.11/site-packages/smefit/loader.py#135\" target=\"_blank\"><span style=\"color: #7f7f7f; text-decoration-color: #7f7f7f\">135</span></a>\n",
       "</pre>\n"
      ],
      "text/plain": [
       "\u001b[2;36m          \u001b[0m\u001b[2;36m \u001b[0m\u001b[34mINFO    \u001b[0m Loading dataset : CMS_t_tch_13TeV_2016_diff_Yt                                    \u001b]8;id=185247;file:///Users/jaco/opt/anaconda3/envs/smefit_tutorial/lib/python3.11/site-packages/smefit/loader.py\u001b\\\u001b[2mloader.py\u001b[0m\u001b]8;;\u001b\\\u001b[2m:\u001b[0m\u001b]8;id=677399;file:///Users/jaco/opt/anaconda3/envs/smefit_tutorial/lib/python3.11/site-packages/smefit/loader.py#135\u001b\\\u001b[2m135\u001b[0m\u001b]8;;\u001b\\\n"
      ]
     },
     "metadata": {},
     "output_type": "display_data"
    },
    {
     "data": {
      "text/html": [
       "<pre style=\"white-space:pre;overflow-x:auto;line-height:normal;font-family:Menlo,'DejaVu Sans Mono',consolas,'Courier New',monospace\"><span style=\"color: #7fbfbf; text-decoration-color: #7fbfbf\">           </span><span style=\"color: #000080; text-decoration-color: #000080\">INFO    </span> Loading dataset : CMS_t_tch_13TeV_2019_diff_Yt                                    <a href=\"file:///Users/jaco/opt/anaconda3/envs/smefit_tutorial/lib/python3.11/site-packages/smefit/loader.py\" target=\"_blank\"><span style=\"color: #7f7f7f; text-decoration-color: #7f7f7f\">loader.py</span></a><span style=\"color: #7f7f7f; text-decoration-color: #7f7f7f\">:</span><a href=\"file:///Users/jaco/opt/anaconda3/envs/smefit_tutorial/lib/python3.11/site-packages/smefit/loader.py#135\" target=\"_blank\"><span style=\"color: #7f7f7f; text-decoration-color: #7f7f7f\">135</span></a>\n",
       "</pre>\n"
      ],
      "text/plain": [
       "\u001b[2;36m          \u001b[0m\u001b[2;36m \u001b[0m\u001b[34mINFO    \u001b[0m Loading dataset : CMS_t_tch_13TeV_2019_diff_Yt                                    \u001b]8;id=298968;file:///Users/jaco/opt/anaconda3/envs/smefit_tutorial/lib/python3.11/site-packages/smefit/loader.py\u001b\\\u001b[2mloader.py\u001b[0m\u001b]8;;\u001b\\\u001b[2m:\u001b[0m\u001b]8;id=544429;file:///Users/jaco/opt/anaconda3/envs/smefit_tutorial/lib/python3.11/site-packages/smefit/loader.py#135\u001b\\\u001b[2m135\u001b[0m\u001b]8;;\u001b\\\n"
      ]
     },
     "metadata": {},
     "output_type": "display_data"
    },
    {
     "data": {
      "text/html": [
       "<pre style=\"white-space:pre;overflow-x:auto;line-height:normal;font-family:Menlo,'DejaVu Sans Mono',consolas,'Courier New',monospace\"><span style=\"color: #7fbfbf; text-decoration-color: #7fbfbf\">           </span><span style=\"color: #000080; text-decoration-color: #000080\">INFO    </span> Loading dataset : CMS_t_tch_13TeV_inc                                             <a href=\"file:///Users/jaco/opt/anaconda3/envs/smefit_tutorial/lib/python3.11/site-packages/smefit/loader.py\" target=\"_blank\"><span style=\"color: #7f7f7f; text-decoration-color: #7f7f7f\">loader.py</span></a><span style=\"color: #7f7f7f; text-decoration-color: #7f7f7f\">:</span><a href=\"file:///Users/jaco/opt/anaconda3/envs/smefit_tutorial/lib/python3.11/site-packages/smefit/loader.py#135\" target=\"_blank\"><span style=\"color: #7f7f7f; text-decoration-color: #7f7f7f\">135</span></a>\n",
       "</pre>\n"
      ],
      "text/plain": [
       "\u001b[2;36m          \u001b[0m\u001b[2;36m \u001b[0m\u001b[34mINFO    \u001b[0m Loading dataset : CMS_t_tch_13TeV_inc                                             \u001b]8;id=25780;file:///Users/jaco/opt/anaconda3/envs/smefit_tutorial/lib/python3.11/site-packages/smefit/loader.py\u001b\\\u001b[2mloader.py\u001b[0m\u001b]8;;\u001b\\\u001b[2m:\u001b[0m\u001b]8;id=9191;file:///Users/jaco/opt/anaconda3/envs/smefit_tutorial/lib/python3.11/site-packages/smefit/loader.py#135\u001b\\\u001b[2m135\u001b[0m\u001b]8;;\u001b\\\n"
      ]
     },
     "metadata": {},
     "output_type": "display_data"
    },
    {
     "data": {
      "text/html": [
       "<pre style=\"white-space:pre;overflow-x:auto;line-height:normal;font-family:Menlo,'DejaVu Sans Mono',consolas,'Courier New',monospace\"><span style=\"color: #7fbfbf; text-decoration-color: #7fbfbf\">           </span><span style=\"color: #000080; text-decoration-color: #000080\">INFO    </span> Loading dataset : CMS_t_tch_8TeV_diff_Yt                                          <a href=\"file:///Users/jaco/opt/anaconda3/envs/smefit_tutorial/lib/python3.11/site-packages/smefit/loader.py\" target=\"_blank\"><span style=\"color: #7f7f7f; text-decoration-color: #7f7f7f\">loader.py</span></a><span style=\"color: #7f7f7f; text-decoration-color: #7f7f7f\">:</span><a href=\"file:///Users/jaco/opt/anaconda3/envs/smefit_tutorial/lib/python3.11/site-packages/smefit/loader.py#135\" target=\"_blank\"><span style=\"color: #7f7f7f; text-decoration-color: #7f7f7f\">135</span></a>\n",
       "</pre>\n"
      ],
      "text/plain": [
       "\u001b[2;36m          \u001b[0m\u001b[2;36m \u001b[0m\u001b[34mINFO    \u001b[0m Loading dataset : CMS_t_tch_8TeV_diff_Yt                                          \u001b]8;id=377466;file:///Users/jaco/opt/anaconda3/envs/smefit_tutorial/lib/python3.11/site-packages/smefit/loader.py\u001b\\\u001b[2mloader.py\u001b[0m\u001b]8;;\u001b\\\u001b[2m:\u001b[0m\u001b]8;id=564413;file:///Users/jaco/opt/anaconda3/envs/smefit_tutorial/lib/python3.11/site-packages/smefit/loader.py#135\u001b\\\u001b[2m135\u001b[0m\u001b]8;;\u001b\\\n"
      ]
     },
     "metadata": {},
     "output_type": "display_data"
    },
    {
     "data": {
      "text/html": [
       "<pre style=\"white-space:pre;overflow-x:auto;line-height:normal;font-family:Menlo,'DejaVu Sans Mono',consolas,'Courier New',monospace\"><span style=\"color: #7fbfbf; text-decoration-color: #7fbfbf\">           </span><span style=\"color: #000080; text-decoration-color: #000080\">INFO    </span> Loading dataset : CMS_t_tch_8TeV_inc                                              <a href=\"file:///Users/jaco/opt/anaconda3/envs/smefit_tutorial/lib/python3.11/site-packages/smefit/loader.py\" target=\"_blank\"><span style=\"color: #7f7f7f; text-decoration-color: #7f7f7f\">loader.py</span></a><span style=\"color: #7f7f7f; text-decoration-color: #7f7f7f\">:</span><a href=\"file:///Users/jaco/opt/anaconda3/envs/smefit_tutorial/lib/python3.11/site-packages/smefit/loader.py#135\" target=\"_blank\"><span style=\"color: #7f7f7f; text-decoration-color: #7f7f7f\">135</span></a>\n",
       "</pre>\n"
      ],
      "text/plain": [
       "\u001b[2;36m          \u001b[0m\u001b[2;36m \u001b[0m\u001b[34mINFO    \u001b[0m Loading dataset : CMS_t_tch_8TeV_inc                                              \u001b]8;id=480107;file:///Users/jaco/opt/anaconda3/envs/smefit_tutorial/lib/python3.11/site-packages/smefit/loader.py\u001b\\\u001b[2mloader.py\u001b[0m\u001b]8;;\u001b\\\u001b[2m:\u001b[0m\u001b]8;id=959369;file:///Users/jaco/opt/anaconda3/envs/smefit_tutorial/lib/python3.11/site-packages/smefit/loader.py#135\u001b\\\u001b[2m135\u001b[0m\u001b]8;;\u001b\\\n"
      ]
     },
     "metadata": {},
     "output_type": "display_data"
    },
    {
     "data": {
      "text/html": [
       "<pre style=\"white-space:pre;overflow-x:auto;line-height:normal;font-family:Menlo,'DejaVu Sans Mono',consolas,'Courier New',monospace\"><span style=\"color: #7fbfbf; text-decoration-color: #7fbfbf\">[15:20:06] </span><span style=\"color: #000080; text-decoration-color: #000080\">INFO    </span> Loading dataset : CMS_tt2D_8TeV_dilep_MttYtt                                      <a href=\"file:///Users/jaco/opt/anaconda3/envs/smefit_tutorial/lib/python3.11/site-packages/smefit/loader.py\" target=\"_blank\"><span style=\"color: #7f7f7f; text-decoration-color: #7f7f7f\">loader.py</span></a><span style=\"color: #7f7f7f; text-decoration-color: #7f7f7f\">:</span><a href=\"file:///Users/jaco/opt/anaconda3/envs/smefit_tutorial/lib/python3.11/site-packages/smefit/loader.py#135\" target=\"_blank\"><span style=\"color: #7f7f7f; text-decoration-color: #7f7f7f\">135</span></a>\n",
       "</pre>\n"
      ],
      "text/plain": [
       "\u001b[2;36m[15:20:06]\u001b[0m\u001b[2;36m \u001b[0m\u001b[34mINFO    \u001b[0m Loading dataset : CMS_tt2D_8TeV_dilep_MttYtt                                      \u001b]8;id=467205;file:///Users/jaco/opt/anaconda3/envs/smefit_tutorial/lib/python3.11/site-packages/smefit/loader.py\u001b\\\u001b[2mloader.py\u001b[0m\u001b]8;;\u001b\\\u001b[2m:\u001b[0m\u001b]8;id=650750;file:///Users/jaco/opt/anaconda3/envs/smefit_tutorial/lib/python3.11/site-packages/smefit/loader.py#135\u001b\\\u001b[2m135\u001b[0m\u001b]8;;\u001b\\\n"
      ]
     },
     "metadata": {},
     "output_type": "display_data"
    },
    {
     "data": {
      "text/html": [
       "<pre style=\"white-space:pre;overflow-x:auto;line-height:normal;font-family:Menlo,'DejaVu Sans Mono',consolas,'Courier New',monospace\"><span style=\"color: #7fbfbf; text-decoration-color: #7fbfbf\">           </span><span style=\"color: #000080; text-decoration-color: #000080\">INFO    </span> Loading dataset : CMS_ttW_13TeV                                                   <a href=\"file:///Users/jaco/opt/anaconda3/envs/smefit_tutorial/lib/python3.11/site-packages/smefit/loader.py\" target=\"_blank\"><span style=\"color: #7f7f7f; text-decoration-color: #7f7f7f\">loader.py</span></a><span style=\"color: #7f7f7f; text-decoration-color: #7f7f7f\">:</span><a href=\"file:///Users/jaco/opt/anaconda3/envs/smefit_tutorial/lib/python3.11/site-packages/smefit/loader.py#135\" target=\"_blank\"><span style=\"color: #7f7f7f; text-decoration-color: #7f7f7f\">135</span></a>\n",
       "</pre>\n"
      ],
      "text/plain": [
       "\u001b[2;36m          \u001b[0m\u001b[2;36m \u001b[0m\u001b[34mINFO    \u001b[0m Loading dataset : CMS_ttW_13TeV                                                   \u001b]8;id=639033;file:///Users/jaco/opt/anaconda3/envs/smefit_tutorial/lib/python3.11/site-packages/smefit/loader.py\u001b\\\u001b[2mloader.py\u001b[0m\u001b]8;;\u001b\\\u001b[2m:\u001b[0m\u001b]8;id=413467;file:///Users/jaco/opt/anaconda3/envs/smefit_tutorial/lib/python3.11/site-packages/smefit/loader.py#135\u001b\\\u001b[2m135\u001b[0m\u001b]8;;\u001b\\\n"
      ]
     },
     "metadata": {},
     "output_type": "display_data"
    },
    {
     "data": {
      "text/html": [
       "<pre style=\"white-space:pre;overflow-x:auto;line-height:normal;font-family:Menlo,'DejaVu Sans Mono',consolas,'Courier New',monospace\"><span style=\"color: #7fbfbf; text-decoration-color: #7fbfbf\">           </span><span style=\"color: #000080; text-decoration-color: #000080\">INFO    </span> Loading dataset : CMS_ttW_8TeV                                                    <a href=\"file:///Users/jaco/opt/anaconda3/envs/smefit_tutorial/lib/python3.11/site-packages/smefit/loader.py\" target=\"_blank\"><span style=\"color: #7f7f7f; text-decoration-color: #7f7f7f\">loader.py</span></a><span style=\"color: #7f7f7f; text-decoration-color: #7f7f7f\">:</span><a href=\"file:///Users/jaco/opt/anaconda3/envs/smefit_tutorial/lib/python3.11/site-packages/smefit/loader.py#135\" target=\"_blank\"><span style=\"color: #7f7f7f; text-decoration-color: #7f7f7f\">135</span></a>\n",
       "</pre>\n"
      ],
      "text/plain": [
       "\u001b[2;36m          \u001b[0m\u001b[2;36m \u001b[0m\u001b[34mINFO    \u001b[0m Loading dataset : CMS_ttW_8TeV                                                    \u001b]8;id=437564;file:///Users/jaco/opt/anaconda3/envs/smefit_tutorial/lib/python3.11/site-packages/smefit/loader.py\u001b\\\u001b[2mloader.py\u001b[0m\u001b]8;;\u001b\\\u001b[2m:\u001b[0m\u001b]8;id=122600;file:///Users/jaco/opt/anaconda3/envs/smefit_tutorial/lib/python3.11/site-packages/smefit/loader.py#135\u001b\\\u001b[2m135\u001b[0m\u001b]8;;\u001b\\\n"
      ]
     },
     "metadata": {},
     "output_type": "display_data"
    },
    {
     "data": {
      "text/html": [
       "<pre style=\"white-space:pre;overflow-x:auto;line-height:normal;font-family:Menlo,'DejaVu Sans Mono',consolas,'Courier New',monospace\"><span style=\"color: #7fbfbf; text-decoration-color: #7fbfbf\">           </span><span style=\"color: #000080; text-decoration-color: #000080\">INFO    </span> Loading dataset : CMS_ttZ_13TeV                                                   <a href=\"file:///Users/jaco/opt/anaconda3/envs/smefit_tutorial/lib/python3.11/site-packages/smefit/loader.py\" target=\"_blank\"><span style=\"color: #7f7f7f; text-decoration-color: #7f7f7f\">loader.py</span></a><span style=\"color: #7f7f7f; text-decoration-color: #7f7f7f\">:</span><a href=\"file:///Users/jaco/opt/anaconda3/envs/smefit_tutorial/lib/python3.11/site-packages/smefit/loader.py#135\" target=\"_blank\"><span style=\"color: #7f7f7f; text-decoration-color: #7f7f7f\">135</span></a>\n",
       "</pre>\n"
      ],
      "text/plain": [
       "\u001b[2;36m          \u001b[0m\u001b[2;36m \u001b[0m\u001b[34mINFO    \u001b[0m Loading dataset : CMS_ttZ_13TeV                                                   \u001b]8;id=422911;file:///Users/jaco/opt/anaconda3/envs/smefit_tutorial/lib/python3.11/site-packages/smefit/loader.py\u001b\\\u001b[2mloader.py\u001b[0m\u001b]8;;\u001b\\\u001b[2m:\u001b[0m\u001b]8;id=838079;file:///Users/jaco/opt/anaconda3/envs/smefit_tutorial/lib/python3.11/site-packages/smefit/loader.py#135\u001b\\\u001b[2m135\u001b[0m\u001b]8;;\u001b\\\n"
      ]
     },
     "metadata": {},
     "output_type": "display_data"
    },
    {
     "data": {
      "text/html": [
       "<pre style=\"white-space:pre;overflow-x:auto;line-height:normal;font-family:Menlo,'DejaVu Sans Mono',consolas,'Courier New',monospace\"><span style=\"color: #7fbfbf; text-decoration-color: #7fbfbf\">           </span><span style=\"color: #000080; text-decoration-color: #000080\">INFO    </span> Loading dataset : CMS_ttZ_13TeV_pTZ                                               <a href=\"file:///Users/jaco/opt/anaconda3/envs/smefit_tutorial/lib/python3.11/site-packages/smefit/loader.py\" target=\"_blank\"><span style=\"color: #7f7f7f; text-decoration-color: #7f7f7f\">loader.py</span></a><span style=\"color: #7f7f7f; text-decoration-color: #7f7f7f\">:</span><a href=\"file:///Users/jaco/opt/anaconda3/envs/smefit_tutorial/lib/python3.11/site-packages/smefit/loader.py#135\" target=\"_blank\"><span style=\"color: #7f7f7f; text-decoration-color: #7f7f7f\">135</span></a>\n",
       "</pre>\n"
      ],
      "text/plain": [
       "\u001b[2;36m          \u001b[0m\u001b[2;36m \u001b[0m\u001b[34mINFO    \u001b[0m Loading dataset : CMS_ttZ_13TeV_pTZ                                               \u001b]8;id=397764;file:///Users/jaco/opt/anaconda3/envs/smefit_tutorial/lib/python3.11/site-packages/smefit/loader.py\u001b\\\u001b[2mloader.py\u001b[0m\u001b]8;;\u001b\\\u001b[2m:\u001b[0m\u001b]8;id=226524;file:///Users/jaco/opt/anaconda3/envs/smefit_tutorial/lib/python3.11/site-packages/smefit/loader.py#135\u001b\\\u001b[2m135\u001b[0m\u001b]8;;\u001b\\\n"
      ]
     },
     "metadata": {},
     "output_type": "display_data"
    },
    {
     "data": {
      "text/html": [
       "<pre style=\"white-space:pre;overflow-x:auto;line-height:normal;font-family:Menlo,'DejaVu Sans Mono',consolas,'Courier New',monospace\"><span style=\"color: #7fbfbf; text-decoration-color: #7fbfbf\">           </span><span style=\"color: #000080; text-decoration-color: #000080\">INFO    </span> Loading dataset : CMS_ttZ_8TeV                                                    <a href=\"file:///Users/jaco/opt/anaconda3/envs/smefit_tutorial/lib/python3.11/site-packages/smefit/loader.py\" target=\"_blank\"><span style=\"color: #7f7f7f; text-decoration-color: #7f7f7f\">loader.py</span></a><span style=\"color: #7f7f7f; text-decoration-color: #7f7f7f\">:</span><a href=\"file:///Users/jaco/opt/anaconda3/envs/smefit_tutorial/lib/python3.11/site-packages/smefit/loader.py#135\" target=\"_blank\"><span style=\"color: #7f7f7f; text-decoration-color: #7f7f7f\">135</span></a>\n",
       "</pre>\n"
      ],
      "text/plain": [
       "\u001b[2;36m          \u001b[0m\u001b[2;36m \u001b[0m\u001b[34mINFO    \u001b[0m Loading dataset : CMS_ttZ_8TeV                                                    \u001b]8;id=457597;file:///Users/jaco/opt/anaconda3/envs/smefit_tutorial/lib/python3.11/site-packages/smefit/loader.py\u001b\\\u001b[2mloader.py\u001b[0m\u001b]8;;\u001b\\\u001b[2m:\u001b[0m\u001b]8;id=400991;file:///Users/jaco/opt/anaconda3/envs/smefit_tutorial/lib/python3.11/site-packages/smefit/loader.py#135\u001b\\\u001b[2m135\u001b[0m\u001b]8;;\u001b\\\n"
      ]
     },
     "metadata": {},
     "output_type": "display_data"
    },
    {
     "data": {
      "text/html": [
       "<pre style=\"white-space:pre;overflow-x:auto;line-height:normal;font-family:Menlo,'DejaVu Sans Mono',consolas,'Courier New',monospace\"><span style=\"color: #7fbfbf; text-decoration-color: #7fbfbf\">           </span><span style=\"color: #000080; text-decoration-color: #000080\">INFO    </span> Loading dataset : CMS_tt_13TeV_Mtt                                                <a href=\"file:///Users/jaco/opt/anaconda3/envs/smefit_tutorial/lib/python3.11/site-packages/smefit/loader.py\" target=\"_blank\"><span style=\"color: #7f7f7f; text-decoration-color: #7f7f7f\">loader.py</span></a><span style=\"color: #7f7f7f; text-decoration-color: #7f7f7f\">:</span><a href=\"file:///Users/jaco/opt/anaconda3/envs/smefit_tutorial/lib/python3.11/site-packages/smefit/loader.py#135\" target=\"_blank\"><span style=\"color: #7f7f7f; text-decoration-color: #7f7f7f\">135</span></a>\n",
       "</pre>\n"
      ],
      "text/plain": [
       "\u001b[2;36m          \u001b[0m\u001b[2;36m \u001b[0m\u001b[34mINFO    \u001b[0m Loading dataset : CMS_tt_13TeV_Mtt                                                \u001b]8;id=57775;file:///Users/jaco/opt/anaconda3/envs/smefit_tutorial/lib/python3.11/site-packages/smefit/loader.py\u001b\\\u001b[2mloader.py\u001b[0m\u001b]8;;\u001b\\\u001b[2m:\u001b[0m\u001b]8;id=447843;file:///Users/jaco/opt/anaconda3/envs/smefit_tutorial/lib/python3.11/site-packages/smefit/loader.py#135\u001b\\\u001b[2m135\u001b[0m\u001b]8;;\u001b\\\n"
      ]
     },
     "metadata": {},
     "output_type": "display_data"
    },
    {
     "data": {
      "text/html": [
       "<pre style=\"white-space:pre;overflow-x:auto;line-height:normal;font-family:Menlo,'DejaVu Sans Mono',consolas,'Courier New',monospace\"><span style=\"color: #7fbfbf; text-decoration-color: #7fbfbf\">           </span><span style=\"color: #000080; text-decoration-color: #000080\">INFO    </span> Loading dataset : CMS_tt_13TeV_asy                                                <a href=\"file:///Users/jaco/opt/anaconda3/envs/smefit_tutorial/lib/python3.11/site-packages/smefit/loader.py\" target=\"_blank\"><span style=\"color: #7f7f7f; text-decoration-color: #7f7f7f\">loader.py</span></a><span style=\"color: #7f7f7f; text-decoration-color: #7f7f7f\">:</span><a href=\"file:///Users/jaco/opt/anaconda3/envs/smefit_tutorial/lib/python3.11/site-packages/smefit/loader.py#135\" target=\"_blank\"><span style=\"color: #7f7f7f; text-decoration-color: #7f7f7f\">135</span></a>\n",
       "</pre>\n"
      ],
      "text/plain": [
       "\u001b[2;36m          \u001b[0m\u001b[2;36m \u001b[0m\u001b[34mINFO    \u001b[0m Loading dataset : CMS_tt_13TeV_asy                                                \u001b]8;id=170604;file:///Users/jaco/opt/anaconda3/envs/smefit_tutorial/lib/python3.11/site-packages/smefit/loader.py\u001b\\\u001b[2mloader.py\u001b[0m\u001b]8;;\u001b\\\u001b[2m:\u001b[0m\u001b]8;id=655665;file:///Users/jaco/opt/anaconda3/envs/smefit_tutorial/lib/python3.11/site-packages/smefit/loader.py#135\u001b\\\u001b[2m135\u001b[0m\u001b]8;;\u001b\\\n"
      ]
     },
     "metadata": {},
     "output_type": "display_data"
    },
    {
     "data": {
      "text/html": [
       "<pre style=\"white-space:pre;overflow-x:auto;line-height:normal;font-family:Menlo,'DejaVu Sans Mono',consolas,'Courier New',monospace\"><span style=\"color: #7fbfbf; text-decoration-color: #7fbfbf\">           </span><span style=\"color: #000080; text-decoration-color: #000080\">INFO    </span> Loading dataset : CMS_tt_13TeV_dilep_2015_Mtt                                     <a href=\"file:///Users/jaco/opt/anaconda3/envs/smefit_tutorial/lib/python3.11/site-packages/smefit/loader.py\" target=\"_blank\"><span style=\"color: #7f7f7f; text-decoration-color: #7f7f7f\">loader.py</span></a><span style=\"color: #7f7f7f; text-decoration-color: #7f7f7f\">:</span><a href=\"file:///Users/jaco/opt/anaconda3/envs/smefit_tutorial/lib/python3.11/site-packages/smefit/loader.py#135\" target=\"_blank\"><span style=\"color: #7f7f7f; text-decoration-color: #7f7f7f\">135</span></a>\n",
       "</pre>\n"
      ],
      "text/plain": [
       "\u001b[2;36m          \u001b[0m\u001b[2;36m \u001b[0m\u001b[34mINFO    \u001b[0m Loading dataset : CMS_tt_13TeV_dilep_2015_Mtt                                     \u001b]8;id=980457;file:///Users/jaco/opt/anaconda3/envs/smefit_tutorial/lib/python3.11/site-packages/smefit/loader.py\u001b\\\u001b[2mloader.py\u001b[0m\u001b]8;;\u001b\\\u001b[2m:\u001b[0m\u001b]8;id=523535;file:///Users/jaco/opt/anaconda3/envs/smefit_tutorial/lib/python3.11/site-packages/smefit/loader.py#135\u001b\\\u001b[2m135\u001b[0m\u001b]8;;\u001b\\\n"
      ]
     },
     "metadata": {},
     "output_type": "display_data"
    },
    {
     "data": {
      "text/html": [
       "<pre style=\"white-space:pre;overflow-x:auto;line-height:normal;font-family:Menlo,'DejaVu Sans Mono',consolas,'Courier New',monospace\"><span style=\"color: #7fbfbf; text-decoration-color: #7fbfbf\">           </span><span style=\"color: #000080; text-decoration-color: #000080\">INFO    </span> Loading dataset : CMS_tt_13TeV_dilep_2016_Mtt                                     <a href=\"file:///Users/jaco/opt/anaconda3/envs/smefit_tutorial/lib/python3.11/site-packages/smefit/loader.py\" target=\"_blank\"><span style=\"color: #7f7f7f; text-decoration-color: #7f7f7f\">loader.py</span></a><span style=\"color: #7f7f7f; text-decoration-color: #7f7f7f\">:</span><a href=\"file:///Users/jaco/opt/anaconda3/envs/smefit_tutorial/lib/python3.11/site-packages/smefit/loader.py#135\" target=\"_blank\"><span style=\"color: #7f7f7f; text-decoration-color: #7f7f7f\">135</span></a>\n",
       "</pre>\n"
      ],
      "text/plain": [
       "\u001b[2;36m          \u001b[0m\u001b[2;36m \u001b[0m\u001b[34mINFO    \u001b[0m Loading dataset : CMS_tt_13TeV_dilep_2016_Mtt                                     \u001b]8;id=541047;file:///Users/jaco/opt/anaconda3/envs/smefit_tutorial/lib/python3.11/site-packages/smefit/loader.py\u001b\\\u001b[2mloader.py\u001b[0m\u001b]8;;\u001b\\\u001b[2m:\u001b[0m\u001b]8;id=278522;file:///Users/jaco/opt/anaconda3/envs/smefit_tutorial/lib/python3.11/site-packages/smefit/loader.py#135\u001b\\\u001b[2m135\u001b[0m\u001b]8;;\u001b\\\n"
      ]
     },
     "metadata": {},
     "output_type": "display_data"
    },
    {
     "data": {
      "text/html": [
       "<pre style=\"white-space:pre;overflow-x:auto;line-height:normal;font-family:Menlo,'DejaVu Sans Mono',consolas,'Courier New',monospace\"><span style=\"color: #7fbfbf; text-decoration-color: #7fbfbf\">           </span><span style=\"color: #000080; text-decoration-color: #000080\">INFO    </span> Loading dataset : CMS_tt_13TeV_ljets_2015_Mtt                                     <a href=\"file:///Users/jaco/opt/anaconda3/envs/smefit_tutorial/lib/python3.11/site-packages/smefit/loader.py\" target=\"_blank\"><span style=\"color: #7f7f7f; text-decoration-color: #7f7f7f\">loader.py</span></a><span style=\"color: #7f7f7f; text-decoration-color: #7f7f7f\">:</span><a href=\"file:///Users/jaco/opt/anaconda3/envs/smefit_tutorial/lib/python3.11/site-packages/smefit/loader.py#135\" target=\"_blank\"><span style=\"color: #7f7f7f; text-decoration-color: #7f7f7f\">135</span></a>\n",
       "</pre>\n"
      ],
      "text/plain": [
       "\u001b[2;36m          \u001b[0m\u001b[2;36m \u001b[0m\u001b[34mINFO    \u001b[0m Loading dataset : CMS_tt_13TeV_ljets_2015_Mtt                                     \u001b]8;id=6902;file:///Users/jaco/opt/anaconda3/envs/smefit_tutorial/lib/python3.11/site-packages/smefit/loader.py\u001b\\\u001b[2mloader.py\u001b[0m\u001b]8;;\u001b\\\u001b[2m:\u001b[0m\u001b]8;id=459676;file:///Users/jaco/opt/anaconda3/envs/smefit_tutorial/lib/python3.11/site-packages/smefit/loader.py#135\u001b\\\u001b[2m135\u001b[0m\u001b]8;;\u001b\\\n"
      ]
     },
     "metadata": {},
     "output_type": "display_data"
    },
    {
     "data": {
      "text/html": [
       "<pre style=\"white-space:pre;overflow-x:auto;line-height:normal;font-family:Menlo,'DejaVu Sans Mono',consolas,'Courier New',monospace\"><span style=\"color: #7fbfbf; text-decoration-color: #7fbfbf\">           </span><span style=\"color: #000080; text-decoration-color: #000080\">INFO    </span> Loading dataset : CMS_tt_13TeV_ljets_2016_Mtt                                     <a href=\"file:///Users/jaco/opt/anaconda3/envs/smefit_tutorial/lib/python3.11/site-packages/smefit/loader.py\" target=\"_blank\"><span style=\"color: #7f7f7f; text-decoration-color: #7f7f7f\">loader.py</span></a><span style=\"color: #7f7f7f; text-decoration-color: #7f7f7f\">:</span><a href=\"file:///Users/jaco/opt/anaconda3/envs/smefit_tutorial/lib/python3.11/site-packages/smefit/loader.py#135\" target=\"_blank\"><span style=\"color: #7f7f7f; text-decoration-color: #7f7f7f\">135</span></a>\n",
       "</pre>\n"
      ],
      "text/plain": [
       "\u001b[2;36m          \u001b[0m\u001b[2;36m \u001b[0m\u001b[34mINFO    \u001b[0m Loading dataset : CMS_tt_13TeV_ljets_2016_Mtt                                     \u001b]8;id=149857;file:///Users/jaco/opt/anaconda3/envs/smefit_tutorial/lib/python3.11/site-packages/smefit/loader.py\u001b\\\u001b[2mloader.py\u001b[0m\u001b]8;;\u001b\\\u001b[2m:\u001b[0m\u001b]8;id=41672;file:///Users/jaco/opt/anaconda3/envs/smefit_tutorial/lib/python3.11/site-packages/smefit/loader.py#135\u001b\\\u001b[2m135\u001b[0m\u001b]8;;\u001b\\\n"
      ]
     },
     "metadata": {},
     "output_type": "display_data"
    },
    {
     "data": {
      "text/html": [
       "<pre style=\"white-space:pre;overflow-x:auto;line-height:normal;font-family:Menlo,'DejaVu Sans Mono',consolas,'Courier New',monospace\"><span style=\"color: #7fbfbf; text-decoration-color: #7fbfbf\">           </span><span style=\"color: #000080; text-decoration-color: #000080\">INFO    </span> Loading dataset : CMS_tt_13TeV_ljets_inc                                          <a href=\"file:///Users/jaco/opt/anaconda3/envs/smefit_tutorial/lib/python3.11/site-packages/smefit/loader.py\" target=\"_blank\"><span style=\"color: #7f7f7f; text-decoration-color: #7f7f7f\">loader.py</span></a><span style=\"color: #7f7f7f; text-decoration-color: #7f7f7f\">:</span><a href=\"file:///Users/jaco/opt/anaconda3/envs/smefit_tutorial/lib/python3.11/site-packages/smefit/loader.py#135\" target=\"_blank\"><span style=\"color: #7f7f7f; text-decoration-color: #7f7f7f\">135</span></a>\n",
       "</pre>\n"
      ],
      "text/plain": [
       "\u001b[2;36m          \u001b[0m\u001b[2;36m \u001b[0m\u001b[34mINFO    \u001b[0m Loading dataset : CMS_tt_13TeV_ljets_inc                                          \u001b]8;id=204451;file:///Users/jaco/opt/anaconda3/envs/smefit_tutorial/lib/python3.11/site-packages/smefit/loader.py\u001b\\\u001b[2mloader.py\u001b[0m\u001b]8;;\u001b\\\u001b[2m:\u001b[0m\u001b]8;id=702236;file:///Users/jaco/opt/anaconda3/envs/smefit_tutorial/lib/python3.11/site-packages/smefit/loader.py#135\u001b\\\u001b[2m135\u001b[0m\u001b]8;;\u001b\\\n"
      ]
     },
     "metadata": {},
     "output_type": "display_data"
    },
    {
     "data": {
      "text/html": [
       "<pre style=\"white-space:pre;overflow-x:auto;line-height:normal;font-family:Menlo,'DejaVu Sans Mono',consolas,'Courier New',monospace\"><span style=\"color: #7fbfbf; text-decoration-color: #7fbfbf\">           </span><span style=\"color: #000080; text-decoration-color: #000080\">INFO    </span> Loading dataset : CMS_tt_8TeV_ljets_Ytt                                           <a href=\"file:///Users/jaco/opt/anaconda3/envs/smefit_tutorial/lib/python3.11/site-packages/smefit/loader.py\" target=\"_blank\"><span style=\"color: #7f7f7f; text-decoration-color: #7f7f7f\">loader.py</span></a><span style=\"color: #7f7f7f; text-decoration-color: #7f7f7f\">:</span><a href=\"file:///Users/jaco/opt/anaconda3/envs/smefit_tutorial/lib/python3.11/site-packages/smefit/loader.py#135\" target=\"_blank\"><span style=\"color: #7f7f7f; text-decoration-color: #7f7f7f\">135</span></a>\n",
       "</pre>\n"
      ],
      "text/plain": [
       "\u001b[2;36m          \u001b[0m\u001b[2;36m \u001b[0m\u001b[34mINFO    \u001b[0m Loading dataset : CMS_tt_8TeV_ljets_Ytt                                           \u001b]8;id=426879;file:///Users/jaco/opt/anaconda3/envs/smefit_tutorial/lib/python3.11/site-packages/smefit/loader.py\u001b\\\u001b[2mloader.py\u001b[0m\u001b]8;;\u001b\\\u001b[2m:\u001b[0m\u001b]8;id=463352;file:///Users/jaco/opt/anaconda3/envs/smefit_tutorial/lib/python3.11/site-packages/smefit/loader.py#135\u001b\\\u001b[2m135\u001b[0m\u001b]8;;\u001b\\\n"
      ]
     },
     "metadata": {},
     "output_type": "display_data"
    },
    {
     "data": {
      "text/html": [
       "<pre style=\"white-space:pre;overflow-x:auto;line-height:normal;font-family:Menlo,'DejaVu Sans Mono',consolas,'Courier New',monospace\"><span style=\"color: #7fbfbf; text-decoration-color: #7fbfbf\">           </span><span style=\"color: #000080; text-decoration-color: #000080\">INFO    </span> Loading dataset : CMS_tta_8TeV                                                    <a href=\"file:///Users/jaco/opt/anaconda3/envs/smefit_tutorial/lib/python3.11/site-packages/smefit/loader.py\" target=\"_blank\"><span style=\"color: #7f7f7f; text-decoration-color: #7f7f7f\">loader.py</span></a><span style=\"color: #7f7f7f; text-decoration-color: #7f7f7f\">:</span><a href=\"file:///Users/jaco/opt/anaconda3/envs/smefit_tutorial/lib/python3.11/site-packages/smefit/loader.py#135\" target=\"_blank\"><span style=\"color: #7f7f7f; text-decoration-color: #7f7f7f\">135</span></a>\n",
       "</pre>\n"
      ],
      "text/plain": [
       "\u001b[2;36m          \u001b[0m\u001b[2;36m \u001b[0m\u001b[34mINFO    \u001b[0m Loading dataset : CMS_tta_8TeV                                                    \u001b]8;id=967290;file:///Users/jaco/opt/anaconda3/envs/smefit_tutorial/lib/python3.11/site-packages/smefit/loader.py\u001b\\\u001b[2mloader.py\u001b[0m\u001b]8;;\u001b\\\u001b[2m:\u001b[0m\u001b]8;id=1897;file:///Users/jaco/opt/anaconda3/envs/smefit_tutorial/lib/python3.11/site-packages/smefit/loader.py#135\u001b\\\u001b[2m135\u001b[0m\u001b]8;;\u001b\\\n"
      ]
     },
     "metadata": {},
     "output_type": "display_data"
    },
    {
     "data": {
      "text/html": [
       "<pre style=\"white-space:pre;overflow-x:auto;line-height:normal;font-family:Menlo,'DejaVu Sans Mono',consolas,'Courier New',monospace\"><span style=\"color: #7fbfbf; text-decoration-color: #7fbfbf\">           </span><span style=\"color: #000080; text-decoration-color: #000080\">INFO    </span> Loading dataset : CMS_ttbb_13TeV                                                  <a href=\"file:///Users/jaco/opt/anaconda3/envs/smefit_tutorial/lib/python3.11/site-packages/smefit/loader.py\" target=\"_blank\"><span style=\"color: #7f7f7f; text-decoration-color: #7f7f7f\">loader.py</span></a><span style=\"color: #7f7f7f; text-decoration-color: #7f7f7f\">:</span><a href=\"file:///Users/jaco/opt/anaconda3/envs/smefit_tutorial/lib/python3.11/site-packages/smefit/loader.py#135\" target=\"_blank\"><span style=\"color: #7f7f7f; text-decoration-color: #7f7f7f\">135</span></a>\n",
       "</pre>\n"
      ],
      "text/plain": [
       "\u001b[2;36m          \u001b[0m\u001b[2;36m \u001b[0m\u001b[34mINFO    \u001b[0m Loading dataset : CMS_ttbb_13TeV                                                  \u001b]8;id=601250;file:///Users/jaco/opt/anaconda3/envs/smefit_tutorial/lib/python3.11/site-packages/smefit/loader.py\u001b\\\u001b[2mloader.py\u001b[0m\u001b]8;;\u001b\\\u001b[2m:\u001b[0m\u001b]8;id=265997;file:///Users/jaco/opt/anaconda3/envs/smefit_tutorial/lib/python3.11/site-packages/smefit/loader.py#135\u001b\\\u001b[2m135\u001b[0m\u001b]8;;\u001b\\\n"
      ]
     },
     "metadata": {},
     "output_type": "display_data"
    },
    {
     "data": {
      "text/html": [
       "<pre style=\"white-space:pre;overflow-x:auto;line-height:normal;font-family:Menlo,'DejaVu Sans Mono',consolas,'Courier New',monospace\"><span style=\"color: #7fbfbf; text-decoration-color: #7fbfbf\">           </span><span style=\"color: #000080; text-decoration-color: #000080\">INFO    </span> Loading dataset : CMS_ttbb_13TeV_2016                                             <a href=\"file:///Users/jaco/opt/anaconda3/envs/smefit_tutorial/lib/python3.11/site-packages/smefit/loader.py\" target=\"_blank\"><span style=\"color: #7f7f7f; text-decoration-color: #7f7f7f\">loader.py</span></a><span style=\"color: #7f7f7f; text-decoration-color: #7f7f7f\">:</span><a href=\"file:///Users/jaco/opt/anaconda3/envs/smefit_tutorial/lib/python3.11/site-packages/smefit/loader.py#135\" target=\"_blank\"><span style=\"color: #7f7f7f; text-decoration-color: #7f7f7f\">135</span></a>\n",
       "</pre>\n"
      ],
      "text/plain": [
       "\u001b[2;36m          \u001b[0m\u001b[2;36m \u001b[0m\u001b[34mINFO    \u001b[0m Loading dataset : CMS_ttbb_13TeV_2016                                             \u001b]8;id=934340;file:///Users/jaco/opt/anaconda3/envs/smefit_tutorial/lib/python3.11/site-packages/smefit/loader.py\u001b\\\u001b[2mloader.py\u001b[0m\u001b]8;;\u001b\\\u001b[2m:\u001b[0m\u001b]8;id=437468;file:///Users/jaco/opt/anaconda3/envs/smefit_tutorial/lib/python3.11/site-packages/smefit/loader.py#135\u001b\\\u001b[2m135\u001b[0m\u001b]8;;\u001b\\\n"
      ]
     },
     "metadata": {},
     "output_type": "display_data"
    },
    {
     "data": {
      "text/html": [
       "<pre style=\"white-space:pre;overflow-x:auto;line-height:normal;font-family:Menlo,'DejaVu Sans Mono',consolas,'Courier New',monospace\"><span style=\"color: #7fbfbf; text-decoration-color: #7fbfbf\">           </span><span style=\"color: #000080; text-decoration-color: #000080\">INFO    </span> Loading dataset : CMS_ttbb_13TeV_dilepton_inc                                     <a href=\"file:///Users/jaco/opt/anaconda3/envs/smefit_tutorial/lib/python3.11/site-packages/smefit/loader.py\" target=\"_blank\"><span style=\"color: #7f7f7f; text-decoration-color: #7f7f7f\">loader.py</span></a><span style=\"color: #7f7f7f; text-decoration-color: #7f7f7f\">:</span><a href=\"file:///Users/jaco/opt/anaconda3/envs/smefit_tutorial/lib/python3.11/site-packages/smefit/loader.py#135\" target=\"_blank\"><span style=\"color: #7f7f7f; text-decoration-color: #7f7f7f\">135</span></a>\n",
       "</pre>\n"
      ],
      "text/plain": [
       "\u001b[2;36m          \u001b[0m\u001b[2;36m \u001b[0m\u001b[34mINFO    \u001b[0m Loading dataset : CMS_ttbb_13TeV_dilepton_inc                                     \u001b]8;id=257870;file:///Users/jaco/opt/anaconda3/envs/smefit_tutorial/lib/python3.11/site-packages/smefit/loader.py\u001b\\\u001b[2mloader.py\u001b[0m\u001b]8;;\u001b\\\u001b[2m:\u001b[0m\u001b]8;id=557891;file:///Users/jaco/opt/anaconda3/envs/smefit_tutorial/lib/python3.11/site-packages/smefit/loader.py#135\u001b\\\u001b[2m135\u001b[0m\u001b]8;;\u001b\\\n"
      ]
     },
     "metadata": {},
     "output_type": "display_data"
    },
    {
     "data": {
      "text/html": [
       "<pre style=\"white-space:pre;overflow-x:auto;line-height:normal;font-family:Menlo,'DejaVu Sans Mono',consolas,'Courier New',monospace\"><span style=\"color: #7fbfbf; text-decoration-color: #7fbfbf\">           </span><span style=\"color: #000080; text-decoration-color: #000080\">INFO    </span> Loading dataset : CMS_ttbb_13TeV_ljets_inc                                        <a href=\"file:///Users/jaco/opt/anaconda3/envs/smefit_tutorial/lib/python3.11/site-packages/smefit/loader.py\" target=\"_blank\"><span style=\"color: #7f7f7f; text-decoration-color: #7f7f7f\">loader.py</span></a><span style=\"color: #7f7f7f; text-decoration-color: #7f7f7f\">:</span><a href=\"file:///Users/jaco/opt/anaconda3/envs/smefit_tutorial/lib/python3.11/site-packages/smefit/loader.py#135\" target=\"_blank\"><span style=\"color: #7f7f7f; text-decoration-color: #7f7f7f\">135</span></a>\n",
       "</pre>\n"
      ],
      "text/plain": [
       "\u001b[2;36m          \u001b[0m\u001b[2;36m \u001b[0m\u001b[34mINFO    \u001b[0m Loading dataset : CMS_ttbb_13TeV_ljets_inc                                        \u001b]8;id=321609;file:///Users/jaco/opt/anaconda3/envs/smefit_tutorial/lib/python3.11/site-packages/smefit/loader.py\u001b\\\u001b[2mloader.py\u001b[0m\u001b]8;;\u001b\\\u001b[2m:\u001b[0m\u001b]8;id=525714;file:///Users/jaco/opt/anaconda3/envs/smefit_tutorial/lib/python3.11/site-packages/smefit/loader.py#135\u001b\\\u001b[2m135\u001b[0m\u001b]8;;\u001b\\\n"
      ]
     },
     "metadata": {},
     "output_type": "display_data"
    },
    {
     "data": {
      "text/html": [
       "<pre style=\"white-space:pre;overflow-x:auto;line-height:normal;font-family:Menlo,'DejaVu Sans Mono',consolas,'Courier New',monospace\"><span style=\"color: #7fbfbf; text-decoration-color: #7fbfbf\">           </span><span style=\"color: #000080; text-decoration-color: #000080\">INFO    </span> Loading dataset : CMS_tttt_13TeV                                                  <a href=\"file:///Users/jaco/opt/anaconda3/envs/smefit_tutorial/lib/python3.11/site-packages/smefit/loader.py\" target=\"_blank\"><span style=\"color: #7f7f7f; text-decoration-color: #7f7f7f\">loader.py</span></a><span style=\"color: #7f7f7f; text-decoration-color: #7f7f7f\">:</span><a href=\"file:///Users/jaco/opt/anaconda3/envs/smefit_tutorial/lib/python3.11/site-packages/smefit/loader.py#135\" target=\"_blank\"><span style=\"color: #7f7f7f; text-decoration-color: #7f7f7f\">135</span></a>\n",
       "</pre>\n"
      ],
      "text/plain": [
       "\u001b[2;36m          \u001b[0m\u001b[2;36m \u001b[0m\u001b[34mINFO    \u001b[0m Loading dataset : CMS_tttt_13TeV                                                  \u001b]8;id=409626;file:///Users/jaco/opt/anaconda3/envs/smefit_tutorial/lib/python3.11/site-packages/smefit/loader.py\u001b\\\u001b[2mloader.py\u001b[0m\u001b]8;;\u001b\\\u001b[2m:\u001b[0m\u001b]8;id=882612;file:///Users/jaco/opt/anaconda3/envs/smefit_tutorial/lib/python3.11/site-packages/smefit/loader.py#135\u001b\\\u001b[2m135\u001b[0m\u001b]8;;\u001b\\\n"
      ]
     },
     "metadata": {},
     "output_type": "display_data"
    },
    {
     "data": {
      "text/html": [
       "<pre style=\"white-space:pre;overflow-x:auto;line-height:normal;font-family:Menlo,'DejaVu Sans Mono',consolas,'Courier New',monospace\"><span style=\"color: #7fbfbf; text-decoration-color: #7fbfbf\">           </span><span style=\"color: #000080; text-decoration-color: #000080\">INFO    </span> Loading dataset : CMS_tttt_13TeV_2023                                             <a href=\"file:///Users/jaco/opt/anaconda3/envs/smefit_tutorial/lib/python3.11/site-packages/smefit/loader.py\" target=\"_blank\"><span style=\"color: #7f7f7f; text-decoration-color: #7f7f7f\">loader.py</span></a><span style=\"color: #7f7f7f; text-decoration-color: #7f7f7f\">:</span><a href=\"file:///Users/jaco/opt/anaconda3/envs/smefit_tutorial/lib/python3.11/site-packages/smefit/loader.py#135\" target=\"_blank\"><span style=\"color: #7f7f7f; text-decoration-color: #7f7f7f\">135</span></a>\n",
       "</pre>\n"
      ],
      "text/plain": [
       "\u001b[2;36m          \u001b[0m\u001b[2;36m \u001b[0m\u001b[34mINFO    \u001b[0m Loading dataset : CMS_tttt_13TeV_2023                                             \u001b]8;id=795777;file:///Users/jaco/opt/anaconda3/envs/smefit_tutorial/lib/python3.11/site-packages/smefit/loader.py\u001b\\\u001b[2mloader.py\u001b[0m\u001b]8;;\u001b\\\u001b[2m:\u001b[0m\u001b]8;id=465792;file:///Users/jaco/opt/anaconda3/envs/smefit_tutorial/lib/python3.11/site-packages/smefit/loader.py#135\u001b\\\u001b[2m135\u001b[0m\u001b]8;;\u001b\\\n"
      ]
     },
     "metadata": {},
     "output_type": "display_data"
    },
    {
     "data": {
      "text/html": [
       "<pre style=\"white-space:pre;overflow-x:auto;line-height:normal;font-family:Menlo,'DejaVu Sans Mono',consolas,'Courier New',monospace\"><span style=\"color: #7fbfbf; text-decoration-color: #7fbfbf\">           </span><span style=\"color: #000080; text-decoration-color: #000080\">INFO    </span> Loading dataset : CMS_tttt_13TeV_run2                                             <a href=\"file:///Users/jaco/opt/anaconda3/envs/smefit_tutorial/lib/python3.11/site-packages/smefit/loader.py\" target=\"_blank\"><span style=\"color: #7f7f7f; text-decoration-color: #7f7f7f\">loader.py</span></a><span style=\"color: #7f7f7f; text-decoration-color: #7f7f7f\">:</span><a href=\"file:///Users/jaco/opt/anaconda3/envs/smefit_tutorial/lib/python3.11/site-packages/smefit/loader.py#135\" target=\"_blank\"><span style=\"color: #7f7f7f; text-decoration-color: #7f7f7f\">135</span></a>\n",
       "</pre>\n"
      ],
      "text/plain": [
       "\u001b[2;36m          \u001b[0m\u001b[2;36m \u001b[0m\u001b[34mINFO    \u001b[0m Loading dataset : CMS_tttt_13TeV_run2                                             \u001b]8;id=556262;file:///Users/jaco/opt/anaconda3/envs/smefit_tutorial/lib/python3.11/site-packages/smefit/loader.py\u001b\\\u001b[2mloader.py\u001b[0m\u001b]8;;\u001b\\\u001b[2m:\u001b[0m\u001b]8;id=261414;file:///Users/jaco/opt/anaconda3/envs/smefit_tutorial/lib/python3.11/site-packages/smefit/loader.py#135\u001b\\\u001b[2m135\u001b[0m\u001b]8;;\u001b\\\n"
      ]
     },
     "metadata": {},
     "output_type": "display_data"
    },
    {
     "data": {
      "text/html": [
       "<pre style=\"white-space:pre;overflow-x:auto;line-height:normal;font-family:Menlo,'DejaVu Sans Mono',consolas,'Courier New',monospace\"><span style=\"color: #7fbfbf; text-decoration-color: #7fbfbf\">           </span><span style=\"color: #000080; text-decoration-color: #000080\">INFO    </span> Loading dataset : CMS_tttt_13TeV_slep_inc                                         <a href=\"file:///Users/jaco/opt/anaconda3/envs/smefit_tutorial/lib/python3.11/site-packages/smefit/loader.py\" target=\"_blank\"><span style=\"color: #7f7f7f; text-decoration-color: #7f7f7f\">loader.py</span></a><span style=\"color: #7f7f7f; text-decoration-color: #7f7f7f\">:</span><a href=\"file:///Users/jaco/opt/anaconda3/envs/smefit_tutorial/lib/python3.11/site-packages/smefit/loader.py#135\" target=\"_blank\"><span style=\"color: #7f7f7f; text-decoration-color: #7f7f7f\">135</span></a>\n",
       "</pre>\n"
      ],
      "text/plain": [
       "\u001b[2;36m          \u001b[0m\u001b[2;36m \u001b[0m\u001b[34mINFO    \u001b[0m Loading dataset : CMS_tttt_13TeV_slep_inc                                         \u001b]8;id=909167;file:///Users/jaco/opt/anaconda3/envs/smefit_tutorial/lib/python3.11/site-packages/smefit/loader.py\u001b\\\u001b[2mloader.py\u001b[0m\u001b]8;;\u001b\\\u001b[2m:\u001b[0m\u001b]8;id=502215;file:///Users/jaco/opt/anaconda3/envs/smefit_tutorial/lib/python3.11/site-packages/smefit/loader.py#135\u001b\\\u001b[2m135\u001b[0m\u001b]8;;\u001b\\\n"
      ]
     },
     "metadata": {},
     "output_type": "display_data"
    },
    {
     "data": {
      "text/html": [
       "<pre style=\"white-space:pre;overflow-x:auto;line-height:normal;font-family:Menlo,'DejaVu Sans Mono',consolas,'Courier New',monospace\"><span style=\"color: #7fbfbf; text-decoration-color: #7fbfbf\">           </span><span style=\"color: #000080; text-decoration-color: #000080\">INFO    </span> Loading dataset : LEP1_EWPOs_2006                                                 <a href=\"file:///Users/jaco/opt/anaconda3/envs/smefit_tutorial/lib/python3.11/site-packages/smefit/loader.py\" target=\"_blank\"><span style=\"color: #7f7f7f; text-decoration-color: #7f7f7f\">loader.py</span></a><span style=\"color: #7f7f7f; text-decoration-color: #7f7f7f\">:</span><a href=\"file:///Users/jaco/opt/anaconda3/envs/smefit_tutorial/lib/python3.11/site-packages/smefit/loader.py#135\" target=\"_blank\"><span style=\"color: #7f7f7f; text-decoration-color: #7f7f7f\">135</span></a>\n",
       "</pre>\n"
      ],
      "text/plain": [
       "\u001b[2;36m          \u001b[0m\u001b[2;36m \u001b[0m\u001b[34mINFO    \u001b[0m Loading dataset : LEP1_EWPOs_2006                                                 \u001b]8;id=151099;file:///Users/jaco/opt/anaconda3/envs/smefit_tutorial/lib/python3.11/site-packages/smefit/loader.py\u001b\\\u001b[2mloader.py\u001b[0m\u001b]8;;\u001b\\\u001b[2m:\u001b[0m\u001b]8;id=188744;file:///Users/jaco/opt/anaconda3/envs/smefit_tutorial/lib/python3.11/site-packages/smefit/loader.py#135\u001b\\\u001b[2m135\u001b[0m\u001b]8;;\u001b\\\n"
      ]
     },
     "metadata": {},
     "output_type": "display_data"
    },
    {
     "data": {
      "text/html": [
       "<pre style=\"white-space:pre;overflow-x:auto;line-height:normal;font-family:Menlo,'DejaVu Sans Mono',consolas,'Courier New',monospace\"><span style=\"color: #7fbfbf; text-decoration-color: #7fbfbf\">           </span><span style=\"color: #000080; text-decoration-color: #000080\">INFO    </span> Loading dataset : LEP_Bhabha_2013                                                 <a href=\"file:///Users/jaco/opt/anaconda3/envs/smefit_tutorial/lib/python3.11/site-packages/smefit/loader.py\" target=\"_blank\"><span style=\"color: #7f7f7f; text-decoration-color: #7f7f7f\">loader.py</span></a><span style=\"color: #7f7f7f; text-decoration-color: #7f7f7f\">:</span><a href=\"file:///Users/jaco/opt/anaconda3/envs/smefit_tutorial/lib/python3.11/site-packages/smefit/loader.py#135\" target=\"_blank\"><span style=\"color: #7f7f7f; text-decoration-color: #7f7f7f\">135</span></a>\n",
       "</pre>\n"
      ],
      "text/plain": [
       "\u001b[2;36m          \u001b[0m\u001b[2;36m \u001b[0m\u001b[34mINFO    \u001b[0m Loading dataset : LEP_Bhabha_2013                                                 \u001b]8;id=428781;file:///Users/jaco/opt/anaconda3/envs/smefit_tutorial/lib/python3.11/site-packages/smefit/loader.py\u001b\\\u001b[2mloader.py\u001b[0m\u001b]8;;\u001b\\\u001b[2m:\u001b[0m\u001b]8;id=430524;file:///Users/jaco/opt/anaconda3/envs/smefit_tutorial/lib/python3.11/site-packages/smefit/loader.py#135\u001b\\\u001b[2m135\u001b[0m\u001b]8;;\u001b\\\n"
      ]
     },
     "metadata": {},
     "output_type": "display_data"
    },
    {
     "data": {
      "text/html": [
       "<pre style=\"white-space:pre;overflow-x:auto;line-height:normal;font-family:Menlo,'DejaVu Sans Mono',consolas,'Courier New',monospace\"><span style=\"color: #7fbfbf; text-decoration-color: #7fbfbf\">           </span><span style=\"color: #000080; text-decoration-color: #000080\">INFO    </span> Loading dataset : LEP_Brw_2013                                                    <a href=\"file:///Users/jaco/opt/anaconda3/envs/smefit_tutorial/lib/python3.11/site-packages/smefit/loader.py\" target=\"_blank\"><span style=\"color: #7f7f7f; text-decoration-color: #7f7f7f\">loader.py</span></a><span style=\"color: #7f7f7f; text-decoration-color: #7f7f7f\">:</span><a href=\"file:///Users/jaco/opt/anaconda3/envs/smefit_tutorial/lib/python3.11/site-packages/smefit/loader.py#135\" target=\"_blank\"><span style=\"color: #7f7f7f; text-decoration-color: #7f7f7f\">135</span></a>\n",
       "</pre>\n"
      ],
      "text/plain": [
       "\u001b[2;36m          \u001b[0m\u001b[2;36m \u001b[0m\u001b[34mINFO    \u001b[0m Loading dataset : LEP_Brw_2013                                                    \u001b]8;id=943547;file:///Users/jaco/opt/anaconda3/envs/smefit_tutorial/lib/python3.11/site-packages/smefit/loader.py\u001b\\\u001b[2mloader.py\u001b[0m\u001b]8;;\u001b\\\u001b[2m:\u001b[0m\u001b]8;id=972360;file:///Users/jaco/opt/anaconda3/envs/smefit_tutorial/lib/python3.11/site-packages/smefit/loader.py#135\u001b\\\u001b[2m135\u001b[0m\u001b]8;;\u001b\\\n"
      ]
     },
     "metadata": {},
     "output_type": "display_data"
    },
    {
     "data": {
      "text/html": [
       "<pre style=\"white-space:pre;overflow-x:auto;line-height:normal;font-family:Menlo,'DejaVu Sans Mono',consolas,'Courier New',monospace\"><span style=\"color: #7fbfbf; text-decoration-color: #7fbfbf\">           </span><span style=\"color: #000080; text-decoration-color: #000080\">INFO    </span> Loading dataset : LEP_alphaEW                                                     <a href=\"file:///Users/jaco/opt/anaconda3/envs/smefit_tutorial/lib/python3.11/site-packages/smefit/loader.py\" target=\"_blank\"><span style=\"color: #7f7f7f; text-decoration-color: #7f7f7f\">loader.py</span></a><span style=\"color: #7f7f7f; text-decoration-color: #7f7f7f\">:</span><a href=\"file:///Users/jaco/opt/anaconda3/envs/smefit_tutorial/lib/python3.11/site-packages/smefit/loader.py#135\" target=\"_blank\"><span style=\"color: #7f7f7f; text-decoration-color: #7f7f7f\">135</span></a>\n",
       "</pre>\n"
      ],
      "text/plain": [
       "\u001b[2;36m          \u001b[0m\u001b[2;36m \u001b[0m\u001b[34mINFO    \u001b[0m Loading dataset : LEP_alphaEW                                                     \u001b]8;id=991679;file:///Users/jaco/opt/anaconda3/envs/smefit_tutorial/lib/python3.11/site-packages/smefit/loader.py\u001b\\\u001b[2mloader.py\u001b[0m\u001b]8;;\u001b\\\u001b[2m:\u001b[0m\u001b]8;id=964507;file:///Users/jaco/opt/anaconda3/envs/smefit_tutorial/lib/python3.11/site-packages/smefit/loader.py#135\u001b\\\u001b[2m135\u001b[0m\u001b]8;;\u001b\\\n"
      ]
     },
     "metadata": {},
     "output_type": "display_data"
    },
    {
     "data": {
      "text/html": [
       "<pre style=\"white-space:pre;overflow-x:auto;line-height:normal;font-family:Menlo,'DejaVu Sans Mono',consolas,'Courier New',monospace\"><span style=\"color: #7fbfbf; text-decoration-color: #7fbfbf\">           </span><span style=\"color: #000080; text-decoration-color: #000080\">INFO    </span> Loading dataset : LEP_eeWW_182GeV                                                 <a href=\"file:///Users/jaco/opt/anaconda3/envs/smefit_tutorial/lib/python3.11/site-packages/smefit/loader.py\" target=\"_blank\"><span style=\"color: #7f7f7f; text-decoration-color: #7f7f7f\">loader.py</span></a><span style=\"color: #7f7f7f; text-decoration-color: #7f7f7f\">:</span><a href=\"file:///Users/jaco/opt/anaconda3/envs/smefit_tutorial/lib/python3.11/site-packages/smefit/loader.py#135\" target=\"_blank\"><span style=\"color: #7f7f7f; text-decoration-color: #7f7f7f\">135</span></a>\n",
       "</pre>\n"
      ],
      "text/plain": [
       "\u001b[2;36m          \u001b[0m\u001b[2;36m \u001b[0m\u001b[34mINFO    \u001b[0m Loading dataset : LEP_eeWW_182GeV                                                 \u001b]8;id=952684;file:///Users/jaco/opt/anaconda3/envs/smefit_tutorial/lib/python3.11/site-packages/smefit/loader.py\u001b\\\u001b[2mloader.py\u001b[0m\u001b]8;;\u001b\\\u001b[2m:\u001b[0m\u001b]8;id=258335;file:///Users/jaco/opt/anaconda3/envs/smefit_tutorial/lib/python3.11/site-packages/smefit/loader.py#135\u001b\\\u001b[2m135\u001b[0m\u001b]8;;\u001b\\\n"
      ]
     },
     "metadata": {},
     "output_type": "display_data"
    },
    {
     "data": {
      "text/html": [
       "<pre style=\"white-space:pre;overflow-x:auto;line-height:normal;font-family:Menlo,'DejaVu Sans Mono',consolas,'Courier New',monospace\"><span style=\"color: #7fbfbf; text-decoration-color: #7fbfbf\">           </span><span style=\"color: #000080; text-decoration-color: #000080\">INFO    </span> Loading dataset : LEP_eeWW_189GeV                                                 <a href=\"file:///Users/jaco/opt/anaconda3/envs/smefit_tutorial/lib/python3.11/site-packages/smefit/loader.py\" target=\"_blank\"><span style=\"color: #7f7f7f; text-decoration-color: #7f7f7f\">loader.py</span></a><span style=\"color: #7f7f7f; text-decoration-color: #7f7f7f\">:</span><a href=\"file:///Users/jaco/opt/anaconda3/envs/smefit_tutorial/lib/python3.11/site-packages/smefit/loader.py#135\" target=\"_blank\"><span style=\"color: #7f7f7f; text-decoration-color: #7f7f7f\">135</span></a>\n",
       "</pre>\n"
      ],
      "text/plain": [
       "\u001b[2;36m          \u001b[0m\u001b[2;36m \u001b[0m\u001b[34mINFO    \u001b[0m Loading dataset : LEP_eeWW_189GeV                                                 \u001b]8;id=283358;file:///Users/jaco/opt/anaconda3/envs/smefit_tutorial/lib/python3.11/site-packages/smefit/loader.py\u001b\\\u001b[2mloader.py\u001b[0m\u001b]8;;\u001b\\\u001b[2m:\u001b[0m\u001b]8;id=551207;file:///Users/jaco/opt/anaconda3/envs/smefit_tutorial/lib/python3.11/site-packages/smefit/loader.py#135\u001b\\\u001b[2m135\u001b[0m\u001b]8;;\u001b\\\n"
      ]
     },
     "metadata": {},
     "output_type": "display_data"
    },
    {
     "data": {
      "text/html": [
       "<pre style=\"white-space:pre;overflow-x:auto;line-height:normal;font-family:Menlo,'DejaVu Sans Mono',consolas,'Courier New',monospace\"><span style=\"color: #7fbfbf; text-decoration-color: #7fbfbf\">           </span><span style=\"color: #000080; text-decoration-color: #000080\">INFO    </span> Loading dataset : LEP_eeWW_198GeV                                                 <a href=\"file:///Users/jaco/opt/anaconda3/envs/smefit_tutorial/lib/python3.11/site-packages/smefit/loader.py\" target=\"_blank\"><span style=\"color: #7f7f7f; text-decoration-color: #7f7f7f\">loader.py</span></a><span style=\"color: #7f7f7f; text-decoration-color: #7f7f7f\">:</span><a href=\"file:///Users/jaco/opt/anaconda3/envs/smefit_tutorial/lib/python3.11/site-packages/smefit/loader.py#135\" target=\"_blank\"><span style=\"color: #7f7f7f; text-decoration-color: #7f7f7f\">135</span></a>\n",
       "</pre>\n"
      ],
      "text/plain": [
       "\u001b[2;36m          \u001b[0m\u001b[2;36m \u001b[0m\u001b[34mINFO    \u001b[0m Loading dataset : LEP_eeWW_198GeV                                                 \u001b]8;id=314275;file:///Users/jaco/opt/anaconda3/envs/smefit_tutorial/lib/python3.11/site-packages/smefit/loader.py\u001b\\\u001b[2mloader.py\u001b[0m\u001b]8;;\u001b\\\u001b[2m:\u001b[0m\u001b]8;id=31590;file:///Users/jaco/opt/anaconda3/envs/smefit_tutorial/lib/python3.11/site-packages/smefit/loader.py#135\u001b\\\u001b[2m135\u001b[0m\u001b]8;;\u001b\\\n"
      ]
     },
     "metadata": {},
     "output_type": "display_data"
    },
    {
     "data": {
      "text/html": [
       "<pre style=\"white-space:pre;overflow-x:auto;line-height:normal;font-family:Menlo,'DejaVu Sans Mono',consolas,'Courier New',monospace\"><span style=\"color: #7fbfbf; text-decoration-color: #7fbfbf\">           </span><span style=\"color: #000080; text-decoration-color: #000080\">INFO    </span> Loading dataset : LEP_eeWW_206GeV                                                 <a href=\"file:///Users/jaco/opt/anaconda3/envs/smefit_tutorial/lib/python3.11/site-packages/smefit/loader.py\" target=\"_blank\"><span style=\"color: #7f7f7f; text-decoration-color: #7f7f7f\">loader.py</span></a><span style=\"color: #7f7f7f; text-decoration-color: #7f7f7f\">:</span><a href=\"file:///Users/jaco/opt/anaconda3/envs/smefit_tutorial/lib/python3.11/site-packages/smefit/loader.py#135\" target=\"_blank\"><span style=\"color: #7f7f7f; text-decoration-color: #7f7f7f\">135</span></a>\n",
       "</pre>\n"
      ],
      "text/plain": [
       "\u001b[2;36m          \u001b[0m\u001b[2;36m \u001b[0m\u001b[34mINFO    \u001b[0m Loading dataset : LEP_eeWW_206GeV                                                 \u001b]8;id=508895;file:///Users/jaco/opt/anaconda3/envs/smefit_tutorial/lib/python3.11/site-packages/smefit/loader.py\u001b\\\u001b[2mloader.py\u001b[0m\u001b]8;;\u001b\\\u001b[2m:\u001b[0m\u001b]8;id=241697;file:///Users/jaco/opt/anaconda3/envs/smefit_tutorial/lib/python3.11/site-packages/smefit/loader.py#135\u001b\\\u001b[2m135\u001b[0m\u001b]8;;\u001b\\\n"
      ]
     },
     "metadata": {},
     "output_type": "display_data"
    },
    {
     "name": "stderr",
     "output_type": "stream",
     "text": [
      "/Users/jaco/opt/anaconda3/envs/smefit_tutorial/lib/python3.11/site-packages/smefit/coefficients.py:216: FutureWarning: Setting an item of incompatible dtype is deprecated and will raise an error in a future version of pandas. Value '[1.0 0 0 0 0 0 0 0 0 0 0 0 0 0 0 0 0 0 0 0 0 0 0 0 0 0 0 0 0 0 0 0 0 0 0 0\n",
      " 0 0 0 0 0 0 0 0 0]' has dtype incompatible with float64, please explicitly cast to a compatible dtype first.\n",
      "  self._table.iloc[self.is_free, 0] = value\n"
     ]
    },
    {
     "data": {
      "text/html": [
       "<pre style=\"white-space:pre;overflow-x:auto;line-height:normal;font-family:Menlo,'DejaVu Sans Mono',consolas,'Courier New',monospace\"><span style=\"color: #7fbfbf; text-decoration-color: #7fbfbf\">           </span><span style=\"color: #000080; text-decoration-color: #000080\">INFO    </span> Computing Analytic solution <span style=\"color: #808000; text-decoration-color: #808000\">...</span>                                                 <a href=\"file:///Users/jaco/opt/anaconda3/envs/smefit_tutorial/lib/python3.11/site-packages/smefit/optimize/analytic.py\" target=\"_blank\"><span style=\"color: #7f7f7f; text-decoration-color: #7f7f7f\">analytic.py</span></a><span style=\"color: #7f7f7f; text-decoration-color: #7f7f7f\">:</span><a href=\"file:///Users/jaco/opt/anaconda3/envs/smefit_tutorial/lib/python3.11/site-packages/smefit/optimize/analytic.py#127\" target=\"_blank\"><span style=\"color: #7f7f7f; text-decoration-color: #7f7f7f\">127</span></a>\n",
       "</pre>\n"
      ],
      "text/plain": [
       "\u001b[2;36m          \u001b[0m\u001b[2;36m \u001b[0m\u001b[34mINFO    \u001b[0m Computing Analytic solution \u001b[33m...\u001b[0m                                                 \u001b]8;id=724520;file:///Users/jaco/opt/anaconda3/envs/smefit_tutorial/lib/python3.11/site-packages/smefit/optimize/analytic.py\u001b\\\u001b[2manalytic.py\u001b[0m\u001b]8;;\u001b\\\u001b[2m:\u001b[0m\u001b]8;id=304685;file:///Users/jaco/opt/anaconda3/envs/smefit_tutorial/lib/python3.11/site-packages/smefit/optimize/analytic.py#127\u001b\\\u001b[2m127\u001b[0m\u001b]8;;\u001b\\\n"
      ]
     },
     "metadata": {},
     "output_type": "display_data"
    },
    {
     "data": {
      "text/html": [
       "<pre style=\"white-space:pre;overflow-x:auto;line-height:normal;font-family:Menlo,'DejaVu Sans Mono',consolas,'Courier New',monospace\"><span style=\"color: #c0c0c0; text-decoration-color: #c0c0c0\">┏━━━━━━━━━━━┳━━━━━━━━━━━━┳━━━━━━━┓</span>\n",
       "<span style=\"color: #c0c0c0; text-decoration-color: #c0c0c0\">┃</span><span style=\"font-weight: bold\"> Parameter </span><span style=\"color: #c0c0c0; text-decoration-color: #c0c0c0\">┃</span><span style=\"font-weight: bold\"> Best value </span><span style=\"color: #c0c0c0; text-decoration-color: #c0c0c0\">┃</span><span style=\"font-weight: bold\"> Error </span><span style=\"color: #c0c0c0; text-decoration-color: #c0c0c0\">┃</span>\n",
       "<span style=\"color: #c0c0c0; text-decoration-color: #c0c0c0\">┡━━━━━━━━━━━╇━━━━━━━━━━━━╇━━━━━━━┩</span>\n",
       "<span style=\"color: #c0c0c0; text-decoration-color: #c0c0c0\">│</span><span style=\"color: #800000; text-decoration-color: #800000; font-weight: bold\"> O11qq     </span><span style=\"color: #c0c0c0; text-decoration-color: #c0c0c0\">│</span> 3.572      <span style=\"color: #c0c0c0; text-decoration-color: #c0c0c0\">│</span> 3.785 <span style=\"color: #c0c0c0; text-decoration-color: #c0c0c0\">│</span>\n",
       "<span style=\"color: #c0c0c0; text-decoration-color: #c0c0c0\">│</span><span style=\"color: #800000; text-decoration-color: #800000; font-weight: bold\"> O13qq     </span><span style=\"color: #c0c0c0; text-decoration-color: #c0c0c0\">│</span> -0.080     <span style=\"color: #c0c0c0; text-decoration-color: #c0c0c0\">│</span> 0.113 <span style=\"color: #c0c0c0; text-decoration-color: #c0c0c0\">│</span>\n",
       "<span style=\"color: #c0c0c0; text-decoration-color: #c0c0c0\">│</span><span style=\"color: #800000; text-decoration-color: #800000; font-weight: bold\"> O1dt      </span><span style=\"color: #c0c0c0; text-decoration-color: #c0c0c0\">│</span> -13.149    <span style=\"color: #c0c0c0; text-decoration-color: #c0c0c0\">│</span> 9.306 <span style=\"color: #c0c0c0; text-decoration-color: #c0c0c0\">│</span>\n",
       "<span style=\"color: #c0c0c0; text-decoration-color: #c0c0c0\">│</span><span style=\"color: #800000; text-decoration-color: #800000; font-weight: bold\"> O1qd      </span><span style=\"color: #c0c0c0; text-decoration-color: #c0c0c0\">│</span> 9.267      <span style=\"color: #c0c0c0; text-decoration-color: #c0c0c0\">│</span> 8.850 <span style=\"color: #c0c0c0; text-decoration-color: #c0c0c0\">│</span>\n",
       "<span style=\"color: #c0c0c0; text-decoration-color: #c0c0c0\">│</span><span style=\"color: #800000; text-decoration-color: #800000; font-weight: bold\"> O1qt      </span><span style=\"color: #c0c0c0; text-decoration-color: #c0c0c0\">│</span> 0.232      <span style=\"color: #c0c0c0; text-decoration-color: #c0c0c0\">│</span> 2.656 <span style=\"color: #c0c0c0; text-decoration-color: #c0c0c0\">│</span>\n",
       "<span style=\"color: #c0c0c0; text-decoration-color: #c0c0c0\">│</span><span style=\"color: #800000; text-decoration-color: #800000; font-weight: bold\"> O1qu      </span><span style=\"color: #c0c0c0; text-decoration-color: #c0c0c0\">│</span> -4.066     <span style=\"color: #c0c0c0; text-decoration-color: #c0c0c0\">│</span> 3.716 <span style=\"color: #c0c0c0; text-decoration-color: #c0c0c0\">│</span>\n",
       "<span style=\"color: #c0c0c0; text-decoration-color: #c0c0c0\">│</span><span style=\"color: #800000; text-decoration-color: #800000; font-weight: bold\"> O1ut      </span><span style=\"color: #c0c0c0; text-decoration-color: #c0c0c0\">│</span> 0.436      <span style=\"color: #c0c0c0; text-decoration-color: #c0c0c0\">│</span> 6.338 <span style=\"color: #c0c0c0; text-decoration-color: #c0c0c0\">│</span>\n",
       "<span style=\"color: #c0c0c0; text-decoration-color: #c0c0c0\">│</span><span style=\"color: #800000; text-decoration-color: #800000; font-weight: bold\"> O3pQ3     </span><span style=\"color: #c0c0c0; text-decoration-color: #c0c0c0\">│</span> -0.244     <span style=\"color: #c0c0c0; text-decoration-color: #c0c0c0\">│</span> 0.464 <span style=\"color: #c0c0c0; text-decoration-color: #c0c0c0\">│</span>\n",
       "<span style=\"color: #c0c0c0; text-decoration-color: #c0c0c0\">│</span><span style=\"color: #800000; text-decoration-color: #800000; font-weight: bold\"> O3pl1     </span><span style=\"color: #c0c0c0; text-decoration-color: #c0c0c0\">│</span> -0.035     <span style=\"color: #c0c0c0; text-decoration-color: #c0c0c0\">│</span> 0.051 <span style=\"color: #c0c0c0; text-decoration-color: #c0c0c0\">│</span>\n",
       "<span style=\"color: #c0c0c0; text-decoration-color: #c0c0c0\">│</span><span style=\"color: #800000; text-decoration-color: #800000; font-weight: bold\"> O3pl2     </span><span style=\"color: #c0c0c0; text-decoration-color: #c0c0c0\">│</span> -0.028     <span style=\"color: #c0c0c0; text-decoration-color: #c0c0c0\">│</span> 0.060 <span style=\"color: #c0c0c0; text-decoration-color: #c0c0c0\">│</span>\n",
       "<span style=\"color: #c0c0c0; text-decoration-color: #c0c0c0\">│</span><span style=\"color: #800000; text-decoration-color: #800000; font-weight: bold\"> O3pl3     </span><span style=\"color: #c0c0c0; text-decoration-color: #c0c0c0\">│</span> -0.041     <span style=\"color: #c0c0c0; text-decoration-color: #c0c0c0\">│</span> 0.092 <span style=\"color: #c0c0c0; text-decoration-color: #c0c0c0\">│</span>\n",
       "<span style=\"color: #c0c0c0; text-decoration-color: #c0c0c0\">│</span><span style=\"color: #800000; text-decoration-color: #800000; font-weight: bold\"> O3pq      </span><span style=\"color: #c0c0c0; text-decoration-color: #c0c0c0\">│</span> -0.074     <span style=\"color: #c0c0c0; text-decoration-color: #c0c0c0\">│</span> 0.037 <span style=\"color: #c0c0c0; text-decoration-color: #c0c0c0\">│</span>\n",
       "<span style=\"color: #c0c0c0; text-decoration-color: #c0c0c0\">│</span><span style=\"color: #800000; text-decoration-color: #800000; font-weight: bold\"> O81qq     </span><span style=\"color: #c0c0c0; text-decoration-color: #c0c0c0\">│</span> 0.832      <span style=\"color: #c0c0c0; text-decoration-color: #c0c0c0\">│</span> 1.213 <span style=\"color: #c0c0c0; text-decoration-color: #c0c0c0\">│</span>\n",
       "<span style=\"color: #c0c0c0; text-decoration-color: #c0c0c0\">│</span><span style=\"color: #800000; text-decoration-color: #800000; font-weight: bold\"> O83qq     </span><span style=\"color: #c0c0c0; text-decoration-color: #c0c0c0\">│</span> -0.497     <span style=\"color: #c0c0c0; text-decoration-color: #c0c0c0\">│</span> 2.438 <span style=\"color: #c0c0c0; text-decoration-color: #c0c0c0\">│</span>\n",
       "<span style=\"color: #c0c0c0; text-decoration-color: #c0c0c0\">│</span><span style=\"color: #800000; text-decoration-color: #800000; font-weight: bold\"> O8dt      </span><span style=\"color: #c0c0c0; text-decoration-color: #c0c0c0\">│</span> 4.190      <span style=\"color: #c0c0c0; text-decoration-color: #c0c0c0\">│</span> 6.353 <span style=\"color: #c0c0c0; text-decoration-color: #c0c0c0\">│</span>\n",
       "<span style=\"color: #c0c0c0; text-decoration-color: #c0c0c0\">│</span><span style=\"color: #800000; text-decoration-color: #800000; font-weight: bold\"> O8qd      </span><span style=\"color: #c0c0c0; text-decoration-color: #c0c0c0\">│</span> -3.331     <span style=\"color: #c0c0c0; text-decoration-color: #c0c0c0\">│</span> 5.479 <span style=\"color: #c0c0c0; text-decoration-color: #c0c0c0\">│</span>\n",
       "<span style=\"color: #c0c0c0; text-decoration-color: #c0c0c0\">│</span><span style=\"color: #800000; text-decoration-color: #800000; font-weight: bold\"> O8qt      </span><span style=\"color: #c0c0c0; text-decoration-color: #c0c0c0\">│</span> -0.214     <span style=\"color: #c0c0c0; text-decoration-color: #c0c0c0\">│</span> 1.568 <span style=\"color: #c0c0c0; text-decoration-color: #c0c0c0\">│</span>\n",
       "<span style=\"color: #c0c0c0; text-decoration-color: #c0c0c0\">│</span><span style=\"color: #800000; text-decoration-color: #800000; font-weight: bold\"> O8qu      </span><span style=\"color: #c0c0c0; text-decoration-color: #c0c0c0\">│</span> 1.292      <span style=\"color: #c0c0c0; text-decoration-color: #c0c0c0\">│</span> 4.292 <span style=\"color: #c0c0c0; text-decoration-color: #c0c0c0\">│</span>\n",
       "<span style=\"color: #c0c0c0; text-decoration-color: #c0c0c0\">│</span><span style=\"color: #800000; text-decoration-color: #800000; font-weight: bold\"> O8ut      </span><span style=\"color: #c0c0c0; text-decoration-color: #c0c0c0\">│</span> -2.683     <span style=\"color: #c0c0c0; text-decoration-color: #c0c0c0\">│</span> 3.172 <span style=\"color: #c0c0c0; text-decoration-color: #c0c0c0\">│</span>\n",
       "<span style=\"color: #c0c0c0; text-decoration-color: #c0c0c0\">│</span><span style=\"color: #800000; text-decoration-color: #800000; font-weight: bold\"> OWWW      </span><span style=\"color: #c0c0c0; text-decoration-color: #c0c0c0\">│</span> 0.015      <span style=\"color: #c0c0c0; text-decoration-color: #c0c0c0\">│</span> 0.300 <span style=\"color: #c0c0c0; text-decoration-color: #c0c0c0\">│</span>\n",
       "<span style=\"color: #c0c0c0; text-decoration-color: #c0c0c0\">│</span><span style=\"color: #800000; text-decoration-color: #800000; font-weight: bold\"> Obp       </span><span style=\"color: #c0c0c0; text-decoration-color: #c0c0c0\">│</span> 0.023      <span style=\"color: #c0c0c0; text-decoration-color: #c0c0c0\">│</span> 0.033 <span style=\"color: #c0c0c0; text-decoration-color: #c0c0c0\">│</span>\n",
       "<span style=\"color: #c0c0c0; text-decoration-color: #c0c0c0\">│</span><span style=\"color: #800000; text-decoration-color: #800000; font-weight: bold\"> Ocp       </span><span style=\"color: #c0c0c0; text-decoration-color: #c0c0c0\">│</span> -0.043     <span style=\"color: #c0c0c0; text-decoration-color: #c0c0c0\">│</span> 0.101 <span style=\"color: #c0c0c0; text-decoration-color: #c0c0c0\">│</span>\n",
       "<span style=\"color: #c0c0c0; text-decoration-color: #c0c0c0\">│</span><span style=\"color: #800000; text-decoration-color: #800000; font-weight: bold\"> Oll       </span><span style=\"color: #c0c0c0; text-decoration-color: #c0c0c0\">│</span> -0.006     <span style=\"color: #c0c0c0; text-decoration-color: #c0c0c0\">│</span> 0.054 <span style=\"color: #c0c0c0; text-decoration-color: #c0c0c0\">│</span>\n",
       "<span style=\"color: #c0c0c0; text-decoration-color: #c0c0c0\">│</span><span style=\"color: #800000; text-decoration-color: #800000; font-weight: bold\"> OpB       </span><span style=\"color: #c0c0c0; text-decoration-color: #c0c0c0\">│</span> 0.130      <span style=\"color: #c0c0c0; text-decoration-color: #c0c0c0\">│</span> 0.223 <span style=\"color: #c0c0c0; text-decoration-color: #c0c0c0\">│</span>\n",
       "<span style=\"color: #c0c0c0; text-decoration-color: #c0c0c0\">│</span><span style=\"color: #800000; text-decoration-color: #800000; font-weight: bold\"> OpD       </span><span style=\"color: #c0c0c0; text-decoration-color: #c0c0c0\">│</span> 0.044      <span style=\"color: #c0c0c0; text-decoration-color: #c0c0c0\">│</span> 0.570 <span style=\"color: #c0c0c0; text-decoration-color: #c0c0c0\">│</span>\n",
       "<span style=\"color: #c0c0c0; text-decoration-color: #c0c0c0\">│</span><span style=\"color: #800000; text-decoration-color: #800000; font-weight: bold\"> OpG       </span><span style=\"color: #c0c0c0; text-decoration-color: #c0c0c0\">│</span> -0.007     <span style=\"color: #c0c0c0; text-decoration-color: #c0c0c0\">│</span> 0.008 <span style=\"color: #c0c0c0; text-decoration-color: #c0c0c0\">│</span>\n",
       "<span style=\"color: #c0c0c0; text-decoration-color: #c0c0c0\">│</span><span style=\"color: #800000; text-decoration-color: #800000; font-weight: bold\"> OpQM      </span><span style=\"color: #c0c0c0; text-decoration-color: #c0c0c0\">│</span> 0.396      <span style=\"color: #c0c0c0; text-decoration-color: #c0c0c0\">│</span> 0.927 <span style=\"color: #c0c0c0; text-decoration-color: #c0c0c0\">│</span>\n",
       "<span style=\"color: #c0c0c0; text-decoration-color: #c0c0c0\">│</span><span style=\"color: #800000; text-decoration-color: #800000; font-weight: bold\"> OpW       </span><span style=\"color: #c0c0c0; text-decoration-color: #c0c0c0\">│</span> 0.212      <span style=\"color: #c0c0c0; text-decoration-color: #c0c0c0\">│</span> 0.250 <span style=\"color: #c0c0c0; text-decoration-color: #c0c0c0\">│</span>\n",
       "<span style=\"color: #c0c0c0; text-decoration-color: #c0c0c0\">│</span><span style=\"color: #800000; text-decoration-color: #800000; font-weight: bold\"> OpWB      </span><span style=\"color: #c0c0c0; text-decoration-color: #c0c0c0\">│</span> -0.010     <span style=\"color: #c0c0c0; text-decoration-color: #c0c0c0\">│</span> 0.265 <span style=\"color: #c0c0c0; text-decoration-color: #c0c0c0\">│</span>\n",
       "<span style=\"color: #c0c0c0; text-decoration-color: #c0c0c0\">│</span><span style=\"color: #800000; text-decoration-color: #800000; font-weight: bold\"> Opd       </span><span style=\"color: #c0c0c0; text-decoration-color: #c0c0c0\">│</span> 0.098      <span style=\"color: #c0c0c0; text-decoration-color: #c0c0c0\">│</span> 0.919 <span style=\"color: #c0c0c0; text-decoration-color: #c0c0c0\">│</span>\n",
       "<span style=\"color: #c0c0c0; text-decoration-color: #c0c0c0\">│</span><span style=\"color: #800000; text-decoration-color: #800000; font-weight: bold\"> Opdi      </span><span style=\"color: #c0c0c0; text-decoration-color: #c0c0c0\">│</span> -0.504     <span style=\"color: #c0c0c0; text-decoration-color: #c0c0c0\">│</span> 0.270 <span style=\"color: #c0c0c0; text-decoration-color: #c0c0c0\">│</span>\n",
       "<span style=\"color: #c0c0c0; text-decoration-color: #c0c0c0\">│</span><span style=\"color: #800000; text-decoration-color: #800000; font-weight: bold\"> Ope       </span><span style=\"color: #c0c0c0; text-decoration-color: #c0c0c0\">│</span> -0.028     <span style=\"color: #c0c0c0; text-decoration-color: #c0c0c0\">│</span> 0.286 <span style=\"color: #c0c0c0; text-decoration-color: #c0c0c0\">│</span>\n",
       "<span style=\"color: #c0c0c0; text-decoration-color: #c0c0c0\">│</span><span style=\"color: #800000; text-decoration-color: #800000; font-weight: bold\"> Opl1      </span><span style=\"color: #c0c0c0; text-decoration-color: #c0c0c0\">│</span> -0.002     <span style=\"color: #c0c0c0; text-decoration-color: #c0c0c0\">│</span> 0.141 <span style=\"color: #c0c0c0; text-decoration-color: #c0c0c0\">│</span>\n",
       "<span style=\"color: #c0c0c0; text-decoration-color: #c0c0c0\">│</span><span style=\"color: #800000; text-decoration-color: #800000; font-weight: bold\"> Opl2      </span><span style=\"color: #c0c0c0; text-decoration-color: #c0c0c0\">│</span> -0.015     <span style=\"color: #c0c0c0; text-decoration-color: #c0c0c0\">│</span> 0.164 <span style=\"color: #c0c0c0; text-decoration-color: #c0c0c0\">│</span>\n",
       "<span style=\"color: #c0c0c0; text-decoration-color: #c0c0c0\">│</span><span style=\"color: #800000; text-decoration-color: #800000; font-weight: bold\"> Opl3      </span><span style=\"color: #c0c0c0; text-decoration-color: #c0c0c0\">│</span> -0.009     <span style=\"color: #c0c0c0; text-decoration-color: #c0c0c0\">│</span> 0.163 <span style=\"color: #c0c0c0; text-decoration-color: #c0c0c0\">│</span>\n",
       "<span style=\"color: #c0c0c0; text-decoration-color: #c0c0c0\">│</span><span style=\"color: #800000; text-decoration-color: #800000; font-weight: bold\"> Opmu      </span><span style=\"color: #c0c0c0; text-decoration-color: #c0c0c0\">│</span> -0.023     <span style=\"color: #c0c0c0; text-decoration-color: #c0c0c0\">│</span> 0.287 <span style=\"color: #c0c0c0; text-decoration-color: #c0c0c0\">│</span>\n",
       "<span style=\"color: #c0c0c0; text-decoration-color: #c0c0c0\">│</span><span style=\"color: #800000; text-decoration-color: #800000; font-weight: bold\"> OpqMi     </span><span style=\"color: #c0c0c0; text-decoration-color: #c0c0c0\">│</span> 0.037      <span style=\"color: #c0c0c0; text-decoration-color: #c0c0c0\">│</span> 0.117 <span style=\"color: #c0c0c0; text-decoration-color: #c0c0c0\">│</span>\n",
       "<span style=\"color: #c0c0c0; text-decoration-color: #c0c0c0\">│</span><span style=\"color: #800000; text-decoration-color: #800000; font-weight: bold\"> Opt       </span><span style=\"color: #c0c0c0; text-decoration-color: #c0c0c0\">│</span> -1.358     <span style=\"color: #c0c0c0; text-decoration-color: #c0c0c0\">│</span> 2.242 <span style=\"color: #c0c0c0; text-decoration-color: #c0c0c0\">│</span>\n",
       "<span style=\"color: #c0c0c0; text-decoration-color: #c0c0c0\">│</span><span style=\"color: #800000; text-decoration-color: #800000; font-weight: bold\"> Opta      </span><span style=\"color: #c0c0c0; text-decoration-color: #c0c0c0\">│</span> -0.042     <span style=\"color: #c0c0c0; text-decoration-color: #c0c0c0\">│</span> 0.286 <span style=\"color: #c0c0c0; text-decoration-color: #c0c0c0\">│</span>\n",
       "<span style=\"color: #c0c0c0; text-decoration-color: #c0c0c0\">│</span><span style=\"color: #800000; text-decoration-color: #800000; font-weight: bold\"> Opui      </span><span style=\"color: #c0c0c0; text-decoration-color: #c0c0c0\">│</span> 0.043      <span style=\"color: #c0c0c0; text-decoration-color: #c0c0c0\">│</span> 0.213 <span style=\"color: #c0c0c0; text-decoration-color: #c0c0c0\">│</span>\n",
       "<span style=\"color: #c0c0c0; text-decoration-color: #c0c0c0\">│</span><span style=\"color: #800000; text-decoration-color: #800000; font-weight: bold\"> OtG       </span><span style=\"color: #c0c0c0; text-decoration-color: #c0c0c0\">│</span> 0.075      <span style=\"color: #c0c0c0; text-decoration-color: #c0c0c0\">│</span> 0.064 <span style=\"color: #c0c0c0; text-decoration-color: #c0c0c0\">│</span>\n",
       "<span style=\"color: #c0c0c0; text-decoration-color: #c0c0c0\">│</span><span style=\"color: #800000; text-decoration-color: #800000; font-weight: bold\"> OtW       </span><span style=\"color: #c0c0c0; text-decoration-color: #c0c0c0\">│</span> -0.016     <span style=\"color: #c0c0c0; text-decoration-color: #c0c0c0\">│</span> 0.083 <span style=\"color: #c0c0c0; text-decoration-color: #c0c0c0\">│</span>\n",
       "<span style=\"color: #c0c0c0; text-decoration-color: #c0c0c0\">│</span><span style=\"color: #800000; text-decoration-color: #800000; font-weight: bold\"> OtZ       </span><span style=\"color: #c0c0c0; text-decoration-color: #c0c0c0\">│</span> 3.682      <span style=\"color: #c0c0c0; text-decoration-color: #c0c0c0\">│</span> 4.387 <span style=\"color: #c0c0c0; text-decoration-color: #c0c0c0\">│</span>\n",
       "<span style=\"color: #c0c0c0; text-decoration-color: #c0c0c0\">│</span><span style=\"color: #800000; text-decoration-color: #800000; font-weight: bold\"> Otap      </span><span style=\"color: #c0c0c0; text-decoration-color: #c0c0c0\">│</span> 0.007      <span style=\"color: #c0c0c0; text-decoration-color: #c0c0c0\">│</span> 0.017 <span style=\"color: #c0c0c0; text-decoration-color: #c0c0c0\">│</span>\n",
       "<span style=\"color: #c0c0c0; text-decoration-color: #c0c0c0\">│</span><span style=\"color: #800000; text-decoration-color: #800000; font-weight: bold\"> Otp       </span><span style=\"color: #c0c0c0; text-decoration-color: #c0c0c0\">│</span> -0.666     <span style=\"color: #c0c0c0; text-decoration-color: #c0c0c0\">│</span> 1.784 <span style=\"color: #c0c0c0; text-decoration-color: #c0c0c0\">│</span>\n",
       "<span style=\"color: #c0c0c0; text-decoration-color: #c0c0c0\">└───────────┴────────────┴───────┘</span>\n",
       "</pre>\n"
      ],
      "text/plain": [
       "\u001b[37m┏━━━━━━━━━━━┳━━━━━━━━━━━━┳━━━━━━━┓\u001b[0m\n",
       "\u001b[37m┃\u001b[0m\u001b[1m \u001b[0m\u001b[1mParameter\u001b[0m\u001b[1m \u001b[0m\u001b[37m┃\u001b[0m\u001b[1m \u001b[0m\u001b[1mBest value\u001b[0m\u001b[1m \u001b[0m\u001b[37m┃\u001b[0m\u001b[1m \u001b[0m\u001b[1mError\u001b[0m\u001b[1m \u001b[0m\u001b[37m┃\u001b[0m\n",
       "\u001b[37m┡━━━━━━━━━━━╇━━━━━━━━━━━━╇━━━━━━━┩\u001b[0m\n",
       "\u001b[37m│\u001b[0m\u001b[1;31m \u001b[0m\u001b[1;31mO11qq    \u001b[0m\u001b[1;31m \u001b[0m\u001b[37m│\u001b[0m 3.572      \u001b[37m│\u001b[0m 3.785 \u001b[37m│\u001b[0m\n",
       "\u001b[37m│\u001b[0m\u001b[1;31m \u001b[0m\u001b[1;31mO13qq    \u001b[0m\u001b[1;31m \u001b[0m\u001b[37m│\u001b[0m -0.080     \u001b[37m│\u001b[0m 0.113 \u001b[37m│\u001b[0m\n",
       "\u001b[37m│\u001b[0m\u001b[1;31m \u001b[0m\u001b[1;31mO1dt     \u001b[0m\u001b[1;31m \u001b[0m\u001b[37m│\u001b[0m -13.149    \u001b[37m│\u001b[0m 9.306 \u001b[37m│\u001b[0m\n",
       "\u001b[37m│\u001b[0m\u001b[1;31m \u001b[0m\u001b[1;31mO1qd     \u001b[0m\u001b[1;31m \u001b[0m\u001b[37m│\u001b[0m 9.267      \u001b[37m│\u001b[0m 8.850 \u001b[37m│\u001b[0m\n",
       "\u001b[37m│\u001b[0m\u001b[1;31m \u001b[0m\u001b[1;31mO1qt     \u001b[0m\u001b[1;31m \u001b[0m\u001b[37m│\u001b[0m 0.232      \u001b[37m│\u001b[0m 2.656 \u001b[37m│\u001b[0m\n",
       "\u001b[37m│\u001b[0m\u001b[1;31m \u001b[0m\u001b[1;31mO1qu     \u001b[0m\u001b[1;31m \u001b[0m\u001b[37m│\u001b[0m -4.066     \u001b[37m│\u001b[0m 3.716 \u001b[37m│\u001b[0m\n",
       "\u001b[37m│\u001b[0m\u001b[1;31m \u001b[0m\u001b[1;31mO1ut     \u001b[0m\u001b[1;31m \u001b[0m\u001b[37m│\u001b[0m 0.436      \u001b[37m│\u001b[0m 6.338 \u001b[37m│\u001b[0m\n",
       "\u001b[37m│\u001b[0m\u001b[1;31m \u001b[0m\u001b[1;31mO3pQ3    \u001b[0m\u001b[1;31m \u001b[0m\u001b[37m│\u001b[0m -0.244     \u001b[37m│\u001b[0m 0.464 \u001b[37m│\u001b[0m\n",
       "\u001b[37m│\u001b[0m\u001b[1;31m \u001b[0m\u001b[1;31mO3pl1    \u001b[0m\u001b[1;31m \u001b[0m\u001b[37m│\u001b[0m -0.035     \u001b[37m│\u001b[0m 0.051 \u001b[37m│\u001b[0m\n",
       "\u001b[37m│\u001b[0m\u001b[1;31m \u001b[0m\u001b[1;31mO3pl2    \u001b[0m\u001b[1;31m \u001b[0m\u001b[37m│\u001b[0m -0.028     \u001b[37m│\u001b[0m 0.060 \u001b[37m│\u001b[0m\n",
       "\u001b[37m│\u001b[0m\u001b[1;31m \u001b[0m\u001b[1;31mO3pl3    \u001b[0m\u001b[1;31m \u001b[0m\u001b[37m│\u001b[0m -0.041     \u001b[37m│\u001b[0m 0.092 \u001b[37m│\u001b[0m\n",
       "\u001b[37m│\u001b[0m\u001b[1;31m \u001b[0m\u001b[1;31mO3pq     \u001b[0m\u001b[1;31m \u001b[0m\u001b[37m│\u001b[0m -0.074     \u001b[37m│\u001b[0m 0.037 \u001b[37m│\u001b[0m\n",
       "\u001b[37m│\u001b[0m\u001b[1;31m \u001b[0m\u001b[1;31mO81qq    \u001b[0m\u001b[1;31m \u001b[0m\u001b[37m│\u001b[0m 0.832      \u001b[37m│\u001b[0m 1.213 \u001b[37m│\u001b[0m\n",
       "\u001b[37m│\u001b[0m\u001b[1;31m \u001b[0m\u001b[1;31mO83qq    \u001b[0m\u001b[1;31m \u001b[0m\u001b[37m│\u001b[0m -0.497     \u001b[37m│\u001b[0m 2.438 \u001b[37m│\u001b[0m\n",
       "\u001b[37m│\u001b[0m\u001b[1;31m \u001b[0m\u001b[1;31mO8dt     \u001b[0m\u001b[1;31m \u001b[0m\u001b[37m│\u001b[0m 4.190      \u001b[37m│\u001b[0m 6.353 \u001b[37m│\u001b[0m\n",
       "\u001b[37m│\u001b[0m\u001b[1;31m \u001b[0m\u001b[1;31mO8qd     \u001b[0m\u001b[1;31m \u001b[0m\u001b[37m│\u001b[0m -3.331     \u001b[37m│\u001b[0m 5.479 \u001b[37m│\u001b[0m\n",
       "\u001b[37m│\u001b[0m\u001b[1;31m \u001b[0m\u001b[1;31mO8qt     \u001b[0m\u001b[1;31m \u001b[0m\u001b[37m│\u001b[0m -0.214     \u001b[37m│\u001b[0m 1.568 \u001b[37m│\u001b[0m\n",
       "\u001b[37m│\u001b[0m\u001b[1;31m \u001b[0m\u001b[1;31mO8qu     \u001b[0m\u001b[1;31m \u001b[0m\u001b[37m│\u001b[0m 1.292      \u001b[37m│\u001b[0m 4.292 \u001b[37m│\u001b[0m\n",
       "\u001b[37m│\u001b[0m\u001b[1;31m \u001b[0m\u001b[1;31mO8ut     \u001b[0m\u001b[1;31m \u001b[0m\u001b[37m│\u001b[0m -2.683     \u001b[37m│\u001b[0m 3.172 \u001b[37m│\u001b[0m\n",
       "\u001b[37m│\u001b[0m\u001b[1;31m \u001b[0m\u001b[1;31mOWWW     \u001b[0m\u001b[1;31m \u001b[0m\u001b[37m│\u001b[0m 0.015      \u001b[37m│\u001b[0m 0.300 \u001b[37m│\u001b[0m\n",
       "\u001b[37m│\u001b[0m\u001b[1;31m \u001b[0m\u001b[1;31mObp      \u001b[0m\u001b[1;31m \u001b[0m\u001b[37m│\u001b[0m 0.023      \u001b[37m│\u001b[0m 0.033 \u001b[37m│\u001b[0m\n",
       "\u001b[37m│\u001b[0m\u001b[1;31m \u001b[0m\u001b[1;31mOcp      \u001b[0m\u001b[1;31m \u001b[0m\u001b[37m│\u001b[0m -0.043     \u001b[37m│\u001b[0m 0.101 \u001b[37m│\u001b[0m\n",
       "\u001b[37m│\u001b[0m\u001b[1;31m \u001b[0m\u001b[1;31mOll      \u001b[0m\u001b[1;31m \u001b[0m\u001b[37m│\u001b[0m -0.006     \u001b[37m│\u001b[0m 0.054 \u001b[37m│\u001b[0m\n",
       "\u001b[37m│\u001b[0m\u001b[1;31m \u001b[0m\u001b[1;31mOpB      \u001b[0m\u001b[1;31m \u001b[0m\u001b[37m│\u001b[0m 0.130      \u001b[37m│\u001b[0m 0.223 \u001b[37m│\u001b[0m\n",
       "\u001b[37m│\u001b[0m\u001b[1;31m \u001b[0m\u001b[1;31mOpD      \u001b[0m\u001b[1;31m \u001b[0m\u001b[37m│\u001b[0m 0.044      \u001b[37m│\u001b[0m 0.570 \u001b[37m│\u001b[0m\n",
       "\u001b[37m│\u001b[0m\u001b[1;31m \u001b[0m\u001b[1;31mOpG      \u001b[0m\u001b[1;31m \u001b[0m\u001b[37m│\u001b[0m -0.007     \u001b[37m│\u001b[0m 0.008 \u001b[37m│\u001b[0m\n",
       "\u001b[37m│\u001b[0m\u001b[1;31m \u001b[0m\u001b[1;31mOpQM     \u001b[0m\u001b[1;31m \u001b[0m\u001b[37m│\u001b[0m 0.396      \u001b[37m│\u001b[0m 0.927 \u001b[37m│\u001b[0m\n",
       "\u001b[37m│\u001b[0m\u001b[1;31m \u001b[0m\u001b[1;31mOpW      \u001b[0m\u001b[1;31m \u001b[0m\u001b[37m│\u001b[0m 0.212      \u001b[37m│\u001b[0m 0.250 \u001b[37m│\u001b[0m\n",
       "\u001b[37m│\u001b[0m\u001b[1;31m \u001b[0m\u001b[1;31mOpWB     \u001b[0m\u001b[1;31m \u001b[0m\u001b[37m│\u001b[0m -0.010     \u001b[37m│\u001b[0m 0.265 \u001b[37m│\u001b[0m\n",
       "\u001b[37m│\u001b[0m\u001b[1;31m \u001b[0m\u001b[1;31mOpd      \u001b[0m\u001b[1;31m \u001b[0m\u001b[37m│\u001b[0m 0.098      \u001b[37m│\u001b[0m 0.919 \u001b[37m│\u001b[0m\n",
       "\u001b[37m│\u001b[0m\u001b[1;31m \u001b[0m\u001b[1;31mOpdi     \u001b[0m\u001b[1;31m \u001b[0m\u001b[37m│\u001b[0m -0.504     \u001b[37m│\u001b[0m 0.270 \u001b[37m│\u001b[0m\n",
       "\u001b[37m│\u001b[0m\u001b[1;31m \u001b[0m\u001b[1;31mOpe      \u001b[0m\u001b[1;31m \u001b[0m\u001b[37m│\u001b[0m -0.028     \u001b[37m│\u001b[0m 0.286 \u001b[37m│\u001b[0m\n",
       "\u001b[37m│\u001b[0m\u001b[1;31m \u001b[0m\u001b[1;31mOpl1     \u001b[0m\u001b[1;31m \u001b[0m\u001b[37m│\u001b[0m -0.002     \u001b[37m│\u001b[0m 0.141 \u001b[37m│\u001b[0m\n",
       "\u001b[37m│\u001b[0m\u001b[1;31m \u001b[0m\u001b[1;31mOpl2     \u001b[0m\u001b[1;31m \u001b[0m\u001b[37m│\u001b[0m -0.015     \u001b[37m│\u001b[0m 0.164 \u001b[37m│\u001b[0m\n",
       "\u001b[37m│\u001b[0m\u001b[1;31m \u001b[0m\u001b[1;31mOpl3     \u001b[0m\u001b[1;31m \u001b[0m\u001b[37m│\u001b[0m -0.009     \u001b[37m│\u001b[0m 0.163 \u001b[37m│\u001b[0m\n",
       "\u001b[37m│\u001b[0m\u001b[1;31m \u001b[0m\u001b[1;31mOpmu     \u001b[0m\u001b[1;31m \u001b[0m\u001b[37m│\u001b[0m -0.023     \u001b[37m│\u001b[0m 0.287 \u001b[37m│\u001b[0m\n",
       "\u001b[37m│\u001b[0m\u001b[1;31m \u001b[0m\u001b[1;31mOpqMi    \u001b[0m\u001b[1;31m \u001b[0m\u001b[37m│\u001b[0m 0.037      \u001b[37m│\u001b[0m 0.117 \u001b[37m│\u001b[0m\n",
       "\u001b[37m│\u001b[0m\u001b[1;31m \u001b[0m\u001b[1;31mOpt      \u001b[0m\u001b[1;31m \u001b[0m\u001b[37m│\u001b[0m -1.358     \u001b[37m│\u001b[0m 2.242 \u001b[37m│\u001b[0m\n",
       "\u001b[37m│\u001b[0m\u001b[1;31m \u001b[0m\u001b[1;31mOpta     \u001b[0m\u001b[1;31m \u001b[0m\u001b[37m│\u001b[0m -0.042     \u001b[37m│\u001b[0m 0.286 \u001b[37m│\u001b[0m\n",
       "\u001b[37m│\u001b[0m\u001b[1;31m \u001b[0m\u001b[1;31mOpui     \u001b[0m\u001b[1;31m \u001b[0m\u001b[37m│\u001b[0m 0.043      \u001b[37m│\u001b[0m 0.213 \u001b[37m│\u001b[0m\n",
       "\u001b[37m│\u001b[0m\u001b[1;31m \u001b[0m\u001b[1;31mOtG      \u001b[0m\u001b[1;31m \u001b[0m\u001b[37m│\u001b[0m 0.075      \u001b[37m│\u001b[0m 0.064 \u001b[37m│\u001b[0m\n",
       "\u001b[37m│\u001b[0m\u001b[1;31m \u001b[0m\u001b[1;31mOtW      \u001b[0m\u001b[1;31m \u001b[0m\u001b[37m│\u001b[0m -0.016     \u001b[37m│\u001b[0m 0.083 \u001b[37m│\u001b[0m\n",
       "\u001b[37m│\u001b[0m\u001b[1;31m \u001b[0m\u001b[1;31mOtZ      \u001b[0m\u001b[1;31m \u001b[0m\u001b[37m│\u001b[0m 3.682      \u001b[37m│\u001b[0m 4.387 \u001b[37m│\u001b[0m\n",
       "\u001b[37m│\u001b[0m\u001b[1;31m \u001b[0m\u001b[1;31mOtap     \u001b[0m\u001b[1;31m \u001b[0m\u001b[37m│\u001b[0m 0.007      \u001b[37m│\u001b[0m 0.017 \u001b[37m│\u001b[0m\n",
       "\u001b[37m│\u001b[0m\u001b[1;31m \u001b[0m\u001b[1;31mOtp      \u001b[0m\u001b[1;31m \u001b[0m\u001b[37m│\u001b[0m -0.666     \u001b[37m│\u001b[0m 1.784 \u001b[37m│\u001b[0m\n",
       "\u001b[37m└───────────┴────────────┴───────┘\u001b[0m\n"
      ]
     },
     "metadata": {},
     "output_type": "display_data"
    },
    {
     "data": {
      "text/html": [
       "<pre style=\"white-space:pre;overflow-x:auto;line-height:normal;font-family:Menlo,'DejaVu Sans Mono',consolas,'Courier New',monospace\"><span style=\"color: #7fbfbf; text-decoration-color: #7fbfbf\">           </span><span style=\"color: #000080; text-decoration-color: #000080\">INFO    </span> Sampling solutions <span style=\"color: #808000; text-decoration-color: #808000\">...</span>                                                          <a href=\"file:///Users/jaco/opt/anaconda3/envs/smefit_tutorial/lib/python3.11/site-packages/smefit/optimize/analytic.py\" target=\"_blank\"><span style=\"color: #7f7f7f; text-decoration-color: #7f7f7f\">analytic.py</span></a><span style=\"color: #7f7f7f; text-decoration-color: #7f7f7f\">:</span><a href=\"file:///Users/jaco/opt/anaconda3/envs/smefit_tutorial/lib/python3.11/site-packages/smefit/optimize/analytic.py#156\" target=\"_blank\"><span style=\"color: #7f7f7f; text-decoration-color: #7f7f7f\">156</span></a>\n",
       "</pre>\n"
      ],
      "text/plain": [
       "\u001b[2;36m          \u001b[0m\u001b[2;36m \u001b[0m\u001b[34mINFO    \u001b[0m Sampling solutions \u001b[33m...\u001b[0m                                                          \u001b]8;id=519314;file:///Users/jaco/opt/anaconda3/envs/smefit_tutorial/lib/python3.11/site-packages/smefit/optimize/analytic.py\u001b\\\u001b[2manalytic.py\u001b[0m\u001b]8;;\u001b\\\u001b[2m:\u001b[0m\u001b]8;id=616290;file:///Users/jaco/opt/anaconda3/envs/smefit_tutorial/lib/python3.11/site-packages/smefit/optimize/analytic.py#156\u001b\\\u001b[2m156\u001b[0m\u001b]8;;\u001b\\\n"
      ]
     },
     "metadata": {},
     "output_type": "display_data"
    }
   ],
   "source": [
    "test_runner = smefit.runner.Runner.from_file(pathlib.Path(\"./tutorial.yaml\"))\n",
    "test_runner.global_analysis(\"A\")"
   ]
  },
  {
   "cell_type": "code",
   "execution_count": 26,
   "id": "8e83d86b",
   "metadata": {},
   "outputs": [],
   "source": [
    "from smefit.analyze import run_report"
   ]
  },
  {
   "cell_type": "code",
   "execution_count": 27,
   "id": "2f46ced1",
   "metadata": {},
   "outputs": [
    {
     "data": {
      "text/html": [
       "<pre style=\"white-space:pre;overflow-x:auto;line-height:normal;font-family:Menlo,'DejaVu Sans Mono',consolas,'Courier New',monospace\"><span style=\"color: #7fbfbf; text-decoration-color: #7fbfbf\">[15:40:23] </span><span style=\"color: #000080; text-decoration-color: #000080\">INFO    </span> Analyzing : <span style=\"font-weight: bold\">[</span><span style=\"color: #008000; text-decoration-color: #008000\">'LHC_NLO_LIN_GLOB'</span><span style=\"font-weight: bold\">]</span>                                                 <a href=\"file:///Users/jaco/opt/anaconda3/envs/smefit_tutorial/lib/python3.11/site-packages/smefit/analyze/__init__.py\" target=\"_blank\"><span style=\"color: #7f7f7f; text-decoration-color: #7f7f7f\">__init__.py</span></a><span style=\"color: #7f7f7f; text-decoration-color: #7f7f7f\">:</span><a href=\"file:///Users/jaco/opt/anaconda3/envs/smefit_tutorial/lib/python3.11/site-packages/smefit/analyze/__init__.py#34\" target=\"_blank\"><span style=\"color: #7f7f7f; text-decoration-color: #7f7f7f\">34</span></a>\n",
       "</pre>\n"
      ],
      "text/plain": [
       "\u001b[2;36m[15:40:23]\u001b[0m\u001b[2;36m \u001b[0m\u001b[34mINFO    \u001b[0m Analyzing : \u001b[1m[\u001b[0m\u001b[32m'LHC_NLO_LIN_GLOB'\u001b[0m\u001b[1m]\u001b[0m                                                 \u001b]8;id=703947;file:///Users/jaco/opt/anaconda3/envs/smefit_tutorial/lib/python3.11/site-packages/smefit/analyze/__init__.py\u001b\\\u001b[2m__init__.py\u001b[0m\u001b]8;;\u001b\\\u001b[2m:\u001b[0m\u001b]8;id=722294;file:///Users/jaco/opt/anaconda3/envs/smefit_tutorial/lib/python3.11/site-packages/smefit/analyze/__init__.py#34\u001b\\\u001b[2m34\u001b[0m\u001b]8;;\u001b\\\n"
      ]
     },
     "metadata": {},
     "output_type": "display_data"
    },
    {
     "data": {
      "text/html": [
       "<pre style=\"white-space:pre;overflow-x:auto;line-height:normal;font-family:Menlo,'DejaVu Sans Mono',consolas,'Courier New',monospace\"><span style=\"color: #7fbfbf; text-decoration-color: #7fbfbf\">           </span><span style=\"color: #000080; text-decoration-color: #000080\">INFO    </span> Loading dataset : ATLAS_CMS_SSinc_RunI                                            <a href=\"file:///Users/jaco/opt/anaconda3/envs/smefit_tutorial/lib/python3.11/site-packages/smefit/loader.py\" target=\"_blank\"><span style=\"color: #7f7f7f; text-decoration-color: #7f7f7f\">loader.py</span></a><span style=\"color: #7f7f7f; text-decoration-color: #7f7f7f\">:</span><a href=\"file:///Users/jaco/opt/anaconda3/envs/smefit_tutorial/lib/python3.11/site-packages/smefit/loader.py#135\" target=\"_blank\"><span style=\"color: #7f7f7f; text-decoration-color: #7f7f7f\">135</span></a>\n",
       "</pre>\n"
      ],
      "text/plain": [
       "\u001b[2;36m          \u001b[0m\u001b[2;36m \u001b[0m\u001b[34mINFO    \u001b[0m Loading dataset : ATLAS_CMS_SSinc_RunI                                            \u001b]8;id=401624;file:///Users/jaco/opt/anaconda3/envs/smefit_tutorial/lib/python3.11/site-packages/smefit/loader.py\u001b\\\u001b[2mloader.py\u001b[0m\u001b]8;;\u001b\\\u001b[2m:\u001b[0m\u001b]8;id=679564;file:///Users/jaco/opt/anaconda3/envs/smefit_tutorial/lib/python3.11/site-packages/smefit/loader.py#135\u001b\\\u001b[2m135\u001b[0m\u001b]8;;\u001b\\\n"
      ]
     },
     "metadata": {},
     "output_type": "display_data"
    },
    {
     "data": {
      "text/html": [
       "<pre style=\"white-space:pre;overflow-x:auto;line-height:normal;font-family:Menlo,'DejaVu Sans Mono',consolas,'Courier New',monospace\"><span style=\"color: #7fbfbf; text-decoration-color: #7fbfbf\">           </span><span style=\"color: #000080; text-decoration-color: #000080\">INFO    </span> Loading dataset : ATLAS_CMS_tt_AC_8TeV                                            <a href=\"file:///Users/jaco/opt/anaconda3/envs/smefit_tutorial/lib/python3.11/site-packages/smefit/loader.py\" target=\"_blank\"><span style=\"color: #7f7f7f; text-decoration-color: #7f7f7f\">loader.py</span></a><span style=\"color: #7f7f7f; text-decoration-color: #7f7f7f\">:</span><a href=\"file:///Users/jaco/opt/anaconda3/envs/smefit_tutorial/lib/python3.11/site-packages/smefit/loader.py#135\" target=\"_blank\"><span style=\"color: #7f7f7f; text-decoration-color: #7f7f7f\">135</span></a>\n",
       "</pre>\n"
      ],
      "text/plain": [
       "\u001b[2;36m          \u001b[0m\u001b[2;36m \u001b[0m\u001b[34mINFO    \u001b[0m Loading dataset : ATLAS_CMS_tt_AC_8TeV                                            \u001b]8;id=601967;file:///Users/jaco/opt/anaconda3/envs/smefit_tutorial/lib/python3.11/site-packages/smefit/loader.py\u001b\\\u001b[2mloader.py\u001b[0m\u001b]8;;\u001b\\\u001b[2m:\u001b[0m\u001b]8;id=964321;file:///Users/jaco/opt/anaconda3/envs/smefit_tutorial/lib/python3.11/site-packages/smefit/loader.py#135\u001b\\\u001b[2m135\u001b[0m\u001b]8;;\u001b\\\n"
      ]
     },
     "metadata": {},
     "output_type": "display_data"
    },
    {
     "data": {
      "text/html": [
       "<pre style=\"white-space:pre;overflow-x:auto;line-height:normal;font-family:Menlo,'DejaVu Sans Mono',consolas,'Courier New',monospace\"><span style=\"color: #7fbfbf; text-decoration-color: #7fbfbf\">           </span><span style=\"color: #000080; text-decoration-color: #000080\">INFO    </span> Loading dataset : ATLAS_SSinc_RunII                                               <a href=\"file:///Users/jaco/opt/anaconda3/envs/smefit_tutorial/lib/python3.11/site-packages/smefit/loader.py\" target=\"_blank\"><span style=\"color: #7f7f7f; text-decoration-color: #7f7f7f\">loader.py</span></a><span style=\"color: #7f7f7f; text-decoration-color: #7f7f7f\">:</span><a href=\"file:///Users/jaco/opt/anaconda3/envs/smefit_tutorial/lib/python3.11/site-packages/smefit/loader.py#135\" target=\"_blank\"><span style=\"color: #7f7f7f; text-decoration-color: #7f7f7f\">135</span></a>\n",
       "</pre>\n"
      ],
      "text/plain": [
       "\u001b[2;36m          \u001b[0m\u001b[2;36m \u001b[0m\u001b[34mINFO    \u001b[0m Loading dataset : ATLAS_SSinc_RunII                                               \u001b]8;id=105807;file:///Users/jaco/opt/anaconda3/envs/smefit_tutorial/lib/python3.11/site-packages/smefit/loader.py\u001b\\\u001b[2mloader.py\u001b[0m\u001b]8;;\u001b\\\u001b[2m:\u001b[0m\u001b]8;id=296670;file:///Users/jaco/opt/anaconda3/envs/smefit_tutorial/lib/python3.11/site-packages/smefit/loader.py#135\u001b\\\u001b[2m135\u001b[0m\u001b]8;;\u001b\\\n"
      ]
     },
     "metadata": {},
     "output_type": "display_data"
    },
    {
     "data": {
      "text/html": [
       "<pre style=\"white-space:pre;overflow-x:auto;line-height:normal;font-family:Menlo,'DejaVu Sans Mono',consolas,'Courier New',monospace\"><span style=\"color: #7fbfbf; text-decoration-color: #7fbfbf\">           </span><span style=\"color: #000080; text-decoration-color: #000080\">INFO    </span> Loading dataset : ATLAS_STXS_runII_13TeV                                          <a href=\"file:///Users/jaco/opt/anaconda3/envs/smefit_tutorial/lib/python3.11/site-packages/smefit/loader.py\" target=\"_blank\"><span style=\"color: #7f7f7f; text-decoration-color: #7f7f7f\">loader.py</span></a><span style=\"color: #7f7f7f; text-decoration-color: #7f7f7f\">:</span><a href=\"file:///Users/jaco/opt/anaconda3/envs/smefit_tutorial/lib/python3.11/site-packages/smefit/loader.py#135\" target=\"_blank\"><span style=\"color: #7f7f7f; text-decoration-color: #7f7f7f\">135</span></a>\n",
       "</pre>\n"
      ],
      "text/plain": [
       "\u001b[2;36m          \u001b[0m\u001b[2;36m \u001b[0m\u001b[34mINFO    \u001b[0m Loading dataset : ATLAS_STXS_runII_13TeV                                          \u001b]8;id=951272;file:///Users/jaco/opt/anaconda3/envs/smefit_tutorial/lib/python3.11/site-packages/smefit/loader.py\u001b\\\u001b[2mloader.py\u001b[0m\u001b]8;;\u001b\\\u001b[2m:\u001b[0m\u001b]8;id=847789;file:///Users/jaco/opt/anaconda3/envs/smefit_tutorial/lib/python3.11/site-packages/smefit/loader.py#135\u001b\\\u001b[2m135\u001b[0m\u001b]8;;\u001b\\\n"
      ]
     },
     "metadata": {},
     "output_type": "display_data"
    },
    {
     "data": {
      "text/html": [
       "<pre style=\"white-space:pre;overflow-x:auto;line-height:normal;font-family:Menlo,'DejaVu Sans Mono',consolas,'Courier New',monospace\"><span style=\"color: #7fbfbf; text-decoration-color: #7fbfbf\">           </span><span style=\"color: #000080; text-decoration-color: #000080\">INFO    </span> Loading dataset : ATLAS_WH_Hbb_13TeV                                              <a href=\"file:///Users/jaco/opt/anaconda3/envs/smefit_tutorial/lib/python3.11/site-packages/smefit/loader.py\" target=\"_blank\"><span style=\"color: #7f7f7f; text-decoration-color: #7f7f7f\">loader.py</span></a><span style=\"color: #7f7f7f; text-decoration-color: #7f7f7f\">:</span><a href=\"file:///Users/jaco/opt/anaconda3/envs/smefit_tutorial/lib/python3.11/site-packages/smefit/loader.py#135\" target=\"_blank\"><span style=\"color: #7f7f7f; text-decoration-color: #7f7f7f\">135</span></a>\n",
       "</pre>\n"
      ],
      "text/plain": [
       "\u001b[2;36m          \u001b[0m\u001b[2;36m \u001b[0m\u001b[34mINFO    \u001b[0m Loading dataset : ATLAS_WH_Hbb_13TeV                                              \u001b]8;id=259136;file:///Users/jaco/opt/anaconda3/envs/smefit_tutorial/lib/python3.11/site-packages/smefit/loader.py\u001b\\\u001b[2mloader.py\u001b[0m\u001b]8;;\u001b\\\u001b[2m:\u001b[0m\u001b]8;id=862801;file:///Users/jaco/opt/anaconda3/envs/smefit_tutorial/lib/python3.11/site-packages/smefit/loader.py#135\u001b\\\u001b[2m135\u001b[0m\u001b]8;;\u001b\\\n"
      ]
     },
     "metadata": {},
     "output_type": "display_data"
    },
    {
     "data": {
      "text/html": [
       "<pre style=\"white-space:pre;overflow-x:auto;line-height:normal;font-family:Menlo,'DejaVu Sans Mono',consolas,'Courier New',monospace\"><span style=\"color: #7fbfbf; text-decoration-color: #7fbfbf\">           </span><span style=\"color: #000080; text-decoration-color: #000080\">INFO    </span> Loading dataset : ATLAS_WW_13TeV_2016_memu                                        <a href=\"file:///Users/jaco/opt/anaconda3/envs/smefit_tutorial/lib/python3.11/site-packages/smefit/loader.py\" target=\"_blank\"><span style=\"color: #7f7f7f; text-decoration-color: #7f7f7f\">loader.py</span></a><span style=\"color: #7f7f7f; text-decoration-color: #7f7f7f\">:</span><a href=\"file:///Users/jaco/opt/anaconda3/envs/smefit_tutorial/lib/python3.11/site-packages/smefit/loader.py#135\" target=\"_blank\"><span style=\"color: #7f7f7f; text-decoration-color: #7f7f7f\">135</span></a>\n",
       "</pre>\n"
      ],
      "text/plain": [
       "\u001b[2;36m          \u001b[0m\u001b[2;36m \u001b[0m\u001b[34mINFO    \u001b[0m Loading dataset : ATLAS_WW_13TeV_2016_memu                                        \u001b]8;id=433324;file:///Users/jaco/opt/anaconda3/envs/smefit_tutorial/lib/python3.11/site-packages/smefit/loader.py\u001b\\\u001b[2mloader.py\u001b[0m\u001b]8;;\u001b\\\u001b[2m:\u001b[0m\u001b]8;id=297063;file:///Users/jaco/opt/anaconda3/envs/smefit_tutorial/lib/python3.11/site-packages/smefit/loader.py#135\u001b\\\u001b[2m135\u001b[0m\u001b]8;;\u001b\\\n"
      ]
     },
     "metadata": {},
     "output_type": "display_data"
    },
    {
     "data": {
      "text/html": [
       "<pre style=\"white-space:pre;overflow-x:auto;line-height:normal;font-family:Menlo,'DejaVu Sans Mono',consolas,'Courier New',monospace\"><span style=\"color: #7fbfbf; text-decoration-color: #7fbfbf\">           </span><span style=\"color: #000080; text-decoration-color: #000080\">INFO    </span> Loading dataset : ATLAS_WZ_13TeV_2016_mTWZ                                        <a href=\"file:///Users/jaco/opt/anaconda3/envs/smefit_tutorial/lib/python3.11/site-packages/smefit/loader.py\" target=\"_blank\"><span style=\"color: #7f7f7f; text-decoration-color: #7f7f7f\">loader.py</span></a><span style=\"color: #7f7f7f; text-decoration-color: #7f7f7f\">:</span><a href=\"file:///Users/jaco/opt/anaconda3/envs/smefit_tutorial/lib/python3.11/site-packages/smefit/loader.py#135\" target=\"_blank\"><span style=\"color: #7f7f7f; text-decoration-color: #7f7f7f\">135</span></a>\n",
       "</pre>\n"
      ],
      "text/plain": [
       "\u001b[2;36m          \u001b[0m\u001b[2;36m \u001b[0m\u001b[34mINFO    \u001b[0m Loading dataset : ATLAS_WZ_13TeV_2016_mTWZ                                        \u001b]8;id=786922;file:///Users/jaco/opt/anaconda3/envs/smefit_tutorial/lib/python3.11/site-packages/smefit/loader.py\u001b\\\u001b[2mloader.py\u001b[0m\u001b]8;;\u001b\\\u001b[2m:\u001b[0m\u001b]8;id=652418;file:///Users/jaco/opt/anaconda3/envs/smefit_tutorial/lib/python3.11/site-packages/smefit/loader.py#135\u001b\\\u001b[2m135\u001b[0m\u001b]8;;\u001b\\\n"
      ]
     },
     "metadata": {},
     "output_type": "display_data"
    },
    {
     "data": {
      "text/html": [
       "<pre style=\"white-space:pre;overflow-x:auto;line-height:normal;font-family:Menlo,'DejaVu Sans Mono',consolas,'Courier New',monospace\"><span style=\"color: #7fbfbf; text-decoration-color: #7fbfbf\">           </span><span style=\"color: #000080; text-decoration-color: #000080\">INFO    </span> Loading dataset : ATLAS_WhelF_8TeV                                                <a href=\"file:///Users/jaco/opt/anaconda3/envs/smefit_tutorial/lib/python3.11/site-packages/smefit/loader.py\" target=\"_blank\"><span style=\"color: #7f7f7f; text-decoration-color: #7f7f7f\">loader.py</span></a><span style=\"color: #7f7f7f; text-decoration-color: #7f7f7f\">:</span><a href=\"file:///Users/jaco/opt/anaconda3/envs/smefit_tutorial/lib/python3.11/site-packages/smefit/loader.py#135\" target=\"_blank\"><span style=\"color: #7f7f7f; text-decoration-color: #7f7f7f\">135</span></a>\n",
       "</pre>\n"
      ],
      "text/plain": [
       "\u001b[2;36m          \u001b[0m\u001b[2;36m \u001b[0m\u001b[34mINFO    \u001b[0m Loading dataset : ATLAS_WhelF_8TeV                                                \u001b]8;id=444333;file:///Users/jaco/opt/anaconda3/envs/smefit_tutorial/lib/python3.11/site-packages/smefit/loader.py\u001b\\\u001b[2mloader.py\u001b[0m\u001b]8;;\u001b\\\u001b[2m:\u001b[0m\u001b]8;id=833042;file:///Users/jaco/opt/anaconda3/envs/smefit_tutorial/lib/python3.11/site-packages/smefit/loader.py#135\u001b\\\u001b[2m135\u001b[0m\u001b]8;;\u001b\\\n"
      ]
     },
     "metadata": {},
     "output_type": "display_data"
    },
    {
     "data": {
      "text/html": [
       "<pre style=\"white-space:pre;overflow-x:auto;line-height:normal;font-family:Menlo,'DejaVu Sans Mono',consolas,'Courier New',monospace\"><span style=\"color: #7fbfbf; text-decoration-color: #7fbfbf\">           </span><span style=\"color: #000080; text-decoration-color: #000080\">INFO    </span> Loading dataset : ATLAS_Whel_13TeV                                                <a href=\"file:///Users/jaco/opt/anaconda3/envs/smefit_tutorial/lib/python3.11/site-packages/smefit/loader.py\" target=\"_blank\"><span style=\"color: #7f7f7f; text-decoration-color: #7f7f7f\">loader.py</span></a><span style=\"color: #7f7f7f; text-decoration-color: #7f7f7f\">:</span><a href=\"file:///Users/jaco/opt/anaconda3/envs/smefit_tutorial/lib/python3.11/site-packages/smefit/loader.py#135\" target=\"_blank\"><span style=\"color: #7f7f7f; text-decoration-color: #7f7f7f\">135</span></a>\n",
       "</pre>\n"
      ],
      "text/plain": [
       "\u001b[2;36m          \u001b[0m\u001b[2;36m \u001b[0m\u001b[34mINFO    \u001b[0m Loading dataset : ATLAS_Whel_13TeV                                                \u001b]8;id=247247;file:///Users/jaco/opt/anaconda3/envs/smefit_tutorial/lib/python3.11/site-packages/smefit/loader.py\u001b\\\u001b[2mloader.py\u001b[0m\u001b]8;;\u001b\\\u001b[2m:\u001b[0m\u001b]8;id=248441;file:///Users/jaco/opt/anaconda3/envs/smefit_tutorial/lib/python3.11/site-packages/smefit/loader.py#135\u001b\\\u001b[2m135\u001b[0m\u001b]8;;\u001b\\\n"
      ]
     },
     "metadata": {},
     "output_type": "display_data"
    },
    {
     "data": {
      "text/html": [
       "<pre style=\"white-space:pre;overflow-x:auto;line-height:normal;font-family:Menlo,'DejaVu Sans Mono',consolas,'Courier New',monospace\"><span style=\"color: #7fbfbf; text-decoration-color: #7fbfbf\">           </span><span style=\"color: #000080; text-decoration-color: #000080\">INFO    </span> Loading dataset : ATLAS_ZH_Hbb_13TeV                                              <a href=\"file:///Users/jaco/opt/anaconda3/envs/smefit_tutorial/lib/python3.11/site-packages/smefit/loader.py\" target=\"_blank\"><span style=\"color: #7f7f7f; text-decoration-color: #7f7f7f\">loader.py</span></a><span style=\"color: #7f7f7f; text-decoration-color: #7f7f7f\">:</span><a href=\"file:///Users/jaco/opt/anaconda3/envs/smefit_tutorial/lib/python3.11/site-packages/smefit/loader.py#135\" target=\"_blank\"><span style=\"color: #7f7f7f; text-decoration-color: #7f7f7f\">135</span></a>\n",
       "</pre>\n"
      ],
      "text/plain": [
       "\u001b[2;36m          \u001b[0m\u001b[2;36m \u001b[0m\u001b[34mINFO    \u001b[0m Loading dataset : ATLAS_ZH_Hbb_13TeV                                              \u001b]8;id=263247;file:///Users/jaco/opt/anaconda3/envs/smefit_tutorial/lib/python3.11/site-packages/smefit/loader.py\u001b\\\u001b[2mloader.py\u001b[0m\u001b]8;;\u001b\\\u001b[2m:\u001b[0m\u001b]8;id=411119;file:///Users/jaco/opt/anaconda3/envs/smefit_tutorial/lib/python3.11/site-packages/smefit/loader.py#135\u001b\\\u001b[2m135\u001b[0m\u001b]8;;\u001b\\\n"
      ]
     },
     "metadata": {},
     "output_type": "display_data"
    },
    {
     "data": {
      "text/html": [
       "<pre style=\"white-space:pre;overflow-x:auto;line-height:normal;font-family:Menlo,'DejaVu Sans Mono',consolas,'Courier New',monospace\"><span style=\"color: #7fbfbf; text-decoration-color: #7fbfbf\">           </span><span style=\"color: #000080; text-decoration-color: #000080\">INFO    </span> Loading dataset : ATLAS_ggF_13TeV_2015                                            <a href=\"file:///Users/jaco/opt/anaconda3/envs/smefit_tutorial/lib/python3.11/site-packages/smefit/loader.py\" target=\"_blank\"><span style=\"color: #7f7f7f; text-decoration-color: #7f7f7f\">loader.py</span></a><span style=\"color: #7f7f7f; text-decoration-color: #7f7f7f\">:</span><a href=\"file:///Users/jaco/opt/anaconda3/envs/smefit_tutorial/lib/python3.11/site-packages/smefit/loader.py#135\" target=\"_blank\"><span style=\"color: #7f7f7f; text-decoration-color: #7f7f7f\">135</span></a>\n",
       "</pre>\n"
      ],
      "text/plain": [
       "\u001b[2;36m          \u001b[0m\u001b[2;36m \u001b[0m\u001b[34mINFO    \u001b[0m Loading dataset : ATLAS_ggF_13TeV_2015                                            \u001b]8;id=442742;file:///Users/jaco/opt/anaconda3/envs/smefit_tutorial/lib/python3.11/site-packages/smefit/loader.py\u001b\\\u001b[2mloader.py\u001b[0m\u001b]8;;\u001b\\\u001b[2m:\u001b[0m\u001b]8;id=464982;file:///Users/jaco/opt/anaconda3/envs/smefit_tutorial/lib/python3.11/site-packages/smefit/loader.py#135\u001b\\\u001b[2m135\u001b[0m\u001b]8;;\u001b\\\n"
      ]
     },
     "metadata": {},
     "output_type": "display_data"
    },
    {
     "data": {
      "text/html": [
       "<pre style=\"white-space:pre;overflow-x:auto;line-height:normal;font-family:Menlo,'DejaVu Sans Mono',consolas,'Courier New',monospace\"><span style=\"color: #7fbfbf; text-decoration-color: #7fbfbf\">           </span><span style=\"color: #000080; text-decoration-color: #000080\">INFO    </span> Loading dataset : ATLAS_ggF_ZZ_13TeV                                              <a href=\"file:///Users/jaco/opt/anaconda3/envs/smefit_tutorial/lib/python3.11/site-packages/smefit/loader.py\" target=\"_blank\"><span style=\"color: #7f7f7f; text-decoration-color: #7f7f7f\">loader.py</span></a><span style=\"color: #7f7f7f; text-decoration-color: #7f7f7f\">:</span><a href=\"file:///Users/jaco/opt/anaconda3/envs/smefit_tutorial/lib/python3.11/site-packages/smefit/loader.py#135\" target=\"_blank\"><span style=\"color: #7f7f7f; text-decoration-color: #7f7f7f\">135</span></a>\n",
       "</pre>\n"
      ],
      "text/plain": [
       "\u001b[2;36m          \u001b[0m\u001b[2;36m \u001b[0m\u001b[34mINFO    \u001b[0m Loading dataset : ATLAS_ggF_ZZ_13TeV                                              \u001b]8;id=742648;file:///Users/jaco/opt/anaconda3/envs/smefit_tutorial/lib/python3.11/site-packages/smefit/loader.py\u001b\\\u001b[2mloader.py\u001b[0m\u001b]8;;\u001b\\\u001b[2m:\u001b[0m\u001b]8;id=564870;file:///Users/jaco/opt/anaconda3/envs/smefit_tutorial/lib/python3.11/site-packages/smefit/loader.py#135\u001b\\\u001b[2m135\u001b[0m\u001b]8;;\u001b\\\n"
      ]
     },
     "metadata": {},
     "output_type": "display_data"
    },
    {
     "data": {
      "text/html": [
       "<pre style=\"white-space:pre;overflow-x:auto;line-height:normal;font-family:Menlo,'DejaVu Sans Mono',consolas,'Courier New',monospace\"><span style=\"color: #7fbfbf; text-decoration-color: #7fbfbf\">           </span><span style=\"color: #000080; text-decoration-color: #000080\">INFO    </span> Loading dataset : ATLAS_tW_13TeV_inc                                              <a href=\"file:///Users/jaco/opt/anaconda3/envs/smefit_tutorial/lib/python3.11/site-packages/smefit/loader.py\" target=\"_blank\"><span style=\"color: #7f7f7f; text-decoration-color: #7f7f7f\">loader.py</span></a><span style=\"color: #7f7f7f; text-decoration-color: #7f7f7f\">:</span><a href=\"file:///Users/jaco/opt/anaconda3/envs/smefit_tutorial/lib/python3.11/site-packages/smefit/loader.py#135\" target=\"_blank\"><span style=\"color: #7f7f7f; text-decoration-color: #7f7f7f\">135</span></a>\n",
       "</pre>\n"
      ],
      "text/plain": [
       "\u001b[2;36m          \u001b[0m\u001b[2;36m \u001b[0m\u001b[34mINFO    \u001b[0m Loading dataset : ATLAS_tW_13TeV_inc                                              \u001b]8;id=395016;file:///Users/jaco/opt/anaconda3/envs/smefit_tutorial/lib/python3.11/site-packages/smefit/loader.py\u001b\\\u001b[2mloader.py\u001b[0m\u001b]8;;\u001b\\\u001b[2m:\u001b[0m\u001b]8;id=559664;file:///Users/jaco/opt/anaconda3/envs/smefit_tutorial/lib/python3.11/site-packages/smefit/loader.py#135\u001b\\\u001b[2m135\u001b[0m\u001b]8;;\u001b\\\n"
      ]
     },
     "metadata": {},
     "output_type": "display_data"
    },
    {
     "data": {
      "text/html": [
       "<pre style=\"white-space:pre;overflow-x:auto;line-height:normal;font-family:Menlo,'DejaVu Sans Mono',consolas,'Courier New',monospace\"><span style=\"color: #7fbfbf; text-decoration-color: #7fbfbf\">           </span><span style=\"color: #000080; text-decoration-color: #000080\">INFO    </span> Loading dataset : ATLAS_tW_8TeV_inc                                               <a href=\"file:///Users/jaco/opt/anaconda3/envs/smefit_tutorial/lib/python3.11/site-packages/smefit/loader.py\" target=\"_blank\"><span style=\"color: #7f7f7f; text-decoration-color: #7f7f7f\">loader.py</span></a><span style=\"color: #7f7f7f; text-decoration-color: #7f7f7f\">:</span><a href=\"file:///Users/jaco/opt/anaconda3/envs/smefit_tutorial/lib/python3.11/site-packages/smefit/loader.py#135\" target=\"_blank\"><span style=\"color: #7f7f7f; text-decoration-color: #7f7f7f\">135</span></a>\n",
       "</pre>\n"
      ],
      "text/plain": [
       "\u001b[2;36m          \u001b[0m\u001b[2;36m \u001b[0m\u001b[34mINFO    \u001b[0m Loading dataset : ATLAS_tW_8TeV_inc                                               \u001b]8;id=573814;file:///Users/jaco/opt/anaconda3/envs/smefit_tutorial/lib/python3.11/site-packages/smefit/loader.py\u001b\\\u001b[2mloader.py\u001b[0m\u001b]8;;\u001b\\\u001b[2m:\u001b[0m\u001b]8;id=994334;file:///Users/jaco/opt/anaconda3/envs/smefit_tutorial/lib/python3.11/site-packages/smefit/loader.py#135\u001b\\\u001b[2m135\u001b[0m\u001b]8;;\u001b\\\n"
      ]
     },
     "metadata": {},
     "output_type": "display_data"
    },
    {
     "data": {
      "text/html": [
       "<pre style=\"white-space:pre;overflow-x:auto;line-height:normal;font-family:Menlo,'DejaVu Sans Mono',consolas,'Courier New',monospace\"><span style=\"color: #7fbfbf; text-decoration-color: #7fbfbf\">           </span><span style=\"color: #000080; text-decoration-color: #000080\">INFO    </span> Loading dataset : ATLAS_tW_slep_8TeV_inc                                          <a href=\"file:///Users/jaco/opt/anaconda3/envs/smefit_tutorial/lib/python3.11/site-packages/smefit/loader.py\" target=\"_blank\"><span style=\"color: #7f7f7f; text-decoration-color: #7f7f7f\">loader.py</span></a><span style=\"color: #7f7f7f; text-decoration-color: #7f7f7f\">:</span><a href=\"file:///Users/jaco/opt/anaconda3/envs/smefit_tutorial/lib/python3.11/site-packages/smefit/loader.py#135\" target=\"_blank\"><span style=\"color: #7f7f7f; text-decoration-color: #7f7f7f\">135</span></a>\n",
       "</pre>\n"
      ],
      "text/plain": [
       "\u001b[2;36m          \u001b[0m\u001b[2;36m \u001b[0m\u001b[34mINFO    \u001b[0m Loading dataset : ATLAS_tW_slep_8TeV_inc                                          \u001b]8;id=275196;file:///Users/jaco/opt/anaconda3/envs/smefit_tutorial/lib/python3.11/site-packages/smefit/loader.py\u001b\\\u001b[2mloader.py\u001b[0m\u001b]8;;\u001b\\\u001b[2m:\u001b[0m\u001b]8;id=477004;file:///Users/jaco/opt/anaconda3/envs/smefit_tutorial/lib/python3.11/site-packages/smefit/loader.py#135\u001b\\\u001b[2m135\u001b[0m\u001b]8;;\u001b\\\n"
      ]
     },
     "metadata": {},
     "output_type": "display_data"
    },
    {
     "data": {
      "text/html": [
       "<pre style=\"white-space:pre;overflow-x:auto;line-height:normal;font-family:Menlo,'DejaVu Sans Mono',consolas,'Courier New',monospace\"><span style=\"color: #7fbfbf; text-decoration-color: #7fbfbf\">           </span><span style=\"color: #000080; text-decoration-color: #000080\">INFO    </span> Loading dataset : ATLAS_tZ_13TeV_inc                                              <a href=\"file:///Users/jaco/opt/anaconda3/envs/smefit_tutorial/lib/python3.11/site-packages/smefit/loader.py\" target=\"_blank\"><span style=\"color: #7f7f7f; text-decoration-color: #7f7f7f\">loader.py</span></a><span style=\"color: #7f7f7f; text-decoration-color: #7f7f7f\">:</span><a href=\"file:///Users/jaco/opt/anaconda3/envs/smefit_tutorial/lib/python3.11/site-packages/smefit/loader.py#135\" target=\"_blank\"><span style=\"color: #7f7f7f; text-decoration-color: #7f7f7f\">135</span></a>\n",
       "</pre>\n"
      ],
      "text/plain": [
       "\u001b[2;36m          \u001b[0m\u001b[2;36m \u001b[0m\u001b[34mINFO    \u001b[0m Loading dataset : ATLAS_tZ_13TeV_inc                                              \u001b]8;id=436543;file:///Users/jaco/opt/anaconda3/envs/smefit_tutorial/lib/python3.11/site-packages/smefit/loader.py\u001b\\\u001b[2mloader.py\u001b[0m\u001b]8;;\u001b\\\u001b[2m:\u001b[0m\u001b]8;id=548467;file:///Users/jaco/opt/anaconda3/envs/smefit_tutorial/lib/python3.11/site-packages/smefit/loader.py#135\u001b\\\u001b[2m135\u001b[0m\u001b]8;;\u001b\\\n"
      ]
     },
     "metadata": {},
     "output_type": "display_data"
    },
    {
     "data": {
      "text/html": [
       "<pre style=\"white-space:pre;overflow-x:auto;line-height:normal;font-family:Menlo,'DejaVu Sans Mono',consolas,'Courier New',monospace\"><span style=\"color: #7fbfbf; text-decoration-color: #7fbfbf\">           </span><span style=\"color: #000080; text-decoration-color: #000080\">INFO    </span> Loading dataset : ATLAS_tZ_13TeV_run2_inc                                         <a href=\"file:///Users/jaco/opt/anaconda3/envs/smefit_tutorial/lib/python3.11/site-packages/smefit/loader.py\" target=\"_blank\"><span style=\"color: #7f7f7f; text-decoration-color: #7f7f7f\">loader.py</span></a><span style=\"color: #7f7f7f; text-decoration-color: #7f7f7f\">:</span><a href=\"file:///Users/jaco/opt/anaconda3/envs/smefit_tutorial/lib/python3.11/site-packages/smefit/loader.py#135\" target=\"_blank\"><span style=\"color: #7f7f7f; text-decoration-color: #7f7f7f\">135</span></a>\n",
       "</pre>\n"
      ],
      "text/plain": [
       "\u001b[2;36m          \u001b[0m\u001b[2;36m \u001b[0m\u001b[34mINFO    \u001b[0m Loading dataset : ATLAS_tZ_13TeV_run2_inc                                         \u001b]8;id=203751;file:///Users/jaco/opt/anaconda3/envs/smefit_tutorial/lib/python3.11/site-packages/smefit/loader.py\u001b\\\u001b[2mloader.py\u001b[0m\u001b]8;;\u001b\\\u001b[2m:\u001b[0m\u001b]8;id=366997;file:///Users/jaco/opt/anaconda3/envs/smefit_tutorial/lib/python3.11/site-packages/smefit/loader.py#135\u001b\\\u001b[2m135\u001b[0m\u001b]8;;\u001b\\\n"
      ]
     },
     "metadata": {},
     "output_type": "display_data"
    },
    {
     "data": {
      "text/html": [
       "<pre style=\"white-space:pre;overflow-x:auto;line-height:normal;font-family:Menlo,'DejaVu Sans Mono',consolas,'Courier New',monospace\"><span style=\"color: #7fbfbf; text-decoration-color: #7fbfbf\">           </span><span style=\"color: #000080; text-decoration-color: #000080\">INFO    </span> Loading dataset : ATLAS_t_sch_13TeV_inc                                           <a href=\"file:///Users/jaco/opt/anaconda3/envs/smefit_tutorial/lib/python3.11/site-packages/smefit/loader.py\" target=\"_blank\"><span style=\"color: #7f7f7f; text-decoration-color: #7f7f7f\">loader.py</span></a><span style=\"color: #7f7f7f; text-decoration-color: #7f7f7f\">:</span><a href=\"file:///Users/jaco/opt/anaconda3/envs/smefit_tutorial/lib/python3.11/site-packages/smefit/loader.py#135\" target=\"_blank\"><span style=\"color: #7f7f7f; text-decoration-color: #7f7f7f\">135</span></a>\n",
       "</pre>\n"
      ],
      "text/plain": [
       "\u001b[2;36m          \u001b[0m\u001b[2;36m \u001b[0m\u001b[34mINFO    \u001b[0m Loading dataset : ATLAS_t_sch_13TeV_inc                                           \u001b]8;id=152612;file:///Users/jaco/opt/anaconda3/envs/smefit_tutorial/lib/python3.11/site-packages/smefit/loader.py\u001b\\\u001b[2mloader.py\u001b[0m\u001b]8;;\u001b\\\u001b[2m:\u001b[0m\u001b]8;id=499083;file:///Users/jaco/opt/anaconda3/envs/smefit_tutorial/lib/python3.11/site-packages/smefit/loader.py#135\u001b\\\u001b[2m135\u001b[0m\u001b]8;;\u001b\\\n"
      ]
     },
     "metadata": {},
     "output_type": "display_data"
    },
    {
     "data": {
      "text/html": [
       "<pre style=\"white-space:pre;overflow-x:auto;line-height:normal;font-family:Menlo,'DejaVu Sans Mono',consolas,'Courier New',monospace\"><span style=\"color: #7fbfbf; text-decoration-color: #7fbfbf\">           </span><span style=\"color: #000080; text-decoration-color: #000080\">INFO    </span> Loading dataset : ATLAS_t_sch_8TeV                                                <a href=\"file:///Users/jaco/opt/anaconda3/envs/smefit_tutorial/lib/python3.11/site-packages/smefit/loader.py\" target=\"_blank\"><span style=\"color: #7f7f7f; text-decoration-color: #7f7f7f\">loader.py</span></a><span style=\"color: #7f7f7f; text-decoration-color: #7f7f7f\">:</span><a href=\"file:///Users/jaco/opt/anaconda3/envs/smefit_tutorial/lib/python3.11/site-packages/smefit/loader.py#135\" target=\"_blank\"><span style=\"color: #7f7f7f; text-decoration-color: #7f7f7f\">135</span></a>\n",
       "</pre>\n"
      ],
      "text/plain": [
       "\u001b[2;36m          \u001b[0m\u001b[2;36m \u001b[0m\u001b[34mINFO    \u001b[0m Loading dataset : ATLAS_t_sch_8TeV                                                \u001b]8;id=552281;file:///Users/jaco/opt/anaconda3/envs/smefit_tutorial/lib/python3.11/site-packages/smefit/loader.py\u001b\\\u001b[2mloader.py\u001b[0m\u001b]8;;\u001b\\\u001b[2m:\u001b[0m\u001b]8;id=620925;file:///Users/jaco/opt/anaconda3/envs/smefit_tutorial/lib/python3.11/site-packages/smefit/loader.py#135\u001b\\\u001b[2m135\u001b[0m\u001b]8;;\u001b\\\n"
      ]
     },
     "metadata": {},
     "output_type": "display_data"
    },
    {
     "data": {
      "text/html": [
       "<pre style=\"white-space:pre;overflow-x:auto;line-height:normal;font-family:Menlo,'DejaVu Sans Mono',consolas,'Courier New',monospace\"><span style=\"color: #7fbfbf; text-decoration-color: #7fbfbf\">           </span><span style=\"color: #000080; text-decoration-color: #000080\">INFO    </span> Loading dataset : ATLAS_t_tch_13TeV_inc                                           <a href=\"file:///Users/jaco/opt/anaconda3/envs/smefit_tutorial/lib/python3.11/site-packages/smefit/loader.py\" target=\"_blank\"><span style=\"color: #7f7f7f; text-decoration-color: #7f7f7f\">loader.py</span></a><span style=\"color: #7f7f7f; text-decoration-color: #7f7f7f\">:</span><a href=\"file:///Users/jaco/opt/anaconda3/envs/smefit_tutorial/lib/python3.11/site-packages/smefit/loader.py#135\" target=\"_blank\"><span style=\"color: #7f7f7f; text-decoration-color: #7f7f7f\">135</span></a>\n",
       "</pre>\n"
      ],
      "text/plain": [
       "\u001b[2;36m          \u001b[0m\u001b[2;36m \u001b[0m\u001b[34mINFO    \u001b[0m Loading dataset : ATLAS_t_tch_13TeV_inc                                           \u001b]8;id=595520;file:///Users/jaco/opt/anaconda3/envs/smefit_tutorial/lib/python3.11/site-packages/smefit/loader.py\u001b\\\u001b[2mloader.py\u001b[0m\u001b]8;;\u001b\\\u001b[2m:\u001b[0m\u001b]8;id=704090;file:///Users/jaco/opt/anaconda3/envs/smefit_tutorial/lib/python3.11/site-packages/smefit/loader.py#135\u001b\\\u001b[2m135\u001b[0m\u001b]8;;\u001b\\\n"
      ]
     },
     "metadata": {},
     "output_type": "display_data"
    },
    {
     "data": {
      "text/html": [
       "<pre style=\"white-space:pre;overflow-x:auto;line-height:normal;font-family:Menlo,'DejaVu Sans Mono',consolas,'Courier New',monospace\"><span style=\"color: #7fbfbf; text-decoration-color: #7fbfbf\">           </span><span style=\"color: #000080; text-decoration-color: #000080\">INFO    </span> Loading dataset : ATLAS_t_tch_8TeV_diff_Yt                                        <a href=\"file:///Users/jaco/opt/anaconda3/envs/smefit_tutorial/lib/python3.11/site-packages/smefit/loader.py\" target=\"_blank\"><span style=\"color: #7f7f7f; text-decoration-color: #7f7f7f\">loader.py</span></a><span style=\"color: #7f7f7f; text-decoration-color: #7f7f7f\">:</span><a href=\"file:///Users/jaco/opt/anaconda3/envs/smefit_tutorial/lib/python3.11/site-packages/smefit/loader.py#135\" target=\"_blank\"><span style=\"color: #7f7f7f; text-decoration-color: #7f7f7f\">135</span></a>\n",
       "</pre>\n"
      ],
      "text/plain": [
       "\u001b[2;36m          \u001b[0m\u001b[2;36m \u001b[0m\u001b[34mINFO    \u001b[0m Loading dataset : ATLAS_t_tch_8TeV_diff_Yt                                        \u001b]8;id=213432;file:///Users/jaco/opt/anaconda3/envs/smefit_tutorial/lib/python3.11/site-packages/smefit/loader.py\u001b\\\u001b[2mloader.py\u001b[0m\u001b]8;;\u001b\\\u001b[2m:\u001b[0m\u001b]8;id=403723;file:///Users/jaco/opt/anaconda3/envs/smefit_tutorial/lib/python3.11/site-packages/smefit/loader.py#135\u001b\\\u001b[2m135\u001b[0m\u001b]8;;\u001b\\\n"
      ]
     },
     "metadata": {},
     "output_type": "display_data"
    },
    {
     "data": {
      "text/html": [
       "<pre style=\"white-space:pre;overflow-x:auto;line-height:normal;font-family:Menlo,'DejaVu Sans Mono',consolas,'Courier New',monospace\"><span style=\"color: #7fbfbf; text-decoration-color: #7fbfbf\">           </span><span style=\"color: #000080; text-decoration-color: #000080\">INFO    </span> Loading dataset : ATLAS_ttW_13TeV                                                 <a href=\"file:///Users/jaco/opt/anaconda3/envs/smefit_tutorial/lib/python3.11/site-packages/smefit/loader.py\" target=\"_blank\"><span style=\"color: #7f7f7f; text-decoration-color: #7f7f7f\">loader.py</span></a><span style=\"color: #7f7f7f; text-decoration-color: #7f7f7f\">:</span><a href=\"file:///Users/jaco/opt/anaconda3/envs/smefit_tutorial/lib/python3.11/site-packages/smefit/loader.py#135\" target=\"_blank\"><span style=\"color: #7f7f7f; text-decoration-color: #7f7f7f\">135</span></a>\n",
       "</pre>\n"
      ],
      "text/plain": [
       "\u001b[2;36m          \u001b[0m\u001b[2;36m \u001b[0m\u001b[34mINFO    \u001b[0m Loading dataset : ATLAS_ttW_13TeV                                                 \u001b]8;id=555323;file:///Users/jaco/opt/anaconda3/envs/smefit_tutorial/lib/python3.11/site-packages/smefit/loader.py\u001b\\\u001b[2mloader.py\u001b[0m\u001b]8;;\u001b\\\u001b[2m:\u001b[0m\u001b]8;id=901634;file:///Users/jaco/opt/anaconda3/envs/smefit_tutorial/lib/python3.11/site-packages/smefit/loader.py#135\u001b\\\u001b[2m135\u001b[0m\u001b]8;;\u001b\\\n"
      ]
     },
     "metadata": {},
     "output_type": "display_data"
    },
    {
     "data": {
      "text/html": [
       "<pre style=\"white-space:pre;overflow-x:auto;line-height:normal;font-family:Menlo,'DejaVu Sans Mono',consolas,'Courier New',monospace\"><span style=\"color: #7fbfbf; text-decoration-color: #7fbfbf\">           </span><span style=\"color: #000080; text-decoration-color: #000080\">INFO    </span> Loading dataset : ATLAS_ttW_13TeV_2016                                            <a href=\"file:///Users/jaco/opt/anaconda3/envs/smefit_tutorial/lib/python3.11/site-packages/smefit/loader.py\" target=\"_blank\"><span style=\"color: #7f7f7f; text-decoration-color: #7f7f7f\">loader.py</span></a><span style=\"color: #7f7f7f; text-decoration-color: #7f7f7f\">:</span><a href=\"file:///Users/jaco/opt/anaconda3/envs/smefit_tutorial/lib/python3.11/site-packages/smefit/loader.py#135\" target=\"_blank\"><span style=\"color: #7f7f7f; text-decoration-color: #7f7f7f\">135</span></a>\n",
       "</pre>\n"
      ],
      "text/plain": [
       "\u001b[2;36m          \u001b[0m\u001b[2;36m \u001b[0m\u001b[34mINFO    \u001b[0m Loading dataset : ATLAS_ttW_13TeV_2016                                            \u001b]8;id=480157;file:///Users/jaco/opt/anaconda3/envs/smefit_tutorial/lib/python3.11/site-packages/smefit/loader.py\u001b\\\u001b[2mloader.py\u001b[0m\u001b]8;;\u001b\\\u001b[2m:\u001b[0m\u001b]8;id=997452;file:///Users/jaco/opt/anaconda3/envs/smefit_tutorial/lib/python3.11/site-packages/smefit/loader.py#135\u001b\\\u001b[2m135\u001b[0m\u001b]8;;\u001b\\\n"
      ]
     },
     "metadata": {},
     "output_type": "display_data"
    },
    {
     "data": {
      "text/html": [
       "<pre style=\"white-space:pre;overflow-x:auto;line-height:normal;font-family:Menlo,'DejaVu Sans Mono',consolas,'Courier New',monospace\"><span style=\"color: #7fbfbf; text-decoration-color: #7fbfbf\">           </span><span style=\"color: #000080; text-decoration-color: #000080\">INFO    </span> Loading dataset : ATLAS_ttW_8TeV                                                  <a href=\"file:///Users/jaco/opt/anaconda3/envs/smefit_tutorial/lib/python3.11/site-packages/smefit/loader.py\" target=\"_blank\"><span style=\"color: #7f7f7f; text-decoration-color: #7f7f7f\">loader.py</span></a><span style=\"color: #7f7f7f; text-decoration-color: #7f7f7f\">:</span><a href=\"file:///Users/jaco/opt/anaconda3/envs/smefit_tutorial/lib/python3.11/site-packages/smefit/loader.py#135\" target=\"_blank\"><span style=\"color: #7f7f7f; text-decoration-color: #7f7f7f\">135</span></a>\n",
       "</pre>\n"
      ],
      "text/plain": [
       "\u001b[2;36m          \u001b[0m\u001b[2;36m \u001b[0m\u001b[34mINFO    \u001b[0m Loading dataset : ATLAS_ttW_8TeV                                                  \u001b]8;id=749767;file:///Users/jaco/opt/anaconda3/envs/smefit_tutorial/lib/python3.11/site-packages/smefit/loader.py\u001b\\\u001b[2mloader.py\u001b[0m\u001b]8;;\u001b\\\u001b[2m:\u001b[0m\u001b]8;id=282203;file:///Users/jaco/opt/anaconda3/envs/smefit_tutorial/lib/python3.11/site-packages/smefit/loader.py#135\u001b\\\u001b[2m135\u001b[0m\u001b]8;;\u001b\\\n"
      ]
     },
     "metadata": {},
     "output_type": "display_data"
    },
    {
     "data": {
      "text/html": [
       "<pre style=\"white-space:pre;overflow-x:auto;line-height:normal;font-family:Menlo,'DejaVu Sans Mono',consolas,'Courier New',monospace\"><span style=\"color: #7fbfbf; text-decoration-color: #7fbfbf\">           </span><span style=\"color: #000080; text-decoration-color: #000080\">INFO    </span> Loading dataset : ATLAS_ttZ_13TeV                                                 <a href=\"file:///Users/jaco/opt/anaconda3/envs/smefit_tutorial/lib/python3.11/site-packages/smefit/loader.py\" target=\"_blank\"><span style=\"color: #7f7f7f; text-decoration-color: #7f7f7f\">loader.py</span></a><span style=\"color: #7f7f7f; text-decoration-color: #7f7f7f\">:</span><a href=\"file:///Users/jaco/opt/anaconda3/envs/smefit_tutorial/lib/python3.11/site-packages/smefit/loader.py#135\" target=\"_blank\"><span style=\"color: #7f7f7f; text-decoration-color: #7f7f7f\">135</span></a>\n",
       "</pre>\n"
      ],
      "text/plain": [
       "\u001b[2;36m          \u001b[0m\u001b[2;36m \u001b[0m\u001b[34mINFO    \u001b[0m Loading dataset : ATLAS_ttZ_13TeV                                                 \u001b]8;id=3870;file:///Users/jaco/opt/anaconda3/envs/smefit_tutorial/lib/python3.11/site-packages/smefit/loader.py\u001b\\\u001b[2mloader.py\u001b[0m\u001b]8;;\u001b\\\u001b[2m:\u001b[0m\u001b]8;id=743253;file:///Users/jaco/opt/anaconda3/envs/smefit_tutorial/lib/python3.11/site-packages/smefit/loader.py#135\u001b\\\u001b[2m135\u001b[0m\u001b]8;;\u001b\\\n"
      ]
     },
     "metadata": {},
     "output_type": "display_data"
    },
    {
     "data": {
      "text/html": [
       "<pre style=\"white-space:pre;overflow-x:auto;line-height:normal;font-family:Menlo,'DejaVu Sans Mono',consolas,'Courier New',monospace\"><span style=\"color: #7fbfbf; text-decoration-color: #7fbfbf\">           </span><span style=\"color: #000080; text-decoration-color: #000080\">INFO    </span> Loading dataset : ATLAS_ttZ_13TeV_2016                                            <a href=\"file:///Users/jaco/opt/anaconda3/envs/smefit_tutorial/lib/python3.11/site-packages/smefit/loader.py\" target=\"_blank\"><span style=\"color: #7f7f7f; text-decoration-color: #7f7f7f\">loader.py</span></a><span style=\"color: #7f7f7f; text-decoration-color: #7f7f7f\">:</span><a href=\"file:///Users/jaco/opt/anaconda3/envs/smefit_tutorial/lib/python3.11/site-packages/smefit/loader.py#135\" target=\"_blank\"><span style=\"color: #7f7f7f; text-decoration-color: #7f7f7f\">135</span></a>\n",
       "</pre>\n"
      ],
      "text/plain": [
       "\u001b[2;36m          \u001b[0m\u001b[2;36m \u001b[0m\u001b[34mINFO    \u001b[0m Loading dataset : ATLAS_ttZ_13TeV_2016                                            \u001b]8;id=584855;file:///Users/jaco/opt/anaconda3/envs/smefit_tutorial/lib/python3.11/site-packages/smefit/loader.py\u001b\\\u001b[2mloader.py\u001b[0m\u001b]8;;\u001b\\\u001b[2m:\u001b[0m\u001b]8;id=599477;file:///Users/jaco/opt/anaconda3/envs/smefit_tutorial/lib/python3.11/site-packages/smefit/loader.py#135\u001b\\\u001b[2m135\u001b[0m\u001b]8;;\u001b\\\n"
      ]
     },
     "metadata": {},
     "output_type": "display_data"
    },
    {
     "data": {
      "text/html": [
       "<pre style=\"white-space:pre;overflow-x:auto;line-height:normal;font-family:Menlo,'DejaVu Sans Mono',consolas,'Courier New',monospace\"><span style=\"color: #7fbfbf; text-decoration-color: #7fbfbf\">[15:40:24] </span><span style=\"color: #000080; text-decoration-color: #000080\">INFO    </span> Loading dataset : ATLAS_ttZ_13TeV_pTZ                                             <a href=\"file:///Users/jaco/opt/anaconda3/envs/smefit_tutorial/lib/python3.11/site-packages/smefit/loader.py\" target=\"_blank\"><span style=\"color: #7f7f7f; text-decoration-color: #7f7f7f\">loader.py</span></a><span style=\"color: #7f7f7f; text-decoration-color: #7f7f7f\">:</span><a href=\"file:///Users/jaco/opt/anaconda3/envs/smefit_tutorial/lib/python3.11/site-packages/smefit/loader.py#135\" target=\"_blank\"><span style=\"color: #7f7f7f; text-decoration-color: #7f7f7f\">135</span></a>\n",
       "</pre>\n"
      ],
      "text/plain": [
       "\u001b[2;36m[15:40:24]\u001b[0m\u001b[2;36m \u001b[0m\u001b[34mINFO    \u001b[0m Loading dataset : ATLAS_ttZ_13TeV_pTZ                                             \u001b]8;id=977002;file:///Users/jaco/opt/anaconda3/envs/smefit_tutorial/lib/python3.11/site-packages/smefit/loader.py\u001b\\\u001b[2mloader.py\u001b[0m\u001b]8;;\u001b\\\u001b[2m:\u001b[0m\u001b]8;id=252567;file:///Users/jaco/opt/anaconda3/envs/smefit_tutorial/lib/python3.11/site-packages/smefit/loader.py#135\u001b\\\u001b[2m135\u001b[0m\u001b]8;;\u001b\\\n"
      ]
     },
     "metadata": {},
     "output_type": "display_data"
    },
    {
     "data": {
      "text/html": [
       "<pre style=\"white-space:pre;overflow-x:auto;line-height:normal;font-family:Menlo,'DejaVu Sans Mono',consolas,'Courier New',monospace\"><span style=\"color: #7fbfbf; text-decoration-color: #7fbfbf\">           </span><span style=\"color: #000080; text-decoration-color: #000080\">INFO    </span> Loading dataset : ATLAS_ttZ_8TeV                                                  <a href=\"file:///Users/jaco/opt/anaconda3/envs/smefit_tutorial/lib/python3.11/site-packages/smefit/loader.py\" target=\"_blank\"><span style=\"color: #7f7f7f; text-decoration-color: #7f7f7f\">loader.py</span></a><span style=\"color: #7f7f7f; text-decoration-color: #7f7f7f\">:</span><a href=\"file:///Users/jaco/opt/anaconda3/envs/smefit_tutorial/lib/python3.11/site-packages/smefit/loader.py#135\" target=\"_blank\"><span style=\"color: #7f7f7f; text-decoration-color: #7f7f7f\">135</span></a>\n",
       "</pre>\n"
      ],
      "text/plain": [
       "\u001b[2;36m          \u001b[0m\u001b[2;36m \u001b[0m\u001b[34mINFO    \u001b[0m Loading dataset : ATLAS_ttZ_8TeV                                                  \u001b]8;id=384559;file:///Users/jaco/opt/anaconda3/envs/smefit_tutorial/lib/python3.11/site-packages/smefit/loader.py\u001b\\\u001b[2mloader.py\u001b[0m\u001b]8;;\u001b\\\u001b[2m:\u001b[0m\u001b]8;id=420408;file:///Users/jaco/opt/anaconda3/envs/smefit_tutorial/lib/python3.11/site-packages/smefit/loader.py#135\u001b\\\u001b[2m135\u001b[0m\u001b]8;;\u001b\\\n"
      ]
     },
     "metadata": {},
     "output_type": "display_data"
    },
    {
     "data": {
      "text/html": [
       "<pre style=\"white-space:pre;overflow-x:auto;line-height:normal;font-family:Menlo,'DejaVu Sans Mono',consolas,'Courier New',monospace\"><span style=\"color: #7fbfbf; text-decoration-color: #7fbfbf\">           </span><span style=\"color: #000080; text-decoration-color: #000080\">INFO    </span> Loading dataset : ATLAS_tt_13TeV_asy_2022                                         <a href=\"file:///Users/jaco/opt/anaconda3/envs/smefit_tutorial/lib/python3.11/site-packages/smefit/loader.py\" target=\"_blank\"><span style=\"color: #7f7f7f; text-decoration-color: #7f7f7f\">loader.py</span></a><span style=\"color: #7f7f7f; text-decoration-color: #7f7f7f\">:</span><a href=\"file:///Users/jaco/opt/anaconda3/envs/smefit_tutorial/lib/python3.11/site-packages/smefit/loader.py#135\" target=\"_blank\"><span style=\"color: #7f7f7f; text-decoration-color: #7f7f7f\">135</span></a>\n",
       "</pre>\n"
      ],
      "text/plain": [
       "\u001b[2;36m          \u001b[0m\u001b[2;36m \u001b[0m\u001b[34mINFO    \u001b[0m Loading dataset : ATLAS_tt_13TeV_asy_2022                                         \u001b]8;id=563991;file:///Users/jaco/opt/anaconda3/envs/smefit_tutorial/lib/python3.11/site-packages/smefit/loader.py\u001b\\\u001b[2mloader.py\u001b[0m\u001b]8;;\u001b\\\u001b[2m:\u001b[0m\u001b]8;id=260257;file:///Users/jaco/opt/anaconda3/envs/smefit_tutorial/lib/python3.11/site-packages/smefit/loader.py#135\u001b\\\u001b[2m135\u001b[0m\u001b]8;;\u001b\\\n"
      ]
     },
     "metadata": {},
     "output_type": "display_data"
    },
    {
     "data": {
      "text/html": [
       "<pre style=\"white-space:pre;overflow-x:auto;line-height:normal;font-family:Menlo,'DejaVu Sans Mono',consolas,'Courier New',monospace\"><span style=\"color: #7fbfbf; text-decoration-color: #7fbfbf\">           </span><span style=\"color: #000080; text-decoration-color: #000080\">INFO    </span> Loading dataset : ATLAS_tt_13TeV_ljets_2016_Mtt                                   <a href=\"file:///Users/jaco/opt/anaconda3/envs/smefit_tutorial/lib/python3.11/site-packages/smefit/loader.py\" target=\"_blank\"><span style=\"color: #7f7f7f; text-decoration-color: #7f7f7f\">loader.py</span></a><span style=\"color: #7f7f7f; text-decoration-color: #7f7f7f\">:</span><a href=\"file:///Users/jaco/opt/anaconda3/envs/smefit_tutorial/lib/python3.11/site-packages/smefit/loader.py#135\" target=\"_blank\"><span style=\"color: #7f7f7f; text-decoration-color: #7f7f7f\">135</span></a>\n",
       "</pre>\n"
      ],
      "text/plain": [
       "\u001b[2;36m          \u001b[0m\u001b[2;36m \u001b[0m\u001b[34mINFO    \u001b[0m Loading dataset : ATLAS_tt_13TeV_ljets_2016_Mtt                                   \u001b]8;id=247548;file:///Users/jaco/opt/anaconda3/envs/smefit_tutorial/lib/python3.11/site-packages/smefit/loader.py\u001b\\\u001b[2mloader.py\u001b[0m\u001b]8;;\u001b\\\u001b[2m:\u001b[0m\u001b]8;id=318155;file:///Users/jaco/opt/anaconda3/envs/smefit_tutorial/lib/python3.11/site-packages/smefit/loader.py#135\u001b\\\u001b[2m135\u001b[0m\u001b]8;;\u001b\\\n"
      ]
     },
     "metadata": {},
     "output_type": "display_data"
    },
    {
     "data": {
      "text/html": [
       "<pre style=\"white-space:pre;overflow-x:auto;line-height:normal;font-family:Menlo,'DejaVu Sans Mono',consolas,'Courier New',monospace\"><span style=\"color: #7fbfbf; text-decoration-color: #7fbfbf\">           </span><span style=\"color: #000080; text-decoration-color: #000080\">INFO    </span> Loading dataset : ATLAS_tt_8TeV_dilep_Mtt                                         <a href=\"file:///Users/jaco/opt/anaconda3/envs/smefit_tutorial/lib/python3.11/site-packages/smefit/loader.py\" target=\"_blank\"><span style=\"color: #7f7f7f; text-decoration-color: #7f7f7f\">loader.py</span></a><span style=\"color: #7f7f7f; text-decoration-color: #7f7f7f\">:</span><a href=\"file:///Users/jaco/opt/anaconda3/envs/smefit_tutorial/lib/python3.11/site-packages/smefit/loader.py#135\" target=\"_blank\"><span style=\"color: #7f7f7f; text-decoration-color: #7f7f7f\">135</span></a>\n",
       "</pre>\n"
      ],
      "text/plain": [
       "\u001b[2;36m          \u001b[0m\u001b[2;36m \u001b[0m\u001b[34mINFO    \u001b[0m Loading dataset : ATLAS_tt_8TeV_dilep_Mtt                                         \u001b]8;id=990809;file:///Users/jaco/opt/anaconda3/envs/smefit_tutorial/lib/python3.11/site-packages/smefit/loader.py\u001b\\\u001b[2mloader.py\u001b[0m\u001b]8;;\u001b\\\u001b[2m:\u001b[0m\u001b]8;id=610985;file:///Users/jaco/opt/anaconda3/envs/smefit_tutorial/lib/python3.11/site-packages/smefit/loader.py#135\u001b\\\u001b[2m135\u001b[0m\u001b]8;;\u001b\\\n"
      ]
     },
     "metadata": {},
     "output_type": "display_data"
    },
    {
     "data": {
      "text/html": [
       "<pre style=\"white-space:pre;overflow-x:auto;line-height:normal;font-family:Menlo,'DejaVu Sans Mono',consolas,'Courier New',monospace\"><span style=\"color: #7fbfbf; text-decoration-color: #7fbfbf\">           </span><span style=\"color: #000080; text-decoration-color: #000080\">INFO    </span> Loading dataset : ATLAS_tt_8TeV_ljets_Mtt                                         <a href=\"file:///Users/jaco/opt/anaconda3/envs/smefit_tutorial/lib/python3.11/site-packages/smefit/loader.py\" target=\"_blank\"><span style=\"color: #7f7f7f; text-decoration-color: #7f7f7f\">loader.py</span></a><span style=\"color: #7f7f7f; text-decoration-color: #7f7f7f\">:</span><a href=\"file:///Users/jaco/opt/anaconda3/envs/smefit_tutorial/lib/python3.11/site-packages/smefit/loader.py#135\" target=\"_blank\"><span style=\"color: #7f7f7f; text-decoration-color: #7f7f7f\">135</span></a>\n",
       "</pre>\n"
      ],
      "text/plain": [
       "\u001b[2;36m          \u001b[0m\u001b[2;36m \u001b[0m\u001b[34mINFO    \u001b[0m Loading dataset : ATLAS_tt_8TeV_ljets_Mtt                                         \u001b]8;id=502208;file:///Users/jaco/opt/anaconda3/envs/smefit_tutorial/lib/python3.11/site-packages/smefit/loader.py\u001b\\\u001b[2mloader.py\u001b[0m\u001b]8;;\u001b\\\u001b[2m:\u001b[0m\u001b]8;id=765235;file:///Users/jaco/opt/anaconda3/envs/smefit_tutorial/lib/python3.11/site-packages/smefit/loader.py#135\u001b\\\u001b[2m135\u001b[0m\u001b]8;;\u001b\\\n"
      ]
     },
     "metadata": {},
     "output_type": "display_data"
    },
    {
     "data": {
      "text/html": [
       "<pre style=\"white-space:pre;overflow-x:auto;line-height:normal;font-family:Menlo,'DejaVu Sans Mono',consolas,'Courier New',monospace\"><span style=\"color: #7fbfbf; text-decoration-color: #7fbfbf\">           </span><span style=\"color: #000080; text-decoration-color: #000080\">INFO    </span> Loading dataset : ATLAS_tta_8TeV                                                  <a href=\"file:///Users/jaco/opt/anaconda3/envs/smefit_tutorial/lib/python3.11/site-packages/smefit/loader.py\" target=\"_blank\"><span style=\"color: #7f7f7f; text-decoration-color: #7f7f7f\">loader.py</span></a><span style=\"color: #7f7f7f; text-decoration-color: #7f7f7f\">:</span><a href=\"file:///Users/jaco/opt/anaconda3/envs/smefit_tutorial/lib/python3.11/site-packages/smefit/loader.py#135\" target=\"_blank\"><span style=\"color: #7f7f7f; text-decoration-color: #7f7f7f\">135</span></a>\n",
       "</pre>\n"
      ],
      "text/plain": [
       "\u001b[2;36m          \u001b[0m\u001b[2;36m \u001b[0m\u001b[34mINFO    \u001b[0m Loading dataset : ATLAS_tta_8TeV                                                  \u001b]8;id=662737;file:///Users/jaco/opt/anaconda3/envs/smefit_tutorial/lib/python3.11/site-packages/smefit/loader.py\u001b\\\u001b[2mloader.py\u001b[0m\u001b]8;;\u001b\\\u001b[2m:\u001b[0m\u001b]8;id=433188;file:///Users/jaco/opt/anaconda3/envs/smefit_tutorial/lib/python3.11/site-packages/smefit/loader.py#135\u001b\\\u001b[2m135\u001b[0m\u001b]8;;\u001b\\\n"
      ]
     },
     "metadata": {},
     "output_type": "display_data"
    },
    {
     "data": {
      "text/html": [
       "<pre style=\"white-space:pre;overflow-x:auto;line-height:normal;font-family:Menlo,'DejaVu Sans Mono',consolas,'Courier New',monospace\"><span style=\"color: #7fbfbf; text-decoration-color: #7fbfbf\">           </span><span style=\"color: #000080; text-decoration-color: #000080\">INFO    </span> Loading dataset : ATLAS_ttbb_13TeV_2016                                           <a href=\"file:///Users/jaco/opt/anaconda3/envs/smefit_tutorial/lib/python3.11/site-packages/smefit/loader.py\" target=\"_blank\"><span style=\"color: #7f7f7f; text-decoration-color: #7f7f7f\">loader.py</span></a><span style=\"color: #7f7f7f; text-decoration-color: #7f7f7f\">:</span><a href=\"file:///Users/jaco/opt/anaconda3/envs/smefit_tutorial/lib/python3.11/site-packages/smefit/loader.py#135\" target=\"_blank\"><span style=\"color: #7f7f7f; text-decoration-color: #7f7f7f\">135</span></a>\n",
       "</pre>\n"
      ],
      "text/plain": [
       "\u001b[2;36m          \u001b[0m\u001b[2;36m \u001b[0m\u001b[34mINFO    \u001b[0m Loading dataset : ATLAS_ttbb_13TeV_2016                                           \u001b]8;id=722777;file:///Users/jaco/opt/anaconda3/envs/smefit_tutorial/lib/python3.11/site-packages/smefit/loader.py\u001b\\\u001b[2mloader.py\u001b[0m\u001b]8;;\u001b\\\u001b[2m:\u001b[0m\u001b]8;id=60636;file:///Users/jaco/opt/anaconda3/envs/smefit_tutorial/lib/python3.11/site-packages/smefit/loader.py#135\u001b\\\u001b[2m135\u001b[0m\u001b]8;;\u001b\\\n"
      ]
     },
     "metadata": {},
     "output_type": "display_data"
    },
    {
     "data": {
      "text/html": [
       "<pre style=\"white-space:pre;overflow-x:auto;line-height:normal;font-family:Menlo,'DejaVu Sans Mono',consolas,'Courier New',monospace\"><span style=\"color: #7fbfbf; text-decoration-color: #7fbfbf\">           </span><span style=\"color: #000080; text-decoration-color: #000080\">INFO    </span> Loading dataset : ATLAS_tttt_13TeV_2023                                           <a href=\"file:///Users/jaco/opt/anaconda3/envs/smefit_tutorial/lib/python3.11/site-packages/smefit/loader.py\" target=\"_blank\"><span style=\"color: #7f7f7f; text-decoration-color: #7f7f7f\">loader.py</span></a><span style=\"color: #7f7f7f; text-decoration-color: #7f7f7f\">:</span><a href=\"file:///Users/jaco/opt/anaconda3/envs/smefit_tutorial/lib/python3.11/site-packages/smefit/loader.py#135\" target=\"_blank\"><span style=\"color: #7f7f7f; text-decoration-color: #7f7f7f\">135</span></a>\n",
       "</pre>\n"
      ],
      "text/plain": [
       "\u001b[2;36m          \u001b[0m\u001b[2;36m \u001b[0m\u001b[34mINFO    \u001b[0m Loading dataset : ATLAS_tttt_13TeV_2023                                           \u001b]8;id=548054;file:///Users/jaco/opt/anaconda3/envs/smefit_tutorial/lib/python3.11/site-packages/smefit/loader.py\u001b\\\u001b[2mloader.py\u001b[0m\u001b]8;;\u001b\\\u001b[2m:\u001b[0m\u001b]8;id=761769;file:///Users/jaco/opt/anaconda3/envs/smefit_tutorial/lib/python3.11/site-packages/smefit/loader.py#135\u001b\\\u001b[2m135\u001b[0m\u001b]8;;\u001b\\\n"
      ]
     },
     "metadata": {},
     "output_type": "display_data"
    },
    {
     "data": {
      "text/html": [
       "<pre style=\"white-space:pre;overflow-x:auto;line-height:normal;font-family:Menlo,'DejaVu Sans Mono',consolas,'Courier New',monospace\"><span style=\"color: #7fbfbf; text-decoration-color: #7fbfbf\">           </span><span style=\"color: #000080; text-decoration-color: #000080\">INFO    </span> Loading dataset : ATLAS_tttt_13TeV_run2                                           <a href=\"file:///Users/jaco/opt/anaconda3/envs/smefit_tutorial/lib/python3.11/site-packages/smefit/loader.py\" target=\"_blank\"><span style=\"color: #7f7f7f; text-decoration-color: #7f7f7f\">loader.py</span></a><span style=\"color: #7f7f7f; text-decoration-color: #7f7f7f\">:</span><a href=\"file:///Users/jaco/opt/anaconda3/envs/smefit_tutorial/lib/python3.11/site-packages/smefit/loader.py#135\" target=\"_blank\"><span style=\"color: #7f7f7f; text-decoration-color: #7f7f7f\">135</span></a>\n",
       "</pre>\n"
      ],
      "text/plain": [
       "\u001b[2;36m          \u001b[0m\u001b[2;36m \u001b[0m\u001b[34mINFO    \u001b[0m Loading dataset : ATLAS_tttt_13TeV_run2                                           \u001b]8;id=865413;file:///Users/jaco/opt/anaconda3/envs/smefit_tutorial/lib/python3.11/site-packages/smefit/loader.py\u001b\\\u001b[2mloader.py\u001b[0m\u001b]8;;\u001b\\\u001b[2m:\u001b[0m\u001b]8;id=493398;file:///Users/jaco/opt/anaconda3/envs/smefit_tutorial/lib/python3.11/site-packages/smefit/loader.py#135\u001b\\\u001b[2m135\u001b[0m\u001b]8;;\u001b\\\n"
      ]
     },
     "metadata": {},
     "output_type": "display_data"
    },
    {
     "data": {
      "text/html": [
       "<pre style=\"white-space:pre;overflow-x:auto;line-height:normal;font-family:Menlo,'DejaVu Sans Mono',consolas,'Courier New',monospace\"><span style=\"color: #7fbfbf; text-decoration-color: #7fbfbf\">           </span><span style=\"color: #000080; text-decoration-color: #000080\">INFO    </span> Loading dataset : ATLAS_tttt_13TeV_slep_inc                                       <a href=\"file:///Users/jaco/opt/anaconda3/envs/smefit_tutorial/lib/python3.11/site-packages/smefit/loader.py\" target=\"_blank\"><span style=\"color: #7f7f7f; text-decoration-color: #7f7f7f\">loader.py</span></a><span style=\"color: #7f7f7f; text-decoration-color: #7f7f7f\">:</span><a href=\"file:///Users/jaco/opt/anaconda3/envs/smefit_tutorial/lib/python3.11/site-packages/smefit/loader.py#135\" target=\"_blank\"><span style=\"color: #7f7f7f; text-decoration-color: #7f7f7f\">135</span></a>\n",
       "</pre>\n"
      ],
      "text/plain": [
       "\u001b[2;36m          \u001b[0m\u001b[2;36m \u001b[0m\u001b[34mINFO    \u001b[0m Loading dataset : ATLAS_tttt_13TeV_slep_inc                                       \u001b]8;id=163243;file:///Users/jaco/opt/anaconda3/envs/smefit_tutorial/lib/python3.11/site-packages/smefit/loader.py\u001b\\\u001b[2mloader.py\u001b[0m\u001b]8;;\u001b\\\u001b[2m:\u001b[0m\u001b]8;id=431611;file:///Users/jaco/opt/anaconda3/envs/smefit_tutorial/lib/python3.11/site-packages/smefit/loader.py#135\u001b\\\u001b[2m135\u001b[0m\u001b]8;;\u001b\\\n"
      ]
     },
     "metadata": {},
     "output_type": "display_data"
    },
    {
     "data": {
      "text/html": [
       "<pre style=\"white-space:pre;overflow-x:auto;line-height:normal;font-family:Menlo,'DejaVu Sans Mono',consolas,'Courier New',monospace\"><span style=\"color: #7fbfbf; text-decoration-color: #7fbfbf\">           </span><span style=\"color: #000080; text-decoration-color: #000080\">INFO    </span> Loading dataset : CMS_H_13TeV_2015_pTH                                            <a href=\"file:///Users/jaco/opt/anaconda3/envs/smefit_tutorial/lib/python3.11/site-packages/smefit/loader.py\" target=\"_blank\"><span style=\"color: #7f7f7f; text-decoration-color: #7f7f7f\">loader.py</span></a><span style=\"color: #7f7f7f; text-decoration-color: #7f7f7f\">:</span><a href=\"file:///Users/jaco/opt/anaconda3/envs/smefit_tutorial/lib/python3.11/site-packages/smefit/loader.py#135\" target=\"_blank\"><span style=\"color: #7f7f7f; text-decoration-color: #7f7f7f\">135</span></a>\n",
       "</pre>\n"
      ],
      "text/plain": [
       "\u001b[2;36m          \u001b[0m\u001b[2;36m \u001b[0m\u001b[34mINFO    \u001b[0m Loading dataset : CMS_H_13TeV_2015_pTH                                            \u001b]8;id=299656;file:///Users/jaco/opt/anaconda3/envs/smefit_tutorial/lib/python3.11/site-packages/smefit/loader.py\u001b\\\u001b[2mloader.py\u001b[0m\u001b]8;;\u001b\\\u001b[2m:\u001b[0m\u001b]8;id=999375;file:///Users/jaco/opt/anaconda3/envs/smefit_tutorial/lib/python3.11/site-packages/smefit/loader.py#135\u001b\\\u001b[2m135\u001b[0m\u001b]8;;\u001b\\\n"
      ]
     },
     "metadata": {},
     "output_type": "display_data"
    },
    {
     "data": {
      "text/html": [
       "<pre style=\"white-space:pre;overflow-x:auto;line-height:normal;font-family:Menlo,'DejaVu Sans Mono',consolas,'Courier New',monospace\"><span style=\"color: #7fbfbf; text-decoration-color: #7fbfbf\">           </span><span style=\"color: #000080; text-decoration-color: #000080\">INFO    </span> Loading dataset : CMS_SSinc_RunII                                                 <a href=\"file:///Users/jaco/opt/anaconda3/envs/smefit_tutorial/lib/python3.11/site-packages/smefit/loader.py\" target=\"_blank\"><span style=\"color: #7f7f7f; text-decoration-color: #7f7f7f\">loader.py</span></a><span style=\"color: #7f7f7f; text-decoration-color: #7f7f7f\">:</span><a href=\"file:///Users/jaco/opt/anaconda3/envs/smefit_tutorial/lib/python3.11/site-packages/smefit/loader.py#135\" target=\"_blank\"><span style=\"color: #7f7f7f; text-decoration-color: #7f7f7f\">135</span></a>\n",
       "</pre>\n"
      ],
      "text/plain": [
       "\u001b[2;36m          \u001b[0m\u001b[2;36m \u001b[0m\u001b[34mINFO    \u001b[0m Loading dataset : CMS_SSinc_RunII                                                 \u001b]8;id=503097;file:///Users/jaco/opt/anaconda3/envs/smefit_tutorial/lib/python3.11/site-packages/smefit/loader.py\u001b\\\u001b[2mloader.py\u001b[0m\u001b]8;;\u001b\\\u001b[2m:\u001b[0m\u001b]8;id=595926;file:///Users/jaco/opt/anaconda3/envs/smefit_tutorial/lib/python3.11/site-packages/smefit/loader.py#135\u001b\\\u001b[2m135\u001b[0m\u001b]8;;\u001b\\\n"
      ]
     },
     "metadata": {},
     "output_type": "display_data"
    },
    {
     "data": {
      "text/html": [
       "<pre style=\"white-space:pre;overflow-x:auto;line-height:normal;font-family:Menlo,'DejaVu Sans Mono',consolas,'Courier New',monospace\"><span style=\"color: #7fbfbf; text-decoration-color: #7fbfbf\">           </span><span style=\"color: #000080; text-decoration-color: #000080\">INFO    </span> Loading dataset : CMS_WZ_13TeV_2016_pTZ                                           <a href=\"file:///Users/jaco/opt/anaconda3/envs/smefit_tutorial/lib/python3.11/site-packages/smefit/loader.py\" target=\"_blank\"><span style=\"color: #7f7f7f; text-decoration-color: #7f7f7f\">loader.py</span></a><span style=\"color: #7f7f7f; text-decoration-color: #7f7f7f\">:</span><a href=\"file:///Users/jaco/opt/anaconda3/envs/smefit_tutorial/lib/python3.11/site-packages/smefit/loader.py#135\" target=\"_blank\"><span style=\"color: #7f7f7f; text-decoration-color: #7f7f7f\">135</span></a>\n",
       "</pre>\n"
      ],
      "text/plain": [
       "\u001b[2;36m          \u001b[0m\u001b[2;36m \u001b[0m\u001b[34mINFO    \u001b[0m Loading dataset : CMS_WZ_13TeV_2016_pTZ                                           \u001b]8;id=205103;file:///Users/jaco/opt/anaconda3/envs/smefit_tutorial/lib/python3.11/site-packages/smefit/loader.py\u001b\\\u001b[2mloader.py\u001b[0m\u001b]8;;\u001b\\\u001b[2m:\u001b[0m\u001b]8;id=143997;file:///Users/jaco/opt/anaconda3/envs/smefit_tutorial/lib/python3.11/site-packages/smefit/loader.py#135\u001b\\\u001b[2m135\u001b[0m\u001b]8;;\u001b\\\n"
      ]
     },
     "metadata": {},
     "output_type": "display_data"
    },
    {
     "data": {
      "text/html": [
       "<pre style=\"white-space:pre;overflow-x:auto;line-height:normal;font-family:Menlo,'DejaVu Sans Mono',consolas,'Courier New',monospace\"><span style=\"color: #7fbfbf; text-decoration-color: #7fbfbf\">           </span><span style=\"color: #000080; text-decoration-color: #000080\">INFO    </span> Loading dataset : CMS_WZ_13TeV_2022_pTZ                                           <a href=\"file:///Users/jaco/opt/anaconda3/envs/smefit_tutorial/lib/python3.11/site-packages/smefit/loader.py\" target=\"_blank\"><span style=\"color: #7f7f7f; text-decoration-color: #7f7f7f\">loader.py</span></a><span style=\"color: #7f7f7f; text-decoration-color: #7f7f7f\">:</span><a href=\"file:///Users/jaco/opt/anaconda3/envs/smefit_tutorial/lib/python3.11/site-packages/smefit/loader.py#135\" target=\"_blank\"><span style=\"color: #7f7f7f; text-decoration-color: #7f7f7f\">135</span></a>\n",
       "</pre>\n"
      ],
      "text/plain": [
       "\u001b[2;36m          \u001b[0m\u001b[2;36m \u001b[0m\u001b[34mINFO    \u001b[0m Loading dataset : CMS_WZ_13TeV_2022_pTZ                                           \u001b]8;id=69545;file:///Users/jaco/opt/anaconda3/envs/smefit_tutorial/lib/python3.11/site-packages/smefit/loader.py\u001b\\\u001b[2mloader.py\u001b[0m\u001b]8;;\u001b\\\u001b[2m:\u001b[0m\u001b]8;id=411488;file:///Users/jaco/opt/anaconda3/envs/smefit_tutorial/lib/python3.11/site-packages/smefit/loader.py#135\u001b\\\u001b[2m135\u001b[0m\u001b]8;;\u001b\\\n"
      ]
     },
     "metadata": {},
     "output_type": "display_data"
    },
    {
     "data": {
      "text/html": [
       "<pre style=\"white-space:pre;overflow-x:auto;line-height:normal;font-family:Menlo,'DejaVu Sans Mono',consolas,'Courier New',monospace\"><span style=\"color: #7fbfbf; text-decoration-color: #7fbfbf\">           </span><span style=\"color: #000080; text-decoration-color: #000080\">INFO    </span> Loading dataset : CMS_WhelF_8TeV                                                  <a href=\"file:///Users/jaco/opt/anaconda3/envs/smefit_tutorial/lib/python3.11/site-packages/smefit/loader.py\" target=\"_blank\"><span style=\"color: #7f7f7f; text-decoration-color: #7f7f7f\">loader.py</span></a><span style=\"color: #7f7f7f; text-decoration-color: #7f7f7f\">:</span><a href=\"file:///Users/jaco/opt/anaconda3/envs/smefit_tutorial/lib/python3.11/site-packages/smefit/loader.py#135\" target=\"_blank\"><span style=\"color: #7f7f7f; text-decoration-color: #7f7f7f\">135</span></a>\n",
       "</pre>\n"
      ],
      "text/plain": [
       "\u001b[2;36m          \u001b[0m\u001b[2;36m \u001b[0m\u001b[34mINFO    \u001b[0m Loading dataset : CMS_WhelF_8TeV                                                  \u001b]8;id=378273;file:///Users/jaco/opt/anaconda3/envs/smefit_tutorial/lib/python3.11/site-packages/smefit/loader.py\u001b\\\u001b[2mloader.py\u001b[0m\u001b]8;;\u001b\\\u001b[2m:\u001b[0m\u001b]8;id=930225;file:///Users/jaco/opt/anaconda3/envs/smefit_tutorial/lib/python3.11/site-packages/smefit/loader.py#135\u001b\\\u001b[2m135\u001b[0m\u001b]8;;\u001b\\\n"
      ]
     },
     "metadata": {},
     "output_type": "display_data"
    },
    {
     "data": {
      "text/html": [
       "<pre style=\"white-space:pre;overflow-x:auto;line-height:normal;font-family:Menlo,'DejaVu Sans Mono',consolas,'Courier New',monospace\"><span style=\"color: #7fbfbf; text-decoration-color: #7fbfbf\">           </span><span style=\"color: #000080; text-decoration-color: #000080\">INFO    </span> Loading dataset : CMS_ggF_aa_13TeV                                                <a href=\"file:///Users/jaco/opt/anaconda3/envs/smefit_tutorial/lib/python3.11/site-packages/smefit/loader.py\" target=\"_blank\"><span style=\"color: #7f7f7f; text-decoration-color: #7f7f7f\">loader.py</span></a><span style=\"color: #7f7f7f; text-decoration-color: #7f7f7f\">:</span><a href=\"file:///Users/jaco/opt/anaconda3/envs/smefit_tutorial/lib/python3.11/site-packages/smefit/loader.py#135\" target=\"_blank\"><span style=\"color: #7f7f7f; text-decoration-color: #7f7f7f\">135</span></a>\n",
       "</pre>\n"
      ],
      "text/plain": [
       "\u001b[2;36m          \u001b[0m\u001b[2;36m \u001b[0m\u001b[34mINFO    \u001b[0m Loading dataset : CMS_ggF_aa_13TeV                                                \u001b]8;id=185662;file:///Users/jaco/opt/anaconda3/envs/smefit_tutorial/lib/python3.11/site-packages/smefit/loader.py\u001b\\\u001b[2mloader.py\u001b[0m\u001b]8;;\u001b\\\u001b[2m:\u001b[0m\u001b]8;id=501758;file:///Users/jaco/opt/anaconda3/envs/smefit_tutorial/lib/python3.11/site-packages/smefit/loader.py#135\u001b\\\u001b[2m135\u001b[0m\u001b]8;;\u001b\\\n"
      ]
     },
     "metadata": {},
     "output_type": "display_data"
    },
    {
     "data": {
      "text/html": [
       "<pre style=\"white-space:pre;overflow-x:auto;line-height:normal;font-family:Menlo,'DejaVu Sans Mono',consolas,'Courier New',monospace\"><span style=\"color: #7fbfbf; text-decoration-color: #7fbfbf\">           </span><span style=\"color: #000080; text-decoration-color: #000080\">INFO    </span> Loading dataset : CMS_tW_13TeV_inc                                                <a href=\"file:///Users/jaco/opt/anaconda3/envs/smefit_tutorial/lib/python3.11/site-packages/smefit/loader.py\" target=\"_blank\"><span style=\"color: #7f7f7f; text-decoration-color: #7f7f7f\">loader.py</span></a><span style=\"color: #7f7f7f; text-decoration-color: #7f7f7f\">:</span><a href=\"file:///Users/jaco/opt/anaconda3/envs/smefit_tutorial/lib/python3.11/site-packages/smefit/loader.py#135\" target=\"_blank\"><span style=\"color: #7f7f7f; text-decoration-color: #7f7f7f\">135</span></a>\n",
       "</pre>\n"
      ],
      "text/plain": [
       "\u001b[2;36m          \u001b[0m\u001b[2;36m \u001b[0m\u001b[34mINFO    \u001b[0m Loading dataset : CMS_tW_13TeV_inc                                                \u001b]8;id=17895;file:///Users/jaco/opt/anaconda3/envs/smefit_tutorial/lib/python3.11/site-packages/smefit/loader.py\u001b\\\u001b[2mloader.py\u001b[0m\u001b]8;;\u001b\\\u001b[2m:\u001b[0m\u001b]8;id=560659;file:///Users/jaco/opt/anaconda3/envs/smefit_tutorial/lib/python3.11/site-packages/smefit/loader.py#135\u001b\\\u001b[2m135\u001b[0m\u001b]8;;\u001b\\\n"
      ]
     },
     "metadata": {},
     "output_type": "display_data"
    },
    {
     "data": {
      "text/html": [
       "<pre style=\"white-space:pre;overflow-x:auto;line-height:normal;font-family:Menlo,'DejaVu Sans Mono',consolas,'Courier New',monospace\"><span style=\"color: #7fbfbf; text-decoration-color: #7fbfbf\">           </span><span style=\"color: #000080; text-decoration-color: #000080\">INFO    </span> Loading dataset : CMS_tW_13TeV_slep_inc                                           <a href=\"file:///Users/jaco/opt/anaconda3/envs/smefit_tutorial/lib/python3.11/site-packages/smefit/loader.py\" target=\"_blank\"><span style=\"color: #7f7f7f; text-decoration-color: #7f7f7f\">loader.py</span></a><span style=\"color: #7f7f7f; text-decoration-color: #7f7f7f\">:</span><a href=\"file:///Users/jaco/opt/anaconda3/envs/smefit_tutorial/lib/python3.11/site-packages/smefit/loader.py#135\" target=\"_blank\"><span style=\"color: #7f7f7f; text-decoration-color: #7f7f7f\">135</span></a>\n",
       "</pre>\n"
      ],
      "text/plain": [
       "\u001b[2;36m          \u001b[0m\u001b[2;36m \u001b[0m\u001b[34mINFO    \u001b[0m Loading dataset : CMS_tW_13TeV_slep_inc                                           \u001b]8;id=596229;file:///Users/jaco/opt/anaconda3/envs/smefit_tutorial/lib/python3.11/site-packages/smefit/loader.py\u001b\\\u001b[2mloader.py\u001b[0m\u001b]8;;\u001b\\\u001b[2m:\u001b[0m\u001b]8;id=695429;file:///Users/jaco/opt/anaconda3/envs/smefit_tutorial/lib/python3.11/site-packages/smefit/loader.py#135\u001b\\\u001b[2m135\u001b[0m\u001b]8;;\u001b\\\n"
      ]
     },
     "metadata": {},
     "output_type": "display_data"
    },
    {
     "data": {
      "text/html": [
       "<pre style=\"white-space:pre;overflow-x:auto;line-height:normal;font-family:Menlo,'DejaVu Sans Mono',consolas,'Courier New',monospace\"><span style=\"color: #7fbfbf; text-decoration-color: #7fbfbf\">           </span><span style=\"color: #000080; text-decoration-color: #000080\">INFO    </span> Loading dataset : CMS_tW_8TeV_inc                                                 <a href=\"file:///Users/jaco/opt/anaconda3/envs/smefit_tutorial/lib/python3.11/site-packages/smefit/loader.py\" target=\"_blank\"><span style=\"color: #7f7f7f; text-decoration-color: #7f7f7f\">loader.py</span></a><span style=\"color: #7f7f7f; text-decoration-color: #7f7f7f\">:</span><a href=\"file:///Users/jaco/opt/anaconda3/envs/smefit_tutorial/lib/python3.11/site-packages/smefit/loader.py#135\" target=\"_blank\"><span style=\"color: #7f7f7f; text-decoration-color: #7f7f7f\">135</span></a>\n",
       "</pre>\n"
      ],
      "text/plain": [
       "\u001b[2;36m          \u001b[0m\u001b[2;36m \u001b[0m\u001b[34mINFO    \u001b[0m Loading dataset : CMS_tW_8TeV_inc                                                 \u001b]8;id=648493;file:///Users/jaco/opt/anaconda3/envs/smefit_tutorial/lib/python3.11/site-packages/smefit/loader.py\u001b\\\u001b[2mloader.py\u001b[0m\u001b]8;;\u001b\\\u001b[2m:\u001b[0m\u001b]8;id=68239;file:///Users/jaco/opt/anaconda3/envs/smefit_tutorial/lib/python3.11/site-packages/smefit/loader.py#135\u001b\\\u001b[2m135\u001b[0m\u001b]8;;\u001b\\\n"
      ]
     },
     "metadata": {},
     "output_type": "display_data"
    },
    {
     "data": {
      "text/html": [
       "<pre style=\"white-space:pre;overflow-x:auto;line-height:normal;font-family:Menlo,'DejaVu Sans Mono',consolas,'Courier New',monospace\"><span style=\"color: #7fbfbf; text-decoration-color: #7fbfbf\">           </span><span style=\"color: #000080; text-decoration-color: #000080\">INFO    </span> Loading dataset : CMS_tZ_13TeV_2016_inc                                           <a href=\"file:///Users/jaco/opt/anaconda3/envs/smefit_tutorial/lib/python3.11/site-packages/smefit/loader.py\" target=\"_blank\"><span style=\"color: #7f7f7f; text-decoration-color: #7f7f7f\">loader.py</span></a><span style=\"color: #7f7f7f; text-decoration-color: #7f7f7f\">:</span><a href=\"file:///Users/jaco/opt/anaconda3/envs/smefit_tutorial/lib/python3.11/site-packages/smefit/loader.py#135\" target=\"_blank\"><span style=\"color: #7f7f7f; text-decoration-color: #7f7f7f\">135</span></a>\n",
       "</pre>\n"
      ],
      "text/plain": [
       "\u001b[2;36m          \u001b[0m\u001b[2;36m \u001b[0m\u001b[34mINFO    \u001b[0m Loading dataset : CMS_tZ_13TeV_2016_inc                                           \u001b]8;id=17612;file:///Users/jaco/opt/anaconda3/envs/smefit_tutorial/lib/python3.11/site-packages/smefit/loader.py\u001b\\\u001b[2mloader.py\u001b[0m\u001b]8;;\u001b\\\u001b[2m:\u001b[0m\u001b]8;id=33991;file:///Users/jaco/opt/anaconda3/envs/smefit_tutorial/lib/python3.11/site-packages/smefit/loader.py#135\u001b\\\u001b[2m135\u001b[0m\u001b]8;;\u001b\\\n"
      ]
     },
     "metadata": {},
     "output_type": "display_data"
    },
    {
     "data": {
      "text/html": [
       "<pre style=\"white-space:pre;overflow-x:auto;line-height:normal;font-family:Menlo,'DejaVu Sans Mono',consolas,'Courier New',monospace\"><span style=\"color: #7fbfbf; text-decoration-color: #7fbfbf\">           </span><span style=\"color: #000080; text-decoration-color: #000080\">INFO    </span> Loading dataset : CMS_tZ_13TeV_inc                                                <a href=\"file:///Users/jaco/opt/anaconda3/envs/smefit_tutorial/lib/python3.11/site-packages/smefit/loader.py\" target=\"_blank\"><span style=\"color: #7f7f7f; text-decoration-color: #7f7f7f\">loader.py</span></a><span style=\"color: #7f7f7f; text-decoration-color: #7f7f7f\">:</span><a href=\"file:///Users/jaco/opt/anaconda3/envs/smefit_tutorial/lib/python3.11/site-packages/smefit/loader.py#135\" target=\"_blank\"><span style=\"color: #7f7f7f; text-decoration-color: #7f7f7f\">135</span></a>\n",
       "</pre>\n"
      ],
      "text/plain": [
       "\u001b[2;36m          \u001b[0m\u001b[2;36m \u001b[0m\u001b[34mINFO    \u001b[0m Loading dataset : CMS_tZ_13TeV_inc                                                \u001b]8;id=132618;file:///Users/jaco/opt/anaconda3/envs/smefit_tutorial/lib/python3.11/site-packages/smefit/loader.py\u001b\\\u001b[2mloader.py\u001b[0m\u001b]8;;\u001b\\\u001b[2m:\u001b[0m\u001b]8;id=538126;file:///Users/jaco/opt/anaconda3/envs/smefit_tutorial/lib/python3.11/site-packages/smefit/loader.py#135\u001b\\\u001b[2m135\u001b[0m\u001b]8;;\u001b\\\n"
      ]
     },
     "metadata": {},
     "output_type": "display_data"
    },
    {
     "data": {
      "text/html": [
       "<pre style=\"white-space:pre;overflow-x:auto;line-height:normal;font-family:Menlo,'DejaVu Sans Mono',consolas,'Courier New',monospace\"><span style=\"color: #7fbfbf; text-decoration-color: #7fbfbf\">           </span><span style=\"color: #000080; text-decoration-color: #000080\">INFO    </span> Loading dataset : CMS_tZ_13TeV_pTt                                                <a href=\"file:///Users/jaco/opt/anaconda3/envs/smefit_tutorial/lib/python3.11/site-packages/smefit/loader.py\" target=\"_blank\"><span style=\"color: #7f7f7f; text-decoration-color: #7f7f7f\">loader.py</span></a><span style=\"color: #7f7f7f; text-decoration-color: #7f7f7f\">:</span><a href=\"file:///Users/jaco/opt/anaconda3/envs/smefit_tutorial/lib/python3.11/site-packages/smefit/loader.py#135\" target=\"_blank\"><span style=\"color: #7f7f7f; text-decoration-color: #7f7f7f\">135</span></a>\n",
       "</pre>\n"
      ],
      "text/plain": [
       "\u001b[2;36m          \u001b[0m\u001b[2;36m \u001b[0m\u001b[34mINFO    \u001b[0m Loading dataset : CMS_tZ_13TeV_pTt                                                \u001b]8;id=971531;file:///Users/jaco/opt/anaconda3/envs/smefit_tutorial/lib/python3.11/site-packages/smefit/loader.py\u001b\\\u001b[2mloader.py\u001b[0m\u001b]8;;\u001b\\\u001b[2m:\u001b[0m\u001b]8;id=711336;file:///Users/jaco/opt/anaconda3/envs/smefit_tutorial/lib/python3.11/site-packages/smefit/loader.py#135\u001b\\\u001b[2m135\u001b[0m\u001b]8;;\u001b\\\n"
      ]
     },
     "metadata": {},
     "output_type": "display_data"
    },
    {
     "data": {
      "text/html": [
       "<pre style=\"white-space:pre;overflow-x:auto;line-height:normal;font-family:Menlo,'DejaVu Sans Mono',consolas,'Courier New',monospace\"><span style=\"color: #7fbfbf; text-decoration-color: #7fbfbf\">           </span><span style=\"color: #000080; text-decoration-color: #000080\">INFO    </span> Loading dataset : CMS_t_sch_8TeV                                                  <a href=\"file:///Users/jaco/opt/anaconda3/envs/smefit_tutorial/lib/python3.11/site-packages/smefit/loader.py\" target=\"_blank\"><span style=\"color: #7f7f7f; text-decoration-color: #7f7f7f\">loader.py</span></a><span style=\"color: #7f7f7f; text-decoration-color: #7f7f7f\">:</span><a href=\"file:///Users/jaco/opt/anaconda3/envs/smefit_tutorial/lib/python3.11/site-packages/smefit/loader.py#135\" target=\"_blank\"><span style=\"color: #7f7f7f; text-decoration-color: #7f7f7f\">135</span></a>\n",
       "</pre>\n"
      ],
      "text/plain": [
       "\u001b[2;36m          \u001b[0m\u001b[2;36m \u001b[0m\u001b[34mINFO    \u001b[0m Loading dataset : CMS_t_sch_8TeV                                                  \u001b]8;id=397642;file:///Users/jaco/opt/anaconda3/envs/smefit_tutorial/lib/python3.11/site-packages/smefit/loader.py\u001b\\\u001b[2mloader.py\u001b[0m\u001b]8;;\u001b\\\u001b[2m:\u001b[0m\u001b]8;id=889560;file:///Users/jaco/opt/anaconda3/envs/smefit_tutorial/lib/python3.11/site-packages/smefit/loader.py#135\u001b\\\u001b[2m135\u001b[0m\u001b]8;;\u001b\\\n"
      ]
     },
     "metadata": {},
     "output_type": "display_data"
    },
    {
     "data": {
      "text/html": [
       "<pre style=\"white-space:pre;overflow-x:auto;line-height:normal;font-family:Menlo,'DejaVu Sans Mono',consolas,'Courier New',monospace\"><span style=\"color: #7fbfbf; text-decoration-color: #7fbfbf\">           </span><span style=\"color: #000080; text-decoration-color: #000080\">INFO    </span> Loading dataset : CMS_t_tch_13TeV_2016_diff_Yt                                    <a href=\"file:///Users/jaco/opt/anaconda3/envs/smefit_tutorial/lib/python3.11/site-packages/smefit/loader.py\" target=\"_blank\"><span style=\"color: #7f7f7f; text-decoration-color: #7f7f7f\">loader.py</span></a><span style=\"color: #7f7f7f; text-decoration-color: #7f7f7f\">:</span><a href=\"file:///Users/jaco/opt/anaconda3/envs/smefit_tutorial/lib/python3.11/site-packages/smefit/loader.py#135\" target=\"_blank\"><span style=\"color: #7f7f7f; text-decoration-color: #7f7f7f\">135</span></a>\n",
       "</pre>\n"
      ],
      "text/plain": [
       "\u001b[2;36m          \u001b[0m\u001b[2;36m \u001b[0m\u001b[34mINFO    \u001b[0m Loading dataset : CMS_t_tch_13TeV_2016_diff_Yt                                    \u001b]8;id=377831;file:///Users/jaco/opt/anaconda3/envs/smefit_tutorial/lib/python3.11/site-packages/smefit/loader.py\u001b\\\u001b[2mloader.py\u001b[0m\u001b]8;;\u001b\\\u001b[2m:\u001b[0m\u001b]8;id=992134;file:///Users/jaco/opt/anaconda3/envs/smefit_tutorial/lib/python3.11/site-packages/smefit/loader.py#135\u001b\\\u001b[2m135\u001b[0m\u001b]8;;\u001b\\\n"
      ]
     },
     "metadata": {},
     "output_type": "display_data"
    },
    {
     "data": {
      "text/html": [
       "<pre style=\"white-space:pre;overflow-x:auto;line-height:normal;font-family:Menlo,'DejaVu Sans Mono',consolas,'Courier New',monospace\"><span style=\"color: #7fbfbf; text-decoration-color: #7fbfbf\">           </span><span style=\"color: #000080; text-decoration-color: #000080\">INFO    </span> Loading dataset : CMS_t_tch_13TeV_2019_diff_Yt                                    <a href=\"file:///Users/jaco/opt/anaconda3/envs/smefit_tutorial/lib/python3.11/site-packages/smefit/loader.py\" target=\"_blank\"><span style=\"color: #7f7f7f; text-decoration-color: #7f7f7f\">loader.py</span></a><span style=\"color: #7f7f7f; text-decoration-color: #7f7f7f\">:</span><a href=\"file:///Users/jaco/opt/anaconda3/envs/smefit_tutorial/lib/python3.11/site-packages/smefit/loader.py#135\" target=\"_blank\"><span style=\"color: #7f7f7f; text-decoration-color: #7f7f7f\">135</span></a>\n",
       "</pre>\n"
      ],
      "text/plain": [
       "\u001b[2;36m          \u001b[0m\u001b[2;36m \u001b[0m\u001b[34mINFO    \u001b[0m Loading dataset : CMS_t_tch_13TeV_2019_diff_Yt                                    \u001b]8;id=313042;file:///Users/jaco/opt/anaconda3/envs/smefit_tutorial/lib/python3.11/site-packages/smefit/loader.py\u001b\\\u001b[2mloader.py\u001b[0m\u001b]8;;\u001b\\\u001b[2m:\u001b[0m\u001b]8;id=103075;file:///Users/jaco/opt/anaconda3/envs/smefit_tutorial/lib/python3.11/site-packages/smefit/loader.py#135\u001b\\\u001b[2m135\u001b[0m\u001b]8;;\u001b\\\n"
      ]
     },
     "metadata": {},
     "output_type": "display_data"
    },
    {
     "data": {
      "text/html": [
       "<pre style=\"white-space:pre;overflow-x:auto;line-height:normal;font-family:Menlo,'DejaVu Sans Mono',consolas,'Courier New',monospace\"><span style=\"color: #7fbfbf; text-decoration-color: #7fbfbf\">           </span><span style=\"color: #000080; text-decoration-color: #000080\">INFO    </span> Loading dataset : CMS_t_tch_13TeV_inc                                             <a href=\"file:///Users/jaco/opt/anaconda3/envs/smefit_tutorial/lib/python3.11/site-packages/smefit/loader.py\" target=\"_blank\"><span style=\"color: #7f7f7f; text-decoration-color: #7f7f7f\">loader.py</span></a><span style=\"color: #7f7f7f; text-decoration-color: #7f7f7f\">:</span><a href=\"file:///Users/jaco/opt/anaconda3/envs/smefit_tutorial/lib/python3.11/site-packages/smefit/loader.py#135\" target=\"_blank\"><span style=\"color: #7f7f7f; text-decoration-color: #7f7f7f\">135</span></a>\n",
       "</pre>\n"
      ],
      "text/plain": [
       "\u001b[2;36m          \u001b[0m\u001b[2;36m \u001b[0m\u001b[34mINFO    \u001b[0m Loading dataset : CMS_t_tch_13TeV_inc                                             \u001b]8;id=952283;file:///Users/jaco/opt/anaconda3/envs/smefit_tutorial/lib/python3.11/site-packages/smefit/loader.py\u001b\\\u001b[2mloader.py\u001b[0m\u001b]8;;\u001b\\\u001b[2m:\u001b[0m\u001b]8;id=807081;file:///Users/jaco/opt/anaconda3/envs/smefit_tutorial/lib/python3.11/site-packages/smefit/loader.py#135\u001b\\\u001b[2m135\u001b[0m\u001b]8;;\u001b\\\n"
      ]
     },
     "metadata": {},
     "output_type": "display_data"
    },
    {
     "data": {
      "text/html": [
       "<pre style=\"white-space:pre;overflow-x:auto;line-height:normal;font-family:Menlo,'DejaVu Sans Mono',consolas,'Courier New',monospace\"><span style=\"color: #7fbfbf; text-decoration-color: #7fbfbf\">           </span><span style=\"color: #000080; text-decoration-color: #000080\">INFO    </span> Loading dataset : CMS_t_tch_8TeV_diff_Yt                                          <a href=\"file:///Users/jaco/opt/anaconda3/envs/smefit_tutorial/lib/python3.11/site-packages/smefit/loader.py\" target=\"_blank\"><span style=\"color: #7f7f7f; text-decoration-color: #7f7f7f\">loader.py</span></a><span style=\"color: #7f7f7f; text-decoration-color: #7f7f7f\">:</span><a href=\"file:///Users/jaco/opt/anaconda3/envs/smefit_tutorial/lib/python3.11/site-packages/smefit/loader.py#135\" target=\"_blank\"><span style=\"color: #7f7f7f; text-decoration-color: #7f7f7f\">135</span></a>\n",
       "</pre>\n"
      ],
      "text/plain": [
       "\u001b[2;36m          \u001b[0m\u001b[2;36m \u001b[0m\u001b[34mINFO    \u001b[0m Loading dataset : CMS_t_tch_8TeV_diff_Yt                                          \u001b]8;id=326678;file:///Users/jaco/opt/anaconda3/envs/smefit_tutorial/lib/python3.11/site-packages/smefit/loader.py\u001b\\\u001b[2mloader.py\u001b[0m\u001b]8;;\u001b\\\u001b[2m:\u001b[0m\u001b]8;id=977482;file:///Users/jaco/opt/anaconda3/envs/smefit_tutorial/lib/python3.11/site-packages/smefit/loader.py#135\u001b\\\u001b[2m135\u001b[0m\u001b]8;;\u001b\\\n"
      ]
     },
     "metadata": {},
     "output_type": "display_data"
    },
    {
     "data": {
      "text/html": [
       "<pre style=\"white-space:pre;overflow-x:auto;line-height:normal;font-family:Menlo,'DejaVu Sans Mono',consolas,'Courier New',monospace\"><span style=\"color: #7fbfbf; text-decoration-color: #7fbfbf\">           </span><span style=\"color: #000080; text-decoration-color: #000080\">INFO    </span> Loading dataset : CMS_t_tch_8TeV_inc                                              <a href=\"file:///Users/jaco/opt/anaconda3/envs/smefit_tutorial/lib/python3.11/site-packages/smefit/loader.py\" target=\"_blank\"><span style=\"color: #7f7f7f; text-decoration-color: #7f7f7f\">loader.py</span></a><span style=\"color: #7f7f7f; text-decoration-color: #7f7f7f\">:</span><a href=\"file:///Users/jaco/opt/anaconda3/envs/smefit_tutorial/lib/python3.11/site-packages/smefit/loader.py#135\" target=\"_blank\"><span style=\"color: #7f7f7f; text-decoration-color: #7f7f7f\">135</span></a>\n",
       "</pre>\n"
      ],
      "text/plain": [
       "\u001b[2;36m          \u001b[0m\u001b[2;36m \u001b[0m\u001b[34mINFO    \u001b[0m Loading dataset : CMS_t_tch_8TeV_inc                                              \u001b]8;id=926448;file:///Users/jaco/opt/anaconda3/envs/smefit_tutorial/lib/python3.11/site-packages/smefit/loader.py\u001b\\\u001b[2mloader.py\u001b[0m\u001b]8;;\u001b\\\u001b[2m:\u001b[0m\u001b]8;id=557352;file:///Users/jaco/opt/anaconda3/envs/smefit_tutorial/lib/python3.11/site-packages/smefit/loader.py#135\u001b\\\u001b[2m135\u001b[0m\u001b]8;;\u001b\\\n"
      ]
     },
     "metadata": {},
     "output_type": "display_data"
    },
    {
     "data": {
      "text/html": [
       "<pre style=\"white-space:pre;overflow-x:auto;line-height:normal;font-family:Menlo,'DejaVu Sans Mono',consolas,'Courier New',monospace\"><span style=\"color: #7fbfbf; text-decoration-color: #7fbfbf\">           </span><span style=\"color: #000080; text-decoration-color: #000080\">INFO    </span> Loading dataset : CMS_tt2D_8TeV_dilep_MttYtt                                      <a href=\"file:///Users/jaco/opt/anaconda3/envs/smefit_tutorial/lib/python3.11/site-packages/smefit/loader.py\" target=\"_blank\"><span style=\"color: #7f7f7f; text-decoration-color: #7f7f7f\">loader.py</span></a><span style=\"color: #7f7f7f; text-decoration-color: #7f7f7f\">:</span><a href=\"file:///Users/jaco/opt/anaconda3/envs/smefit_tutorial/lib/python3.11/site-packages/smefit/loader.py#135\" target=\"_blank\"><span style=\"color: #7f7f7f; text-decoration-color: #7f7f7f\">135</span></a>\n",
       "</pre>\n"
      ],
      "text/plain": [
       "\u001b[2;36m          \u001b[0m\u001b[2;36m \u001b[0m\u001b[34mINFO    \u001b[0m Loading dataset : CMS_tt2D_8TeV_dilep_MttYtt                                      \u001b]8;id=742025;file:///Users/jaco/opt/anaconda3/envs/smefit_tutorial/lib/python3.11/site-packages/smefit/loader.py\u001b\\\u001b[2mloader.py\u001b[0m\u001b]8;;\u001b\\\u001b[2m:\u001b[0m\u001b]8;id=885647;file:///Users/jaco/opt/anaconda3/envs/smefit_tutorial/lib/python3.11/site-packages/smefit/loader.py#135\u001b\\\u001b[2m135\u001b[0m\u001b]8;;\u001b\\\n"
      ]
     },
     "metadata": {},
     "output_type": "display_data"
    },
    {
     "data": {
      "text/html": [
       "<pre style=\"white-space:pre;overflow-x:auto;line-height:normal;font-family:Menlo,'DejaVu Sans Mono',consolas,'Courier New',monospace\"><span style=\"color: #7fbfbf; text-decoration-color: #7fbfbf\">           </span><span style=\"color: #000080; text-decoration-color: #000080\">INFO    </span> Loading dataset : CMS_ttW_13TeV                                                   <a href=\"file:///Users/jaco/opt/anaconda3/envs/smefit_tutorial/lib/python3.11/site-packages/smefit/loader.py\" target=\"_blank\"><span style=\"color: #7f7f7f; text-decoration-color: #7f7f7f\">loader.py</span></a><span style=\"color: #7f7f7f; text-decoration-color: #7f7f7f\">:</span><a href=\"file:///Users/jaco/opt/anaconda3/envs/smefit_tutorial/lib/python3.11/site-packages/smefit/loader.py#135\" target=\"_blank\"><span style=\"color: #7f7f7f; text-decoration-color: #7f7f7f\">135</span></a>\n",
       "</pre>\n"
      ],
      "text/plain": [
       "\u001b[2;36m          \u001b[0m\u001b[2;36m \u001b[0m\u001b[34mINFO    \u001b[0m Loading dataset : CMS_ttW_13TeV                                                   \u001b]8;id=941424;file:///Users/jaco/opt/anaconda3/envs/smefit_tutorial/lib/python3.11/site-packages/smefit/loader.py\u001b\\\u001b[2mloader.py\u001b[0m\u001b]8;;\u001b\\\u001b[2m:\u001b[0m\u001b]8;id=663501;file:///Users/jaco/opt/anaconda3/envs/smefit_tutorial/lib/python3.11/site-packages/smefit/loader.py#135\u001b\\\u001b[2m135\u001b[0m\u001b]8;;\u001b\\\n"
      ]
     },
     "metadata": {},
     "output_type": "display_data"
    },
    {
     "data": {
      "text/html": [
       "<pre style=\"white-space:pre;overflow-x:auto;line-height:normal;font-family:Menlo,'DejaVu Sans Mono',consolas,'Courier New',monospace\"><span style=\"color: #7fbfbf; text-decoration-color: #7fbfbf\">           </span><span style=\"color: #000080; text-decoration-color: #000080\">INFO    </span> Loading dataset : CMS_ttW_8TeV                                                    <a href=\"file:///Users/jaco/opt/anaconda3/envs/smefit_tutorial/lib/python3.11/site-packages/smefit/loader.py\" target=\"_blank\"><span style=\"color: #7f7f7f; text-decoration-color: #7f7f7f\">loader.py</span></a><span style=\"color: #7f7f7f; text-decoration-color: #7f7f7f\">:</span><a href=\"file:///Users/jaco/opt/anaconda3/envs/smefit_tutorial/lib/python3.11/site-packages/smefit/loader.py#135\" target=\"_blank\"><span style=\"color: #7f7f7f; text-decoration-color: #7f7f7f\">135</span></a>\n",
       "</pre>\n"
      ],
      "text/plain": [
       "\u001b[2;36m          \u001b[0m\u001b[2;36m \u001b[0m\u001b[34mINFO    \u001b[0m Loading dataset : CMS_ttW_8TeV                                                    \u001b]8;id=808051;file:///Users/jaco/opt/anaconda3/envs/smefit_tutorial/lib/python3.11/site-packages/smefit/loader.py\u001b\\\u001b[2mloader.py\u001b[0m\u001b]8;;\u001b\\\u001b[2m:\u001b[0m\u001b]8;id=479977;file:///Users/jaco/opt/anaconda3/envs/smefit_tutorial/lib/python3.11/site-packages/smefit/loader.py#135\u001b\\\u001b[2m135\u001b[0m\u001b]8;;\u001b\\\n"
      ]
     },
     "metadata": {},
     "output_type": "display_data"
    },
    {
     "data": {
      "text/html": [
       "<pre style=\"white-space:pre;overflow-x:auto;line-height:normal;font-family:Menlo,'DejaVu Sans Mono',consolas,'Courier New',monospace\"><span style=\"color: #7fbfbf; text-decoration-color: #7fbfbf\">           </span><span style=\"color: #000080; text-decoration-color: #000080\">INFO    </span> Loading dataset : CMS_ttZ_13TeV                                                   <a href=\"file:///Users/jaco/opt/anaconda3/envs/smefit_tutorial/lib/python3.11/site-packages/smefit/loader.py\" target=\"_blank\"><span style=\"color: #7f7f7f; text-decoration-color: #7f7f7f\">loader.py</span></a><span style=\"color: #7f7f7f; text-decoration-color: #7f7f7f\">:</span><a href=\"file:///Users/jaco/opt/anaconda3/envs/smefit_tutorial/lib/python3.11/site-packages/smefit/loader.py#135\" target=\"_blank\"><span style=\"color: #7f7f7f; text-decoration-color: #7f7f7f\">135</span></a>\n",
       "</pre>\n"
      ],
      "text/plain": [
       "\u001b[2;36m          \u001b[0m\u001b[2;36m \u001b[0m\u001b[34mINFO    \u001b[0m Loading dataset : CMS_ttZ_13TeV                                                   \u001b]8;id=836989;file:///Users/jaco/opt/anaconda3/envs/smefit_tutorial/lib/python3.11/site-packages/smefit/loader.py\u001b\\\u001b[2mloader.py\u001b[0m\u001b]8;;\u001b\\\u001b[2m:\u001b[0m\u001b]8;id=697381;file:///Users/jaco/opt/anaconda3/envs/smefit_tutorial/lib/python3.11/site-packages/smefit/loader.py#135\u001b\\\u001b[2m135\u001b[0m\u001b]8;;\u001b\\\n"
      ]
     },
     "metadata": {},
     "output_type": "display_data"
    },
    {
     "data": {
      "text/html": [
       "<pre style=\"white-space:pre;overflow-x:auto;line-height:normal;font-family:Menlo,'DejaVu Sans Mono',consolas,'Courier New',monospace\"><span style=\"color: #7fbfbf; text-decoration-color: #7fbfbf\">           </span><span style=\"color: #000080; text-decoration-color: #000080\">INFO    </span> Loading dataset : CMS_ttZ_13TeV_pTZ                                               <a href=\"file:///Users/jaco/opt/anaconda3/envs/smefit_tutorial/lib/python3.11/site-packages/smefit/loader.py\" target=\"_blank\"><span style=\"color: #7f7f7f; text-decoration-color: #7f7f7f\">loader.py</span></a><span style=\"color: #7f7f7f; text-decoration-color: #7f7f7f\">:</span><a href=\"file:///Users/jaco/opt/anaconda3/envs/smefit_tutorial/lib/python3.11/site-packages/smefit/loader.py#135\" target=\"_blank\"><span style=\"color: #7f7f7f; text-decoration-color: #7f7f7f\">135</span></a>\n",
       "</pre>\n"
      ],
      "text/plain": [
       "\u001b[2;36m          \u001b[0m\u001b[2;36m \u001b[0m\u001b[34mINFO    \u001b[0m Loading dataset : CMS_ttZ_13TeV_pTZ                                               \u001b]8;id=217381;file:///Users/jaco/opt/anaconda3/envs/smefit_tutorial/lib/python3.11/site-packages/smefit/loader.py\u001b\\\u001b[2mloader.py\u001b[0m\u001b]8;;\u001b\\\u001b[2m:\u001b[0m\u001b]8;id=759379;file:///Users/jaco/opt/anaconda3/envs/smefit_tutorial/lib/python3.11/site-packages/smefit/loader.py#135\u001b\\\u001b[2m135\u001b[0m\u001b]8;;\u001b\\\n"
      ]
     },
     "metadata": {},
     "output_type": "display_data"
    },
    {
     "data": {
      "text/html": [
       "<pre style=\"white-space:pre;overflow-x:auto;line-height:normal;font-family:Menlo,'DejaVu Sans Mono',consolas,'Courier New',monospace\"><span style=\"color: #7fbfbf; text-decoration-color: #7fbfbf\">           </span><span style=\"color: #000080; text-decoration-color: #000080\">INFO    </span> Loading dataset : CMS_ttZ_8TeV                                                    <a href=\"file:///Users/jaco/opt/anaconda3/envs/smefit_tutorial/lib/python3.11/site-packages/smefit/loader.py\" target=\"_blank\"><span style=\"color: #7f7f7f; text-decoration-color: #7f7f7f\">loader.py</span></a><span style=\"color: #7f7f7f; text-decoration-color: #7f7f7f\">:</span><a href=\"file:///Users/jaco/opt/anaconda3/envs/smefit_tutorial/lib/python3.11/site-packages/smefit/loader.py#135\" target=\"_blank\"><span style=\"color: #7f7f7f; text-decoration-color: #7f7f7f\">135</span></a>\n",
       "</pre>\n"
      ],
      "text/plain": [
       "\u001b[2;36m          \u001b[0m\u001b[2;36m \u001b[0m\u001b[34mINFO    \u001b[0m Loading dataset : CMS_ttZ_8TeV                                                    \u001b]8;id=878481;file:///Users/jaco/opt/anaconda3/envs/smefit_tutorial/lib/python3.11/site-packages/smefit/loader.py\u001b\\\u001b[2mloader.py\u001b[0m\u001b]8;;\u001b\\\u001b[2m:\u001b[0m\u001b]8;id=62270;file:///Users/jaco/opt/anaconda3/envs/smefit_tutorial/lib/python3.11/site-packages/smefit/loader.py#135\u001b\\\u001b[2m135\u001b[0m\u001b]8;;\u001b\\\n"
      ]
     },
     "metadata": {},
     "output_type": "display_data"
    },
    {
     "data": {
      "text/html": [
       "<pre style=\"white-space:pre;overflow-x:auto;line-height:normal;font-family:Menlo,'DejaVu Sans Mono',consolas,'Courier New',monospace\"><span style=\"color: #7fbfbf; text-decoration-color: #7fbfbf\">           </span><span style=\"color: #000080; text-decoration-color: #000080\">INFO    </span> Loading dataset : CMS_tt_13TeV_Mtt                                                <a href=\"file:///Users/jaco/opt/anaconda3/envs/smefit_tutorial/lib/python3.11/site-packages/smefit/loader.py\" target=\"_blank\"><span style=\"color: #7f7f7f; text-decoration-color: #7f7f7f\">loader.py</span></a><span style=\"color: #7f7f7f; text-decoration-color: #7f7f7f\">:</span><a href=\"file:///Users/jaco/opt/anaconda3/envs/smefit_tutorial/lib/python3.11/site-packages/smefit/loader.py#135\" target=\"_blank\"><span style=\"color: #7f7f7f; text-decoration-color: #7f7f7f\">135</span></a>\n",
       "</pre>\n"
      ],
      "text/plain": [
       "\u001b[2;36m          \u001b[0m\u001b[2;36m \u001b[0m\u001b[34mINFO    \u001b[0m Loading dataset : CMS_tt_13TeV_Mtt                                                \u001b]8;id=241186;file:///Users/jaco/opt/anaconda3/envs/smefit_tutorial/lib/python3.11/site-packages/smefit/loader.py\u001b\\\u001b[2mloader.py\u001b[0m\u001b]8;;\u001b\\\u001b[2m:\u001b[0m\u001b]8;id=33849;file:///Users/jaco/opt/anaconda3/envs/smefit_tutorial/lib/python3.11/site-packages/smefit/loader.py#135\u001b\\\u001b[2m135\u001b[0m\u001b]8;;\u001b\\\n"
      ]
     },
     "metadata": {},
     "output_type": "display_data"
    },
    {
     "data": {
      "text/html": [
       "<pre style=\"white-space:pre;overflow-x:auto;line-height:normal;font-family:Menlo,'DejaVu Sans Mono',consolas,'Courier New',monospace\"><span style=\"color: #7fbfbf; text-decoration-color: #7fbfbf\">           </span><span style=\"color: #000080; text-decoration-color: #000080\">INFO    </span> Loading dataset : CMS_tt_13TeV_asy                                                <a href=\"file:///Users/jaco/opt/anaconda3/envs/smefit_tutorial/lib/python3.11/site-packages/smefit/loader.py\" target=\"_blank\"><span style=\"color: #7f7f7f; text-decoration-color: #7f7f7f\">loader.py</span></a><span style=\"color: #7f7f7f; text-decoration-color: #7f7f7f\">:</span><a href=\"file:///Users/jaco/opt/anaconda3/envs/smefit_tutorial/lib/python3.11/site-packages/smefit/loader.py#135\" target=\"_blank\"><span style=\"color: #7f7f7f; text-decoration-color: #7f7f7f\">135</span></a>\n",
       "</pre>\n"
      ],
      "text/plain": [
       "\u001b[2;36m          \u001b[0m\u001b[2;36m \u001b[0m\u001b[34mINFO    \u001b[0m Loading dataset : CMS_tt_13TeV_asy                                                \u001b]8;id=420401;file:///Users/jaco/opt/anaconda3/envs/smefit_tutorial/lib/python3.11/site-packages/smefit/loader.py\u001b\\\u001b[2mloader.py\u001b[0m\u001b]8;;\u001b\\\u001b[2m:\u001b[0m\u001b]8;id=485309;file:///Users/jaco/opt/anaconda3/envs/smefit_tutorial/lib/python3.11/site-packages/smefit/loader.py#135\u001b\\\u001b[2m135\u001b[0m\u001b]8;;\u001b\\\n"
      ]
     },
     "metadata": {},
     "output_type": "display_data"
    },
    {
     "data": {
      "text/html": [
       "<pre style=\"white-space:pre;overflow-x:auto;line-height:normal;font-family:Menlo,'DejaVu Sans Mono',consolas,'Courier New',monospace\"><span style=\"color: #7fbfbf; text-decoration-color: #7fbfbf\">           </span><span style=\"color: #000080; text-decoration-color: #000080\">INFO    </span> Loading dataset : CMS_tt_13TeV_dilep_2015_Mtt                                     <a href=\"file:///Users/jaco/opt/anaconda3/envs/smefit_tutorial/lib/python3.11/site-packages/smefit/loader.py\" target=\"_blank\"><span style=\"color: #7f7f7f; text-decoration-color: #7f7f7f\">loader.py</span></a><span style=\"color: #7f7f7f; text-decoration-color: #7f7f7f\">:</span><a href=\"file:///Users/jaco/opt/anaconda3/envs/smefit_tutorial/lib/python3.11/site-packages/smefit/loader.py#135\" target=\"_blank\"><span style=\"color: #7f7f7f; text-decoration-color: #7f7f7f\">135</span></a>\n",
       "</pre>\n"
      ],
      "text/plain": [
       "\u001b[2;36m          \u001b[0m\u001b[2;36m \u001b[0m\u001b[34mINFO    \u001b[0m Loading dataset : CMS_tt_13TeV_dilep_2015_Mtt                                     \u001b]8;id=582173;file:///Users/jaco/opt/anaconda3/envs/smefit_tutorial/lib/python3.11/site-packages/smefit/loader.py\u001b\\\u001b[2mloader.py\u001b[0m\u001b]8;;\u001b\\\u001b[2m:\u001b[0m\u001b]8;id=212476;file:///Users/jaco/opt/anaconda3/envs/smefit_tutorial/lib/python3.11/site-packages/smefit/loader.py#135\u001b\\\u001b[2m135\u001b[0m\u001b]8;;\u001b\\\n"
      ]
     },
     "metadata": {},
     "output_type": "display_data"
    },
    {
     "data": {
      "text/html": [
       "<pre style=\"white-space:pre;overflow-x:auto;line-height:normal;font-family:Menlo,'DejaVu Sans Mono',consolas,'Courier New',monospace\"><span style=\"color: #7fbfbf; text-decoration-color: #7fbfbf\">           </span><span style=\"color: #000080; text-decoration-color: #000080\">INFO    </span> Loading dataset : CMS_tt_13TeV_dilep_2016_Mtt                                     <a href=\"file:///Users/jaco/opt/anaconda3/envs/smefit_tutorial/lib/python3.11/site-packages/smefit/loader.py\" target=\"_blank\"><span style=\"color: #7f7f7f; text-decoration-color: #7f7f7f\">loader.py</span></a><span style=\"color: #7f7f7f; text-decoration-color: #7f7f7f\">:</span><a href=\"file:///Users/jaco/opt/anaconda3/envs/smefit_tutorial/lib/python3.11/site-packages/smefit/loader.py#135\" target=\"_blank\"><span style=\"color: #7f7f7f; text-decoration-color: #7f7f7f\">135</span></a>\n",
       "</pre>\n"
      ],
      "text/plain": [
       "\u001b[2;36m          \u001b[0m\u001b[2;36m \u001b[0m\u001b[34mINFO    \u001b[0m Loading dataset : CMS_tt_13TeV_dilep_2016_Mtt                                     \u001b]8;id=101143;file:///Users/jaco/opt/anaconda3/envs/smefit_tutorial/lib/python3.11/site-packages/smefit/loader.py\u001b\\\u001b[2mloader.py\u001b[0m\u001b]8;;\u001b\\\u001b[2m:\u001b[0m\u001b]8;id=447950;file:///Users/jaco/opt/anaconda3/envs/smefit_tutorial/lib/python3.11/site-packages/smefit/loader.py#135\u001b\\\u001b[2m135\u001b[0m\u001b]8;;\u001b\\\n"
      ]
     },
     "metadata": {},
     "output_type": "display_data"
    },
    {
     "data": {
      "text/html": [
       "<pre style=\"white-space:pre;overflow-x:auto;line-height:normal;font-family:Menlo,'DejaVu Sans Mono',consolas,'Courier New',monospace\"><span style=\"color: #7fbfbf; text-decoration-color: #7fbfbf\">           </span><span style=\"color: #000080; text-decoration-color: #000080\">INFO    </span> Loading dataset : CMS_tt_13TeV_ljets_2015_Mtt                                     <a href=\"file:///Users/jaco/opt/anaconda3/envs/smefit_tutorial/lib/python3.11/site-packages/smefit/loader.py\" target=\"_blank\"><span style=\"color: #7f7f7f; text-decoration-color: #7f7f7f\">loader.py</span></a><span style=\"color: #7f7f7f; text-decoration-color: #7f7f7f\">:</span><a href=\"file:///Users/jaco/opt/anaconda3/envs/smefit_tutorial/lib/python3.11/site-packages/smefit/loader.py#135\" target=\"_blank\"><span style=\"color: #7f7f7f; text-decoration-color: #7f7f7f\">135</span></a>\n",
       "</pre>\n"
      ],
      "text/plain": [
       "\u001b[2;36m          \u001b[0m\u001b[2;36m \u001b[0m\u001b[34mINFO    \u001b[0m Loading dataset : CMS_tt_13TeV_ljets_2015_Mtt                                     \u001b]8;id=465000;file:///Users/jaco/opt/anaconda3/envs/smefit_tutorial/lib/python3.11/site-packages/smefit/loader.py\u001b\\\u001b[2mloader.py\u001b[0m\u001b]8;;\u001b\\\u001b[2m:\u001b[0m\u001b]8;id=119950;file:///Users/jaco/opt/anaconda3/envs/smefit_tutorial/lib/python3.11/site-packages/smefit/loader.py#135\u001b\\\u001b[2m135\u001b[0m\u001b]8;;\u001b\\\n"
      ]
     },
     "metadata": {},
     "output_type": "display_data"
    },
    {
     "data": {
      "text/html": [
       "<pre style=\"white-space:pre;overflow-x:auto;line-height:normal;font-family:Menlo,'DejaVu Sans Mono',consolas,'Courier New',monospace\"><span style=\"color: #7fbfbf; text-decoration-color: #7fbfbf\">           </span><span style=\"color: #000080; text-decoration-color: #000080\">INFO    </span> Loading dataset : CMS_tt_13TeV_ljets_2016_Mtt                                     <a href=\"file:///Users/jaco/opt/anaconda3/envs/smefit_tutorial/lib/python3.11/site-packages/smefit/loader.py\" target=\"_blank\"><span style=\"color: #7f7f7f; text-decoration-color: #7f7f7f\">loader.py</span></a><span style=\"color: #7f7f7f; text-decoration-color: #7f7f7f\">:</span><a href=\"file:///Users/jaco/opt/anaconda3/envs/smefit_tutorial/lib/python3.11/site-packages/smefit/loader.py#135\" target=\"_blank\"><span style=\"color: #7f7f7f; text-decoration-color: #7f7f7f\">135</span></a>\n",
       "</pre>\n"
      ],
      "text/plain": [
       "\u001b[2;36m          \u001b[0m\u001b[2;36m \u001b[0m\u001b[34mINFO    \u001b[0m Loading dataset : CMS_tt_13TeV_ljets_2016_Mtt                                     \u001b]8;id=28007;file:///Users/jaco/opt/anaconda3/envs/smefit_tutorial/lib/python3.11/site-packages/smefit/loader.py\u001b\\\u001b[2mloader.py\u001b[0m\u001b]8;;\u001b\\\u001b[2m:\u001b[0m\u001b]8;id=239925;file:///Users/jaco/opt/anaconda3/envs/smefit_tutorial/lib/python3.11/site-packages/smefit/loader.py#135\u001b\\\u001b[2m135\u001b[0m\u001b]8;;\u001b\\\n"
      ]
     },
     "metadata": {},
     "output_type": "display_data"
    },
    {
     "data": {
      "text/html": [
       "<pre style=\"white-space:pre;overflow-x:auto;line-height:normal;font-family:Menlo,'DejaVu Sans Mono',consolas,'Courier New',monospace\"><span style=\"color: #7fbfbf; text-decoration-color: #7fbfbf\">           </span><span style=\"color: #000080; text-decoration-color: #000080\">INFO    </span> Loading dataset : CMS_tt_13TeV_ljets_inc                                          <a href=\"file:///Users/jaco/opt/anaconda3/envs/smefit_tutorial/lib/python3.11/site-packages/smefit/loader.py\" target=\"_blank\"><span style=\"color: #7f7f7f; text-decoration-color: #7f7f7f\">loader.py</span></a><span style=\"color: #7f7f7f; text-decoration-color: #7f7f7f\">:</span><a href=\"file:///Users/jaco/opt/anaconda3/envs/smefit_tutorial/lib/python3.11/site-packages/smefit/loader.py#135\" target=\"_blank\"><span style=\"color: #7f7f7f; text-decoration-color: #7f7f7f\">135</span></a>\n",
       "</pre>\n"
      ],
      "text/plain": [
       "\u001b[2;36m          \u001b[0m\u001b[2;36m \u001b[0m\u001b[34mINFO    \u001b[0m Loading dataset : CMS_tt_13TeV_ljets_inc                                          \u001b]8;id=448827;file:///Users/jaco/opt/anaconda3/envs/smefit_tutorial/lib/python3.11/site-packages/smefit/loader.py\u001b\\\u001b[2mloader.py\u001b[0m\u001b]8;;\u001b\\\u001b[2m:\u001b[0m\u001b]8;id=592310;file:///Users/jaco/opt/anaconda3/envs/smefit_tutorial/lib/python3.11/site-packages/smefit/loader.py#135\u001b\\\u001b[2m135\u001b[0m\u001b]8;;\u001b\\\n"
      ]
     },
     "metadata": {},
     "output_type": "display_data"
    },
    {
     "data": {
      "text/html": [
       "<pre style=\"white-space:pre;overflow-x:auto;line-height:normal;font-family:Menlo,'DejaVu Sans Mono',consolas,'Courier New',monospace\"><span style=\"color: #7fbfbf; text-decoration-color: #7fbfbf\">           </span><span style=\"color: #000080; text-decoration-color: #000080\">INFO    </span> Loading dataset : CMS_tt_8TeV_ljets_Ytt                                           <a href=\"file:///Users/jaco/opt/anaconda3/envs/smefit_tutorial/lib/python3.11/site-packages/smefit/loader.py\" target=\"_blank\"><span style=\"color: #7f7f7f; text-decoration-color: #7f7f7f\">loader.py</span></a><span style=\"color: #7f7f7f; text-decoration-color: #7f7f7f\">:</span><a href=\"file:///Users/jaco/opt/anaconda3/envs/smefit_tutorial/lib/python3.11/site-packages/smefit/loader.py#135\" target=\"_blank\"><span style=\"color: #7f7f7f; text-decoration-color: #7f7f7f\">135</span></a>\n",
       "</pre>\n"
      ],
      "text/plain": [
       "\u001b[2;36m          \u001b[0m\u001b[2;36m \u001b[0m\u001b[34mINFO    \u001b[0m Loading dataset : CMS_tt_8TeV_ljets_Ytt                                           \u001b]8;id=993082;file:///Users/jaco/opt/anaconda3/envs/smefit_tutorial/lib/python3.11/site-packages/smefit/loader.py\u001b\\\u001b[2mloader.py\u001b[0m\u001b]8;;\u001b\\\u001b[2m:\u001b[0m\u001b]8;id=439814;file:///Users/jaco/opt/anaconda3/envs/smefit_tutorial/lib/python3.11/site-packages/smefit/loader.py#135\u001b\\\u001b[2m135\u001b[0m\u001b]8;;\u001b\\\n"
      ]
     },
     "metadata": {},
     "output_type": "display_data"
    },
    {
     "data": {
      "text/html": [
       "<pre style=\"white-space:pre;overflow-x:auto;line-height:normal;font-family:Menlo,'DejaVu Sans Mono',consolas,'Courier New',monospace\"><span style=\"color: #7fbfbf; text-decoration-color: #7fbfbf\">           </span><span style=\"color: #000080; text-decoration-color: #000080\">INFO    </span> Loading dataset : CMS_tta_8TeV                                                    <a href=\"file:///Users/jaco/opt/anaconda3/envs/smefit_tutorial/lib/python3.11/site-packages/smefit/loader.py\" target=\"_blank\"><span style=\"color: #7f7f7f; text-decoration-color: #7f7f7f\">loader.py</span></a><span style=\"color: #7f7f7f; text-decoration-color: #7f7f7f\">:</span><a href=\"file:///Users/jaco/opt/anaconda3/envs/smefit_tutorial/lib/python3.11/site-packages/smefit/loader.py#135\" target=\"_blank\"><span style=\"color: #7f7f7f; text-decoration-color: #7f7f7f\">135</span></a>\n",
       "</pre>\n"
      ],
      "text/plain": [
       "\u001b[2;36m          \u001b[0m\u001b[2;36m \u001b[0m\u001b[34mINFO    \u001b[0m Loading dataset : CMS_tta_8TeV                                                    \u001b]8;id=741206;file:///Users/jaco/opt/anaconda3/envs/smefit_tutorial/lib/python3.11/site-packages/smefit/loader.py\u001b\\\u001b[2mloader.py\u001b[0m\u001b]8;;\u001b\\\u001b[2m:\u001b[0m\u001b]8;id=304635;file:///Users/jaco/opt/anaconda3/envs/smefit_tutorial/lib/python3.11/site-packages/smefit/loader.py#135\u001b\\\u001b[2m135\u001b[0m\u001b]8;;\u001b\\\n"
      ]
     },
     "metadata": {},
     "output_type": "display_data"
    },
    {
     "data": {
      "text/html": [
       "<pre style=\"white-space:pre;overflow-x:auto;line-height:normal;font-family:Menlo,'DejaVu Sans Mono',consolas,'Courier New',monospace\"><span style=\"color: #7fbfbf; text-decoration-color: #7fbfbf\">           </span><span style=\"color: #000080; text-decoration-color: #000080\">INFO    </span> Loading dataset : CMS_ttbb_13TeV                                                  <a href=\"file:///Users/jaco/opt/anaconda3/envs/smefit_tutorial/lib/python3.11/site-packages/smefit/loader.py\" target=\"_blank\"><span style=\"color: #7f7f7f; text-decoration-color: #7f7f7f\">loader.py</span></a><span style=\"color: #7f7f7f; text-decoration-color: #7f7f7f\">:</span><a href=\"file:///Users/jaco/opt/anaconda3/envs/smefit_tutorial/lib/python3.11/site-packages/smefit/loader.py#135\" target=\"_blank\"><span style=\"color: #7f7f7f; text-decoration-color: #7f7f7f\">135</span></a>\n",
       "</pre>\n"
      ],
      "text/plain": [
       "\u001b[2;36m          \u001b[0m\u001b[2;36m \u001b[0m\u001b[34mINFO    \u001b[0m Loading dataset : CMS_ttbb_13TeV                                                  \u001b]8;id=932103;file:///Users/jaco/opt/anaconda3/envs/smefit_tutorial/lib/python3.11/site-packages/smefit/loader.py\u001b\\\u001b[2mloader.py\u001b[0m\u001b]8;;\u001b\\\u001b[2m:\u001b[0m\u001b]8;id=298577;file:///Users/jaco/opt/anaconda3/envs/smefit_tutorial/lib/python3.11/site-packages/smefit/loader.py#135\u001b\\\u001b[2m135\u001b[0m\u001b]8;;\u001b\\\n"
      ]
     },
     "metadata": {},
     "output_type": "display_data"
    },
    {
     "data": {
      "text/html": [
       "<pre style=\"white-space:pre;overflow-x:auto;line-height:normal;font-family:Menlo,'DejaVu Sans Mono',consolas,'Courier New',monospace\"><span style=\"color: #7fbfbf; text-decoration-color: #7fbfbf\">           </span><span style=\"color: #000080; text-decoration-color: #000080\">INFO    </span> Loading dataset : CMS_ttbb_13TeV_2016                                             <a href=\"file:///Users/jaco/opt/anaconda3/envs/smefit_tutorial/lib/python3.11/site-packages/smefit/loader.py\" target=\"_blank\"><span style=\"color: #7f7f7f; text-decoration-color: #7f7f7f\">loader.py</span></a><span style=\"color: #7f7f7f; text-decoration-color: #7f7f7f\">:</span><a href=\"file:///Users/jaco/opt/anaconda3/envs/smefit_tutorial/lib/python3.11/site-packages/smefit/loader.py#135\" target=\"_blank\"><span style=\"color: #7f7f7f; text-decoration-color: #7f7f7f\">135</span></a>\n",
       "</pre>\n"
      ],
      "text/plain": [
       "\u001b[2;36m          \u001b[0m\u001b[2;36m \u001b[0m\u001b[34mINFO    \u001b[0m Loading dataset : CMS_ttbb_13TeV_2016                                             \u001b]8;id=786995;file:///Users/jaco/opt/anaconda3/envs/smefit_tutorial/lib/python3.11/site-packages/smefit/loader.py\u001b\\\u001b[2mloader.py\u001b[0m\u001b]8;;\u001b\\\u001b[2m:\u001b[0m\u001b]8;id=766467;file:///Users/jaco/opt/anaconda3/envs/smefit_tutorial/lib/python3.11/site-packages/smefit/loader.py#135\u001b\\\u001b[2m135\u001b[0m\u001b]8;;\u001b\\\n"
      ]
     },
     "metadata": {},
     "output_type": "display_data"
    },
    {
     "data": {
      "text/html": [
       "<pre style=\"white-space:pre;overflow-x:auto;line-height:normal;font-family:Menlo,'DejaVu Sans Mono',consolas,'Courier New',monospace\"><span style=\"color: #7fbfbf; text-decoration-color: #7fbfbf\">           </span><span style=\"color: #000080; text-decoration-color: #000080\">INFO    </span> Loading dataset : CMS_ttbb_13TeV_dilepton_inc                                     <a href=\"file:///Users/jaco/opt/anaconda3/envs/smefit_tutorial/lib/python3.11/site-packages/smefit/loader.py\" target=\"_blank\"><span style=\"color: #7f7f7f; text-decoration-color: #7f7f7f\">loader.py</span></a><span style=\"color: #7f7f7f; text-decoration-color: #7f7f7f\">:</span><a href=\"file:///Users/jaco/opt/anaconda3/envs/smefit_tutorial/lib/python3.11/site-packages/smefit/loader.py#135\" target=\"_blank\"><span style=\"color: #7f7f7f; text-decoration-color: #7f7f7f\">135</span></a>\n",
       "</pre>\n"
      ],
      "text/plain": [
       "\u001b[2;36m          \u001b[0m\u001b[2;36m \u001b[0m\u001b[34mINFO    \u001b[0m Loading dataset : CMS_ttbb_13TeV_dilepton_inc                                     \u001b]8;id=275861;file:///Users/jaco/opt/anaconda3/envs/smefit_tutorial/lib/python3.11/site-packages/smefit/loader.py\u001b\\\u001b[2mloader.py\u001b[0m\u001b]8;;\u001b\\\u001b[2m:\u001b[0m\u001b]8;id=794909;file:///Users/jaco/opt/anaconda3/envs/smefit_tutorial/lib/python3.11/site-packages/smefit/loader.py#135\u001b\\\u001b[2m135\u001b[0m\u001b]8;;\u001b\\\n"
      ]
     },
     "metadata": {},
     "output_type": "display_data"
    },
    {
     "data": {
      "text/html": [
       "<pre style=\"white-space:pre;overflow-x:auto;line-height:normal;font-family:Menlo,'DejaVu Sans Mono',consolas,'Courier New',monospace\"><span style=\"color: #7fbfbf; text-decoration-color: #7fbfbf\">           </span><span style=\"color: #000080; text-decoration-color: #000080\">INFO    </span> Loading dataset : CMS_ttbb_13TeV_ljets_inc                                        <a href=\"file:///Users/jaco/opt/anaconda3/envs/smefit_tutorial/lib/python3.11/site-packages/smefit/loader.py\" target=\"_blank\"><span style=\"color: #7f7f7f; text-decoration-color: #7f7f7f\">loader.py</span></a><span style=\"color: #7f7f7f; text-decoration-color: #7f7f7f\">:</span><a href=\"file:///Users/jaco/opt/anaconda3/envs/smefit_tutorial/lib/python3.11/site-packages/smefit/loader.py#135\" target=\"_blank\"><span style=\"color: #7f7f7f; text-decoration-color: #7f7f7f\">135</span></a>\n",
       "</pre>\n"
      ],
      "text/plain": [
       "\u001b[2;36m          \u001b[0m\u001b[2;36m \u001b[0m\u001b[34mINFO    \u001b[0m Loading dataset : CMS_ttbb_13TeV_ljets_inc                                        \u001b]8;id=755487;file:///Users/jaco/opt/anaconda3/envs/smefit_tutorial/lib/python3.11/site-packages/smefit/loader.py\u001b\\\u001b[2mloader.py\u001b[0m\u001b]8;;\u001b\\\u001b[2m:\u001b[0m\u001b]8;id=601441;file:///Users/jaco/opt/anaconda3/envs/smefit_tutorial/lib/python3.11/site-packages/smefit/loader.py#135\u001b\\\u001b[2m135\u001b[0m\u001b]8;;\u001b\\\n"
      ]
     },
     "metadata": {},
     "output_type": "display_data"
    },
    {
     "data": {
      "text/html": [
       "<pre style=\"white-space:pre;overflow-x:auto;line-height:normal;font-family:Menlo,'DejaVu Sans Mono',consolas,'Courier New',monospace\"><span style=\"color: #7fbfbf; text-decoration-color: #7fbfbf\">           </span><span style=\"color: #000080; text-decoration-color: #000080\">INFO    </span> Loading dataset : CMS_tttt_13TeV                                                  <a href=\"file:///Users/jaco/opt/anaconda3/envs/smefit_tutorial/lib/python3.11/site-packages/smefit/loader.py\" target=\"_blank\"><span style=\"color: #7f7f7f; text-decoration-color: #7f7f7f\">loader.py</span></a><span style=\"color: #7f7f7f; text-decoration-color: #7f7f7f\">:</span><a href=\"file:///Users/jaco/opt/anaconda3/envs/smefit_tutorial/lib/python3.11/site-packages/smefit/loader.py#135\" target=\"_blank\"><span style=\"color: #7f7f7f; text-decoration-color: #7f7f7f\">135</span></a>\n",
       "</pre>\n"
      ],
      "text/plain": [
       "\u001b[2;36m          \u001b[0m\u001b[2;36m \u001b[0m\u001b[34mINFO    \u001b[0m Loading dataset : CMS_tttt_13TeV                                                  \u001b]8;id=70957;file:///Users/jaco/opt/anaconda3/envs/smefit_tutorial/lib/python3.11/site-packages/smefit/loader.py\u001b\\\u001b[2mloader.py\u001b[0m\u001b]8;;\u001b\\\u001b[2m:\u001b[0m\u001b]8;id=75634;file:///Users/jaco/opt/anaconda3/envs/smefit_tutorial/lib/python3.11/site-packages/smefit/loader.py#135\u001b\\\u001b[2m135\u001b[0m\u001b]8;;\u001b\\\n"
      ]
     },
     "metadata": {},
     "output_type": "display_data"
    },
    {
     "data": {
      "text/html": [
       "<pre style=\"white-space:pre;overflow-x:auto;line-height:normal;font-family:Menlo,'DejaVu Sans Mono',consolas,'Courier New',monospace\"><span style=\"color: #7fbfbf; text-decoration-color: #7fbfbf\">           </span><span style=\"color: #000080; text-decoration-color: #000080\">INFO    </span> Loading dataset : CMS_tttt_13TeV_2023                                             <a href=\"file:///Users/jaco/opt/anaconda3/envs/smefit_tutorial/lib/python3.11/site-packages/smefit/loader.py\" target=\"_blank\"><span style=\"color: #7f7f7f; text-decoration-color: #7f7f7f\">loader.py</span></a><span style=\"color: #7f7f7f; text-decoration-color: #7f7f7f\">:</span><a href=\"file:///Users/jaco/opt/anaconda3/envs/smefit_tutorial/lib/python3.11/site-packages/smefit/loader.py#135\" target=\"_blank\"><span style=\"color: #7f7f7f; text-decoration-color: #7f7f7f\">135</span></a>\n",
       "</pre>\n"
      ],
      "text/plain": [
       "\u001b[2;36m          \u001b[0m\u001b[2;36m \u001b[0m\u001b[34mINFO    \u001b[0m Loading dataset : CMS_tttt_13TeV_2023                                             \u001b]8;id=270385;file:///Users/jaco/opt/anaconda3/envs/smefit_tutorial/lib/python3.11/site-packages/smefit/loader.py\u001b\\\u001b[2mloader.py\u001b[0m\u001b]8;;\u001b\\\u001b[2m:\u001b[0m\u001b]8;id=546387;file:///Users/jaco/opt/anaconda3/envs/smefit_tutorial/lib/python3.11/site-packages/smefit/loader.py#135\u001b\\\u001b[2m135\u001b[0m\u001b]8;;\u001b\\\n"
      ]
     },
     "metadata": {},
     "output_type": "display_data"
    },
    {
     "data": {
      "text/html": [
       "<pre style=\"white-space:pre;overflow-x:auto;line-height:normal;font-family:Menlo,'DejaVu Sans Mono',consolas,'Courier New',monospace\"><span style=\"color: #7fbfbf; text-decoration-color: #7fbfbf\">           </span><span style=\"color: #000080; text-decoration-color: #000080\">INFO    </span> Loading dataset : CMS_tttt_13TeV_run2                                             <a href=\"file:///Users/jaco/opt/anaconda3/envs/smefit_tutorial/lib/python3.11/site-packages/smefit/loader.py\" target=\"_blank\"><span style=\"color: #7f7f7f; text-decoration-color: #7f7f7f\">loader.py</span></a><span style=\"color: #7f7f7f; text-decoration-color: #7f7f7f\">:</span><a href=\"file:///Users/jaco/opt/anaconda3/envs/smefit_tutorial/lib/python3.11/site-packages/smefit/loader.py#135\" target=\"_blank\"><span style=\"color: #7f7f7f; text-decoration-color: #7f7f7f\">135</span></a>\n",
       "</pre>\n"
      ],
      "text/plain": [
       "\u001b[2;36m          \u001b[0m\u001b[2;36m \u001b[0m\u001b[34mINFO    \u001b[0m Loading dataset : CMS_tttt_13TeV_run2                                             \u001b]8;id=324091;file:///Users/jaco/opt/anaconda3/envs/smefit_tutorial/lib/python3.11/site-packages/smefit/loader.py\u001b\\\u001b[2mloader.py\u001b[0m\u001b]8;;\u001b\\\u001b[2m:\u001b[0m\u001b]8;id=96614;file:///Users/jaco/opt/anaconda3/envs/smefit_tutorial/lib/python3.11/site-packages/smefit/loader.py#135\u001b\\\u001b[2m135\u001b[0m\u001b]8;;\u001b\\\n"
      ]
     },
     "metadata": {},
     "output_type": "display_data"
    },
    {
     "data": {
      "text/html": [
       "<pre style=\"white-space:pre;overflow-x:auto;line-height:normal;font-family:Menlo,'DejaVu Sans Mono',consolas,'Courier New',monospace\"><span style=\"color: #7fbfbf; text-decoration-color: #7fbfbf\">           </span><span style=\"color: #000080; text-decoration-color: #000080\">INFO    </span> Loading dataset : CMS_tttt_13TeV_slep_inc                                         <a href=\"file:///Users/jaco/opt/anaconda3/envs/smefit_tutorial/lib/python3.11/site-packages/smefit/loader.py\" target=\"_blank\"><span style=\"color: #7f7f7f; text-decoration-color: #7f7f7f\">loader.py</span></a><span style=\"color: #7f7f7f; text-decoration-color: #7f7f7f\">:</span><a href=\"file:///Users/jaco/opt/anaconda3/envs/smefit_tutorial/lib/python3.11/site-packages/smefit/loader.py#135\" target=\"_blank\"><span style=\"color: #7f7f7f; text-decoration-color: #7f7f7f\">135</span></a>\n",
       "</pre>\n"
      ],
      "text/plain": [
       "\u001b[2;36m          \u001b[0m\u001b[2;36m \u001b[0m\u001b[34mINFO    \u001b[0m Loading dataset : CMS_tttt_13TeV_slep_inc                                         \u001b]8;id=163557;file:///Users/jaco/opt/anaconda3/envs/smefit_tutorial/lib/python3.11/site-packages/smefit/loader.py\u001b\\\u001b[2mloader.py\u001b[0m\u001b]8;;\u001b\\\u001b[2m:\u001b[0m\u001b]8;id=968039;file:///Users/jaco/opt/anaconda3/envs/smefit_tutorial/lib/python3.11/site-packages/smefit/loader.py#135\u001b\\\u001b[2m135\u001b[0m\u001b]8;;\u001b\\\n"
      ]
     },
     "metadata": {},
     "output_type": "display_data"
    },
    {
     "data": {
      "text/html": [
       "<pre style=\"white-space:pre;overflow-x:auto;line-height:normal;font-family:Menlo,'DejaVu Sans Mono',consolas,'Courier New',monospace\"><span style=\"color: #7fbfbf; text-decoration-color: #7fbfbf\">           </span><span style=\"color: #000080; text-decoration-color: #000080\">INFO    </span> Loading dataset : LEP1_EWPOs_2006                                                 <a href=\"file:///Users/jaco/opt/anaconda3/envs/smefit_tutorial/lib/python3.11/site-packages/smefit/loader.py\" target=\"_blank\"><span style=\"color: #7f7f7f; text-decoration-color: #7f7f7f\">loader.py</span></a><span style=\"color: #7f7f7f; text-decoration-color: #7f7f7f\">:</span><a href=\"file:///Users/jaco/opt/anaconda3/envs/smefit_tutorial/lib/python3.11/site-packages/smefit/loader.py#135\" target=\"_blank\"><span style=\"color: #7f7f7f; text-decoration-color: #7f7f7f\">135</span></a>\n",
       "</pre>\n"
      ],
      "text/plain": [
       "\u001b[2;36m          \u001b[0m\u001b[2;36m \u001b[0m\u001b[34mINFO    \u001b[0m Loading dataset : LEP1_EWPOs_2006                                                 \u001b]8;id=433934;file:///Users/jaco/opt/anaconda3/envs/smefit_tutorial/lib/python3.11/site-packages/smefit/loader.py\u001b\\\u001b[2mloader.py\u001b[0m\u001b]8;;\u001b\\\u001b[2m:\u001b[0m\u001b]8;id=791886;file:///Users/jaco/opt/anaconda3/envs/smefit_tutorial/lib/python3.11/site-packages/smefit/loader.py#135\u001b\\\u001b[2m135\u001b[0m\u001b]8;;\u001b\\\n"
      ]
     },
     "metadata": {},
     "output_type": "display_data"
    },
    {
     "data": {
      "text/html": [
       "<pre style=\"white-space:pre;overflow-x:auto;line-height:normal;font-family:Menlo,'DejaVu Sans Mono',consolas,'Courier New',monospace\"><span style=\"color: #7fbfbf; text-decoration-color: #7fbfbf\">           </span><span style=\"color: #000080; text-decoration-color: #000080\">INFO    </span> Loading dataset : LEP_Bhabha_2013                                                 <a href=\"file:///Users/jaco/opt/anaconda3/envs/smefit_tutorial/lib/python3.11/site-packages/smefit/loader.py\" target=\"_blank\"><span style=\"color: #7f7f7f; text-decoration-color: #7f7f7f\">loader.py</span></a><span style=\"color: #7f7f7f; text-decoration-color: #7f7f7f\">:</span><a href=\"file:///Users/jaco/opt/anaconda3/envs/smefit_tutorial/lib/python3.11/site-packages/smefit/loader.py#135\" target=\"_blank\"><span style=\"color: #7f7f7f; text-decoration-color: #7f7f7f\">135</span></a>\n",
       "</pre>\n"
      ],
      "text/plain": [
       "\u001b[2;36m          \u001b[0m\u001b[2;36m \u001b[0m\u001b[34mINFO    \u001b[0m Loading dataset : LEP_Bhabha_2013                                                 \u001b]8;id=252528;file:///Users/jaco/opt/anaconda3/envs/smefit_tutorial/lib/python3.11/site-packages/smefit/loader.py\u001b\\\u001b[2mloader.py\u001b[0m\u001b]8;;\u001b\\\u001b[2m:\u001b[0m\u001b]8;id=973261;file:///Users/jaco/opt/anaconda3/envs/smefit_tutorial/lib/python3.11/site-packages/smefit/loader.py#135\u001b\\\u001b[2m135\u001b[0m\u001b]8;;\u001b\\\n"
      ]
     },
     "metadata": {},
     "output_type": "display_data"
    },
    {
     "data": {
      "text/html": [
       "<pre style=\"white-space:pre;overflow-x:auto;line-height:normal;font-family:Menlo,'DejaVu Sans Mono',consolas,'Courier New',monospace\"><span style=\"color: #7fbfbf; text-decoration-color: #7fbfbf\">           </span><span style=\"color: #000080; text-decoration-color: #000080\">INFO    </span> Loading dataset : LEP_Brw_2013                                                    <a href=\"file:///Users/jaco/opt/anaconda3/envs/smefit_tutorial/lib/python3.11/site-packages/smefit/loader.py\" target=\"_blank\"><span style=\"color: #7f7f7f; text-decoration-color: #7f7f7f\">loader.py</span></a><span style=\"color: #7f7f7f; text-decoration-color: #7f7f7f\">:</span><a href=\"file:///Users/jaco/opt/anaconda3/envs/smefit_tutorial/lib/python3.11/site-packages/smefit/loader.py#135\" target=\"_blank\"><span style=\"color: #7f7f7f; text-decoration-color: #7f7f7f\">135</span></a>\n",
       "</pre>\n"
      ],
      "text/plain": [
       "\u001b[2;36m          \u001b[0m\u001b[2;36m \u001b[0m\u001b[34mINFO    \u001b[0m Loading dataset : LEP_Brw_2013                                                    \u001b]8;id=111087;file:///Users/jaco/opt/anaconda3/envs/smefit_tutorial/lib/python3.11/site-packages/smefit/loader.py\u001b\\\u001b[2mloader.py\u001b[0m\u001b]8;;\u001b\\\u001b[2m:\u001b[0m\u001b]8;id=929111;file:///Users/jaco/opt/anaconda3/envs/smefit_tutorial/lib/python3.11/site-packages/smefit/loader.py#135\u001b\\\u001b[2m135\u001b[0m\u001b]8;;\u001b\\\n"
      ]
     },
     "metadata": {},
     "output_type": "display_data"
    },
    {
     "data": {
      "text/html": [
       "<pre style=\"white-space:pre;overflow-x:auto;line-height:normal;font-family:Menlo,'DejaVu Sans Mono',consolas,'Courier New',monospace\"><span style=\"color: #7fbfbf; text-decoration-color: #7fbfbf\">           </span><span style=\"color: #000080; text-decoration-color: #000080\">INFO    </span> Loading dataset : LEP_alphaEW                                                     <a href=\"file:///Users/jaco/opt/anaconda3/envs/smefit_tutorial/lib/python3.11/site-packages/smefit/loader.py\" target=\"_blank\"><span style=\"color: #7f7f7f; text-decoration-color: #7f7f7f\">loader.py</span></a><span style=\"color: #7f7f7f; text-decoration-color: #7f7f7f\">:</span><a href=\"file:///Users/jaco/opt/anaconda3/envs/smefit_tutorial/lib/python3.11/site-packages/smefit/loader.py#135\" target=\"_blank\"><span style=\"color: #7f7f7f; text-decoration-color: #7f7f7f\">135</span></a>\n",
       "</pre>\n"
      ],
      "text/plain": [
       "\u001b[2;36m          \u001b[0m\u001b[2;36m \u001b[0m\u001b[34mINFO    \u001b[0m Loading dataset : LEP_alphaEW                                                     \u001b]8;id=915425;file:///Users/jaco/opt/anaconda3/envs/smefit_tutorial/lib/python3.11/site-packages/smefit/loader.py\u001b\\\u001b[2mloader.py\u001b[0m\u001b]8;;\u001b\\\u001b[2m:\u001b[0m\u001b]8;id=577474;file:///Users/jaco/opt/anaconda3/envs/smefit_tutorial/lib/python3.11/site-packages/smefit/loader.py#135\u001b\\\u001b[2m135\u001b[0m\u001b]8;;\u001b\\\n"
      ]
     },
     "metadata": {},
     "output_type": "display_data"
    },
    {
     "data": {
      "text/html": [
       "<pre style=\"white-space:pre;overflow-x:auto;line-height:normal;font-family:Menlo,'DejaVu Sans Mono',consolas,'Courier New',monospace\"><span style=\"color: #7fbfbf; text-decoration-color: #7fbfbf\">           </span><span style=\"color: #000080; text-decoration-color: #000080\">INFO    </span> Loading dataset : LEP_eeWW_182GeV                                                 <a href=\"file:///Users/jaco/opt/anaconda3/envs/smefit_tutorial/lib/python3.11/site-packages/smefit/loader.py\" target=\"_blank\"><span style=\"color: #7f7f7f; text-decoration-color: #7f7f7f\">loader.py</span></a><span style=\"color: #7f7f7f; text-decoration-color: #7f7f7f\">:</span><a href=\"file:///Users/jaco/opt/anaconda3/envs/smefit_tutorial/lib/python3.11/site-packages/smefit/loader.py#135\" target=\"_blank\"><span style=\"color: #7f7f7f; text-decoration-color: #7f7f7f\">135</span></a>\n",
       "</pre>\n"
      ],
      "text/plain": [
       "\u001b[2;36m          \u001b[0m\u001b[2;36m \u001b[0m\u001b[34mINFO    \u001b[0m Loading dataset : LEP_eeWW_182GeV                                                 \u001b]8;id=363430;file:///Users/jaco/opt/anaconda3/envs/smefit_tutorial/lib/python3.11/site-packages/smefit/loader.py\u001b\\\u001b[2mloader.py\u001b[0m\u001b]8;;\u001b\\\u001b[2m:\u001b[0m\u001b]8;id=3381;file:///Users/jaco/opt/anaconda3/envs/smefit_tutorial/lib/python3.11/site-packages/smefit/loader.py#135\u001b\\\u001b[2m135\u001b[0m\u001b]8;;\u001b\\\n"
      ]
     },
     "metadata": {},
     "output_type": "display_data"
    },
    {
     "data": {
      "text/html": [
       "<pre style=\"white-space:pre;overflow-x:auto;line-height:normal;font-family:Menlo,'DejaVu Sans Mono',consolas,'Courier New',monospace\"><span style=\"color: #7fbfbf; text-decoration-color: #7fbfbf\">           </span><span style=\"color: #000080; text-decoration-color: #000080\">INFO    </span> Loading dataset : LEP_eeWW_189GeV                                                 <a href=\"file:///Users/jaco/opt/anaconda3/envs/smefit_tutorial/lib/python3.11/site-packages/smefit/loader.py\" target=\"_blank\"><span style=\"color: #7f7f7f; text-decoration-color: #7f7f7f\">loader.py</span></a><span style=\"color: #7f7f7f; text-decoration-color: #7f7f7f\">:</span><a href=\"file:///Users/jaco/opt/anaconda3/envs/smefit_tutorial/lib/python3.11/site-packages/smefit/loader.py#135\" target=\"_blank\"><span style=\"color: #7f7f7f; text-decoration-color: #7f7f7f\">135</span></a>\n",
       "</pre>\n"
      ],
      "text/plain": [
       "\u001b[2;36m          \u001b[0m\u001b[2;36m \u001b[0m\u001b[34mINFO    \u001b[0m Loading dataset : LEP_eeWW_189GeV                                                 \u001b]8;id=352289;file:///Users/jaco/opt/anaconda3/envs/smefit_tutorial/lib/python3.11/site-packages/smefit/loader.py\u001b\\\u001b[2mloader.py\u001b[0m\u001b]8;;\u001b\\\u001b[2m:\u001b[0m\u001b]8;id=500557;file:///Users/jaco/opt/anaconda3/envs/smefit_tutorial/lib/python3.11/site-packages/smefit/loader.py#135\u001b\\\u001b[2m135\u001b[0m\u001b]8;;\u001b\\\n"
      ]
     },
     "metadata": {},
     "output_type": "display_data"
    },
    {
     "data": {
      "text/html": [
       "<pre style=\"white-space:pre;overflow-x:auto;line-height:normal;font-family:Menlo,'DejaVu Sans Mono',consolas,'Courier New',monospace\"><span style=\"color: #7fbfbf; text-decoration-color: #7fbfbf\">           </span><span style=\"color: #000080; text-decoration-color: #000080\">INFO    </span> Loading dataset : LEP_eeWW_198GeV                                                 <a href=\"file:///Users/jaco/opt/anaconda3/envs/smefit_tutorial/lib/python3.11/site-packages/smefit/loader.py\" target=\"_blank\"><span style=\"color: #7f7f7f; text-decoration-color: #7f7f7f\">loader.py</span></a><span style=\"color: #7f7f7f; text-decoration-color: #7f7f7f\">:</span><a href=\"file:///Users/jaco/opt/anaconda3/envs/smefit_tutorial/lib/python3.11/site-packages/smefit/loader.py#135\" target=\"_blank\"><span style=\"color: #7f7f7f; text-decoration-color: #7f7f7f\">135</span></a>\n",
       "</pre>\n"
      ],
      "text/plain": [
       "\u001b[2;36m          \u001b[0m\u001b[2;36m \u001b[0m\u001b[34mINFO    \u001b[0m Loading dataset : LEP_eeWW_198GeV                                                 \u001b]8;id=658095;file:///Users/jaco/opt/anaconda3/envs/smefit_tutorial/lib/python3.11/site-packages/smefit/loader.py\u001b\\\u001b[2mloader.py\u001b[0m\u001b]8;;\u001b\\\u001b[2m:\u001b[0m\u001b]8;id=115987;file:///Users/jaco/opt/anaconda3/envs/smefit_tutorial/lib/python3.11/site-packages/smefit/loader.py#135\u001b\\\u001b[2m135\u001b[0m\u001b]8;;\u001b\\\n"
      ]
     },
     "metadata": {},
     "output_type": "display_data"
    },
    {
     "data": {
      "text/html": [
       "<pre style=\"white-space:pre;overflow-x:auto;line-height:normal;font-family:Menlo,'DejaVu Sans Mono',consolas,'Courier New',monospace\"><span style=\"color: #7fbfbf; text-decoration-color: #7fbfbf\">           </span><span style=\"color: #000080; text-decoration-color: #000080\">INFO    </span> Loading dataset : LEP_eeWW_206GeV                                                 <a href=\"file:///Users/jaco/opt/anaconda3/envs/smefit_tutorial/lib/python3.11/site-packages/smefit/loader.py\" target=\"_blank\"><span style=\"color: #7f7f7f; text-decoration-color: #7f7f7f\">loader.py</span></a><span style=\"color: #7f7f7f; text-decoration-color: #7f7f7f\">:</span><a href=\"file:///Users/jaco/opt/anaconda3/envs/smefit_tutorial/lib/python3.11/site-packages/smefit/loader.py#135\" target=\"_blank\"><span style=\"color: #7f7f7f; text-decoration-color: #7f7f7f\">135</span></a>\n",
       "</pre>\n"
      ],
      "text/plain": [
       "\u001b[2;36m          \u001b[0m\u001b[2;36m \u001b[0m\u001b[34mINFO    \u001b[0m Loading dataset : LEP_eeWW_206GeV                                                 \u001b]8;id=543213;file:///Users/jaco/opt/anaconda3/envs/smefit_tutorial/lib/python3.11/site-packages/smefit/loader.py\u001b\\\u001b[2mloader.py\u001b[0m\u001b]8;;\u001b\\\u001b[2m:\u001b[0m\u001b]8;id=720045;file:///Users/jaco/opt/anaconda3/envs/smefit_tutorial/lib/python3.11/site-packages/smefit/loader.py#135\u001b\\\u001b[2m135\u001b[0m\u001b]8;;\u001b\\\n"
      ]
     },
     "metadata": {},
     "output_type": "display_data"
    },
    {
     "name": "stderr",
     "output_type": "stream",
     "text": [
      "/bin/sh: pandoc: command not found\n"
     ]
    },
    {
     "data": {
      "application/vnd.jupyter.widget-view+json": {
       "model_id": "f1d3a2b920ce4c78858c79c31f75d0db",
       "version_major": 2,
       "version_minor": 0
      },
      "text/plain": [
       "Output()"
      ]
     },
     "metadata": {},
     "output_type": "display_data"
    },
    {
     "name": "stderr",
     "output_type": "stream",
     "text": [
      "/bin/sh: pandoc: command not found\n"
     ]
    },
    {
     "data": {
      "text/html": [
       "<pre style=\"white-space:pre;overflow-x:auto;line-height:normal;font-family:Menlo,'DejaVu Sans Mono',consolas,'Courier New',monospace\"></pre>\n"
      ],
      "text/plain": []
     },
     "metadata": {},
     "output_type": "display_data"
    },
    {
     "data": {
      "text/html": [
       "<pre style=\"white-space:pre;overflow-x:auto;line-height:normal;font-family:Menlo,'DejaVu Sans Mono',consolas,'Courier New',monospace\">\n",
       "</pre>\n"
      ],
      "text/plain": [
       "\n"
      ]
     },
     "metadata": {},
     "output_type": "display_data"
    },
    {
     "name": "stderr",
     "output_type": "stream",
     "text": [
      "/bin/sh: pandoc: command not found\n"
     ]
    },
    {
     "data": {
      "text/html": [
       "<pre style=\"white-space:pre;overflow-x:auto;line-height:normal;font-family:Menlo,'DejaVu Sans Mono',consolas,'Courier New',monospace\"><span style=\"color: #7fbfbf; text-decoration-color: #7fbfbf\">[15:40:29] </span><span style=\"color: #000080; text-decoration-color: #000080\">INFO    </span> Plotting : chi^<span style=\"color: #008080; text-decoration-color: #008080; font-weight: bold\">2</span> for each dataset                                                 <a href=\"file:///Users/jaco/opt/anaconda3/envs/smefit_tutorial/lib/python3.11/site-packages/smefit/analyze/report.py\" target=\"_blank\"><span style=\"color: #7f7f7f; text-decoration-color: #7f7f7f\">report.py</span></a><span style=\"color: #7f7f7f; text-decoration-color: #7f7f7f\">:</span><a href=\"file:///Users/jaco/opt/anaconda3/envs/smefit_tutorial/lib/python3.11/site-packages/smefit/analyze/report.py#170\" target=\"_blank\"><span style=\"color: #7f7f7f; text-decoration-color: #7f7f7f\">170</span></a>\n",
       "</pre>\n"
      ],
      "text/plain": [
       "\u001b[2;36m[15:40:29]\u001b[0m\u001b[2;36m \u001b[0m\u001b[34mINFO    \u001b[0m Plotting : chi^\u001b[1;36m2\u001b[0m for each dataset                                                 \u001b]8;id=453172;file:///Users/jaco/opt/anaconda3/envs/smefit_tutorial/lib/python3.11/site-packages/smefit/analyze/report.py\u001b\\\u001b[2mreport.py\u001b[0m\u001b]8;;\u001b\\\u001b[2m:\u001b[0m\u001b]8;id=33742;file:///Users/jaco/opt/anaconda3/envs/smefit_tutorial/lib/python3.11/site-packages/smefit/analyze/report.py#170\u001b\\\u001b[2m170\u001b[0m\u001b]8;;\u001b\\\n"
      ]
     },
     "metadata": {},
     "output_type": "display_data"
    },
    {
     "data": {
      "text/html": [
       "<pre style=\"white-space:pre;overflow-x:auto;line-height:normal;font-family:Menlo,'DejaVu Sans Mono',consolas,'Courier New',monospace\"><span style=\"color: #7fbfbf; text-decoration-color: #7fbfbf\">[15:40:34] </span><span style=\"color: #000080; text-decoration-color: #000080\">INFO    </span> Plotting : chi^<span style=\"color: #008080; text-decoration-color: #008080; font-weight: bold\">2</span> distribution for each replica                                    <a href=\"file:///Users/jaco/opt/anaconda3/envs/smefit_tutorial/lib/python3.11/site-packages/smefit/analyze/report.py\" target=\"_blank\"><span style=\"color: #7f7f7f; text-decoration-color: #7f7f7f\">report.py</span></a><span style=\"color: #7f7f7f; text-decoration-color: #7f7f7f\">:</span><a href=\"file:///Users/jaco/opt/anaconda3/envs/smefit_tutorial/lib/python3.11/site-packages/smefit/analyze/report.py#175\" target=\"_blank\"><span style=\"color: #7f7f7f; text-decoration-color: #7f7f7f\">175</span></a>\n",
       "</pre>\n"
      ],
      "text/plain": [
       "\u001b[2;36m[15:40:34]\u001b[0m\u001b[2;36m \u001b[0m\u001b[34mINFO    \u001b[0m Plotting : chi^\u001b[1;36m2\u001b[0m distribution for each replica                                    \u001b]8;id=311710;file:///Users/jaco/opt/anaconda3/envs/smefit_tutorial/lib/python3.11/site-packages/smefit/analyze/report.py\u001b\\\u001b[2mreport.py\u001b[0m\u001b]8;;\u001b\\\u001b[2m:\u001b[0m\u001b]8;id=693636;file:///Users/jaco/opt/anaconda3/envs/smefit_tutorial/lib/python3.11/site-packages/smefit/analyze/report.py#175\u001b\\\u001b[2m175\u001b[0m\u001b]8;;\u001b\\\n"
      ]
     },
     "metadata": {},
     "output_type": "display_data"
    }
   ],
   "source": [
    "run_report(\"./report.yaml\")"
   ]
  }
 ],
 "metadata": {
  "@webio": {
   "lastCommId": null,
   "lastKernelId": null
  },
  "kernelspec": {
   "display_name": "smefit",
   "language": "python",
   "name": "smefit"
  },
  "language_info": {
   "codemirror_mode": {
    "name": "ipython",
    "version": 3
   },
   "file_extension": ".py",
   "mimetype": "text/x-python",
   "name": "python",
   "nbconvert_exporter": "python",
   "pygments_lexer": "ipython3",
   "version": "3.11.8"
  }
 },
 "nbformat": 4,
 "nbformat_minor": 5
}
