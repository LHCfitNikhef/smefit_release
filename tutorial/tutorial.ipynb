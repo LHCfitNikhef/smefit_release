{
 "cells": [
  {
   "cell_type": "markdown",
   "id": "430c1dca",
   "metadata": {},
   "source": [
    "# SMEFiT Tutorial"
   ]
  },
  {
   "cell_type": "markdown",
   "id": "2fe8993a",
   "metadata": {},
   "source": [
    "[![Open In Colab](https://colab.research.google.com/assets/colab-badge.svg)](https://colab.research.google.com/github/LHCfitNikhef/smefit_release/blob/tutorial/tutorial/tutorial.ipynb)"
   ]
  },
  {
   "cell_type": "code",
   "execution_count": null,
   "id": "8db4c38e",
   "metadata": {},
   "outputs": [],
   "source": [
    "# !pip install wget\n",
    "# !pip install smefit\n",
    "import sys\n",
    "import os\n",
    "import wget\n",
    "import subprocess\n",
    "import pathlib\n",
    "import yaml\n",
    "print(\"Python version:\", sys.version)"
   ]
  },
  {
   "cell_type": "code",
   "execution_count": null,
   "id": "8e086ae1",
   "metadata": {},
   "outputs": [],
   "source": [
    "import smefit\n",
    "import smefit.runner\n",
    "from smefit.analyze import run_report\n",
    "from smefit.analyze.report import Report\n",
    "\n",
    "smefit.log.setup_console(None)"
   ]
  },
  {
   "cell_type": "code",
   "execution_count": null,
   "id": "33bda93c",
   "metadata": {},
   "outputs": [],
   "source": [
    "def file_downloader(url, download_dir='./downloads'):\n",
    "\n",
    "    if not os.path.exists(download_dir):\n",
    "        os.mkdir(download_dir)\n",
    "\n",
    "    file = wget.download(url, out=download_dir)\n",
    "    return file"
   ]
  },
  {
   "cell_type": "markdown",
   "id": "eea47bc4",
   "metadata": {},
   "source": [
    "Download the smefit database"
   ]
  },
  {
   "cell_type": "code",
   "execution_count": null,
   "id": "e0cc0131",
   "metadata": {},
   "outputs": [],
   "source": [
    "smefit_database_url = 'https://github.com/LHCfitNikhef/smefit_database/archive/refs/heads/main.zip'\n",
    "smefit_database = file_downloader(smefit_database_url);"
   ]
  },
  {
   "cell_type": "markdown",
   "id": "86bef9d7",
   "metadata": {},
   "source": [
    "Download the smefit runcards"
   ]
  },
  {
   "cell_type": "code",
   "execution_count": null,
   "id": "66516729",
   "metadata": {},
   "outputs": [],
   "source": [
    "wget.download(\"https://raw.githubusercontent.com/LHCfitNikhef/smefit_release/tutorial/tutorial/runcard_fit.yaml\", out=\"./downloads\")\n",
    "wget.download(\"https://raw.githubusercontent.com/LHCfitNikhef/smefit_release/tutorial/tutorial/runcard_report.yaml\", out=\"./downloads\")"
   ]
  },
  {
   "cell_type": "code",
   "execution_count": null,
   "id": "5be87c4c",
   "metadata": {},
   "outputs": [],
   "source": [
    "subprocess.run([f\"unzip {smefit_database} -d ./downloads\"], capture_output=False, shell=True, text=False)"
   ]
  },
  {
   "cell_type": "markdown",
   "id": "b467e6b4",
   "metadata": {},
   "source": [
    "EWPO"
   ]
  },
  {
   "cell_type": "code",
   "execution_count": 61,
   "id": "3ffd7e05",
   "metadata": {},
   "outputs": [
    {
     "data": {
      "text/html": [
       "<pre style=\"white-space:pre;overflow-x:auto;line-height:normal;font-family:Menlo,'DejaVu Sans Mono',consolas,'Courier New',monospace\"><span style=\"color: #7fbfbf; text-decoration-color: #7fbfbf\">[18:39:11] </span><span style=\"color: #000080; text-decoration-color: #000080\">INFO    </span> Loading dataset : ATLAS_ttZ_13TeV                                                 <a href=\"file:///Users/jaco/Documents/smefit_release/src/smefit/loader.py\" target=\"_blank\"><span style=\"color: #7f7f7f; text-decoration-color: #7f7f7f\">loader.py</span></a><span style=\"color: #7f7f7f; text-decoration-color: #7f7f7f\">:</span><a href=\"file:///Users/jaco/Documents/smefit_release/src/smefit/loader.py#135\" target=\"_blank\"><span style=\"color: #7f7f7f; text-decoration-color: #7f7f7f\">135</span></a>\n",
       "</pre>\n"
      ],
      "text/plain": [
       "\u001b[2;36m[18:39:11]\u001b[0m\u001b[2;36m \u001b[0m\u001b[34mINFO    \u001b[0m Loading dataset : ATLAS_ttZ_13TeV                                                 \u001b]8;id=659761;file:///Users/jaco/Documents/smefit_release/src/smefit/loader.py\u001b\\\u001b[2mloader.py\u001b[0m\u001b]8;;\u001b\\\u001b[2m:\u001b[0m\u001b]8;id=668244;file:///Users/jaco/Documents/smefit_release/src/smefit/loader.py#135\u001b\\\u001b[2m135\u001b[0m\u001b]8;;\u001b\\\n"
      ]
     },
     "metadata": {},
     "output_type": "display_data"
    },
    {
     "data": {
      "text/html": [
       "<pre style=\"white-space:pre;overflow-x:auto;line-height:normal;font-family:Menlo,'DejaVu Sans Mono',consolas,'Courier New',monospace\"><span style=\"color: #7fbfbf; text-decoration-color: #7fbfbf\">           </span><span style=\"color: #000080; text-decoration-color: #000080\">INFO    </span> Loading dataset : ATLAS_ttZ_13TeV_2016                                            <a href=\"file:///Users/jaco/Documents/smefit_release/src/smefit/loader.py\" target=\"_blank\"><span style=\"color: #7f7f7f; text-decoration-color: #7f7f7f\">loader.py</span></a><span style=\"color: #7f7f7f; text-decoration-color: #7f7f7f\">:</span><a href=\"file:///Users/jaco/Documents/smefit_release/src/smefit/loader.py#135\" target=\"_blank\"><span style=\"color: #7f7f7f; text-decoration-color: #7f7f7f\">135</span></a>\n",
       "</pre>\n"
      ],
      "text/plain": [
       "\u001b[2;36m          \u001b[0m\u001b[2;36m \u001b[0m\u001b[34mINFO    \u001b[0m Loading dataset : ATLAS_ttZ_13TeV_2016                                            \u001b]8;id=286973;file:///Users/jaco/Documents/smefit_release/src/smefit/loader.py\u001b\\\u001b[2mloader.py\u001b[0m\u001b]8;;\u001b\\\u001b[2m:\u001b[0m\u001b]8;id=993268;file:///Users/jaco/Documents/smefit_release/src/smefit/loader.py#135\u001b\\\u001b[2m135\u001b[0m\u001b]8;;\u001b\\\n"
      ]
     },
     "metadata": {},
     "output_type": "display_data"
    },
    {
     "data": {
      "text/html": [
       "<pre style=\"white-space:pre;overflow-x:auto;line-height:normal;font-family:Menlo,'DejaVu Sans Mono',consolas,'Courier New',monospace\"><span style=\"color: #7fbfbf; text-decoration-color: #7fbfbf\">           </span><span style=\"color: #000080; text-decoration-color: #000080\">INFO    </span> Loading dataset : ATLAS_ttZ_13TeV_pTZ                                             <a href=\"file:///Users/jaco/Documents/smefit_release/src/smefit/loader.py\" target=\"_blank\"><span style=\"color: #7f7f7f; text-decoration-color: #7f7f7f\">loader.py</span></a><span style=\"color: #7f7f7f; text-decoration-color: #7f7f7f\">:</span><a href=\"file:///Users/jaco/Documents/smefit_release/src/smefit/loader.py#135\" target=\"_blank\"><span style=\"color: #7f7f7f; text-decoration-color: #7f7f7f\">135</span></a>\n",
       "</pre>\n"
      ],
      "text/plain": [
       "\u001b[2;36m          \u001b[0m\u001b[2;36m \u001b[0m\u001b[34mINFO    \u001b[0m Loading dataset : ATLAS_ttZ_13TeV_pTZ                                             \u001b]8;id=640536;file:///Users/jaco/Documents/smefit_release/src/smefit/loader.py\u001b\\\u001b[2mloader.py\u001b[0m\u001b]8;;\u001b\\\u001b[2m:\u001b[0m\u001b]8;id=432903;file:///Users/jaco/Documents/smefit_release/src/smefit/loader.py#135\u001b\\\u001b[2m135\u001b[0m\u001b]8;;\u001b\\\n"
      ]
     },
     "metadata": {},
     "output_type": "display_data"
    },
    {
     "data": {
      "text/html": [
       "<pre style=\"white-space:pre;overflow-x:auto;line-height:normal;font-family:Menlo,'DejaVu Sans Mono',consolas,'Courier New',monospace\"><span style=\"color: #7fbfbf; text-decoration-color: #7fbfbf\">           </span><span style=\"color: #000080; text-decoration-color: #000080\">INFO    </span> Loading dataset : ATLAS_ttZ_8TeV                                                  <a href=\"file:///Users/jaco/Documents/smefit_release/src/smefit/loader.py\" target=\"_blank\"><span style=\"color: #7f7f7f; text-decoration-color: #7f7f7f\">loader.py</span></a><span style=\"color: #7f7f7f; text-decoration-color: #7f7f7f\">:</span><a href=\"file:///Users/jaco/Documents/smefit_release/src/smefit/loader.py#135\" target=\"_blank\"><span style=\"color: #7f7f7f; text-decoration-color: #7f7f7f\">135</span></a>\n",
       "</pre>\n"
      ],
      "text/plain": [
       "\u001b[2;36m          \u001b[0m\u001b[2;36m \u001b[0m\u001b[34mINFO    \u001b[0m Loading dataset : ATLAS_ttZ_8TeV                                                  \u001b]8;id=956512;file:///Users/jaco/Documents/smefit_release/src/smefit/loader.py\u001b\\\u001b[2mloader.py\u001b[0m\u001b]8;;\u001b\\\u001b[2m:\u001b[0m\u001b]8;id=541537;file:///Users/jaco/Documents/smefit_release/src/smefit/loader.py#135\u001b\\\u001b[2m135\u001b[0m\u001b]8;;\u001b\\\n"
      ]
     },
     "metadata": {},
     "output_type": "display_data"
    },
    {
     "data": {
      "text/html": [
       "<pre style=\"white-space:pre;overflow-x:auto;line-height:normal;font-family:Menlo,'DejaVu Sans Mono',consolas,'Courier New',monospace\"><span style=\"color: #7fbfbf; text-decoration-color: #7fbfbf\">           </span><span style=\"color: #000080; text-decoration-color: #000080\">INFO    </span> Loading dataset : CMS_ttZ_13TeV                                                   <a href=\"file:///Users/jaco/Documents/smefit_release/src/smefit/loader.py\" target=\"_blank\"><span style=\"color: #7f7f7f; text-decoration-color: #7f7f7f\">loader.py</span></a><span style=\"color: #7f7f7f; text-decoration-color: #7f7f7f\">:</span><a href=\"file:///Users/jaco/Documents/smefit_release/src/smefit/loader.py#135\" target=\"_blank\"><span style=\"color: #7f7f7f; text-decoration-color: #7f7f7f\">135</span></a>\n",
       "</pre>\n"
      ],
      "text/plain": [
       "\u001b[2;36m          \u001b[0m\u001b[2;36m \u001b[0m\u001b[34mINFO    \u001b[0m Loading dataset : CMS_ttZ_13TeV                                                   \u001b]8;id=34936;file:///Users/jaco/Documents/smefit_release/src/smefit/loader.py\u001b\\\u001b[2mloader.py\u001b[0m\u001b]8;;\u001b\\\u001b[2m:\u001b[0m\u001b]8;id=122719;file:///Users/jaco/Documents/smefit_release/src/smefit/loader.py#135\u001b\\\u001b[2m135\u001b[0m\u001b]8;;\u001b\\\n"
      ]
     },
     "metadata": {},
     "output_type": "display_data"
    },
    {
     "data": {
      "text/html": [
       "<pre style=\"white-space:pre;overflow-x:auto;line-height:normal;font-family:Menlo,'DejaVu Sans Mono',consolas,'Courier New',monospace\"><span style=\"color: #7fbfbf; text-decoration-color: #7fbfbf\">           </span><span style=\"color: #000080; text-decoration-color: #000080\">INFO    </span> Loading dataset : CMS_ttZ_13TeV_pTZ                                               <a href=\"file:///Users/jaco/Documents/smefit_release/src/smefit/loader.py\" target=\"_blank\"><span style=\"color: #7f7f7f; text-decoration-color: #7f7f7f\">loader.py</span></a><span style=\"color: #7f7f7f; text-decoration-color: #7f7f7f\">:</span><a href=\"file:///Users/jaco/Documents/smefit_release/src/smefit/loader.py#135\" target=\"_blank\"><span style=\"color: #7f7f7f; text-decoration-color: #7f7f7f\">135</span></a>\n",
       "</pre>\n"
      ],
      "text/plain": [
       "\u001b[2;36m          \u001b[0m\u001b[2;36m \u001b[0m\u001b[34mINFO    \u001b[0m Loading dataset : CMS_ttZ_13TeV_pTZ                                               \u001b]8;id=891909;file:///Users/jaco/Documents/smefit_release/src/smefit/loader.py\u001b\\\u001b[2mloader.py\u001b[0m\u001b]8;;\u001b\\\u001b[2m:\u001b[0m\u001b]8;id=678418;file:///Users/jaco/Documents/smefit_release/src/smefit/loader.py#135\u001b\\\u001b[2m135\u001b[0m\u001b]8;;\u001b\\\n"
      ]
     },
     "metadata": {},
     "output_type": "display_data"
    },
    {
     "data": {
      "text/html": [
       "<pre style=\"white-space:pre;overflow-x:auto;line-height:normal;font-family:Menlo,'DejaVu Sans Mono',consolas,'Courier New',monospace\"><span style=\"color: #7fbfbf; text-decoration-color: #7fbfbf\">           </span><span style=\"color: #000080; text-decoration-color: #000080\">INFO    </span> Loading dataset : CMS_ttZ_8TeV                                                    <a href=\"file:///Users/jaco/Documents/smefit_release/src/smefit/loader.py\" target=\"_blank\"><span style=\"color: #7f7f7f; text-decoration-color: #7f7f7f\">loader.py</span></a><span style=\"color: #7f7f7f; text-decoration-color: #7f7f7f\">:</span><a href=\"file:///Users/jaco/Documents/smefit_release/src/smefit/loader.py#135\" target=\"_blank\"><span style=\"color: #7f7f7f; text-decoration-color: #7f7f7f\">135</span></a>\n",
       "</pre>\n"
      ],
      "text/plain": [
       "\u001b[2;36m          \u001b[0m\u001b[2;36m \u001b[0m\u001b[34mINFO    \u001b[0m Loading dataset : CMS_ttZ_8TeV                                                    \u001b]8;id=954766;file:///Users/jaco/Documents/smefit_release/src/smefit/loader.py\u001b\\\u001b[2mloader.py\u001b[0m\u001b]8;;\u001b\\\u001b[2m:\u001b[0m\u001b]8;id=20885;file:///Users/jaco/Documents/smefit_release/src/smefit/loader.py#135\u001b\\\u001b[2m135\u001b[0m\u001b]8;;\u001b\\\n"
      ]
     },
     "metadata": {},
     "output_type": "display_data"
    },
    {
     "name": "stderr",
     "output_type": "stream",
     "text": [
      "/Users/jaco/Documents/smefit_release/src/smefit/coefficients.py:216: FutureWarning: Setting an item of incompatible dtype is deprecated and will raise an error in a future version of pandas. Value '[1.0 0]' has dtype incompatible with float64, please explicitly cast to a compatible dtype first.\n",
      "  self._table.iloc[self.is_free, 0] = value\n"
     ]
    },
    {
     "data": {
      "text/html": [
       "<pre style=\"white-space:pre;overflow-x:auto;line-height:normal;font-family:Menlo,'DejaVu Sans Mono',consolas,'Courier New',monospace\"><span style=\"color: #7fbfbf; text-decoration-color: #7fbfbf\">[18:39:12] </span><span style=\"color: #000080; text-decoration-color: #000080\">INFO    </span> Computing Analytic solution <span style=\"color: #808000; text-decoration-color: #808000\">...</span>                                                 <a href=\"file:///Users/jaco/Documents/smefit_release/src/smefit/optimize/analytic.py\" target=\"_blank\"><span style=\"color: #7f7f7f; text-decoration-color: #7f7f7f\">analytic.py</span></a><span style=\"color: #7f7f7f; text-decoration-color: #7f7f7f\">:</span><a href=\"file:///Users/jaco/Documents/smefit_release/src/smefit/optimize/analytic.py#127\" target=\"_blank\"><span style=\"color: #7f7f7f; text-decoration-color: #7f7f7f\">127</span></a>\n",
       "</pre>\n"
      ],
      "text/plain": [
       "\u001b[2;36m[18:39:12]\u001b[0m\u001b[2;36m \u001b[0m\u001b[34mINFO    \u001b[0m Computing Analytic solution \u001b[33m...\u001b[0m                                                 \u001b]8;id=352848;file:///Users/jaco/Documents/smefit_release/src/smefit/optimize/analytic.py\u001b\\\u001b[2manalytic.py\u001b[0m\u001b]8;;\u001b\\\u001b[2m:\u001b[0m\u001b]8;id=117180;file:///Users/jaco/Documents/smefit_release/src/smefit/optimize/analytic.py#127\u001b\\\u001b[2m127\u001b[0m\u001b]8;;\u001b\\\n"
      ]
     },
     "metadata": {},
     "output_type": "display_data"
    },
    {
     "data": {
      "text/html": [
       "<pre style=\"white-space:pre;overflow-x:auto;line-height:normal;font-family:Menlo,'DejaVu Sans Mono',consolas,'Courier New',monospace\"><span style=\"color: #c0c0c0; text-decoration-color: #c0c0c0\">┏━━━━━━━━━━━┳━━━━━━━━━━━━┳━━━━━━━┓</span>\n",
       "<span style=\"color: #c0c0c0; text-decoration-color: #c0c0c0\">┃</span><span style=\"font-weight: bold\"> Parameter </span><span style=\"color: #c0c0c0; text-decoration-color: #c0c0c0\">┃</span><span style=\"font-weight: bold\"> Best value </span><span style=\"color: #c0c0c0; text-decoration-color: #c0c0c0\">┃</span><span style=\"font-weight: bold\"> Error </span><span style=\"color: #c0c0c0; text-decoration-color: #c0c0c0\">┃</span>\n",
       "<span style=\"color: #c0c0c0; text-decoration-color: #c0c0c0\">┡━━━━━━━━━━━╇━━━━━━━━━━━━╇━━━━━━━┩</span>\n",
       "<span style=\"color: #c0c0c0; text-decoration-color: #c0c0c0\">│</span><span style=\"color: #800000; text-decoration-color: #800000; font-weight: bold\"> Opt       </span><span style=\"color: #c0c0c0; text-decoration-color: #c0c0c0\">│</span> 1.100      <span style=\"color: #c0c0c0; text-decoration-color: #c0c0c0\">│</span> 9.133 <span style=\"color: #c0c0c0; text-decoration-color: #c0c0c0\">│</span>\n",
       "<span style=\"color: #c0c0c0; text-decoration-color: #c0c0c0\">│</span><span style=\"color: #800000; text-decoration-color: #800000; font-weight: bold\"> OtG       </span><span style=\"color: #c0c0c0; text-decoration-color: #c0c0c0\">│</span> -0.332     <span style=\"color: #c0c0c0; text-decoration-color: #c0c0c0\">│</span> 1.703 <span style=\"color: #c0c0c0; text-decoration-color: #c0c0c0\">│</span>\n",
       "<span style=\"color: #c0c0c0; text-decoration-color: #c0c0c0\">└───────────┴────────────┴───────┘</span>\n",
       "</pre>\n"
      ],
      "text/plain": [
       "\u001b[37m┏━━━━━━━━━━━┳━━━━━━━━━━━━┳━━━━━━━┓\u001b[0m\n",
       "\u001b[37m┃\u001b[0m\u001b[1m \u001b[0m\u001b[1mParameter\u001b[0m\u001b[1m \u001b[0m\u001b[37m┃\u001b[0m\u001b[1m \u001b[0m\u001b[1mBest value\u001b[0m\u001b[1m \u001b[0m\u001b[37m┃\u001b[0m\u001b[1m \u001b[0m\u001b[1mError\u001b[0m\u001b[1m \u001b[0m\u001b[37m┃\u001b[0m\n",
       "\u001b[37m┡━━━━━━━━━━━╇━━━━━━━━━━━━╇━━━━━━━┩\u001b[0m\n",
       "\u001b[37m│\u001b[0m\u001b[1;31m \u001b[0m\u001b[1;31mOpt      \u001b[0m\u001b[1;31m \u001b[0m\u001b[37m│\u001b[0m 1.100      \u001b[37m│\u001b[0m 9.133 \u001b[37m│\u001b[0m\n",
       "\u001b[37m│\u001b[0m\u001b[1;31m \u001b[0m\u001b[1;31mOtG      \u001b[0m\u001b[1;31m \u001b[0m\u001b[37m│\u001b[0m -0.332     \u001b[37m│\u001b[0m 1.703 \u001b[37m│\u001b[0m\n",
       "\u001b[37m└───────────┴────────────┴───────┘\u001b[0m\n"
      ]
     },
     "metadata": {},
     "output_type": "display_data"
    },
    {
     "data": {
      "text/html": [
       "<pre style=\"white-space:pre;overflow-x:auto;line-height:normal;font-family:Menlo,'DejaVu Sans Mono',consolas,'Courier New',monospace\"><span style=\"color: #7fbfbf; text-decoration-color: #7fbfbf\">           </span><span style=\"color: #000080; text-decoration-color: #000080\">INFO    </span> Sampling solutions <span style=\"color: #808000; text-decoration-color: #808000\">...</span>                                                          <a href=\"file:///Users/jaco/Documents/smefit_release/src/smefit/optimize/analytic.py\" target=\"_blank\"><span style=\"color: #7f7f7f; text-decoration-color: #7f7f7f\">analytic.py</span></a><span style=\"color: #7f7f7f; text-decoration-color: #7f7f7f\">:</span><a href=\"file:///Users/jaco/Documents/smefit_release/src/smefit/optimize/analytic.py#156\" target=\"_blank\"><span style=\"color: #7f7f7f; text-decoration-color: #7f7f7f\">156</span></a>\n",
       "</pre>\n"
      ],
      "text/plain": [
       "\u001b[2;36m          \u001b[0m\u001b[2;36m \u001b[0m\u001b[34mINFO    \u001b[0m Sampling solutions \u001b[33m...\u001b[0m                                                          \u001b]8;id=205330;file:///Users/jaco/Documents/smefit_release/src/smefit/optimize/analytic.py\u001b\\\u001b[2manalytic.py\u001b[0m\u001b]8;;\u001b\\\u001b[2m:\u001b[0m\u001b]8;id=942575;file:///Users/jaco/Documents/smefit_release/src/smefit/optimize/analytic.py#156\u001b\\\u001b[2m156\u001b[0m\u001b]8;;\u001b\\\n"
      ]
     },
     "metadata": {},
     "output_type": "display_data"
    }
   ],
   "source": [
    "runner_ewpo = smefit.runner.Runner.from_file(pathlib.Path(\"./downloads/runcard_ttZ.yaml\"))\n",
    "runner_ewpo.global_analysis(\"A\")"
   ]
  },
  {
   "cell_type": "code",
   "execution_count": 62,
   "id": "bcd3c7d3",
   "metadata": {},
   "outputs": [],
   "source": [
    "def make_report(runcard_report):\n",
    "\n",
    "    with open(runcard_report, encoding=\"utf-8\") as f:\n",
    "        report_config = yaml.safe_load(f)\n",
    "    \n",
    "    report_name = report_config[\"name\"]\n",
    "    report_path = pathlib.Path(report_config[\"report_path\"]).absolute()\n",
    "    report_folder = report_path.joinpath(f\"{report_name}\")\n",
    "\n",
    "    report_folder.mkdir(exist_ok=True, parents=True)\n",
    "\n",
    "    report = Report(report_path, report_config[\"result_path\"], report_config)\n",
    "    \n",
    "    report.coefficients(**report_config[\"coefficients_plots\"])"
   ]
  },
  {
   "cell_type": "code",
   "execution_count": null,
   "id": "50962b98",
   "metadata": {},
   "outputs": [],
   "source": [
    "make_report(\"./downloads/runcard_report_ewpo.yaml\")"
   ]
  },
  {
   "cell_type": "markdown",
   "id": "a294687e",
   "metadata": {},
   "source": [
    "Make coefficient plots"
   ]
  },
  {
   "cell_type": "markdown",
   "id": "af2b0fb1",
   "metadata": {},
   "source": [
    "Higgs"
   ]
  },
  {
   "cell_type": "code",
   "execution_count": 63,
   "id": "ad80dd66",
   "metadata": {},
   "outputs": [
    {
     "data": {
      "text/html": [
       "<pre style=\"white-space:pre;overflow-x:auto;line-height:normal;font-family:Menlo,'DejaVu Sans Mono',consolas,'Courier New',monospace\"><span style=\"color: #7fbfbf; text-decoration-color: #7fbfbf\">[18:39:18] </span><span style=\"color: #000080; text-decoration-color: #000080\">INFO    </span> Loading dataset : ATLAS_CMS_SSinc_RunI                                            <a href=\"file:///Users/jaco/Documents/smefit_release/src/smefit/loader.py\" target=\"_blank\"><span style=\"color: #7f7f7f; text-decoration-color: #7f7f7f\">loader.py</span></a><span style=\"color: #7f7f7f; text-decoration-color: #7f7f7f\">:</span><a href=\"file:///Users/jaco/Documents/smefit_release/src/smefit/loader.py#135\" target=\"_blank\"><span style=\"color: #7f7f7f; text-decoration-color: #7f7f7f\">135</span></a>\n",
       "</pre>\n"
      ],
      "text/plain": [
       "\u001b[2;36m[18:39:18]\u001b[0m\u001b[2;36m \u001b[0m\u001b[34mINFO    \u001b[0m Loading dataset : ATLAS_CMS_SSinc_RunI                                            \u001b]8;id=933730;file:///Users/jaco/Documents/smefit_release/src/smefit/loader.py\u001b\\\u001b[2mloader.py\u001b[0m\u001b]8;;\u001b\\\u001b[2m:\u001b[0m\u001b]8;id=386188;file:///Users/jaco/Documents/smefit_release/src/smefit/loader.py#135\u001b\\\u001b[2m135\u001b[0m\u001b]8;;\u001b\\\n"
      ]
     },
     "metadata": {},
     "output_type": "display_data"
    },
    {
     "data": {
      "text/html": [
       "<pre style=\"white-space:pre;overflow-x:auto;line-height:normal;font-family:Menlo,'DejaVu Sans Mono',consolas,'Courier New',monospace\"><span style=\"color: #7fbfbf; text-decoration-color: #7fbfbf\">           </span><span style=\"color: #000080; text-decoration-color: #000080\">INFO    </span> Loading dataset : ATLAS_SSinc_RunII                                               <a href=\"file:///Users/jaco/Documents/smefit_release/src/smefit/loader.py\" target=\"_blank\"><span style=\"color: #7f7f7f; text-decoration-color: #7f7f7f\">loader.py</span></a><span style=\"color: #7f7f7f; text-decoration-color: #7f7f7f\">:</span><a href=\"file:///Users/jaco/Documents/smefit_release/src/smefit/loader.py#135\" target=\"_blank\"><span style=\"color: #7f7f7f; text-decoration-color: #7f7f7f\">135</span></a>\n",
       "</pre>\n"
      ],
      "text/plain": [
       "\u001b[2;36m          \u001b[0m\u001b[2;36m \u001b[0m\u001b[34mINFO    \u001b[0m Loading dataset : ATLAS_SSinc_RunII                                               \u001b]8;id=659796;file:///Users/jaco/Documents/smefit_release/src/smefit/loader.py\u001b\\\u001b[2mloader.py\u001b[0m\u001b]8;;\u001b\\\u001b[2m:\u001b[0m\u001b]8;id=379121;file:///Users/jaco/Documents/smefit_release/src/smefit/loader.py#135\u001b\\\u001b[2m135\u001b[0m\u001b]8;;\u001b\\\n"
      ]
     },
     "metadata": {},
     "output_type": "display_data"
    },
    {
     "data": {
      "text/html": [
       "<pre style=\"white-space:pre;overflow-x:auto;line-height:normal;font-family:Menlo,'DejaVu Sans Mono',consolas,'Courier New',monospace\"><span style=\"color: #7fbfbf; text-decoration-color: #7fbfbf\">           </span><span style=\"color: #000080; text-decoration-color: #000080\">INFO    </span> Loading dataset : ATLAS_STXS_runII_13TeV                                          <a href=\"file:///Users/jaco/Documents/smefit_release/src/smefit/loader.py\" target=\"_blank\"><span style=\"color: #7f7f7f; text-decoration-color: #7f7f7f\">loader.py</span></a><span style=\"color: #7f7f7f; text-decoration-color: #7f7f7f\">:</span><a href=\"file:///Users/jaco/Documents/smefit_release/src/smefit/loader.py#135\" target=\"_blank\"><span style=\"color: #7f7f7f; text-decoration-color: #7f7f7f\">135</span></a>\n",
       "</pre>\n"
      ],
      "text/plain": [
       "\u001b[2;36m          \u001b[0m\u001b[2;36m \u001b[0m\u001b[34mINFO    \u001b[0m Loading dataset : ATLAS_STXS_runII_13TeV                                          \u001b]8;id=901225;file:///Users/jaco/Documents/smefit_release/src/smefit/loader.py\u001b\\\u001b[2mloader.py\u001b[0m\u001b]8;;\u001b\\\u001b[2m:\u001b[0m\u001b]8;id=840413;file:///Users/jaco/Documents/smefit_release/src/smefit/loader.py#135\u001b\\\u001b[2m135\u001b[0m\u001b]8;;\u001b\\\n"
      ]
     },
     "metadata": {},
     "output_type": "display_data"
    },
    {
     "data": {
      "text/html": [
       "<pre style=\"white-space:pre;overflow-x:auto;line-height:normal;font-family:Menlo,'DejaVu Sans Mono',consolas,'Courier New',monospace\"><span style=\"color: #7fbfbf; text-decoration-color: #7fbfbf\">           </span><span style=\"color: #000080; text-decoration-color: #000080\">INFO    </span> Loading dataset : ATLAS_WH_Hbb_13TeV                                              <a href=\"file:///Users/jaco/Documents/smefit_release/src/smefit/loader.py\" target=\"_blank\"><span style=\"color: #7f7f7f; text-decoration-color: #7f7f7f\">loader.py</span></a><span style=\"color: #7f7f7f; text-decoration-color: #7f7f7f\">:</span><a href=\"file:///Users/jaco/Documents/smefit_release/src/smefit/loader.py#135\" target=\"_blank\"><span style=\"color: #7f7f7f; text-decoration-color: #7f7f7f\">135</span></a>\n",
       "</pre>\n"
      ],
      "text/plain": [
       "\u001b[2;36m          \u001b[0m\u001b[2;36m \u001b[0m\u001b[34mINFO    \u001b[0m Loading dataset : ATLAS_WH_Hbb_13TeV                                              \u001b]8;id=374845;file:///Users/jaco/Documents/smefit_release/src/smefit/loader.py\u001b\\\u001b[2mloader.py\u001b[0m\u001b]8;;\u001b\\\u001b[2m:\u001b[0m\u001b]8;id=132219;file:///Users/jaco/Documents/smefit_release/src/smefit/loader.py#135\u001b\\\u001b[2m135\u001b[0m\u001b]8;;\u001b\\\n"
      ]
     },
     "metadata": {},
     "output_type": "display_data"
    },
    {
     "data": {
      "text/html": [
       "<pre style=\"white-space:pre;overflow-x:auto;line-height:normal;font-family:Menlo,'DejaVu Sans Mono',consolas,'Courier New',monospace\"><span style=\"color: #7fbfbf; text-decoration-color: #7fbfbf\">           </span><span style=\"color: #000080; text-decoration-color: #000080\">INFO    </span> Loading dataset : ATLAS_ZH_Hbb_13TeV                                              <a href=\"file:///Users/jaco/Documents/smefit_release/src/smefit/loader.py\" target=\"_blank\"><span style=\"color: #7f7f7f; text-decoration-color: #7f7f7f\">loader.py</span></a><span style=\"color: #7f7f7f; text-decoration-color: #7f7f7f\">:</span><a href=\"file:///Users/jaco/Documents/smefit_release/src/smefit/loader.py#135\" target=\"_blank\"><span style=\"color: #7f7f7f; text-decoration-color: #7f7f7f\">135</span></a>\n",
       "</pre>\n"
      ],
      "text/plain": [
       "\u001b[2;36m          \u001b[0m\u001b[2;36m \u001b[0m\u001b[34mINFO    \u001b[0m Loading dataset : ATLAS_ZH_Hbb_13TeV                                              \u001b]8;id=571082;file:///Users/jaco/Documents/smefit_release/src/smefit/loader.py\u001b\\\u001b[2mloader.py\u001b[0m\u001b]8;;\u001b\\\u001b[2m:\u001b[0m\u001b]8;id=843480;file:///Users/jaco/Documents/smefit_release/src/smefit/loader.py#135\u001b\\\u001b[2m135\u001b[0m\u001b]8;;\u001b\\\n"
      ]
     },
     "metadata": {},
     "output_type": "display_data"
    },
    {
     "data": {
      "text/html": [
       "<pre style=\"white-space:pre;overflow-x:auto;line-height:normal;font-family:Menlo,'DejaVu Sans Mono',consolas,'Courier New',monospace\"><span style=\"color: #7fbfbf; text-decoration-color: #7fbfbf\">           </span><span style=\"color: #000080; text-decoration-color: #000080\">INFO    </span> Loading dataset : ATLAS_ggF_13TeV_2015                                            <a href=\"file:///Users/jaco/Documents/smefit_release/src/smefit/loader.py\" target=\"_blank\"><span style=\"color: #7f7f7f; text-decoration-color: #7f7f7f\">loader.py</span></a><span style=\"color: #7f7f7f; text-decoration-color: #7f7f7f\">:</span><a href=\"file:///Users/jaco/Documents/smefit_release/src/smefit/loader.py#135\" target=\"_blank\"><span style=\"color: #7f7f7f; text-decoration-color: #7f7f7f\">135</span></a>\n",
       "</pre>\n"
      ],
      "text/plain": [
       "\u001b[2;36m          \u001b[0m\u001b[2;36m \u001b[0m\u001b[34mINFO    \u001b[0m Loading dataset : ATLAS_ggF_13TeV_2015                                            \u001b]8;id=713491;file:///Users/jaco/Documents/smefit_release/src/smefit/loader.py\u001b\\\u001b[2mloader.py\u001b[0m\u001b]8;;\u001b\\\u001b[2m:\u001b[0m\u001b]8;id=244064;file:///Users/jaco/Documents/smefit_release/src/smefit/loader.py#135\u001b\\\u001b[2m135\u001b[0m\u001b]8;;\u001b\\\n"
      ]
     },
     "metadata": {},
     "output_type": "display_data"
    },
    {
     "data": {
      "text/html": [
       "<pre style=\"white-space:pre;overflow-x:auto;line-height:normal;font-family:Menlo,'DejaVu Sans Mono',consolas,'Courier New',monospace\"><span style=\"color: #7fbfbf; text-decoration-color: #7fbfbf\">           </span><span style=\"color: #000080; text-decoration-color: #000080\">INFO    </span> Loading dataset : ATLAS_ggF_ZZ_13TeV                                              <a href=\"file:///Users/jaco/Documents/smefit_release/src/smefit/loader.py\" target=\"_blank\"><span style=\"color: #7f7f7f; text-decoration-color: #7f7f7f\">loader.py</span></a><span style=\"color: #7f7f7f; text-decoration-color: #7f7f7f\">:</span><a href=\"file:///Users/jaco/Documents/smefit_release/src/smefit/loader.py#135\" target=\"_blank\"><span style=\"color: #7f7f7f; text-decoration-color: #7f7f7f\">135</span></a>\n",
       "</pre>\n"
      ],
      "text/plain": [
       "\u001b[2;36m          \u001b[0m\u001b[2;36m \u001b[0m\u001b[34mINFO    \u001b[0m Loading dataset : ATLAS_ggF_ZZ_13TeV                                              \u001b]8;id=943960;file:///Users/jaco/Documents/smefit_release/src/smefit/loader.py\u001b\\\u001b[2mloader.py\u001b[0m\u001b]8;;\u001b\\\u001b[2m:\u001b[0m\u001b]8;id=970160;file:///Users/jaco/Documents/smefit_release/src/smefit/loader.py#135\u001b\\\u001b[2m135\u001b[0m\u001b]8;;\u001b\\\n"
      ]
     },
     "metadata": {},
     "output_type": "display_data"
    },
    {
     "data": {
      "text/html": [
       "<pre style=\"white-space:pre;overflow-x:auto;line-height:normal;font-family:Menlo,'DejaVu Sans Mono',consolas,'Courier New',monospace\"><span style=\"color: #7fbfbf; text-decoration-color: #7fbfbf\">           </span><span style=\"color: #000080; text-decoration-color: #000080\">INFO    </span> Loading dataset : CMS_H_13TeV_2015_pTH                                            <a href=\"file:///Users/jaco/Documents/smefit_release/src/smefit/loader.py\" target=\"_blank\"><span style=\"color: #7f7f7f; text-decoration-color: #7f7f7f\">loader.py</span></a><span style=\"color: #7f7f7f; text-decoration-color: #7f7f7f\">:</span><a href=\"file:///Users/jaco/Documents/smefit_release/src/smefit/loader.py#135\" target=\"_blank\"><span style=\"color: #7f7f7f; text-decoration-color: #7f7f7f\">135</span></a>\n",
       "</pre>\n"
      ],
      "text/plain": [
       "\u001b[2;36m          \u001b[0m\u001b[2;36m \u001b[0m\u001b[34mINFO    \u001b[0m Loading dataset : CMS_H_13TeV_2015_pTH                                            \u001b]8;id=970779;file:///Users/jaco/Documents/smefit_release/src/smefit/loader.py\u001b\\\u001b[2mloader.py\u001b[0m\u001b]8;;\u001b\\\u001b[2m:\u001b[0m\u001b]8;id=914669;file:///Users/jaco/Documents/smefit_release/src/smefit/loader.py#135\u001b\\\u001b[2m135\u001b[0m\u001b]8;;\u001b\\\n"
      ]
     },
     "metadata": {},
     "output_type": "display_data"
    },
    {
     "data": {
      "text/html": [
       "<pre style=\"white-space:pre;overflow-x:auto;line-height:normal;font-family:Menlo,'DejaVu Sans Mono',consolas,'Courier New',monospace\"><span style=\"color: #7fbfbf; text-decoration-color: #7fbfbf\">           </span><span style=\"color: #000080; text-decoration-color: #000080\">INFO    </span> Loading dataset : CMS_SSinc_RunII                                                 <a href=\"file:///Users/jaco/Documents/smefit_release/src/smefit/loader.py\" target=\"_blank\"><span style=\"color: #7f7f7f; text-decoration-color: #7f7f7f\">loader.py</span></a><span style=\"color: #7f7f7f; text-decoration-color: #7f7f7f\">:</span><a href=\"file:///Users/jaco/Documents/smefit_release/src/smefit/loader.py#135\" target=\"_blank\"><span style=\"color: #7f7f7f; text-decoration-color: #7f7f7f\">135</span></a>\n",
       "</pre>\n"
      ],
      "text/plain": [
       "\u001b[2;36m          \u001b[0m\u001b[2;36m \u001b[0m\u001b[34mINFO    \u001b[0m Loading dataset : CMS_SSinc_RunII                                                 \u001b]8;id=288922;file:///Users/jaco/Documents/smefit_release/src/smefit/loader.py\u001b\\\u001b[2mloader.py\u001b[0m\u001b]8;;\u001b\\\u001b[2m:\u001b[0m\u001b]8;id=378264;file:///Users/jaco/Documents/smefit_release/src/smefit/loader.py#135\u001b\\\u001b[2m135\u001b[0m\u001b]8;;\u001b\\\n"
      ]
     },
     "metadata": {},
     "output_type": "display_data"
    },
    {
     "data": {
      "text/html": [
       "<pre style=\"white-space:pre;overflow-x:auto;line-height:normal;font-family:Menlo,'DejaVu Sans Mono',consolas,'Courier New',monospace\"><span style=\"color: #7fbfbf; text-decoration-color: #7fbfbf\">           </span><span style=\"color: #000080; text-decoration-color: #000080\">INFO    </span> Loading dataset : CMS_ggF_aa_13TeV                                                <a href=\"file:///Users/jaco/Documents/smefit_release/src/smefit/loader.py\" target=\"_blank\"><span style=\"color: #7f7f7f; text-decoration-color: #7f7f7f\">loader.py</span></a><span style=\"color: #7f7f7f; text-decoration-color: #7f7f7f\">:</span><a href=\"file:///Users/jaco/Documents/smefit_release/src/smefit/loader.py#135\" target=\"_blank\"><span style=\"color: #7f7f7f; text-decoration-color: #7f7f7f\">135</span></a>\n",
       "</pre>\n"
      ],
      "text/plain": [
       "\u001b[2;36m          \u001b[0m\u001b[2;36m \u001b[0m\u001b[34mINFO    \u001b[0m Loading dataset : CMS_ggF_aa_13TeV                                                \u001b]8;id=562259;file:///Users/jaco/Documents/smefit_release/src/smefit/loader.py\u001b\\\u001b[2mloader.py\u001b[0m\u001b]8;;\u001b\\\u001b[2m:\u001b[0m\u001b]8;id=213729;file:///Users/jaco/Documents/smefit_release/src/smefit/loader.py#135\u001b\\\u001b[2m135\u001b[0m\u001b]8;;\u001b\\\n"
      ]
     },
     "metadata": {},
     "output_type": "display_data"
    },
    {
     "name": "stderr",
     "output_type": "stream",
     "text": [
      "/Users/jaco/Documents/smefit_release/src/smefit/coefficients.py:216: FutureWarning: Setting an item of incompatible dtype is deprecated and will raise an error in a future version of pandas. Value '[1.0 0]' has dtype incompatible with float64, please explicitly cast to a compatible dtype first.\n",
      "  self._table.iloc[self.is_free, 0] = value\n"
     ]
    },
    {
     "data": {
      "text/html": [
       "<pre style=\"white-space:pre;overflow-x:auto;line-height:normal;font-family:Menlo,'DejaVu Sans Mono',consolas,'Courier New',monospace\"><span style=\"color: #7fbfbf; text-decoration-color: #7fbfbf\">[18:39:19] </span><span style=\"color: #000080; text-decoration-color: #000080\">INFO    </span> Computing Analytic solution <span style=\"color: #808000; text-decoration-color: #808000\">...</span>                                                 <a href=\"file:///Users/jaco/Documents/smefit_release/src/smefit/optimize/analytic.py\" target=\"_blank\"><span style=\"color: #7f7f7f; text-decoration-color: #7f7f7f\">analytic.py</span></a><span style=\"color: #7f7f7f; text-decoration-color: #7f7f7f\">:</span><a href=\"file:///Users/jaco/Documents/smefit_release/src/smefit/optimize/analytic.py#127\" target=\"_blank\"><span style=\"color: #7f7f7f; text-decoration-color: #7f7f7f\">127</span></a>\n",
       "</pre>\n"
      ],
      "text/plain": [
       "\u001b[2;36m[18:39:19]\u001b[0m\u001b[2;36m \u001b[0m\u001b[34mINFO    \u001b[0m Computing Analytic solution \u001b[33m...\u001b[0m                                                 \u001b]8;id=116358;file:///Users/jaco/Documents/smefit_release/src/smefit/optimize/analytic.py\u001b\\\u001b[2manalytic.py\u001b[0m\u001b]8;;\u001b\\\u001b[2m:\u001b[0m\u001b]8;id=789238;file:///Users/jaco/Documents/smefit_release/src/smefit/optimize/analytic.py#127\u001b\\\u001b[2m127\u001b[0m\u001b]8;;\u001b\\\n"
      ]
     },
     "metadata": {},
     "output_type": "display_data"
    },
    {
     "data": {
      "text/html": [
       "<pre style=\"white-space:pre;overflow-x:auto;line-height:normal;font-family:Menlo,'DejaVu Sans Mono',consolas,'Courier New',monospace\"><span style=\"color: #c0c0c0; text-decoration-color: #c0c0c0\">┏━━━━━━━━━━━┳━━━━━━━━━━━━┳━━━━━━━┓</span>\n",
       "<span style=\"color: #c0c0c0; text-decoration-color: #c0c0c0\">┃</span><span style=\"font-weight: bold\"> Parameter </span><span style=\"color: #c0c0c0; text-decoration-color: #c0c0c0\">┃</span><span style=\"font-weight: bold\"> Best value </span><span style=\"color: #c0c0c0; text-decoration-color: #c0c0c0\">┃</span><span style=\"font-weight: bold\"> Error </span><span style=\"color: #c0c0c0; text-decoration-color: #c0c0c0\">┃</span>\n",
       "<span style=\"color: #c0c0c0; text-decoration-color: #c0c0c0\">┡━━━━━━━━━━━╇━━━━━━━━━━━━╇━━━━━━━┩</span>\n",
       "<span style=\"color: #c0c0c0; text-decoration-color: #c0c0c0\">│</span><span style=\"color: #800000; text-decoration-color: #800000; font-weight: bold\"> Opt       </span><span style=\"color: #c0c0c0; text-decoration-color: #c0c0c0\">│</span> -1.540     <span style=\"color: #c0c0c0; text-decoration-color: #c0c0c0\">│</span> 2.864 <span style=\"color: #c0c0c0; text-decoration-color: #c0c0c0\">│</span>\n",
       "<span style=\"color: #c0c0c0; text-decoration-color: #c0c0c0\">│</span><span style=\"color: #800000; text-decoration-color: #800000; font-weight: bold\"> OtG       </span><span style=\"color: #c0c0c0; text-decoration-color: #c0c0c0\">│</span> 0.022      <span style=\"color: #c0c0c0; text-decoration-color: #c0c0c0\">│</span> 0.026 <span style=\"color: #c0c0c0; text-decoration-color: #c0c0c0\">│</span>\n",
       "<span style=\"color: #c0c0c0; text-decoration-color: #c0c0c0\">└───────────┴────────────┴───────┘</span>\n",
       "</pre>\n"
      ],
      "text/plain": [
       "\u001b[37m┏━━━━━━━━━━━┳━━━━━━━━━━━━┳━━━━━━━┓\u001b[0m\n",
       "\u001b[37m┃\u001b[0m\u001b[1m \u001b[0m\u001b[1mParameter\u001b[0m\u001b[1m \u001b[0m\u001b[37m┃\u001b[0m\u001b[1m \u001b[0m\u001b[1mBest value\u001b[0m\u001b[1m \u001b[0m\u001b[37m┃\u001b[0m\u001b[1m \u001b[0m\u001b[1mError\u001b[0m\u001b[1m \u001b[0m\u001b[37m┃\u001b[0m\n",
       "\u001b[37m┡━━━━━━━━━━━╇━━━━━━━━━━━━╇━━━━━━━┩\u001b[0m\n",
       "\u001b[37m│\u001b[0m\u001b[1;31m \u001b[0m\u001b[1;31mOpt      \u001b[0m\u001b[1;31m \u001b[0m\u001b[37m│\u001b[0m -1.540     \u001b[37m│\u001b[0m 2.864 \u001b[37m│\u001b[0m\n",
       "\u001b[37m│\u001b[0m\u001b[1;31m \u001b[0m\u001b[1;31mOtG      \u001b[0m\u001b[1;31m \u001b[0m\u001b[37m│\u001b[0m 0.022      \u001b[37m│\u001b[0m 0.026 \u001b[37m│\u001b[0m\n",
       "\u001b[37m└───────────┴────────────┴───────┘\u001b[0m\n"
      ]
     },
     "metadata": {},
     "output_type": "display_data"
    },
    {
     "data": {
      "text/html": [
       "<pre style=\"white-space:pre;overflow-x:auto;line-height:normal;font-family:Menlo,'DejaVu Sans Mono',consolas,'Courier New',monospace\"><span style=\"color: #7fbfbf; text-decoration-color: #7fbfbf\">           </span><span style=\"color: #000080; text-decoration-color: #000080\">INFO    </span> Sampling solutions <span style=\"color: #808000; text-decoration-color: #808000\">...</span>                                                          <a href=\"file:///Users/jaco/Documents/smefit_release/src/smefit/optimize/analytic.py\" target=\"_blank\"><span style=\"color: #7f7f7f; text-decoration-color: #7f7f7f\">analytic.py</span></a><span style=\"color: #7f7f7f; text-decoration-color: #7f7f7f\">:</span><a href=\"file:///Users/jaco/Documents/smefit_release/src/smefit/optimize/analytic.py#156\" target=\"_blank\"><span style=\"color: #7f7f7f; text-decoration-color: #7f7f7f\">156</span></a>\n",
       "</pre>\n"
      ],
      "text/plain": [
       "\u001b[2;36m          \u001b[0m\u001b[2;36m \u001b[0m\u001b[34mINFO    \u001b[0m Sampling solutions \u001b[33m...\u001b[0m                                                          \u001b]8;id=221331;file:///Users/jaco/Documents/smefit_release/src/smefit/optimize/analytic.py\u001b\\\u001b[2manalytic.py\u001b[0m\u001b]8;;\u001b\\\u001b[2m:\u001b[0m\u001b]8;id=128808;file:///Users/jaco/Documents/smefit_release/src/smefit/optimize/analytic.py#156\u001b\\\u001b[2m156\u001b[0m\u001b]8;;\u001b\\\n"
      ]
     },
     "metadata": {},
     "output_type": "display_data"
    }
   ],
   "source": [
    "runner_higgs = smefit.runner.Runner.from_file(pathlib.Path(\"./downloads/runcard_higgs.yaml\"))\n",
    "runner_higgs.global_analysis(\"A\")"
   ]
  },
  {
   "cell_type": "code",
   "execution_count": null,
   "id": "fbda253c",
   "metadata": {},
   "outputs": [],
   "source": [
    "make_report(\"./downloads/runcard_report_higgs.yaml\")"
   ]
  },
  {
   "cell_type": "markdown",
   "id": "022d0c5f",
   "metadata": {},
   "source": [
    "EWPO + Higgs"
   ]
  },
  {
   "cell_type": "code",
   "execution_count": null,
   "id": "73d122b6",
   "metadata": {},
   "outputs": [],
   "source": [
    "runner_higgs = smefit.runner.Runner.from_file(pathlib.Path(\"./downloads/runcard_ttZ_higgs.yaml\"))\n",
    "runner_higgs.global_analysis(\"A\")"
   ]
  },
  {
   "cell_type": "code",
   "execution_count": null,
   "id": "7b4aa3d6",
   "metadata": {},
   "outputs": [],
   "source": [
    "make_report(\"./downloads/runcard_report_ttZ_higgs.yaml\")"
   ]
  },
  {
   "cell_type": "code",
   "execution_count": null,
   "id": "9db03a46",
   "metadata": {},
   "outputs": [],
   "source": []
  }
 ],
 "metadata": {
  "@webio": {
   "lastCommId": null,
   "lastKernelId": null
  },
  "kernelspec": {
   "display_name": "smefit",
   "language": "python",
   "name": "smefit"
  },
  "language_info": {
   "codemirror_mode": {
    "name": "ipython",
    "version": 3
   },
   "file_extension": ".py",
   "mimetype": "text/x-python",
   "name": "python",
   "nbconvert_exporter": "python",
   "pygments_lexer": "ipython3",
   "version": "3.11.8"
  }
 },
 "nbformat": 4,
 "nbformat_minor": 5
}
